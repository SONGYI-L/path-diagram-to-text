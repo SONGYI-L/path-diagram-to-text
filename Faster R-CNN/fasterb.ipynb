{
  "nbformat": 4,
  "nbformat_minor": 0,
  "metadata": {
    "colab": {
      "provenance": [],
      "machine_shape": "hm",
      "gpuClass": "premium"
    },
    "kernelspec": {
      "name": "python3",
      "display_name": "Python 3"
    },
    "language_info": {
      "name": "python"
    },
    "accelerator": "GPU",
    "gpuClass": "premium"
  },
  "cells": [
    {
      "cell_type": "code",
      "source": [
        "!pip install scipy==1.2.1\n",
        "!pip install numpy==1.17.0\n",
        "!pip install matplotlib==3.1.2\n",
        "!pip install opencv_python==4.1.2.30\n",
        "!pip install torch==1.2.0\n",
        "!pip install torchvision==0.4.0\n",
        "!pip install tqdm==4.60.0\n",
        "!pip install Pillow==8.2.0\n",
        "!pip install h5py==2.10.0"
      ],
      "metadata": {
        "id": "zwgUrfZ-Yo2C"
      },
      "execution_count": null,
      "outputs": []
    },
    {
      "cell_type": "code",
      "source": [
        "import os\n",
        "import random\n",
        "import xml.etree.ElementTree as ET\n",
        "\n",
        "import numpy as np\n",
        "\n",
        "from utils.utils import get_classes\n",
        "\n",
        "#--------------------------------------------------------------------------------------------------------------------------------#\n",
        "#   annotation_mode用于指定该文件运行时计算的内容\n",
        "#   annotation_mode为0代表整个标签处理过程，包括获得VOCdevkit/VOC2007/ImageSets里面的txt以及训练用的2007_train.txt、2007_val.txt\n",
        "#   annotation_mode为1代表获得VOCdevkit/VOC2007/ImageSets里面的txt\n",
        "#   annotation_mode为2代表获得训练用的2007_train.txt、2007_val.txt\n",
        "#--------------------------------------------------------------------------------------------------------------------------------#\n",
        "annotation_mode     = 0\n",
        "#-------------------------------------------------------------------#\n",
        "#   必须要修改，用于生成2007_train.txt、2007_val.txt的目标信息\n",
        "#   与训练和预测所用的classes_path一致即可\n",
        "#   如果生成的2007_train.txt里面没有目标信息\n",
        "#   那么就是因为classes没有设定正确\n",
        "#   仅在annotation_mode为0和2的时候有效\n",
        "#-------------------------------------------------------------------#\n",
        "classes_path        = '/content/drive/MyDrive/fasterb/model_data/voc_classes.txt'\n",
        "#--------------------------------------------------------------------------------------------------------------------------------#\n",
        "#   trainval_percent用于指定(训练集+验证集)与测试集的比例，默认情况下 (训练集+验证集):测试集 = 9:1\n",
        "#   train_percent用于指定(训练集+验证集)中训练集与验证集的比例，默认情况下 训练集:验证集 = 9:1\n",
        "#   仅在annotation_mode为0和1的时候有效\n",
        "#--------------------------------------------------------------------------------------------------------------------------------#\n",
        "trainval_percent    = 0.9\n",
        "train_percent       = 0.9\n",
        "#-------------------------------------------------------#\n",
        "#   指向VOC数据集所在的文件夹\n",
        "#   默认指向根目录下的VOC数据集\n",
        "#-------------------------------------------------------#\n",
        "VOCdevkit_path  = 'VOCdevkit'\n",
        "\n",
        "VOCdevkit_sets  = [('2007', 'train'), ('2007', 'val')]\n",
        "classes, _      = get_classes(classes_path)\n",
        "\n",
        "#-------------------------------------------------------#\n",
        "#   统计目标数量\n",
        "#-------------------------------------------------------#\n",
        "photo_nums  = np.zeros(len(VOCdevkit_sets))\n",
        "nums        = np.zeros(len(classes))\n",
        "def convert_annotation(year, image_id, list_file):\n",
        "    in_file = open(os.path.join(VOCdevkit_path, 'VOC%s/Annotations/%s.xml'%(year, image_id)), encoding='utf-8')\n",
        "    tree=ET.parse(in_file)\n",
        "    root = tree.getroot()\n",
        "\n",
        "    for obj in root.iter('object'):\n",
        "        difficult = 0\n",
        "        if obj.find('difficult')!=None:\n",
        "            difficult = obj.find('difficult').text\n",
        "        cls = obj.find('name').text\n",
        "        if cls not in classes or int(difficult)==1:\n",
        "            continue\n",
        "        cls_id = classes.index(cls)\n",
        "        xmlbox = obj.find('bndbox')\n",
        "        b = (int(float(xmlbox.find('xmin').text)), int(float(xmlbox.find('ymin').text)), int(float(xmlbox.find('xmax').text)), int(float(xmlbox.find('ymax').text)))\n",
        "        list_file.write(\" \" + \",\".join([str(a) for a in b]) + ',' + str(cls_id))\n",
        "\n",
        "        nums[classes.index(cls)] = nums[classes.index(cls)] + 1\n",
        "\n",
        "if __name__ == \"__main__\":\n",
        "    random.seed(0)\n",
        "    if \" \" in os.path.abspath(VOCdevkit_path):\n",
        "        raise ValueError(\"数据集存放的文件夹路径与图片名称中不可以存在空格，否则会影响正常的模型训练，请注意修改。\")\n",
        "\n",
        "    if annotation_mode == 0 or annotation_mode == 1:\n",
        "        print(\"Generate txt in ImageSets.\")\n",
        "        xmlfilepath     = os.path.join(VOCdevkit_path, 'VOC2007/Annotations')\n",
        "        saveBasePath    = os.path.join(VOCdevkit_path, 'VOC2007/ImageSets/Main')\n",
        "        temp_xml        = os.listdir(xmlfilepath)\n",
        "        total_xml       = []\n",
        "        for xml in temp_xml:\n",
        "            if xml.endswith(\".xml\"):\n",
        "                total_xml.append(xml)\n",
        "\n",
        "        num     = len(total_xml)\n",
        "        list    = range(num)\n",
        "        tv      = int(num*trainval_percent)\n",
        "        tr      = int(tv*train_percent)\n",
        "        trainval= random.sample(list,tv)\n",
        "        train   = random.sample(trainval,tr)\n",
        "\n",
        "        print(\"train and val size\",tv)\n",
        "        print(\"train size\",tr)\n",
        "        ftrainval   = open(os.path.join(saveBasePath,'trainval.txt'), 'w')\n",
        "        ftest       = open(os.path.join(saveBasePath,'test.txt'), 'w')\n",
        "        ftrain      = open(os.path.join(saveBasePath,'train.txt'), 'w')\n",
        "        fval        = open(os.path.join(saveBasePath,'val.txt'), 'w')\n",
        "\n",
        "        for i in list:\n",
        "            name=total_xml[i][:-4]+'\\n'\n",
        "            if i in trainval:\n",
        "                ftrainval.write(name)\n",
        "                if i in train:\n",
        "                    ftrain.write(name)\n",
        "                else:\n",
        "                    fval.write(name)\n",
        "            else:\n",
        "                ftest.write(name)\n",
        "\n",
        "        ftrainval.close()\n",
        "        ftrain.close()\n",
        "        fval.close()\n",
        "        ftest.close()\n",
        "        print(\"Generate txt in ImageSets done.\")\n",
        "\n",
        "    if annotation_mode == 0 or annotation_mode == 2:\n",
        "        print(\"Generate 2007_train.txt and 2007_val.txt for train.\")\n",
        "        type_index = 0\n",
        "        for year, image_set in VOCdevkit_sets:\n",
        "            image_ids = open(os.path.join(VOCdevkit_path, 'VOC%s/ImageSets/Main/%s.txt'%(year, image_set)), encoding='utf-8').read().strip().split()\n",
        "            list_file = open('%s_%s.txt'%(year, image_set), 'w', encoding='utf-8')\n",
        "            for image_id in image_ids:\n",
        "                list_file.write('%s/VOC%s/JPEGImages/%s.jpg'%(os.path.abspath(VOCdevkit_path), year, image_id))\n",
        "\n",
        "                convert_annotation(year, image_id, list_file)\n",
        "                list_file.write('\\n')\n",
        "            photo_nums[type_index] = len(image_ids)\n",
        "            type_index += 1\n",
        "            list_file.close()\n",
        "        print(\"Generate 2007_train.txt and 2007_val.txt for train done.\")\n",
        "\n",
        "        def printTable(List1, List2):\n",
        "            for i in range(len(List1[0])):\n",
        "                print(\"|\", end=' ')\n",
        "                for j in range(len(List1)):\n",
        "                    print(List1[j][i].rjust(int(List2[j])), end=' ')\n",
        "                    print(\"|\", end=' ')\n",
        "                print()\n",
        "\n",
        "        str_nums = [str(int(x)) for x in nums]\n",
        "        tableData = [\n",
        "            classes, str_nums\n",
        "        ]\n",
        "        colWidths = [0]*len(tableData)\n",
        "        len1 = 0\n",
        "        for i in range(len(tableData)):\n",
        "            for j in range(len(tableData[i])):\n",
        "                if len(tableData[i][j]) > colWidths[i]:\n",
        "                    colWidths[i] = len(tableData[i][j])\n",
        "        printTable(tableData, colWidths)\n",
        "\n",
        "        if photo_nums[0] <= 500:\n",
        "            print(\"训练集数量小于500，属于较小的数据量，请注意设置较大的训练世代（Epoch）以满足足够的梯度下降次数（Step）。\")\n",
        "\n",
        "        if np.sum(nums) == 0:\n",
        "            print(\"在数据集中并未获得任何目标，请注意修改classes_path对应自己的数据集，并且保证标签名字正确，否则训练将会没有任何效果！\")\n",
        "            print(\"在数据集中并未获得任何目标，请注意修改classes_path对应自己的数据集，并且保证标签名字正确，否则训练将会没有任何效果！\")\n",
        "            print(\"在数据集中并未获得任何目标，请注意修改classes_path对应自己的数据集，并且保证标签名字正确，否则训练将会没有任何效果！\")\n",
        "            print(\"（重要的事情说三遍）。\")\n"
      ],
      "metadata": {
        "colab": {
          "base_uri": "https://localhost:8080/",
          "height": 355
        },
        "id": "xCEEYyfao6iy",
        "outputId": "3735e73d-c581-4213-cb10-002687b32302"
      },
      "execution_count": null,
      "outputs": [
        {
          "output_type": "stream",
          "name": "stdout",
          "text": [
            "Generate txt in ImageSets.\n",
            "train and val size 0\n",
            "train size 0\n",
            "Generate txt in ImageSets done.\n",
            "Generate 2007_train.txt and 2007_val.txt for train.\n"
          ]
        },
        {
          "output_type": "error",
          "ename": "FileNotFoundError",
          "evalue": "ignored",
          "traceback": [
            "\u001b[0;31m---------------------------------------------------------------------------\u001b[0m",
            "\u001b[0;31mFileNotFoundError\u001b[0m                         Traceback (most recent call last)",
            "\u001b[0;32m<ipython-input-6-d491ae539289>\u001b[0m in \u001b[0;36m<cell line: 64>\u001b[0;34m()\u001b[0m\n\u001b[1;32m    112\u001b[0m         \u001b[0mtype_index\u001b[0m \u001b[0;34m=\u001b[0m \u001b[0;36m0\u001b[0m\u001b[0;34m\u001b[0m\u001b[0;34m\u001b[0m\u001b[0m\n\u001b[1;32m    113\u001b[0m         \u001b[0;32mfor\u001b[0m \u001b[0myear\u001b[0m\u001b[0;34m,\u001b[0m \u001b[0mimage_set\u001b[0m \u001b[0;32min\u001b[0m \u001b[0mVOCdevkit_sets\u001b[0m\u001b[0;34m:\u001b[0m\u001b[0;34m\u001b[0m\u001b[0;34m\u001b[0m\u001b[0m\n\u001b[0;32m--> 114\u001b[0;31m             \u001b[0mimage_ids\u001b[0m \u001b[0;34m=\u001b[0m \u001b[0mopen\u001b[0m\u001b[0;34m(\u001b[0m\u001b[0mos\u001b[0m\u001b[0;34m.\u001b[0m\u001b[0mpath\u001b[0m\u001b[0;34m.\u001b[0m\u001b[0mjoin\u001b[0m\u001b[0;34m(\u001b[0m\u001b[0mVOCdevkit_path\u001b[0m\u001b[0;34m,\u001b[0m \u001b[0;34m'VOC%s/new/main/%s.txt'\u001b[0m\u001b[0;34m%\u001b[0m\u001b[0;34m(\u001b[0m\u001b[0myear\u001b[0m\u001b[0;34m,\u001b[0m \u001b[0mimage_set\u001b[0m\u001b[0;34m)\u001b[0m\u001b[0;34m)\u001b[0m\u001b[0;34m,\u001b[0m \u001b[0mencoding\u001b[0m\u001b[0;34m=\u001b[0m\u001b[0;34m'utf-8'\u001b[0m\u001b[0;34m)\u001b[0m\u001b[0;34m.\u001b[0m\u001b[0mread\u001b[0m\u001b[0;34m(\u001b[0m\u001b[0;34m)\u001b[0m\u001b[0;34m.\u001b[0m\u001b[0mstrip\u001b[0m\u001b[0;34m(\u001b[0m\u001b[0;34m)\u001b[0m\u001b[0;34m.\u001b[0m\u001b[0msplit\u001b[0m\u001b[0;34m(\u001b[0m\u001b[0;34m)\u001b[0m\u001b[0;34m\u001b[0m\u001b[0;34m\u001b[0m\u001b[0m\n\u001b[0m\u001b[1;32m    115\u001b[0m             \u001b[0mlist_file\u001b[0m \u001b[0;34m=\u001b[0m \u001b[0mopen\u001b[0m\u001b[0;34m(\u001b[0m\u001b[0;34m'%s_%s.txt'\u001b[0m\u001b[0;34m%\u001b[0m\u001b[0;34m(\u001b[0m\u001b[0myear\u001b[0m\u001b[0;34m,\u001b[0m \u001b[0mimage_set\u001b[0m\u001b[0;34m)\u001b[0m\u001b[0;34m,\u001b[0m \u001b[0;34m'w'\u001b[0m\u001b[0;34m,\u001b[0m \u001b[0mencoding\u001b[0m\u001b[0;34m=\u001b[0m\u001b[0;34m'utf-8'\u001b[0m\u001b[0;34m)\u001b[0m\u001b[0;34m\u001b[0m\u001b[0;34m\u001b[0m\u001b[0m\n\u001b[1;32m    116\u001b[0m             \u001b[0;32mfor\u001b[0m \u001b[0mimage_id\u001b[0m \u001b[0;32min\u001b[0m \u001b[0mimage_ids\u001b[0m\u001b[0;34m:\u001b[0m\u001b[0;34m\u001b[0m\u001b[0;34m\u001b[0m\u001b[0m\n",
            "\u001b[0;31mFileNotFoundError\u001b[0m: [Errno 2] No such file or directory: 'VOCdevkit/VOC2007/new/main/train-1.txt'"
          ]
        }
      ]
    },
    {
      "cell_type": "code",
      "source": [
        "#-------------------------------------#\n",
        "#       对数据集进行训练\n",
        "#-------------------------------------#\n",
        "import os\n",
        "import datetime\n",
        "\n",
        "import numpy as np\n",
        "import torch\n",
        "import torch.backends.cudnn as cudnn\n",
        "import torch.optim as optim\n",
        "from torch.utils.data import DataLoader\n",
        "\n",
        "from nets.frcnn import FasterRCNN\n",
        "from nets.frcnn_training import (FasterRCNNTrainer, get_lr_scheduler,\n",
        "                                 set_optimizer_lr, weights_init)\n",
        "from utils.callbacks import EvalCallback, LossHistory\n",
        "from utils.dataloader import FRCNNDataset, frcnn_dataset_collate\n",
        "from utils.utils import get_classes, show_config\n",
        "from utils.utils_fit import fit_one_epoch\n",
        "\n",
        "'''\n",
        "训练自己的目标检测模型一定需要注意以下几点：\n",
        "1、训练前仔细检查自己的格式是否满足要求，该库要求数据集格式为VOC格式，需要准备好的内容有输入图片和标签\n",
        "   输入图片为.jpg图片，无需固定大小，传入训练前会自动进行resize。\n",
        "   灰度图会自动转成RGB图片进行训练，无需自己修改。\n",
        "   输入图片如果后缀非jpg，需要自己批量转成jpg后再开始训练。\n",
        "\n",
        "   标签为.xml格式，文件中会有需要检测的目标信息，标签文件和输入图片文件相对应。\n",
        "\n",
        "2、损失值的大小用于判断是否收敛，比较重要的是有收敛的趋势，即验证集损失不断下降，如果验证集损失基本上不改变的话，模型基本上就收敛了。\n",
        "   损失值的具体大小并没有什么意义，大和小只在于损失的计算方式，并不是接近于0才好。如果想要让损失好看点，可以直接到对应的损失函数里面除上10000。\n",
        "   训练过程中的损失值会保存在logs文件夹下的loss_%Y_%m_%d_%H_%M_%S文件夹中\n",
        "\n",
        "3、训练好的权值文件保存在logs文件夹中，每个训练世代（Epoch）包含若干训练步长（Step），每个训练步长（Step）进行一次梯度下降。\n",
        "   如果只是训练了几个Step是不会保存的，Epoch和Step的概念要捋清楚一下。\n",
        "'''\n",
        "if __name__ == \"__main__\":\n",
        "    #-------------------------------#\n",
        "    #   是否使用Cuda\n",
        "    #   没有GPU可以设置成False\n",
        "    #-------------------------------#\n",
        "    Cuda            = True\n",
        "    #---------------------------------------------------------------------#\n",
        "    #   train_gpu   训练用到的GPU\n",
        "    #               默认为第一张卡、双卡为[0, 1]、三卡为[0, 1, 2]\n",
        "    #               在使用多GPU时，每个卡上的batch为总batch除以卡的数量。\n",
        "    #---------------------------------------------------------------------#\n",
        "    train_gpu       = [0,]\n",
        "    #---------------------------------------------------------------------#\n",
        "    #   fp16        是否使用混合精度训练\n",
        "    #               可减少约一半的显存、需要pytorch1.7.1以上\n",
        "    #---------------------------------------------------------------------#\n",
        "    fp16            = False\n",
        "    #---------------------------------------------------------------------#\n",
        "    #   classes_path    指向model_data下的txt，与自己训练的数据集相关\n",
        "    #                   训练前一定要修改classes_path，使其对应自己的数据集\n",
        "    #---------------------------------------------------------------------#\n",
        "    classes_path    = '/content/drive/MyDrive/fasterb/model_data/voc_classes.txt'\n",
        "    #----------------------------------------------------------------------------------------------------------------------------#\n",
        "    #   权值文件的下载请看README，可以通过网盘下载。模型的 预训练权重 对不同数据集是通用的，因为特征是通用的。\n",
        "    #   模型的 预训练权重 比较重要的部分是 主干特征提取网络的权值部分，用于进行特征提取。\n",
        "    #   预训练权重对于99%的情况都必须要用，不用的话主干部分的权值太过随机，特征提取效果不明显，网络训练的结果也不会好\n",
        "    #\n",
        "    #   如果训练过程中存在中断训练的操作，可以将model_path设置成logs文件夹下的权值文件，将已经训练了一部分的权值再次载入。\n",
        "    #   同时修改下方的 冻结阶段 或者 解冻阶段 的参数，来保证模型epoch的连续性。\n",
        "    #\n",
        "    #   当model_path = ''的时候不加载整个模型的权值。\n",
        "    #\n",
        "    #   此处使用的是整个模型的权重，因此是在train.py进行加载的，下面的pretrain不影响此处的权值加载。\n",
        "    #   如果想要让模型从主干的预训练权值开始训练，则设置model_path = ''，下面的pretrain = True，此时仅加载主干。\n",
        "    #   如果想要让模型从0开始训练，则设置model_path = ''，下面的pretrain = Fasle，Freeze_Train = Fasle，此时从0开始训练，且没有冻结主干的过程。\n",
        "    #\n",
        "    #   一般来讲，网络从0开始的训练效果会很差，因为权值太过随机，特征提取效果不明显，因此非常、非常、非常不建议大家从0开始训练！\n",
        "    #   如果一定要从0开始，可以了解imagenet数据集，首先训练分类模型，获得网络的主干部分权值，分类模型的 主干部分 和该模型通用，基于此进行训练。\n",
        "    #----------------------------------------------------------------------------------------------------------------------------#\n",
        "    model_path      = '/content/drive/MyDrive/fasterb/logs_new01/best_epoch_weights.pth'\n",
        "    #------------------------------------------------------#\n",
        "    #   input_shape     输入的shape大小\n",
        "    #------------------------------------------------------#\n",
        "    input_shape     = [600, 600]\n",
        "    #---------------------------------------------#\n",
        "    #   vgg\n",
        "    #   resnet50\n",
        "    #---------------------------------------------#\n",
        "    backbone        = \"resnet50\"\n",
        "    #----------------------------------------------------------------------------------------------------------------------------#\n",
        "    #   pretrained      是否使用主干网络的预训练权重，此处使用的是主干的权重，因此是在模型构建的时候进行加载的。\n",
        "    #                   如果设置了model_path，则主干的权值无需加载，pretrained的值无意义。\n",
        "    #                   如果不设置model_path，pretrained = True，此时仅加载主干开始训练。\n",
        "    #                   如果不设置model_path，pretrained = False，Freeze_Train = Fasle，此时从0开始训练，且没有冻结主干的过程。\n",
        "    #----------------------------------------------------------------------------------------------------------------------------#\n",
        "    pretrained      = False\n",
        "    #------------------------------------------------------------------------#\n",
        "    #   anchors_size用于设定先验框的大小，每个特征点均存在9个先验框。\n",
        "    #   anchors_size每个数对应3个先验框。\n",
        "    #   当anchors_size = [8, 16, 32]的时候，生成的先验框宽高约为：\n",
        "    #   [90, 180] ; [180, 360]; [360, 720]; [128, 128];\n",
        "    #   [256, 256]; [512, 512]; [180, 90] ; [360, 180];\n",
        "    #   [720, 360]; 详情查看anchors.py\n",
        "    #   如果想要检测小物体，可以减小anchors_size靠前的数。\n",
        "    #   比如设置anchors_size = [4, 16, 32]\n",
        "    #------------------------------------------------------------------------#\n",
        "    anchors_size    = [4, 16, 32]\n",
        "\n",
        "    #----------------------------------------------------------------------------------------------------------------------------#\n",
        "    #   训练分为两个阶段，分别是冻结阶段和解冻阶段。设置冻结阶段是为了满足机器性能不足的同学的训练需求。\n",
        "    #   冻结训练需要的显存较小，显卡非常差的情况下，可设置Freeze_Epoch等于UnFreeze_Epoch，此时仅仅进行冻结训练。\n",
        "    #\n",
        "    #   在此提供若干参数设置建议，各位训练者根据自己的需求进行灵活调整：\n",
        "    #   （一）从整个模型的预训练权重开始训练：\n",
        "    #       Adam：\n",
        "    #           Init_Epoch = 0，Freeze_Epoch = 50，UnFreeze_Epoch = 100，Freeze_Train = True，optimizer_type = 'adam'，Init_lr = 1e-4。（冻结）\n",
        "    #           Init_Epoch = 0，UnFreeze_Epoch = 100，Freeze_Train = False，optimizer_type = 'adam'，Init_lr = 1e-4。（不冻结）\n",
        "    #       SGD：\n",
        "    #           Init_Epoch = 0，Freeze_Epoch = 50，UnFreeze_Epoch = 150，Freeze_Train = True，optimizer_type = 'sgd'，Init_lr = 1e-2。（冻结）\n",
        "    #           Init_Epoch = 0，UnFreeze_Epoch = 150，Freeze_Train = False，optimizer_type = 'sgd'，Init_lr = 1e-2。（不冻结）\n",
        "    #       其中：UnFreeze_Epoch可以在100-300之间调整。\n",
        "    #   （二）从主干网络的预训练权重开始训练：\n",
        "    #       Adam：\n",
        "    #           Init_Epoch = 0，Freeze_Epoch = 50，UnFreeze_Epoch = 100，Freeze_Train = True，optimizer_type = 'adam'，Init_lr = 1e-4。（冻结）\n",
        "    #           Init_Epoch = 0，UnFreeze_Epoch = 100，Freeze_Train = False，optimizer_type = 'adam'，Init_lr = 1e-4。（不冻结）\n",
        "    #       SGD：\n",
        "    #           Init_Epoch = 0，Freeze_Epoch = 50，UnFreeze_Epoch = 150，Freeze_Train = True，optimizer_type = 'sgd'，Init_lr = 1e-2。（冻结）\n",
        "    #           Init_Epoch = 0，UnFreeze_Epoch = 150，Freeze_Train = False，optimizer_type = 'sgd'，Init_lr = 1e-2。（不冻结）\n",
        "    #       其中：由于从主干网络的预训练权重开始训练，主干的权值不一定适合目标检测，需要更多的训练跳出局部最优解。\n",
        "    #             UnFreeze_Epoch可以在150-300之间调整，YOLOV5和YOLOX均推荐使用300。\n",
        "    #             Adam相较于SGD收敛的快一些。因此UnFreeze_Epoch理论上可以小一点，但依然推荐更多的Epoch。\n",
        "    #   （三）batch_size的设置：\n",
        "    #       在显卡能够接受的范围内，以大为好。显存不足与数据集大小无关，提示显存不足（OOM或者CUDA out of memory）请调小batch_size。\n",
        "    #       faster rcnn的Batch BatchNormalization层已经冻结，batch_size可以为1\n",
        "    #----------------------------------------------------------------------------------------------------------------------------#\n",
        "    #------------------------------------------------------------------#\n",
        "    #   冻结阶段训练参数\n",
        "    #   此时模型的主干被冻结了，特征提取网络不发生改变\n",
        "    #   占用的显存较小，仅对网络进行微调\n",
        "    #   Init_Epoch          模型当前开始的训练世代，其值可以大于Freeze_Epoch，如设置：\n",
        "    #                       Init_Epoch = 60、Freeze_Epoch = 50、UnFreeze_Epoch = 100\n",
        "    #                       会跳过冻结阶段，直接从60代开始，并调整对应的学习率。\n",
        "    #                       （断点续练时使用）\n",
        "    #   Freeze_Epoch        模型冻结训练的Freeze_Epoch\n",
        "    #                       (当Freeze_Train=False时失效)\n",
        "    #   Freeze_batch_size   模型冻结训练的batch_size\n",
        "    #                       (当Freeze_Train=False时失效)\n",
        "    #------------------------------------------------------------------#\n",
        "    Init_Epoch          = 0\n",
        "    Freeze_Epoch        = 50\n",
        "    Freeze_batch_size   = 4\n",
        "    #------------------------------------------------------------------#\n",
        "    #   解冻阶段训练参数\n",
        "    #   此时模型的主干不被冻结了，特征提取网络会发生改变\n",
        "    #   占用的显存较大，网络所有的参数都会发生改变\n",
        "    #   UnFreeze_Epoch          模型总共训练的epoch\n",
        "    #                           SGD需要更长的时间收敛，因此设置较大的UnFreeze_Epoch\n",
        "    #                           Adam可以使用相对较小的UnFreeze_Epoch\n",
        "    #   Unfreeze_batch_size     模型在解冻后的batch_size\n",
        "    #------------------------------------------------------------------#\n",
        "    UnFreeze_Epoch      = 300\n",
        "    Unfreeze_batch_size = 2\n",
        "    #------------------------------------------------------------------#\n",
        "    #   Freeze_Train    是否进行冻结训练\n",
        "    #                   默认先冻结主干训练后解冻训练。\n",
        "    #                   如果设置Freeze_Train=False，建议使用优化器为sgd\n",
        "    #------------------------------------------------------------------#\n",
        "    Freeze_Train        = True\n",
        "\n",
        "    #------------------------------------------------------------------#\n",
        "    #   其它训练参数：学习率、优化器、学习率下降有关\n",
        "    #------------------------------------------------------------------#\n",
        "    #------------------------------------------------------------------#\n",
        "    #   Init_lr         模型的最大学习率\n",
        "    #                   当使用Adam优化器时建议设置  Init_lr=1e-4\n",
        "    #                   当使用SGD优化器时建议设置   Init_lr=1e-2\n",
        "    #   Min_lr          模型的最小学习率，默认为最大学习率的0.01\n",
        "    #------------------------------------------------------------------#\n",
        "    Init_lr             = 1e-4\n",
        "    Min_lr              = Init_lr * 0.01\n",
        "    #------------------------------------------------------------------#\n",
        "    #   optimizer_type  使用到的优化器种类，可选的有adam、sgd\n",
        "    #                   当使用Adam优化器时建议设置  Init_lr=1e-4\n",
        "    #                   当使用SGD优化器时建议设置   Init_lr=1e-2\n",
        "    #   momentum        优化器内部使用到的momentum参数\n",
        "    #   weight_decay    权值衰减，可防止过拟合\n",
        "    #                   adam会导致weight_decay错误，使用adam时建议设置为0。\n",
        "    #------------------------------------------------------------------#\n",
        "    optimizer_type      = \"adam\"\n",
        "    momentum            = 0.9\n",
        "    weight_decay        = 0\n",
        "    #------------------------------------------------------------------#\n",
        "    #   lr_decay_type   使用到的学习率下降方式，可选的有'step'、'cos'\n",
        "    #------------------------------------------------------------------#\n",
        "    lr_decay_type       = 'cos'\n",
        "    #------------------------------------------------------------------#\n",
        "    #   save_period     多少个epoch保存一次权值\n",
        "    #------------------------------------------------------------------#\n",
        "    save_period         = 5\n",
        "    #------------------------------------------------------------------#\n",
        "    #   save_dir        权值与日志文件保存的文件夹\n",
        "    #------------------------------------------------------------------#\n",
        "    save_dir            = 'logs_new02'\n",
        "    #------------------------------------------------------------------#\n",
        "    #   eval_flag       是否在训练时进行评估，评估对象为验证集\n",
        "    #                   安装pycocotools库后，评估体验更佳。\n",
        "    #   eval_period     代表多少个epoch评估一次，不建议频繁的评估\n",
        "    #                   评估需要消耗较多的时间，频繁评估会导致训练非常慢\n",
        "    #   此处获得的mAP会与get_map.py获得的会有所不同，原因有二：\n",
        "    #   （一）此处获得的mAP为验证集的mAP。\n",
        "    #   （二）此处设置评估参数较为保守，目的是加快评估速度。\n",
        "    #------------------------------------------------------------------#\n",
        "    eval_flag           = True\n",
        "    eval_period         = 5\n",
        "    #------------------------------------------------------------------#\n",
        "    #   num_workers     用于设置是否使用多线程读取数据，1代表关闭多线程\n",
        "    #                   开启后会加快数据读取速度，但是会占用更多内存\n",
        "    #                   在IO为瓶颈的时候再开启多线程，即GPU运算速度远大于读取图片的速度。\n",
        "    #------------------------------------------------------------------#\n",
        "    num_workers         = 4\n",
        "    #----------------------------------------------------#\n",
        "    #   获得图片路径和标签\n",
        "    #----------------------------------------------------#\n",
        "    train_annotation_path   = '/content/drive/MyDrive/yolov7-pytorch-master/2007_train.txt'\n",
        "    val_annotation_path     = '/content/drive/MyDrive/yolov7-pytorch-master/2007_val.txt'\n",
        "\n",
        "    #----------------------------------------------------#\n",
        "    #   获取classes和anchor\n",
        "    #----------------------------------------------------#\n",
        "    class_names, num_classes = get_classes(classes_path)\n",
        "\n",
        "    #------------------------------------------------------#\n",
        "    #   设置用到的显卡\n",
        "    #------------------------------------------------------#\n",
        "    os.environ[\"CUDA_VISIBLE_DEVICES\"]  = ','.join(str(x) for x in train_gpu)\n",
        "    ngpus_per_node                      = len(train_gpu)\n",
        "    print('Number of devices: {}'.format(ngpus_per_node))\n",
        "\n",
        "    model = FasterRCNN(num_classes, anchor_scales = anchors_size, backbone = backbone, pretrained = pretrained)\n",
        "    if not pretrained:\n",
        "        weights_init(model)\n",
        "    if model_path != '':\n",
        "        #------------------------------------------------------#\n",
        "        #   权值文件请看README，百度网盘下载\n",
        "        #------------------------------------------------------#\n",
        "        print('Load weights {}.'.format(model_path))\n",
        "\n",
        "        #------------------------------------------------------#\n",
        "        #   根据预训练权重的Key和模型的Key进行加载\n",
        "        #------------------------------------------------------#\n",
        "        device          = torch.device('cuda' if torch.cuda.is_available() else 'cpu')\n",
        "        model_dict      = model.state_dict()\n",
        "        pretrained_dict = torch.load(model_path, map_location = device)\n",
        "        load_key, no_load_key, temp_dict = [], [], {}\n",
        "        for k, v in pretrained_dict.items():\n",
        "            if k in model_dict.keys() and np.shape(model_dict[k]) == np.shape(v):\n",
        "                temp_dict[k] = v\n",
        "                load_key.append(k)\n",
        "            else:\n",
        "                no_load_key.append(k)\n",
        "        model_dict.update(temp_dict)\n",
        "        model.load_state_dict(model_dict)\n",
        "        #------------------------------------------------------#\n",
        "        #   显示没有匹配上的Key\n",
        "        #------------------------------------------------------#\n",
        "        print(\"\\nSuccessful Load Key:\", str(load_key)[:500], \"……\\nSuccessful Load Key Num:\", len(load_key))\n",
        "        print(\"\\nFail To Load Key:\", str(no_load_key)[:500], \"……\\nFail To Load Key num:\", len(no_load_key))\n",
        "        print(\"\\n\\033[1;33;44m温馨提示，head部分没有载入是正常现象，Backbone部分没有载入是错误的。\\033[0m\")\n",
        "\n",
        "    #----------------------#\n",
        "    #   记录Loss\n",
        "    #----------------------#\n",
        "    time_str        = datetime.datetime.strftime(datetime.datetime.now(),'%Y_%m_%d_%H_%M_%S')\n",
        "    log_dir         = os.path.join(save_dir, \"loss_\" + str(time_str))\n",
        "    loss_history    = LossHistory(log_dir, model, input_shape=input_shape)\n",
        "\n",
        "    #------------------------------------------------------------------#\n",
        "    #   torch 1.2不支持amp，建议使用torch 1.7.1及以上正确使用fp16\n",
        "    #   因此torch1.2这里显示\"could not be resolve\"\n",
        "    #------------------------------------------------------------------#\n",
        "    if fp16:\n",
        "        from torch.cuda.amp import GradScaler as GradScaler\n",
        "        scaler = GradScaler()\n",
        "    else:\n",
        "        scaler = None\n",
        "\n",
        "    model_train     = model.train()\n",
        "    if Cuda:\n",
        "        model_train = torch.nn.DataParallel(model_train)\n",
        "        cudnn.benchmark = True\n",
        "        model_train = model_train.cuda()\n",
        "\n",
        "    #---------------------------#\n",
        "    #   读取数据集对应的txt\n",
        "    #---------------------------#\n",
        "    with open(train_annotation_path, encoding='utf-8') as f:\n",
        "        train_lines = f.readlines()\n",
        "    with open(val_annotation_path, encoding='utf-8') as f:\n",
        "        val_lines   = f.readlines()\n",
        "    num_train   = len(train_lines)\n",
        "    num_val     = len(val_lines)\n",
        "\n",
        "    show_config(\n",
        "        classes_path = classes_path, model_path = model_path, input_shape = input_shape, \\\n",
        "        Init_Epoch = Init_Epoch, Freeze_Epoch = Freeze_Epoch, UnFreeze_Epoch = UnFreeze_Epoch, Freeze_batch_size = Freeze_batch_size, Unfreeze_batch_size = Unfreeze_batch_size, Freeze_Train = Freeze_Train, \\\n",
        "        Init_lr = Init_lr, Min_lr = Min_lr, optimizer_type = optimizer_type, momentum = momentum, lr_decay_type = lr_decay_type, \\\n",
        "        save_period = save_period, save_dir = save_dir, num_workers = num_workers, num_train = num_train, num_val = num_val\n",
        "    )\n",
        "    #---------------------------------------------------------#\n",
        "    #   总训练世代指的是遍历全部数据的总次数\n",
        "    #   总训练步长指的是梯度下降的总次数\n",
        "    #   每个训练世代包含若干训练步长，每个训练步长进行一次梯度下降。\n",
        "    #   此处仅建议最低训练世代，上不封顶，计算时只考虑了解冻部分\n",
        "    #----------------------------------------------------------#\n",
        "    wanted_step = 5e4 if optimizer_type == \"sgd\" else 1.5e4\n",
        "    total_step  = num_train // Unfreeze_batch_size * UnFreeze_Epoch\n",
        "    if total_step <= wanted_step:\n",
        "        if num_train // Unfreeze_batch_size == 0:\n",
        "            raise ValueError('数据集过小，无法进行训练，请扩充数据集。')\n",
        "        wanted_epoch = wanted_step // (num_train // Unfreeze_batch_size) + 1\n",
        "        print(\"\\n\\033[1;33;44m[Warning] 使用%s优化器时，建议将训练总步长设置到%d以上。\\033[0m\"%(optimizer_type, wanted_step))\n",
        "        print(\"\\033[1;33;44m[Warning] 本次运行的总训练数据量为%d，Unfreeze_batch_size为%d，共训练%d个Epoch，计算出总训练步长为%d。\\033[0m\"%(num_train, Unfreeze_batch_size, UnFreeze_Epoch, total_step))\n",
        "        print(\"\\033[1;33;44m[Warning] 由于总训练步长为%d，小于建议总步长%d，建议设置总世代为%d。\\033[0m\"%(total_step, wanted_step, wanted_epoch))\n",
        "\n",
        "    #------------------------------------------------------#\n",
        "    #   主干特征提取网络特征通用，冻结训练可以加快训练速度\n",
        "    #   也可以在训练初期防止权值被破坏。\n",
        "    #   Init_Epoch为起始世代\n",
        "    #   Freeze_Epoch为冻结训练的世代\n",
        "    #   UnFreeze_Epoch总训练世代\n",
        "    #   提示OOM或者显存不足请调小Batch_size\n",
        "    #------------------------------------------------------#\n",
        "    if True:\n",
        "        UnFreeze_flag = False\n",
        "        #------------------------------------#\n",
        "        #   冻结一定部分训练\n",
        "        #------------------------------------#\n",
        "        if Freeze_Train:\n",
        "            for param in model.extractor.parameters():\n",
        "                param.requires_grad = False\n",
        "        # ------------------------------------#\n",
        "        #   冻结bn层\n",
        "        # ------------------------------------#\n",
        "        model.freeze_bn()\n",
        "\n",
        "        #-------------------------------------------------------------------#\n",
        "        #   如果不冻结训练的话，直接设置batch_size为Unfreeze_batch_size\n",
        "        #-------------------------------------------------------------------#\n",
        "        batch_size = Freeze_batch_size if Freeze_Train else Unfreeze_batch_size\n",
        "\n",
        "        #-------------------------------------------------------------------#\n",
        "        #   判断当前batch_size，自适应调整学习率\n",
        "        #-------------------------------------------------------------------#\n",
        "        nbs             = 16\n",
        "        lr_limit_max    = 1e-4 if optimizer_type == 'adam' else 5e-2\n",
        "        lr_limit_min    = 1e-4 if optimizer_type == 'adam' else 5e-4\n",
        "        Init_lr_fit     = min(max(batch_size / nbs * Init_lr, lr_limit_min), lr_limit_max)\n",
        "        Min_lr_fit      = min(max(batch_size / nbs * Min_lr, lr_limit_min * 1e-2), lr_limit_max * 1e-2)\n",
        "\n",
        "        #---------------------------------------#\n",
        "        #   根据optimizer_type选择优化器\n",
        "        #---------------------------------------#\n",
        "        optimizer = {\n",
        "            'adam'  : optim.Adam(model.parameters(), Init_lr_fit, betas = (momentum, 0.999), weight_decay = weight_decay),\n",
        "            'sgd'   : optim.SGD(model.parameters(), Init_lr_fit, momentum = momentum, nesterov=True, weight_decay = weight_decay)\n",
        "        }[optimizer_type]\n",
        "\n",
        "        #---------------------------------------#\n",
        "        #   获得学习率下降的公式\n",
        "        #---------------------------------------#\n",
        "        lr_scheduler_func = get_lr_scheduler(lr_decay_type, Init_lr_fit, Min_lr_fit, UnFreeze_Epoch)\n",
        "\n",
        "        #---------------------------------------#\n",
        "        #   判断每一个世代的长度\n",
        "        #---------------------------------------#\n",
        "        epoch_step      = num_train // batch_size\n",
        "        epoch_step_val  = num_val // batch_size\n",
        "\n",
        "        if epoch_step == 0 or epoch_step_val == 0:\n",
        "            raise ValueError(\"数据集过小，无法继续进行训练，请扩充数据集。\")\n",
        "\n",
        "        train_dataset   = FRCNNDataset(train_lines, input_shape, train = True)\n",
        "        val_dataset     = FRCNNDataset(val_lines, input_shape, train = False)\n",
        "\n",
        "        gen             = DataLoader(train_dataset, shuffle = True, batch_size = batch_size, num_workers = num_workers, pin_memory=True,\n",
        "                                    drop_last=True, collate_fn=frcnn_dataset_collate)\n",
        "        gen_val         = DataLoader(val_dataset  , shuffle = True, batch_size = batch_size, num_workers = num_workers, pin_memory=True,\n",
        "                                    drop_last=True, collate_fn=frcnn_dataset_collate)\n",
        "\n",
        "        train_util      = FasterRCNNTrainer(model_train, optimizer)\n",
        "        #----------------------#\n",
        "        #   记录eval的map曲线\n",
        "        #----------------------#\n",
        "        eval_callback   = EvalCallback(model_train, input_shape, class_names, num_classes, val_lines, log_dir, Cuda, \\\n",
        "                                        eval_flag=eval_flag, period=eval_period)\n",
        "\n",
        "        #---------------------------------------#\n",
        "        #   开始模型训练\n",
        "        #---------------------------------------#\n",
        "        for epoch in range(Init_Epoch, UnFreeze_Epoch):\n",
        "            #---------------------------------------#\n",
        "            #   如果模型有冻结学习部分\n",
        "            #   则解冻，并设置参数\n",
        "            #---------------------------------------#\n",
        "            if epoch >= Freeze_Epoch and not UnFreeze_flag and Freeze_Train:\n",
        "                batch_size = Unfreeze_batch_size\n",
        "\n",
        "                #-------------------------------------------------------------------#\n",
        "                #   判断当前batch_size，自适应调整学习率\n",
        "                #-------------------------------------------------------------------#\n",
        "                nbs             = 16\n",
        "                lr_limit_max    = 1e-4 if optimizer_type == 'adam' else 5e-2\n",
        "                lr_limit_min    = 1e-4 if optimizer_type == 'adam' else 5e-4\n",
        "                Init_lr_fit     = min(max(batch_size / nbs * Init_lr, lr_limit_min), lr_limit_max)\n",
        "                Min_lr_fit      = min(max(batch_size / nbs * Min_lr, lr_limit_min * 1e-2), lr_limit_max * 1e-2)\n",
        "                #---------------------------------------#\n",
        "                #   获得学习率下降的公式\n",
        "                #---------------------------------------#\n",
        "                lr_scheduler_func = get_lr_scheduler(lr_decay_type, Init_lr_fit, Min_lr_fit, UnFreeze_Epoch)\n",
        "\n",
        "                for param in model.extractor.parameters():\n",
        "                    param.requires_grad = True\n",
        "                # ------------------------------------#\n",
        "                #   冻结bn层\n",
        "                # ------------------------------------#\n",
        "                model.freeze_bn()\n",
        "\n",
        "                epoch_step      = num_train // batch_size\n",
        "                epoch_step_val  = num_val // batch_size\n",
        "\n",
        "                if epoch_step == 0 or epoch_step_val == 0:\n",
        "                    raise ValueError(\"数据集过小，无法继续进行训练，请扩充数据集。\")\n",
        "\n",
        "                gen             = DataLoader(train_dataset, shuffle = True, batch_size = batch_size, num_workers = num_workers, pin_memory=True,\n",
        "                                            drop_last=True, collate_fn=frcnn_dataset_collate)\n",
        "                gen_val         = DataLoader(val_dataset  , shuffle = True, batch_size = batch_size, num_workers = num_workers, pin_memory=True,\n",
        "                                            drop_last=True, collate_fn=frcnn_dataset_collate)\n",
        "\n",
        "                UnFreeze_flag = True\n",
        "\n",
        "            set_optimizer_lr(optimizer, lr_scheduler_func, epoch)\n",
        "\n",
        "            fit_one_epoch(model, train_util, loss_history, eval_callback, optimizer, epoch, epoch_step, epoch_step_val, gen, gen_val, UnFreeze_Epoch, Cuda, fp16, scaler, save_period, save_dir)\n",
        "\n",
        "        loss_history.writer.close()"
      ],
      "metadata": {
        "colab": {
          "base_uri": "https://localhost:8080/"
        },
        "id": "V-INdpAskZM7",
        "outputId": "3b7c225e-bc24-405b-b1a5-5eb4978f87b8"
      },
      "execution_count": null,
      "outputs": [
        {
          "output_type": "stream",
          "name": "stdout",
          "text": [
            "Number of devices: 1\n",
            "initialize network with normal type\n",
            "Load weights /content/drive/MyDrive/fasterb/logs_new01/best_epoch_weights.pth.\n",
            "\n",
            "Successful Load Key: ['extractor.0.weight', 'extractor.1.weight', 'extractor.1.bias', 'extractor.1.running_mean', 'extractor.1.running_var', 'extractor.1.num_batches_tracked', 'extractor.4.0.conv1.weight', 'extractor.4.0.bn1.weight', 'extractor.4.0.bn1.bias', 'extractor.4.0.bn1.running_mean', 'extractor.4.0.bn1.running_var', 'extractor.4.0.bn1.num_batches_tracked', 'extractor.4.0.conv2.weight', 'extractor.4.0.bn2.weight', 'extractor.4.0.bn2.bias', 'extractor.4.0.bn2.running_mean', 'extractor.4.0.bn2.running_var', 'e ……\n",
            "Successful Load Key Num: 328\n",
            "\n",
            "Fail To Load Key: [] ……\n",
            "Fail To Load Key num: 0\n",
            "\n",
            "\u001b[1;33;44m温馨提示，head部分没有载入是正常现象，Backbone部分没有载入是错误的。\u001b[0m\n",
            "Configurations:\n",
            "----------------------------------------------------------------------\n",
            "|                     keys |                                   values|\n",
            "----------------------------------------------------------------------\n",
            "|             classes_path | /content/drive/MyDrive/fasterb/model_data/voc_classes.txt|\n",
            "|               model_path | /content/drive/MyDrive/fasterb/logs_new01/best_epoch_weights.pth|\n",
            "|              input_shape |                               [600, 600]|\n",
            "|               Init_Epoch |                                        0|\n",
            "|             Freeze_Epoch |                                       50|\n",
            "|           UnFreeze_Epoch |                                      300|\n",
            "|        Freeze_batch_size |                                        4|\n",
            "|      Unfreeze_batch_size |                                        2|\n",
            "|             Freeze_Train |                                     True|\n",
            "|                  Init_lr |                                   0.0001|\n",
            "|                   Min_lr |                   1.0000000000000002e-06|\n",
            "|           optimizer_type |                                     adam|\n",
            "|                 momentum |                                      0.9|\n",
            "|            lr_decay_type |                                      cos|\n",
            "|              save_period |                                        5|\n",
            "|                 save_dir |                               logs_new02|\n",
            "|              num_workers |                                        4|\n",
            "|                num_train |                                      494|\n",
            "|                  num_val |                                       55|\n",
            "----------------------------------------------------------------------\n",
            "Start Train\n"
          ]
        },
        {
          "output_type": "stream",
          "name": "stderr",
          "text": [
            "Epoch 1/300: 100%|██████████| 123/123 [01:33<00:00,  1.32it/s, lr=1e-5, roi_cls=0.336, roi_loc=0.638, rpn_cls=0.0563, rpn_loc=0.0521, total_loss=1.08]\n"
          ]
        },
        {
          "output_type": "stream",
          "name": "stdout",
          "text": [
            "Finish Train\n",
            "Start Validation\n"
          ]
        },
        {
          "output_type": "stream",
          "name": "stderr",
          "text": [
            "Epoch 1/300: 100%|██████████| 13/13 [00:10<00:00,  1.26it/s, val_loss=1]\n"
          ]
        },
        {
          "output_type": "stream",
          "name": "stdout",
          "text": [
            "Finish Validation\n",
            "Epoch:1/300\n",
            "Total Loss: 1.083 || Val Loss: 1.000 \n",
            "Save best model to best_epoch_weights.pth\n",
            "Start Train\n"
          ]
        },
        {
          "output_type": "stream",
          "name": "stderr",
          "text": [
            "Epoch 2/300: 100%|██████████| 123/123 [00:31<00:00,  3.85it/s, lr=2e-5, roi_cls=0.325, roi_loc=0.589, rpn_cls=0.044, rpn_loc=0.0554, total_loss=1.01]\n"
          ]
        },
        {
          "output_type": "stream",
          "name": "stdout",
          "text": [
            "Finish Train\n",
            "Start Validation\n"
          ]
        },
        {
          "output_type": "stream",
          "name": "stderr",
          "text": [
            "Epoch 2/300: 100%|██████████| 13/13 [00:03<00:00,  3.26it/s, val_loss=0.975]\n"
          ]
        },
        {
          "output_type": "stream",
          "name": "stdout",
          "text": [
            "Finish Validation\n",
            "Epoch:2/300\n",
            "Total Loss: 1.014 || Val Loss: 0.975 \n",
            "Save best model to best_epoch_weights.pth\n",
            "Start Train\n"
          ]
        },
        {
          "output_type": "stream",
          "name": "stderr",
          "text": [
            "Epoch 3/300: 100%|██████████| 123/123 [00:32<00:00,  3.82it/s, lr=5e-5, roi_cls=0.32, roi_loc=0.599, rpn_cls=0.0518, rpn_loc=0.0533, total_loss=1.02]\n"
          ]
        },
        {
          "output_type": "stream",
          "name": "stdout",
          "text": [
            "Finish Train\n",
            "Start Validation\n"
          ]
        },
        {
          "output_type": "stream",
          "name": "stderr",
          "text": [
            "Epoch 3/300: 100%|██████████| 13/13 [00:03<00:00,  3.85it/s, val_loss=0.94]\n"
          ]
        },
        {
          "output_type": "stream",
          "name": "stdout",
          "text": [
            "Finish Validation\n",
            "Epoch:3/300\n",
            "Total Loss: 1.024 || Val Loss: 0.940 \n",
            "Save best model to best_epoch_weights.pth\n",
            "Start Train\n"
          ]
        },
        {
          "output_type": "stream",
          "name": "stderr",
          "text": [
            "Epoch 4/300: 100%|██████████| 123/123 [00:31<00:00,  3.89it/s, lr=0.0001, roi_cls=0.336, roi_loc=0.603, rpn_cls=0.0511, rpn_loc=0.0528, total_loss=1.04]\n"
          ]
        },
        {
          "output_type": "stream",
          "name": "stdout",
          "text": [
            "Finish Train\n",
            "Start Validation\n"
          ]
        },
        {
          "output_type": "stream",
          "name": "stderr",
          "text": [
            "Epoch 4/300: 100%|██████████| 13/13 [00:03<00:00,  3.71it/s, val_loss=1.06]\n"
          ]
        },
        {
          "output_type": "stream",
          "name": "stdout",
          "text": [
            "Finish Validation\n",
            "Epoch:4/300\n",
            "Total Loss: 1.043 || Val Loss: 1.057 \n",
            "Start Train\n"
          ]
        },
        {
          "output_type": "stream",
          "name": "stderr",
          "text": [
            "Epoch 5/300: 100%|██████████| 123/123 [00:31<00:00,  3.86it/s, lr=0.0001, roi_cls=0.332, roi_loc=0.628, rpn_cls=0.0493, rpn_loc=0.051, total_loss=1.06]\n"
          ]
        },
        {
          "output_type": "stream",
          "name": "stdout",
          "text": [
            "Finish Train\n",
            "Start Validation\n"
          ]
        },
        {
          "output_type": "stream",
          "name": "stderr",
          "text": [
            "Epoch 5/300: 100%|██████████| 13/13 [00:03<00:00,  3.80it/s, val_loss=1.04]\n"
          ]
        },
        {
          "output_type": "stream",
          "name": "stdout",
          "text": [
            "Finish Validation\n",
            "Get map.\n"
          ]
        },
        {
          "output_type": "stream",
          "name": "stderr",
          "text": [
            "100%|██████████| 55/55 [01:35<00:00,  1.73s/it]\n"
          ]
        },
        {
          "output_type": "stream",
          "name": "stdout",
          "text": [
            "Calculate Map.\n",
            "loading annotations into memory...\n",
            "Done (t=0.01s)\n",
            "creating index...\n",
            "index created!\n",
            "Loading and preparing results...\n",
            "DONE (t=0.01s)\n",
            "creating index...\n",
            "index created!\n",
            "Running per image evaluation...\n",
            "Evaluate annotation type *bbox*\n",
            "DONE (t=0.82s).\n",
            "Accumulating evaluation results...\n",
            "DONE (t=0.11s).\n",
            " Average Precision  (AP) @[ IoU=0.50:0.95 | area=   all | maxDets=100 ] = 0.509\n",
            " Average Precision  (AP) @[ IoU=0.50      | area=   all | maxDets=100 ] = 0.811\n",
            " Average Precision  (AP) @[ IoU=0.75      | area=   all | maxDets=100 ] = 0.575\n",
            " Average Precision  (AP) @[ IoU=0.50:0.95 | area= small | maxDets=100 ] = 0.293\n",
            " Average Precision  (AP) @[ IoU=0.50:0.95 | area=medium | maxDets=100 ] = 0.451\n",
            " Average Precision  (AP) @[ IoU=0.50:0.95 | area= large | maxDets=100 ] = 0.623\n",
            " Average Recall     (AR) @[ IoU=0.50:0.95 | area=   all | maxDets=  1 ] = 0.153\n",
            " Average Recall     (AR) @[ IoU=0.50:0.95 | area=   all | maxDets= 10 ] = 0.526\n",
            " Average Recall     (AR) @[ IoU=0.50:0.95 | area=   all | maxDets=100 ] = 0.587\n",
            " Average Recall     (AR) @[ IoU=0.50:0.95 | area= small | maxDets=100 ] = 0.372\n",
            " Average Recall     (AR) @[ IoU=0.50:0.95 | area=medium | maxDets=100 ] = 0.541\n",
            " Average Recall     (AR) @[ IoU=0.50:0.95 | area= large | maxDets=100 ] = 0.687\n",
            "Get map done.\n",
            "Epoch:5/300\n",
            "Total Loss: 1.061 || Val Loss: 1.043 \n",
            "Start Train\n"
          ]
        },
        {
          "output_type": "stream",
          "name": "stderr",
          "text": [
            "Epoch 6/300: 100%|██████████| 123/123 [00:31<00:00,  3.86it/s, lr=0.0001, roi_cls=0.327, roi_loc=0.622, rpn_cls=0.0467, rpn_loc=0.0524, total_loss=1.05]\n"
          ]
        },
        {
          "output_type": "stream",
          "name": "stdout",
          "text": [
            "Finish Train\n",
            "Start Validation\n"
          ]
        },
        {
          "output_type": "stream",
          "name": "stderr",
          "text": [
            "Epoch 6/300: 100%|██████████| 13/13 [00:03<00:00,  3.79it/s, val_loss=0.991]\n"
          ]
        },
        {
          "output_type": "stream",
          "name": "stdout",
          "text": [
            "Finish Validation\n",
            "Epoch:6/300\n",
            "Total Loss: 1.049 || Val Loss: 0.991 \n",
            "Start Train\n"
          ]
        },
        {
          "output_type": "stream",
          "name": "stderr",
          "text": [
            "Epoch 7/300: 100%|██████████| 123/123 [00:31<00:00,  3.84it/s, lr=0.0001, roi_cls=0.328, roi_loc=0.612, rpn_cls=0.0477, rpn_loc=0.0491, total_loss=1.04]\n"
          ]
        },
        {
          "output_type": "stream",
          "name": "stdout",
          "text": [
            "Finish Train\n",
            "Start Validation\n"
          ]
        },
        {
          "output_type": "stream",
          "name": "stderr",
          "text": [
            "Epoch 7/300: 100%|██████████| 13/13 [00:03<00:00,  3.81it/s, val_loss=1.04]\n"
          ]
        },
        {
          "output_type": "stream",
          "name": "stdout",
          "text": [
            "Finish Validation\n",
            "Epoch:7/300\n",
            "Total Loss: 1.037 || Val Loss: 1.036 \n",
            "Start Train\n"
          ]
        },
        {
          "output_type": "stream",
          "name": "stderr",
          "text": [
            "Epoch 8/300: 100%|██████████| 123/123 [00:31<00:00,  3.85it/s, lr=0.0001, roi_cls=0.335, roi_loc=0.614, rpn_cls=0.0493, rpn_loc=0.0544, total_loss=1.05]\n"
          ]
        },
        {
          "output_type": "stream",
          "name": "stdout",
          "text": [
            "Finish Train\n",
            "Start Validation\n"
          ]
        },
        {
          "output_type": "stream",
          "name": "stderr",
          "text": [
            "Epoch 8/300: 100%|██████████| 13/13 [00:03<00:00,  3.87it/s, val_loss=1.01]\n"
          ]
        },
        {
          "output_type": "stream",
          "name": "stdout",
          "text": [
            "Finish Validation\n",
            "Epoch:8/300\n",
            "Total Loss: 1.053 || Val Loss: 1.011 \n",
            "Start Train\n"
          ]
        },
        {
          "output_type": "stream",
          "name": "stderr",
          "text": [
            "Epoch 9/300: 100%|██████████| 123/123 [00:31<00:00,  3.86it/s, lr=9.99e-5, roi_cls=0.324, roi_loc=0.617, rpn_cls=0.0485, rpn_loc=0.0484, total_loss=1.04]\n"
          ]
        },
        {
          "output_type": "stream",
          "name": "stdout",
          "text": [
            "Finish Train\n",
            "Start Validation\n"
          ]
        },
        {
          "output_type": "stream",
          "name": "stderr",
          "text": [
            "Epoch 9/300: 100%|██████████| 13/13 [00:03<00:00,  3.74it/s, val_loss=1.04]\n"
          ]
        },
        {
          "output_type": "stream",
          "name": "stdout",
          "text": [
            "Finish Validation\n",
            "Epoch:9/300\n",
            "Total Loss: 1.038 || Val Loss: 1.042 \n",
            "Start Train\n"
          ]
        },
        {
          "output_type": "stream",
          "name": "stderr",
          "text": [
            "Epoch 10/300: 100%|██████████| 123/123 [00:31<00:00,  3.85it/s, lr=9.99e-5, roi_cls=0.324, roi_loc=0.613, rpn_cls=0.0463, rpn_loc=0.0516, total_loss=1.04]\n"
          ]
        },
        {
          "output_type": "stream",
          "name": "stdout",
          "text": [
            "Finish Train\n",
            "Start Validation\n"
          ]
        },
        {
          "output_type": "stream",
          "name": "stderr",
          "text": [
            "Epoch 10/300: 100%|██████████| 13/13 [00:03<00:00,  3.74it/s, val_loss=1.03]\n"
          ]
        },
        {
          "output_type": "stream",
          "name": "stdout",
          "text": [
            "Finish Validation\n",
            "Get map.\n"
          ]
        },
        {
          "output_type": "stream",
          "name": "stderr",
          "text": [
            "100%|██████████| 55/55 [00:04<00:00, 11.54it/s]\n"
          ]
        },
        {
          "output_type": "stream",
          "name": "stdout",
          "text": [
            "Calculate Map.\n",
            "loading annotations into memory...\n",
            "Done (t=0.01s)\n",
            "creating index...\n",
            "index created!\n",
            "Loading and preparing results...\n",
            "DONE (t=0.23s)\n",
            "creating index...\n",
            "index created!\n",
            "Running per image evaluation...\n",
            "Evaluate annotation type *bbox*\n",
            "DONE (t=0.78s).\n",
            "Accumulating evaluation results...\n",
            "DONE (t=0.10s).\n",
            " Average Precision  (AP) @[ IoU=0.50:0.95 | area=   all | maxDets=100 ] = 0.500\n",
            " Average Precision  (AP) @[ IoU=0.50      | area=   all | maxDets=100 ] = 0.805\n",
            " Average Precision  (AP) @[ IoU=0.75      | area=   all | maxDets=100 ] = 0.576\n",
            " Average Precision  (AP) @[ IoU=0.50:0.95 | area= small | maxDets=100 ] = 0.291\n",
            " Average Precision  (AP) @[ IoU=0.50:0.95 | area=medium | maxDets=100 ] = 0.440\n",
            " Average Precision  (AP) @[ IoU=0.50:0.95 | area= large | maxDets=100 ] = 0.604\n",
            " Average Recall     (AR) @[ IoU=0.50:0.95 | area=   all | maxDets=  1 ] = 0.150\n",
            " Average Recall     (AR) @[ IoU=0.50:0.95 | area=   all | maxDets= 10 ] = 0.519\n",
            " Average Recall     (AR) @[ IoU=0.50:0.95 | area=   all | maxDets=100 ] = 0.574\n",
            " Average Recall     (AR) @[ IoU=0.50:0.95 | area= small | maxDets=100 ] = 0.364\n",
            " Average Recall     (AR) @[ IoU=0.50:0.95 | area=medium | maxDets=100 ] = 0.528\n",
            " Average Recall     (AR) @[ IoU=0.50:0.95 | area= large | maxDets=100 ] = 0.663\n",
            "Get map done.\n",
            "Epoch:10/300\n",
            "Total Loss: 1.035 || Val Loss: 1.025 \n",
            "Start Train\n"
          ]
        },
        {
          "output_type": "stream",
          "name": "stderr",
          "text": [
            "Epoch 11/300: 100%|██████████| 123/123 [00:32<00:00,  3.83it/s, lr=9.98e-5, roi_cls=0.321, roi_loc=0.598, rpn_cls=0.0479, rpn_loc=0.0501, total_loss=1.02]\n"
          ]
        },
        {
          "output_type": "stream",
          "name": "stdout",
          "text": [
            "Finish Train\n",
            "Start Validation\n"
          ]
        },
        {
          "output_type": "stream",
          "name": "stderr",
          "text": [
            "Epoch 11/300: 100%|██████████| 13/13 [00:03<00:00,  3.69it/s, val_loss=0.981]\n"
          ]
        },
        {
          "output_type": "stream",
          "name": "stdout",
          "text": [
            "Finish Validation\n",
            "Epoch:11/300\n",
            "Total Loss: 1.018 || Val Loss: 0.981 \n",
            "Start Train\n"
          ]
        },
        {
          "output_type": "stream",
          "name": "stderr",
          "text": [
            "Epoch 12/300: 100%|██████████| 123/123 [00:32<00:00,  3.84it/s, lr=9.98e-5, roi_cls=0.314, roi_loc=0.601, rpn_cls=0.0467, rpn_loc=0.0572, total_loss=1.02]\n"
          ]
        },
        {
          "output_type": "stream",
          "name": "stdout",
          "text": [
            "Finish Train\n",
            "Start Validation\n"
          ]
        },
        {
          "output_type": "stream",
          "name": "stderr",
          "text": [
            "Epoch 12/300: 100%|██████████| 13/13 [00:03<00:00,  3.75it/s, val_loss=1.03]\n"
          ]
        },
        {
          "output_type": "stream",
          "name": "stdout",
          "text": [
            "Finish Validation\n",
            "Epoch:12/300\n",
            "Total Loss: 1.019 || Val Loss: 1.034 \n",
            "Start Train\n"
          ]
        },
        {
          "output_type": "stream",
          "name": "stderr",
          "text": [
            "Epoch 13/300: 100%|██████████| 123/123 [00:31<00:00,  3.85it/s, lr=9.98e-5, roi_cls=0.317, roi_loc=0.596, rpn_cls=0.0476, rpn_loc=0.049, total_loss=1.01]\n"
          ]
        },
        {
          "output_type": "stream",
          "name": "stdout",
          "text": [
            "Finish Train\n",
            "Start Validation\n"
          ]
        },
        {
          "output_type": "stream",
          "name": "stderr",
          "text": [
            "Epoch 13/300: 100%|██████████| 13/13 [00:03<00:00,  3.64it/s, val_loss=1.02]\n"
          ]
        },
        {
          "output_type": "stream",
          "name": "stdout",
          "text": [
            "Finish Validation\n",
            "Epoch:13/300\n",
            "Total Loss: 1.010 || Val Loss: 1.017 \n",
            "Start Train\n"
          ]
        },
        {
          "output_type": "stream",
          "name": "stderr",
          "text": [
            "Epoch 14/300: 100%|██████████| 123/123 [00:32<00:00,  3.80it/s, lr=9.97e-5, roi_cls=0.312, roi_loc=0.613, rpn_cls=0.0508, rpn_loc=0.051, total_loss=1.03]\n"
          ]
        },
        {
          "output_type": "stream",
          "name": "stdout",
          "text": [
            "Finish Train\n",
            "Start Validation\n"
          ]
        },
        {
          "output_type": "stream",
          "name": "stderr",
          "text": [
            "Epoch 14/300: 100%|██████████| 13/13 [00:03<00:00,  3.56it/s, val_loss=1.01]\n"
          ]
        },
        {
          "output_type": "stream",
          "name": "stdout",
          "text": [
            "Finish Validation\n",
            "Epoch:14/300\n",
            "Total Loss: 1.027 || Val Loss: 1.012 \n",
            "Start Train\n"
          ]
        },
        {
          "output_type": "stream",
          "name": "stderr",
          "text": [
            "Epoch 15/300: 100%|██████████| 123/123 [00:31<00:00,  3.85it/s, lr=9.96e-5, roi_cls=0.317, roi_loc=0.587, rpn_cls=0.0499, rpn_loc=0.0509, total_loss=1.01]\n"
          ]
        },
        {
          "output_type": "stream",
          "name": "stdout",
          "text": [
            "Finish Train\n",
            "Start Validation\n"
          ]
        },
        {
          "output_type": "stream",
          "name": "stderr",
          "text": [
            "Epoch 15/300: 100%|██████████| 13/13 [00:03<00:00,  3.80it/s, val_loss=1.03]\n"
          ]
        },
        {
          "output_type": "stream",
          "name": "stdout",
          "text": [
            "Finish Validation\n",
            "Get map.\n"
          ]
        },
        {
          "output_type": "stream",
          "name": "stderr",
          "text": [
            "100%|██████████| 55/55 [00:04<00:00, 11.51it/s]\n"
          ]
        },
        {
          "output_type": "stream",
          "name": "stdout",
          "text": [
            "Calculate Map.\n",
            "loading annotations into memory...\n",
            "Done (t=0.01s)\n",
            "creating index...\n",
            "index created!\n",
            "Loading and preparing results...\n",
            "DONE (t=0.01s)\n",
            "creating index...\n",
            "index created!\n",
            "Running per image evaluation...\n",
            "Evaluate annotation type *bbox*\n",
            "DONE (t=0.76s).\n",
            "Accumulating evaluation results...\n",
            "DONE (t=0.10s).\n",
            " Average Precision  (AP) @[ IoU=0.50:0.95 | area=   all | maxDets=100 ] = 0.506\n",
            " Average Precision  (AP) @[ IoU=0.50      | area=   all | maxDets=100 ] = 0.806\n",
            " Average Precision  (AP) @[ IoU=0.75      | area=   all | maxDets=100 ] = 0.567\n",
            " Average Precision  (AP) @[ IoU=0.50:0.95 | area= small | maxDets=100 ] = 0.282\n",
            " Average Precision  (AP) @[ IoU=0.50:0.95 | area=medium | maxDets=100 ] = 0.443\n",
            " Average Precision  (AP) @[ IoU=0.50:0.95 | area= large | maxDets=100 ] = 0.620\n",
            " Average Recall     (AR) @[ IoU=0.50:0.95 | area=   all | maxDets=  1 ] = 0.151\n",
            " Average Recall     (AR) @[ IoU=0.50:0.95 | area=   all | maxDets= 10 ] = 0.520\n",
            " Average Recall     (AR) @[ IoU=0.50:0.95 | area=   all | maxDets=100 ] = 0.579\n",
            " Average Recall     (AR) @[ IoU=0.50:0.95 | area= small | maxDets=100 ] = 0.305\n",
            " Average Recall     (AR) @[ IoU=0.50:0.95 | area=medium | maxDets=100 ] = 0.527\n",
            " Average Recall     (AR) @[ IoU=0.50:0.95 | area= large | maxDets=100 ] = 0.682\n",
            "Get map done.\n",
            "Epoch:15/300\n",
            "Total Loss: 1.005 || Val Loss: 1.029 \n",
            "Start Train\n"
          ]
        },
        {
          "output_type": "stream",
          "name": "stderr",
          "text": [
            "Epoch 16/300: 100%|██████████| 123/123 [00:32<00:00,  3.78it/s, lr=9.96e-5, roi_cls=0.316, roi_loc=0.601, rpn_cls=0.0485, rpn_loc=0.0489, total_loss=1.01]\n"
          ]
        },
        {
          "output_type": "stream",
          "name": "stdout",
          "text": [
            "Finish Train\n",
            "Start Validation\n"
          ]
        },
        {
          "output_type": "stream",
          "name": "stderr",
          "text": [
            "Epoch 16/300: 100%|██████████| 13/13 [00:03<00:00,  3.80it/s, val_loss=1.06]\n"
          ]
        },
        {
          "output_type": "stream",
          "name": "stdout",
          "text": [
            "Finish Validation\n",
            "Epoch:16/300\n",
            "Total Loss: 1.014 || Val Loss: 1.058 \n",
            "Start Train\n"
          ]
        },
        {
          "output_type": "stream",
          "name": "stderr",
          "text": [
            "Epoch 17/300: 100%|██████████| 123/123 [00:32<00:00,  3.84it/s, lr=9.95e-5, roi_cls=0.309, roi_loc=0.599, rpn_cls=0.0519, rpn_loc=0.0521, total_loss=1.01]\n"
          ]
        },
        {
          "output_type": "stream",
          "name": "stdout",
          "text": [
            "Finish Train\n",
            "Start Validation\n"
          ]
        },
        {
          "output_type": "stream",
          "name": "stderr",
          "text": [
            "Epoch 17/300: 100%|██████████| 13/13 [00:03<00:00,  3.77it/s, val_loss=1.08]\n"
          ]
        },
        {
          "output_type": "stream",
          "name": "stdout",
          "text": [
            "Finish Validation\n",
            "Epoch:17/300\n",
            "Total Loss: 1.013 || Val Loss: 1.077 \n",
            "Start Train\n"
          ]
        },
        {
          "output_type": "stream",
          "name": "stderr",
          "text": [
            "Epoch 18/300: 100%|██████████| 123/123 [00:31<00:00,  3.84it/s, lr=9.94e-5, roi_cls=0.306, roi_loc=0.602, rpn_cls=0.0463, rpn_loc=0.0502, total_loss=1]\n"
          ]
        },
        {
          "output_type": "stream",
          "name": "stdout",
          "text": [
            "Finish Train\n",
            "Start Validation\n"
          ]
        },
        {
          "output_type": "stream",
          "name": "stderr",
          "text": [
            "Epoch 18/300: 100%|██████████| 13/13 [00:03<00:00,  3.75it/s, val_loss=1.04]\n"
          ]
        },
        {
          "output_type": "stream",
          "name": "stdout",
          "text": [
            "Finish Validation\n",
            "Epoch:18/300\n",
            "Total Loss: 1.004 || Val Loss: 1.037 \n",
            "Start Train\n"
          ]
        },
        {
          "output_type": "stream",
          "name": "stderr",
          "text": [
            "Epoch 19/300: 100%|██████████| 123/123 [00:32<00:00,  3.80it/s, lr=9.93e-5, roi_cls=0.314, roi_loc=0.616, rpn_cls=0.0487, rpn_loc=0.0494, total_loss=1.03]\n"
          ]
        },
        {
          "output_type": "stream",
          "name": "stdout",
          "text": [
            "Finish Train\n",
            "Start Validation\n"
          ]
        },
        {
          "output_type": "stream",
          "name": "stderr",
          "text": [
            "Epoch 19/300: 100%|██████████| 13/13 [00:03<00:00,  3.88it/s, val_loss=1.06]\n"
          ]
        },
        {
          "output_type": "stream",
          "name": "stdout",
          "text": [
            "Finish Validation\n",
            "Epoch:19/300\n",
            "Total Loss: 1.028 || Val Loss: 1.060 \n",
            "Start Train\n"
          ]
        },
        {
          "output_type": "stream",
          "name": "stderr",
          "text": [
            "Epoch 20/300: 100%|██████████| 123/123 [00:32<00:00,  3.82it/s, lr=9.92e-5, roi_cls=0.307, roi_loc=0.607, rpn_cls=0.0433, rpn_loc=0.0504, total_loss=1.01]\n"
          ]
        },
        {
          "output_type": "stream",
          "name": "stdout",
          "text": [
            "Finish Train\n",
            "Start Validation\n"
          ]
        },
        {
          "output_type": "stream",
          "name": "stderr",
          "text": [
            "Epoch 20/300: 100%|██████████| 13/13 [00:03<00:00,  3.74it/s, val_loss=1.09]\n"
          ]
        },
        {
          "output_type": "stream",
          "name": "stdout",
          "text": [
            "Finish Validation\n",
            "Get map.\n"
          ]
        },
        {
          "output_type": "stream",
          "name": "stderr",
          "text": [
            "100%|██████████| 55/55 [00:04<00:00, 11.43it/s]\n"
          ]
        },
        {
          "output_type": "stream",
          "name": "stdout",
          "text": [
            "Calculate Map.\n",
            "loading annotations into memory...\n",
            "Done (t=0.01s)\n",
            "creating index...\n",
            "index created!\n",
            "Loading and preparing results...\n",
            "DONE (t=0.01s)\n",
            "creating index...\n",
            "index created!\n",
            "Running per image evaluation...\n",
            "Evaluate annotation type *bbox*\n",
            "DONE (t=0.74s).\n",
            "Accumulating evaluation results...\n",
            "DONE (t=0.10s).\n",
            " Average Precision  (AP) @[ IoU=0.50:0.95 | area=   all | maxDets=100 ] = 0.510\n",
            " Average Precision  (AP) @[ IoU=0.50      | area=   all | maxDets=100 ] = 0.806\n",
            " Average Precision  (AP) @[ IoU=0.75      | area=   all | maxDets=100 ] = 0.597\n",
            " Average Precision  (AP) @[ IoU=0.50:0.95 | area= small | maxDets=100 ] = 0.346\n",
            " Average Precision  (AP) @[ IoU=0.50:0.95 | area=medium | maxDets=100 ] = 0.447\n",
            " Average Precision  (AP) @[ IoU=0.50:0.95 | area= large | maxDets=100 ] = 0.623\n",
            " Average Recall     (AR) @[ IoU=0.50:0.95 | area=   all | maxDets=  1 ] = 0.156\n",
            " Average Recall     (AR) @[ IoU=0.50:0.95 | area=   all | maxDets= 10 ] = 0.522\n",
            " Average Recall     (AR) @[ IoU=0.50:0.95 | area=   all | maxDets=100 ] = 0.579\n",
            " Average Recall     (AR) @[ IoU=0.50:0.95 | area= small | maxDets=100 ] = 0.362\n",
            " Average Recall     (AR) @[ IoU=0.50:0.95 | area=medium | maxDets=100 ] = 0.528\n",
            " Average Recall     (AR) @[ IoU=0.50:0.95 | area= large | maxDets=100 ] = 0.678\n",
            "Get map done.\n",
            "Epoch:20/300\n",
            "Total Loss: 1.007 || Val Loss: 1.091 \n",
            "Start Train\n"
          ]
        },
        {
          "output_type": "stream",
          "name": "stderr",
          "text": [
            "Epoch 21/300: 100%|██████████| 123/123 [00:32<00:00,  3.81it/s, lr=9.91e-5, roi_cls=0.307, roi_loc=0.602, rpn_cls=0.0446, rpn_loc=0.0522, total_loss=1.01]\n"
          ]
        },
        {
          "output_type": "stream",
          "name": "stdout",
          "text": [
            "Finish Train\n",
            "Start Validation\n"
          ]
        },
        {
          "output_type": "stream",
          "name": "stderr",
          "text": [
            "Epoch 21/300: 100%|██████████| 13/13 [00:03<00:00,  3.77it/s, val_loss=1.04]\n"
          ]
        },
        {
          "output_type": "stream",
          "name": "stdout",
          "text": [
            "Finish Validation\n",
            "Epoch:21/300\n",
            "Total Loss: 1.006 || Val Loss: 1.044 \n",
            "Start Train\n"
          ]
        },
        {
          "output_type": "stream",
          "name": "stderr",
          "text": [
            "Epoch 22/300: 100%|██████████| 123/123 [00:32<00:00,  3.82it/s, lr=9.9e-5, roi_cls=0.312, roi_loc=0.593, rpn_cls=0.0498, rpn_loc=0.0479, total_loss=1]\n"
          ]
        },
        {
          "output_type": "stream",
          "name": "stdout",
          "text": [
            "Finish Train\n",
            "Start Validation\n"
          ]
        },
        {
          "output_type": "stream",
          "name": "stderr",
          "text": [
            "Epoch 22/300: 100%|██████████| 13/13 [00:03<00:00,  3.77it/s, val_loss=1.05]\n"
          ]
        },
        {
          "output_type": "stream",
          "name": "stdout",
          "text": [
            "Finish Validation\n",
            "Epoch:22/300\n",
            "Total Loss: 1.002 || Val Loss: 1.053 \n",
            "Start Train\n"
          ]
        },
        {
          "output_type": "stream",
          "name": "stderr",
          "text": [
            "Epoch 23/300: 100%|██████████| 123/123 [00:32<00:00,  3.80it/s, lr=9.89e-5, roi_cls=0.303, roi_loc=0.573, rpn_cls=0.0449, rpn_loc=0.0522, total_loss=0.973]\n"
          ]
        },
        {
          "output_type": "stream",
          "name": "stdout",
          "text": [
            "Finish Train\n",
            "Start Validation\n"
          ]
        },
        {
          "output_type": "stream",
          "name": "stderr",
          "text": [
            "Epoch 23/300: 100%|██████████| 13/13 [00:03<00:00,  3.73it/s, val_loss=1.06]\n"
          ]
        },
        {
          "output_type": "stream",
          "name": "stdout",
          "text": [
            "Finish Validation\n",
            "Epoch:23/300\n",
            "Total Loss: 0.973 || Val Loss: 1.064 \n",
            "Start Train\n"
          ]
        },
        {
          "output_type": "stream",
          "name": "stderr",
          "text": [
            "Epoch 24/300: 100%|██████████| 123/123 [00:32<00:00,  3.84it/s, lr=9.88e-5, roi_cls=0.301, roi_loc=0.579, rpn_cls=0.0438, rpn_loc=0.0563, total_loss=0.98]\n"
          ]
        },
        {
          "output_type": "stream",
          "name": "stdout",
          "text": [
            "Finish Train\n",
            "Start Validation\n"
          ]
        },
        {
          "output_type": "stream",
          "name": "stderr",
          "text": [
            "Epoch 24/300: 100%|██████████| 13/13 [00:03<00:00,  3.69it/s, val_loss=1.07]\n"
          ]
        },
        {
          "output_type": "stream",
          "name": "stdout",
          "text": [
            "Finish Validation\n",
            "Epoch:24/300\n",
            "Total Loss: 0.980 || Val Loss: 1.068 \n",
            "Start Train\n"
          ]
        },
        {
          "output_type": "stream",
          "name": "stderr",
          "text": [
            "Epoch 25/300: 100%|██████████| 123/123 [00:32<00:00,  3.77it/s, lr=9.87e-5, roi_cls=0.303, roi_loc=0.586, rpn_cls=0.045, rpn_loc=0.0508, total_loss=0.986]\n"
          ]
        },
        {
          "output_type": "stream",
          "name": "stdout",
          "text": [
            "Finish Train\n",
            "Start Validation\n"
          ]
        },
        {
          "output_type": "stream",
          "name": "stderr",
          "text": [
            "Epoch 25/300: 100%|██████████| 13/13 [00:03<00:00,  3.77it/s, val_loss=1.04]\n"
          ]
        },
        {
          "output_type": "stream",
          "name": "stdout",
          "text": [
            "Finish Validation\n",
            "Get map.\n"
          ]
        },
        {
          "output_type": "stream",
          "name": "stderr",
          "text": [
            "100%|██████████| 55/55 [00:04<00:00, 11.61it/s]\n"
          ]
        },
        {
          "output_type": "stream",
          "name": "stdout",
          "text": [
            "Calculate Map.\n",
            "loading annotations into memory...\n",
            "Done (t=0.01s)\n",
            "creating index...\n",
            "index created!\n",
            "Loading and preparing results...\n",
            "DONE (t=0.01s)\n",
            "creating index...\n",
            "index created!\n",
            "Running per image evaluation...\n",
            "Evaluate annotation type *bbox*\n",
            "DONE (t=0.73s).\n",
            "Accumulating evaluation results...\n",
            "DONE (t=0.10s).\n",
            " Average Precision  (AP) @[ IoU=0.50:0.95 | area=   all | maxDets=100 ] = 0.505\n",
            " Average Precision  (AP) @[ IoU=0.50      | area=   all | maxDets=100 ] = 0.804\n",
            " Average Precision  (AP) @[ IoU=0.75      | area=   all | maxDets=100 ] = 0.576\n",
            " Average Precision  (AP) @[ IoU=0.50:0.95 | area= small | maxDets=100 ] = 0.258\n",
            " Average Precision  (AP) @[ IoU=0.50:0.95 | area=medium | maxDets=100 ] = 0.442\n",
            " Average Precision  (AP) @[ IoU=0.50:0.95 | area= large | maxDets=100 ] = 0.609\n",
            " Average Recall     (AR) @[ IoU=0.50:0.95 | area=   all | maxDets=  1 ] = 0.151\n",
            " Average Recall     (AR) @[ IoU=0.50:0.95 | area=   all | maxDets= 10 ] = 0.516\n",
            " Average Recall     (AR) @[ IoU=0.50:0.95 | area=   all | maxDets=100 ] = 0.576\n",
            " Average Recall     (AR) @[ IoU=0.50:0.95 | area= small | maxDets=100 ] = 0.389\n",
            " Average Recall     (AR) @[ IoU=0.50:0.95 | area=medium | maxDets=100 ] = 0.525\n",
            " Average Recall     (AR) @[ IoU=0.50:0.95 | area= large | maxDets=100 ] = 0.668\n",
            "Get map done.\n",
            "Epoch:25/300\n",
            "Total Loss: 0.986 || Val Loss: 1.040 \n",
            "Start Train\n"
          ]
        },
        {
          "output_type": "stream",
          "name": "stderr",
          "text": [
            "Epoch 26/300: 100%|██████████| 123/123 [00:32<00:00,  3.81it/s, lr=9.85e-5, roi_cls=0.309, roi_loc=0.599, rpn_cls=0.0461, rpn_loc=0.0491, total_loss=1]\n"
          ]
        },
        {
          "output_type": "stream",
          "name": "stdout",
          "text": [
            "Finish Train\n",
            "Start Validation\n"
          ]
        },
        {
          "output_type": "stream",
          "name": "stderr",
          "text": [
            "Epoch 26/300: 100%|██████████| 13/13 [00:03<00:00,  3.77it/s, val_loss=1.07]\n"
          ]
        },
        {
          "output_type": "stream",
          "name": "stdout",
          "text": [
            "Finish Validation\n",
            "Epoch:26/300\n",
            "Total Loss: 1.003 || Val Loss: 1.070 \n",
            "Start Train\n"
          ]
        },
        {
          "output_type": "stream",
          "name": "stderr",
          "text": [
            "Epoch 27/300: 100%|██████████| 123/123 [00:32<00:00,  3.82it/s, lr=9.84e-5, roi_cls=0.304, roi_loc=0.586, rpn_cls=0.0455, rpn_loc=0.0462, total_loss=0.982]\n"
          ]
        },
        {
          "output_type": "stream",
          "name": "stdout",
          "text": [
            "Finish Train\n",
            "Start Validation\n"
          ]
        },
        {
          "output_type": "stream",
          "name": "stderr",
          "text": [
            "Epoch 27/300: 100%|██████████| 13/13 [00:03<00:00,  3.65it/s, val_loss=1.05]\n"
          ]
        },
        {
          "output_type": "stream",
          "name": "stdout",
          "text": [
            "Finish Validation\n",
            "Epoch:27/300\n",
            "Total Loss: 0.982 || Val Loss: 1.046 \n",
            "Start Train\n"
          ]
        },
        {
          "output_type": "stream",
          "name": "stderr",
          "text": [
            "Epoch 28/300: 100%|██████████| 123/123 [00:32<00:00,  3.79it/s, lr=9.82e-5, roi_cls=0.302, roi_loc=0.582, rpn_cls=0.0488, rpn_loc=0.0516, total_loss=0.984]\n"
          ]
        },
        {
          "output_type": "stream",
          "name": "stdout",
          "text": [
            "Finish Train\n",
            "Start Validation\n"
          ]
        },
        {
          "output_type": "stream",
          "name": "stderr",
          "text": [
            "Epoch 28/300: 100%|██████████| 13/13 [00:03<00:00,  3.75it/s, val_loss=1.08]\n"
          ]
        },
        {
          "output_type": "stream",
          "name": "stdout",
          "text": [
            "Finish Validation\n",
            "Epoch:28/300\n",
            "Total Loss: 0.984 || Val Loss: 1.078 \n",
            "Start Train\n"
          ]
        },
        {
          "output_type": "stream",
          "name": "stderr",
          "text": [
            "Epoch 29/300: 100%|██████████| 123/123 [00:32<00:00,  3.81it/s, lr=9.81e-5, roi_cls=0.307, roi_loc=0.606, rpn_cls=0.0524, rpn_loc=0.0512, total_loss=1.02]\n"
          ]
        },
        {
          "output_type": "stream",
          "name": "stdout",
          "text": [
            "Finish Train\n",
            "Start Validation\n"
          ]
        },
        {
          "output_type": "stream",
          "name": "stderr",
          "text": [
            "Epoch 29/300: 100%|██████████| 13/13 [00:03<00:00,  3.80it/s, val_loss=1.07]\n"
          ]
        },
        {
          "output_type": "stream",
          "name": "stdout",
          "text": [
            "Finish Validation\n",
            "Epoch:29/300\n",
            "Total Loss: 1.016 || Val Loss: 1.070 \n",
            "Start Train\n"
          ]
        },
        {
          "output_type": "stream",
          "name": "stderr",
          "text": [
            "Epoch 30/300: 100%|██████████| 123/123 [00:32<00:00,  3.76it/s, lr=9.79e-5, roi_cls=0.298, roi_loc=0.591, rpn_cls=0.0461, rpn_loc=0.0512, total_loss=0.987]\n"
          ]
        },
        {
          "output_type": "stream",
          "name": "stdout",
          "text": [
            "Finish Train\n",
            "Start Validation\n"
          ]
        },
        {
          "output_type": "stream",
          "name": "stderr",
          "text": [
            "Epoch 30/300: 100%|██████████| 13/13 [00:03<00:00,  3.74it/s, val_loss=1.08]\n"
          ]
        },
        {
          "output_type": "stream",
          "name": "stdout",
          "text": [
            "Finish Validation\n",
            "Get map.\n"
          ]
        },
        {
          "output_type": "stream",
          "name": "stderr",
          "text": [
            "100%|██████████| 55/55 [00:04<00:00, 11.24it/s]\n"
          ]
        },
        {
          "output_type": "stream",
          "name": "stdout",
          "text": [
            "Calculate Map.\n",
            "loading annotations into memory...\n",
            "Done (t=0.01s)\n",
            "creating index...\n",
            "index created!\n",
            "Loading and preparing results...\n",
            "DONE (t=0.01s)\n",
            "creating index...\n",
            "index created!\n",
            "Running per image evaluation...\n",
            "Evaluate annotation type *bbox*\n",
            "DONE (t=0.79s).\n",
            "Accumulating evaluation results...\n",
            "DONE (t=0.10s).\n",
            " Average Precision  (AP) @[ IoU=0.50:0.95 | area=   all | maxDets=100 ] = 0.502\n",
            " Average Precision  (AP) @[ IoU=0.50      | area=   all | maxDets=100 ] = 0.813\n",
            " Average Precision  (AP) @[ IoU=0.75      | area=   all | maxDets=100 ] = 0.565\n",
            " Average Precision  (AP) @[ IoU=0.50:0.95 | area= small | maxDets=100 ] = 0.282\n",
            " Average Precision  (AP) @[ IoU=0.50:0.95 | area=medium | maxDets=100 ] = 0.436\n",
            " Average Precision  (AP) @[ IoU=0.50:0.95 | area= large | maxDets=100 ] = 0.618\n",
            " Average Recall     (AR) @[ IoU=0.50:0.95 | area=   all | maxDets=  1 ] = 0.152\n",
            " Average Recall     (AR) @[ IoU=0.50:0.95 | area=   all | maxDets= 10 ] = 0.516\n",
            " Average Recall     (AR) @[ IoU=0.50:0.95 | area=   all | maxDets=100 ] = 0.573\n",
            " Average Recall     (AR) @[ IoU=0.50:0.95 | area= small | maxDets=100 ] = 0.314\n",
            " Average Recall     (AR) @[ IoU=0.50:0.95 | area=medium | maxDets=100 ] = 0.522\n",
            " Average Recall     (AR) @[ IoU=0.50:0.95 | area= large | maxDets=100 ] = 0.673\n",
            "Get map done.\n",
            "Epoch:30/300\n",
            "Total Loss: 0.987 || Val Loss: 1.076 \n",
            "Start Train\n"
          ]
        },
        {
          "output_type": "stream",
          "name": "stderr",
          "text": [
            "Epoch 31/300: 100%|██████████| 123/123 [00:33<00:00,  3.72it/s, lr=9.78e-5, roi_cls=0.298, roi_loc=0.583, rpn_cls=0.047, rpn_loc=0.0473, total_loss=0.975]\n"
          ]
        },
        {
          "output_type": "stream",
          "name": "stdout",
          "text": [
            "Finish Train\n",
            "Start Validation\n"
          ]
        },
        {
          "output_type": "stream",
          "name": "stderr",
          "text": [
            "Epoch 31/300: 100%|██████████| 13/13 [00:03<00:00,  3.61it/s, val_loss=1.07]\n"
          ]
        },
        {
          "output_type": "stream",
          "name": "stdout",
          "text": [
            "Finish Validation\n",
            "Epoch:31/300\n",
            "Total Loss: 0.975 || Val Loss: 1.075 \n",
            "Start Train\n"
          ]
        },
        {
          "output_type": "stream",
          "name": "stderr",
          "text": [
            "Epoch 32/300: 100%|██████████| 123/123 [00:32<00:00,  3.74it/s, lr=9.76e-5, roi_cls=0.3, roi_loc=0.586, rpn_cls=0.0451, rpn_loc=0.0545, total_loss=0.986]\n"
          ]
        },
        {
          "output_type": "stream",
          "name": "stdout",
          "text": [
            "Finish Train\n",
            "Start Validation\n"
          ]
        },
        {
          "output_type": "stream",
          "name": "stderr",
          "text": [
            "Epoch 32/300: 100%|██████████| 13/13 [00:03<00:00,  3.71it/s, val_loss=1.03]\n"
          ]
        },
        {
          "output_type": "stream",
          "name": "stdout",
          "text": [
            "Finish Validation\n",
            "Epoch:32/300\n",
            "Total Loss: 0.986 || Val Loss: 1.026 \n",
            "Start Train\n"
          ]
        },
        {
          "output_type": "stream",
          "name": "stderr",
          "text": [
            "Epoch 33/300: 100%|██████████| 123/123 [00:32<00:00,  3.75it/s, lr=9.74e-5, roi_cls=0.299, roi_loc=0.587, rpn_cls=0.0454, rpn_loc=0.0438, total_loss=0.975]\n"
          ]
        },
        {
          "output_type": "stream",
          "name": "stdout",
          "text": [
            "Finish Train\n",
            "Start Validation\n"
          ]
        },
        {
          "output_type": "stream",
          "name": "stderr",
          "text": [
            "Epoch 33/300: 100%|██████████| 13/13 [00:03<00:00,  3.69it/s, val_loss=1.05]\n"
          ]
        },
        {
          "output_type": "stream",
          "name": "stdout",
          "text": [
            "Finish Validation\n",
            "Epoch:33/300\n",
            "Total Loss: 0.975 || Val Loss: 1.050 \n",
            "Start Train\n"
          ]
        },
        {
          "output_type": "stream",
          "name": "stderr",
          "text": [
            "Epoch 34/300: 100%|██████████| 123/123 [00:32<00:00,  3.80it/s, lr=9.73e-5, roi_cls=0.301, roi_loc=0.581, rpn_cls=0.0494, rpn_loc=0.0516, total_loss=0.983]\n"
          ]
        },
        {
          "output_type": "stream",
          "name": "stdout",
          "text": [
            "Finish Train\n",
            "Start Validation\n"
          ]
        },
        {
          "output_type": "stream",
          "name": "stderr",
          "text": [
            "Epoch 34/300: 100%|██████████| 13/13 [00:03<00:00,  3.68it/s, val_loss=1.1]\n"
          ]
        },
        {
          "output_type": "stream",
          "name": "stdout",
          "text": [
            "Finish Validation\n",
            "Epoch:34/300\n",
            "Total Loss: 0.983 || Val Loss: 1.097 \n",
            "Start Train\n"
          ]
        },
        {
          "output_type": "stream",
          "name": "stderr",
          "text": [
            "Epoch 35/300: 100%|██████████| 123/123 [00:32<00:00,  3.81it/s, lr=9.71e-5, roi_cls=0.293, roi_loc=0.585, rpn_cls=0.0493, rpn_loc=0.0492, total_loss=0.977]\n"
          ]
        },
        {
          "output_type": "stream",
          "name": "stdout",
          "text": [
            "Finish Train\n",
            "Start Validation\n"
          ]
        },
        {
          "output_type": "stream",
          "name": "stderr",
          "text": [
            "Epoch 35/300: 100%|██████████| 13/13 [00:03<00:00,  3.69it/s, val_loss=1.04]\n"
          ]
        },
        {
          "output_type": "stream",
          "name": "stdout",
          "text": [
            "Finish Validation\n",
            "Get map.\n"
          ]
        },
        {
          "output_type": "stream",
          "name": "stderr",
          "text": [
            "100%|██████████| 55/55 [00:04<00:00, 11.26it/s]\n"
          ]
        },
        {
          "output_type": "stream",
          "name": "stdout",
          "text": [
            "Calculate Map.\n",
            "loading annotations into memory...\n",
            "Done (t=0.01s)\n",
            "creating index...\n",
            "index created!\n",
            "Loading and preparing results...\n",
            "DONE (t=0.25s)\n",
            "creating index...\n",
            "index created!\n",
            "Running per image evaluation...\n",
            "Evaluate annotation type *bbox*\n",
            "DONE (t=0.78s).\n",
            "Accumulating evaluation results...\n",
            "DONE (t=0.10s).\n",
            " Average Precision  (AP) @[ IoU=0.50:0.95 | area=   all | maxDets=100 ] = 0.496\n",
            " Average Precision  (AP) @[ IoU=0.50      | area=   all | maxDets=100 ] = 0.804\n",
            " Average Precision  (AP) @[ IoU=0.75      | area=   all | maxDets=100 ] = 0.563\n",
            " Average Precision  (AP) @[ IoU=0.50:0.95 | area= small | maxDets=100 ] = 0.244\n",
            " Average Precision  (AP) @[ IoU=0.50:0.95 | area=medium | maxDets=100 ] = 0.434\n",
            " Average Precision  (AP) @[ IoU=0.50:0.95 | area= large | maxDets=100 ] = 0.606\n",
            " Average Recall     (AR) @[ IoU=0.50:0.95 | area=   all | maxDets=  1 ] = 0.153\n",
            " Average Recall     (AR) @[ IoU=0.50:0.95 | area=   all | maxDets= 10 ] = 0.511\n",
            " Average Recall     (AR) @[ IoU=0.50:0.95 | area=   all | maxDets=100 ] = 0.570\n",
            " Average Recall     (AR) @[ IoU=0.50:0.95 | area= small | maxDets=100 ] = 0.295\n",
            " Average Recall     (AR) @[ IoU=0.50:0.95 | area=medium | maxDets=100 ] = 0.522\n",
            " Average Recall     (AR) @[ IoU=0.50:0.95 | area= large | maxDets=100 ] = 0.666\n",
            "Get map done.\n",
            "Epoch:35/300\n",
            "Total Loss: 0.977 || Val Loss: 1.039 \n",
            "Start Train\n"
          ]
        },
        {
          "output_type": "stream",
          "name": "stderr",
          "text": [
            "Epoch 36/300: 100%|██████████| 123/123 [00:32<00:00,  3.81it/s, lr=9.69e-5, roi_cls=0.296, roi_loc=0.586, rpn_cls=0.0465, rpn_loc=0.0505, total_loss=0.978]\n"
          ]
        },
        {
          "output_type": "stream",
          "name": "stdout",
          "text": [
            "Finish Train\n",
            "Start Validation\n"
          ]
        },
        {
          "output_type": "stream",
          "name": "stderr",
          "text": [
            "Epoch 36/300: 100%|██████████| 13/13 [00:03<00:00,  3.65it/s, val_loss=1.05]\n"
          ]
        },
        {
          "output_type": "stream",
          "name": "stdout",
          "text": [
            "Finish Validation\n",
            "Epoch:36/300\n",
            "Total Loss: 0.978 || Val Loss: 1.053 \n",
            "Start Train\n"
          ]
        },
        {
          "output_type": "stream",
          "name": "stderr",
          "text": [
            "Epoch 37/300: 100%|██████████| 123/123 [00:32<00:00,  3.78it/s, lr=9.67e-5, roi_cls=0.299, roi_loc=0.597, rpn_cls=0.0487, rpn_loc=0.0536, total_loss=0.999]\n"
          ]
        },
        {
          "output_type": "stream",
          "name": "stdout",
          "text": [
            "Finish Train\n",
            "Start Validation\n"
          ]
        },
        {
          "output_type": "stream",
          "name": "stderr",
          "text": [
            "Epoch 37/300: 100%|██████████| 13/13 [00:03<00:00,  3.73it/s, val_loss=1.03]\n"
          ]
        },
        {
          "output_type": "stream",
          "name": "stdout",
          "text": [
            "Finish Validation\n",
            "Epoch:37/300\n",
            "Total Loss: 0.999 || Val Loss: 1.030 \n",
            "Start Train\n"
          ]
        },
        {
          "output_type": "stream",
          "name": "stderr",
          "text": [
            "Epoch 38/300: 100%|██████████| 123/123 [00:32<00:00,  3.78it/s, lr=9.65e-5, roi_cls=0.29, roi_loc=0.578, rpn_cls=0.044, rpn_loc=0.0475, total_loss=0.96]\n"
          ]
        },
        {
          "output_type": "stream",
          "name": "stdout",
          "text": [
            "Finish Train\n",
            "Start Validation\n"
          ]
        },
        {
          "output_type": "stream",
          "name": "stderr",
          "text": [
            "Epoch 38/300: 100%|██████████| 13/13 [00:03<00:00,  3.77it/s, val_loss=1.03]\n"
          ]
        },
        {
          "output_type": "stream",
          "name": "stdout",
          "text": [
            "Finish Validation\n",
            "Epoch:38/300\n",
            "Total Loss: 0.960 || Val Loss: 1.027 \n",
            "Start Train\n"
          ]
        },
        {
          "output_type": "stream",
          "name": "stderr",
          "text": [
            "Epoch 39/300: 100%|██████████| 123/123 [00:32<00:00,  3.83it/s, lr=9.63e-5, roi_cls=0.294, roi_loc=0.58, rpn_cls=0.0431, rpn_loc=0.0468, total_loss=0.964]\n"
          ]
        },
        {
          "output_type": "stream",
          "name": "stdout",
          "text": [
            "Finish Train\n",
            "Start Validation\n"
          ]
        },
        {
          "output_type": "stream",
          "name": "stderr",
          "text": [
            "Epoch 39/300: 100%|██████████| 13/13 [00:03<00:00,  3.66it/s, val_loss=1.05]\n"
          ]
        },
        {
          "output_type": "stream",
          "name": "stdout",
          "text": [
            "Finish Validation\n",
            "Epoch:39/300\n",
            "Total Loss: 0.964 || Val Loss: 1.049 \n",
            "Start Train\n"
          ]
        },
        {
          "output_type": "stream",
          "name": "stderr",
          "text": [
            "Epoch 40/300: 100%|██████████| 123/123 [00:32<00:00,  3.79it/s, lr=9.61e-5, roi_cls=0.295, roi_loc=0.593, rpn_cls=0.0449, rpn_loc=0.0509, total_loss=0.984]\n"
          ]
        },
        {
          "output_type": "stream",
          "name": "stdout",
          "text": [
            "Finish Train\n",
            "Start Validation\n"
          ]
        },
        {
          "output_type": "stream",
          "name": "stderr",
          "text": [
            "Epoch 40/300: 100%|██████████| 13/13 [00:03<00:00,  3.74it/s, val_loss=1.04]\n"
          ]
        },
        {
          "output_type": "stream",
          "name": "stdout",
          "text": [
            "Finish Validation\n",
            "Get map.\n"
          ]
        },
        {
          "output_type": "stream",
          "name": "stderr",
          "text": [
            "100%|██████████| 55/55 [00:04<00:00, 11.62it/s]\n"
          ]
        },
        {
          "output_type": "stream",
          "name": "stdout",
          "text": [
            "Calculate Map.\n",
            "loading annotations into memory...\n",
            "Done (t=0.01s)\n",
            "creating index...\n",
            "index created!\n",
            "Loading and preparing results...\n",
            "DONE (t=0.01s)\n",
            "creating index...\n",
            "index created!\n",
            "Running per image evaluation...\n",
            "Evaluate annotation type *bbox*\n",
            "DONE (t=0.79s).\n",
            "Accumulating evaluation results...\n",
            "DONE (t=0.10s).\n",
            " Average Precision  (AP) @[ IoU=0.50:0.95 | area=   all | maxDets=100 ] = 0.502\n",
            " Average Precision  (AP) @[ IoU=0.50      | area=   all | maxDets=100 ] = 0.803\n",
            " Average Precision  (AP) @[ IoU=0.75      | area=   all | maxDets=100 ] = 0.566\n",
            " Average Precision  (AP) @[ IoU=0.50:0.95 | area= small | maxDets=100 ] = 0.375\n",
            " Average Precision  (AP) @[ IoU=0.50:0.95 | area=medium | maxDets=100 ] = 0.444\n",
            " Average Precision  (AP) @[ IoU=0.50:0.95 | area= large | maxDets=100 ] = 0.600\n",
            " Average Recall     (AR) @[ IoU=0.50:0.95 | area=   all | maxDets=  1 ] = 0.157\n",
            " Average Recall     (AR) @[ IoU=0.50:0.95 | area=   all | maxDets= 10 ] = 0.519\n",
            " Average Recall     (AR) @[ IoU=0.50:0.95 | area=   all | maxDets=100 ] = 0.575\n",
            " Average Recall     (AR) @[ IoU=0.50:0.95 | area= small | maxDets=100 ] = 0.410\n",
            " Average Recall     (AR) @[ IoU=0.50:0.95 | area=medium | maxDets=100 ] = 0.526\n",
            " Average Recall     (AR) @[ IoU=0.50:0.95 | area= large | maxDets=100 ] = 0.661\n",
            "Get map done.\n",
            "Epoch:40/300\n",
            "Total Loss: 0.984 || Val Loss: 1.043 \n",
            "Start Train\n"
          ]
        },
        {
          "output_type": "stream",
          "name": "stderr",
          "text": [
            "Epoch 41/300: 100%|██████████| 123/123 [00:31<00:00,  3.86it/s, lr=9.59e-5, roi_cls=0.285, roi_loc=0.563, rpn_cls=0.0445, rpn_loc=0.0486, total_loss=0.941]\n"
          ]
        },
        {
          "output_type": "stream",
          "name": "stdout",
          "text": [
            "Finish Train\n",
            "Start Validation\n"
          ]
        },
        {
          "output_type": "stream",
          "name": "stderr",
          "text": [
            "Epoch 41/300: 100%|██████████| 13/13 [00:03<00:00,  3.69it/s, val_loss=1.07]\n"
          ]
        },
        {
          "output_type": "stream",
          "name": "stdout",
          "text": [
            "Finish Validation\n",
            "Epoch:41/300\n",
            "Total Loss: 0.941 || Val Loss: 1.074 \n",
            "Start Train\n"
          ]
        },
        {
          "output_type": "stream",
          "name": "stderr",
          "text": [
            "Epoch 42/300: 100%|██████████| 123/123 [00:32<00:00,  3.79it/s, lr=9.56e-5, roi_cls=0.288, roi_loc=0.586, rpn_cls=0.0466, rpn_loc=0.0498, total_loss=0.971]\n"
          ]
        },
        {
          "output_type": "stream",
          "name": "stdout",
          "text": [
            "Finish Train\n",
            "Start Validation\n"
          ]
        },
        {
          "output_type": "stream",
          "name": "stderr",
          "text": [
            "Epoch 42/300: 100%|██████████| 13/13 [00:03<00:00,  3.73it/s, val_loss=1.09]\n"
          ]
        },
        {
          "output_type": "stream",
          "name": "stdout",
          "text": [
            "Finish Validation\n",
            "Epoch:42/300\n",
            "Total Loss: 0.971 || Val Loss: 1.093 \n",
            "Start Train\n"
          ]
        },
        {
          "output_type": "stream",
          "name": "stderr",
          "text": [
            "Epoch 43/300: 100%|██████████| 123/123 [00:32<00:00,  3.81it/s, lr=9.54e-5, roi_cls=0.285, roi_loc=0.582, rpn_cls=0.0434, rpn_loc=0.046, total_loss=0.957]\n"
          ]
        },
        {
          "output_type": "stream",
          "name": "stdout",
          "text": [
            "Finish Train\n",
            "Start Validation\n"
          ]
        },
        {
          "output_type": "stream",
          "name": "stderr",
          "text": [
            "Epoch 43/300: 100%|██████████| 13/13 [00:03<00:00,  3.82it/s, val_loss=1.06]\n"
          ]
        },
        {
          "output_type": "stream",
          "name": "stdout",
          "text": [
            "Finish Validation\n",
            "Epoch:43/300\n",
            "Total Loss: 0.957 || Val Loss: 1.063 \n",
            "Start Train\n"
          ]
        },
        {
          "output_type": "stream",
          "name": "stderr",
          "text": [
            "Epoch 44/300: 100%|██████████| 123/123 [00:32<00:00,  3.81it/s, lr=9.52e-5, roi_cls=0.295, roi_loc=0.585, rpn_cls=0.0485, rpn_loc=0.0492, total_loss=0.978]\n"
          ]
        },
        {
          "output_type": "stream",
          "name": "stdout",
          "text": [
            "Finish Train\n",
            "Start Validation\n"
          ]
        },
        {
          "output_type": "stream",
          "name": "stderr",
          "text": [
            "Epoch 44/300: 100%|██████████| 13/13 [00:03<00:00,  3.68it/s, val_loss=1.11]\n"
          ]
        },
        {
          "output_type": "stream",
          "name": "stdout",
          "text": [
            "Finish Validation\n",
            "Epoch:44/300\n",
            "Total Loss: 0.978 || Val Loss: 1.107 \n",
            "Start Train\n"
          ]
        },
        {
          "output_type": "stream",
          "name": "stderr",
          "text": [
            "Epoch 45/300: 100%|██████████| 123/123 [00:32<00:00,  3.82it/s, lr=9.49e-5, roi_cls=0.292, roi_loc=0.594, rpn_cls=0.0465, rpn_loc=0.0437, total_loss=0.977]\n"
          ]
        },
        {
          "output_type": "stream",
          "name": "stdout",
          "text": [
            "Finish Train\n",
            "Start Validation\n"
          ]
        },
        {
          "output_type": "stream",
          "name": "stderr",
          "text": [
            "Epoch 45/300: 100%|██████████| 13/13 [00:03<00:00,  3.74it/s, val_loss=1.08]\n"
          ]
        },
        {
          "output_type": "stream",
          "name": "stdout",
          "text": [
            "Finish Validation\n",
            "Get map.\n"
          ]
        },
        {
          "output_type": "stream",
          "name": "stderr",
          "text": [
            "100%|██████████| 55/55 [00:04<00:00, 11.41it/s]\n"
          ]
        },
        {
          "output_type": "stream",
          "name": "stdout",
          "text": [
            "Calculate Map.\n",
            "loading annotations into memory...\n",
            "Done (t=0.01s)\n",
            "creating index...\n",
            "index created!\n",
            "Loading and preparing results...\n",
            "DONE (t=0.01s)\n",
            "creating index...\n",
            "index created!\n",
            "Running per image evaluation...\n",
            "Evaluate annotation type *bbox*\n",
            "DONE (t=0.78s).\n",
            "Accumulating evaluation results...\n",
            "DONE (t=0.10s).\n",
            " Average Precision  (AP) @[ IoU=0.50:0.95 | area=   all | maxDets=100 ] = 0.498\n",
            " Average Precision  (AP) @[ IoU=0.50      | area=   all | maxDets=100 ] = 0.805\n",
            " Average Precision  (AP) @[ IoU=0.75      | area=   all | maxDets=100 ] = 0.552\n",
            " Average Precision  (AP) @[ IoU=0.50:0.95 | area= small | maxDets=100 ] = 0.199\n",
            " Average Precision  (AP) @[ IoU=0.50:0.95 | area=medium | maxDets=100 ] = 0.438\n",
            " Average Precision  (AP) @[ IoU=0.50:0.95 | area= large | maxDets=100 ] = 0.605\n",
            " Average Recall     (AR) @[ IoU=0.50:0.95 | area=   all | maxDets=  1 ] = 0.151\n",
            " Average Recall     (AR) @[ IoU=0.50:0.95 | area=   all | maxDets= 10 ] = 0.508\n",
            " Average Recall     (AR) @[ IoU=0.50:0.95 | area=   all | maxDets=100 ] = 0.567\n",
            " Average Recall     (AR) @[ IoU=0.50:0.95 | area= small | maxDets=100 ] = 0.254\n",
            " Average Recall     (AR) @[ IoU=0.50:0.95 | area=medium | maxDets=100 ] = 0.526\n",
            " Average Recall     (AR) @[ IoU=0.50:0.95 | area= large | maxDets=100 ] = 0.658\n",
            "Get map done.\n",
            "Epoch:45/300\n",
            "Total Loss: 0.977 || Val Loss: 1.079 \n",
            "Start Train\n"
          ]
        },
        {
          "output_type": "stream",
          "name": "stderr",
          "text": [
            "Epoch 46/300: 100%|██████████| 123/123 [00:32<00:00,  3.82it/s, lr=9.47e-5, roi_cls=0.297, roi_loc=0.594, rpn_cls=0.0464, rpn_loc=0.0524, total_loss=0.99]\n"
          ]
        },
        {
          "output_type": "stream",
          "name": "stdout",
          "text": [
            "Finish Train\n",
            "Start Validation\n"
          ]
        },
        {
          "output_type": "stream",
          "name": "stderr",
          "text": [
            "Epoch 46/300: 100%|██████████| 13/13 [00:03<00:00,  3.70it/s, val_loss=1.07]\n"
          ]
        },
        {
          "output_type": "stream",
          "name": "stdout",
          "text": [
            "Finish Validation\n",
            "Epoch:46/300\n",
            "Total Loss: 0.990 || Val Loss: 1.070 \n",
            "Start Train\n"
          ]
        },
        {
          "output_type": "stream",
          "name": "stderr",
          "text": [
            "Epoch 47/300: 100%|██████████| 123/123 [00:32<00:00,  3.83it/s, lr=9.44e-5, roi_cls=0.298, roi_loc=0.584, rpn_cls=0.0499, rpn_loc=0.0475, total_loss=0.979]\n"
          ]
        },
        {
          "output_type": "stream",
          "name": "stdout",
          "text": [
            "Finish Train\n",
            "Start Validation\n"
          ]
        },
        {
          "output_type": "stream",
          "name": "stderr",
          "text": [
            "Epoch 47/300: 100%|██████████| 13/13 [00:03<00:00,  3.71it/s, val_loss=1.05]\n"
          ]
        },
        {
          "output_type": "stream",
          "name": "stdout",
          "text": [
            "Finish Validation\n",
            "Epoch:47/300\n",
            "Total Loss: 0.979 || Val Loss: 1.052 \n",
            "Start Train\n"
          ]
        },
        {
          "output_type": "stream",
          "name": "stderr",
          "text": [
            "Epoch 48/300: 100%|██████████| 123/123 [00:32<00:00,  3.77it/s, lr=9.42e-5, roi_cls=0.293, roi_loc=0.579, rpn_cls=0.0447, rpn_loc=0.048, total_loss=0.964]\n"
          ]
        },
        {
          "output_type": "stream",
          "name": "stdout",
          "text": [
            "Finish Train\n",
            "Start Validation\n"
          ]
        },
        {
          "output_type": "stream",
          "name": "stderr",
          "text": [
            "Epoch 48/300: 100%|██████████| 13/13 [00:03<00:00,  3.66it/s, val_loss=1.08]\n"
          ]
        },
        {
          "output_type": "stream",
          "name": "stdout",
          "text": [
            "Finish Validation\n",
            "Epoch:48/300\n",
            "Total Loss: 0.964 || Val Loss: 1.076 \n",
            "Start Train\n"
          ]
        },
        {
          "output_type": "stream",
          "name": "stderr",
          "text": [
            "Epoch 49/300: 100%|██████████| 123/123 [00:32<00:00,  3.77it/s, lr=9.39e-5, roi_cls=0.292, roi_loc=0.599, rpn_cls=0.0438, rpn_loc=0.0474, total_loss=0.982]\n"
          ]
        },
        {
          "output_type": "stream",
          "name": "stdout",
          "text": [
            "Finish Train\n",
            "Start Validation\n"
          ]
        },
        {
          "output_type": "stream",
          "name": "stderr",
          "text": [
            "Epoch 49/300: 100%|██████████| 13/13 [00:03<00:00,  3.66it/s, val_loss=1.06]\n"
          ]
        },
        {
          "output_type": "stream",
          "name": "stdout",
          "text": [
            "Finish Validation\n",
            "Epoch:49/300\n",
            "Total Loss: 0.982 || Val Loss: 1.063 \n",
            "Start Train\n"
          ]
        },
        {
          "output_type": "stream",
          "name": "stderr",
          "text": [
            "Epoch 50/300: 100%|██████████| 123/123 [00:33<00:00,  3.64it/s, lr=9.36e-5, roi_cls=0.287, roi_loc=0.57, rpn_cls=0.0444, rpn_loc=0.0463, total_loss=0.948]\n"
          ]
        },
        {
          "output_type": "stream",
          "name": "stdout",
          "text": [
            "Finish Train\n",
            "Start Validation\n"
          ]
        },
        {
          "output_type": "stream",
          "name": "stderr",
          "text": [
            "Epoch 50/300: 100%|██████████| 13/13 [00:03<00:00,  3.66it/s, val_loss=1.05]\n"
          ]
        },
        {
          "output_type": "stream",
          "name": "stdout",
          "text": [
            "Finish Validation\n",
            "Get map.\n"
          ]
        },
        {
          "output_type": "stream",
          "name": "stderr",
          "text": [
            "100%|██████████| 55/55 [00:04<00:00, 11.46it/s]\n"
          ]
        },
        {
          "output_type": "stream",
          "name": "stdout",
          "text": [
            "Calculate Map.\n",
            "loading annotations into memory...\n",
            "Done (t=0.01s)\n",
            "creating index...\n",
            "index created!\n",
            "Loading and preparing results...\n",
            "DONE (t=0.01s)\n",
            "creating index...\n",
            "index created!\n",
            "Running per image evaluation...\n",
            "Evaluate annotation type *bbox*\n",
            "DONE (t=0.72s).\n",
            "Accumulating evaluation results...\n",
            "DONE (t=0.10s).\n",
            " Average Precision  (AP) @[ IoU=0.50:0.95 | area=   all | maxDets=100 ] = 0.506\n",
            " Average Precision  (AP) @[ IoU=0.50      | area=   all | maxDets=100 ] = 0.811\n",
            " Average Precision  (AP) @[ IoU=0.75      | area=   all | maxDets=100 ] = 0.576\n",
            " Average Precision  (AP) @[ IoU=0.50:0.95 | area= small | maxDets=100 ] = 0.212\n",
            " Average Precision  (AP) @[ IoU=0.50:0.95 | area=medium | maxDets=100 ] = 0.443\n",
            " Average Precision  (AP) @[ IoU=0.50:0.95 | area= large | maxDets=100 ] = 0.613\n",
            " Average Recall     (AR) @[ IoU=0.50:0.95 | area=   all | maxDets=  1 ] = 0.151\n",
            " Average Recall     (AR) @[ IoU=0.50:0.95 | area=   all | maxDets= 10 ] = 0.520\n",
            " Average Recall     (AR) @[ IoU=0.50:0.95 | area=   all | maxDets=100 ] = 0.575\n",
            " Average Recall     (AR) @[ IoU=0.50:0.95 | area= small | maxDets=100 ] = 0.297\n",
            " Average Recall     (AR) @[ IoU=0.50:0.95 | area=medium | maxDets=100 ] = 0.524\n",
            " Average Recall     (AR) @[ IoU=0.50:0.95 | area= large | maxDets=100 ] = 0.678\n",
            "Get map done.\n",
            "Epoch:50/300\n",
            "Total Loss: 0.948 || Val Loss: 1.046 \n",
            "Start Train\n"
          ]
        },
        {
          "output_type": "stream",
          "name": "stderr",
          "text": [
            "Epoch 51/300: 100%|██████████| 247/247 [00:45<00:00,  5.47it/s, lr=9.34e-5, roi_cls=0.352, roi_loc=0.666, rpn_cls=0.0526, rpn_loc=0.0559, total_loss=1.13]\n"
          ]
        },
        {
          "output_type": "stream",
          "name": "stdout",
          "text": [
            "Finish Train\n",
            "Start Validation\n"
          ]
        },
        {
          "output_type": "stream",
          "name": "stderr",
          "text": [
            "Epoch 51/300: 100%|██████████| 27/27 [00:03<00:00,  6.97it/s, val_loss=1.18]\n"
          ]
        },
        {
          "output_type": "stream",
          "name": "stdout",
          "text": [
            "Finish Validation\n",
            "Epoch:51/300\n",
            "Total Loss: 1.126 || Val Loss: 1.179 \n",
            "Start Train\n"
          ]
        },
        {
          "output_type": "stream",
          "name": "stderr",
          "text": [
            "Epoch 52/300: 100%|██████████| 247/247 [00:41<00:00,  5.91it/s, lr=9.31e-5, roi_cls=0.368, roi_loc=0.655, rpn_cls=0.0505, rpn_loc=0.055, total_loss=1.13]\n"
          ]
        },
        {
          "output_type": "stream",
          "name": "stdout",
          "text": [
            "Finish Train\n",
            "Start Validation\n"
          ]
        },
        {
          "output_type": "stream",
          "name": "stderr",
          "text": [
            "Epoch 52/300: 100%|██████████| 27/27 [00:03<00:00,  7.08it/s, val_loss=1.18]\n"
          ]
        },
        {
          "output_type": "stream",
          "name": "stdout",
          "text": [
            "Finish Validation\n",
            "Epoch:52/300\n",
            "Total Loss: 1.129 || Val Loss: 1.180 \n",
            "Start Train\n"
          ]
        },
        {
          "output_type": "stream",
          "name": "stderr",
          "text": [
            "Epoch 53/300: 100%|██████████| 247/247 [00:42<00:00,  5.87it/s, lr=9.28e-5, roi_cls=0.362, roi_loc=0.669, rpn_cls=0.0555, rpn_loc=0.0644, total_loss=1.15]\n"
          ]
        },
        {
          "output_type": "stream",
          "name": "stdout",
          "text": [
            "Finish Train\n",
            "Start Validation\n"
          ]
        },
        {
          "output_type": "stream",
          "name": "stderr",
          "text": [
            "Epoch 53/300: 100%|██████████| 27/27 [00:03<00:00,  7.04it/s, val_loss=1.19]\n"
          ]
        },
        {
          "output_type": "stream",
          "name": "stdout",
          "text": [
            "Finish Validation\n",
            "Epoch:53/300\n",
            "Total Loss: 1.151 || Val Loss: 1.191 \n",
            "Start Train\n"
          ]
        },
        {
          "output_type": "stream",
          "name": "stderr",
          "text": [
            "Epoch 54/300: 100%|██████████| 247/247 [00:42<00:00,  5.83it/s, lr=9.25e-5, roi_cls=0.362, roi_loc=0.661, rpn_cls=0.0602, rpn_loc=0.0637, total_loss=1.15]\n"
          ]
        },
        {
          "output_type": "stream",
          "name": "stdout",
          "text": [
            "Finish Train\n",
            "Start Validation\n"
          ]
        },
        {
          "output_type": "stream",
          "name": "stderr",
          "text": [
            "Epoch 54/300: 100%|██████████| 27/27 [00:03<00:00,  7.10it/s, val_loss=1.1]\n"
          ]
        },
        {
          "output_type": "stream",
          "name": "stdout",
          "text": [
            "Finish Validation\n",
            "Epoch:54/300\n",
            "Total Loss: 1.148 || Val Loss: 1.104 \n",
            "Start Train\n"
          ]
        },
        {
          "output_type": "stream",
          "name": "stderr",
          "text": [
            "Epoch 55/300: 100%|██████████| 247/247 [00:41<00:00,  5.90it/s, lr=9.22e-5, roi_cls=0.347, roi_loc=0.643, rpn_cls=0.0529, rpn_loc=0.0593, total_loss=1.1]\n"
          ]
        },
        {
          "output_type": "stream",
          "name": "stdout",
          "text": [
            "Finish Train\n",
            "Start Validation\n"
          ]
        },
        {
          "output_type": "stream",
          "name": "stderr",
          "text": [
            "Epoch 55/300: 100%|██████████| 27/27 [00:03<00:00,  7.05it/s, val_loss=1.15]\n"
          ]
        },
        {
          "output_type": "stream",
          "name": "stdout",
          "text": [
            "Finish Validation\n",
            "Get map.\n"
          ]
        },
        {
          "output_type": "stream",
          "name": "stderr",
          "text": [
            "100%|██████████| 55/55 [00:04<00:00, 11.48it/s]\n"
          ]
        },
        {
          "output_type": "stream",
          "name": "stdout",
          "text": [
            "Calculate Map.\n",
            "loading annotations into memory...\n",
            "Done (t=0.01s)\n",
            "creating index...\n",
            "index created!\n",
            "Loading and preparing results...\n",
            "DONE (t=0.01s)\n",
            "creating index...\n",
            "index created!\n",
            "Running per image evaluation...\n",
            "Evaluate annotation type *bbox*\n",
            "DONE (t=0.78s).\n",
            "Accumulating evaluation results...\n",
            "DONE (t=0.11s).\n",
            " Average Precision  (AP) @[ IoU=0.50:0.95 | area=   all | maxDets=100 ] = 0.463\n",
            " Average Precision  (AP) @[ IoU=0.50      | area=   all | maxDets=100 ] = 0.765\n",
            " Average Precision  (AP) @[ IoU=0.75      | area=   all | maxDets=100 ] = 0.518\n",
            " Average Precision  (AP) @[ IoU=0.50:0.95 | area= small | maxDets=100 ] = 0.232\n",
            " Average Precision  (AP) @[ IoU=0.50:0.95 | area=medium | maxDets=100 ] = 0.418\n",
            " Average Precision  (AP) @[ IoU=0.50:0.95 | area= large | maxDets=100 ] = 0.551\n",
            " Average Recall     (AR) @[ IoU=0.50:0.95 | area=   all | maxDets=  1 ] = 0.148\n",
            " Average Recall     (AR) @[ IoU=0.50:0.95 | area=   all | maxDets= 10 ] = 0.490\n",
            " Average Recall     (AR) @[ IoU=0.50:0.95 | area=   all | maxDets=100 ] = 0.554\n",
            " Average Recall     (AR) @[ IoU=0.50:0.95 | area= small | maxDets=100 ] = 0.329\n",
            " Average Recall     (AR) @[ IoU=0.50:0.95 | area=medium | maxDets=100 ] = 0.515\n",
            " Average Recall     (AR) @[ IoU=0.50:0.95 | area= large | maxDets=100 ] = 0.637\n",
            "Get map done.\n",
            "Epoch:55/300\n",
            "Total Loss: 1.102 || Val Loss: 1.146 \n",
            "Start Train\n"
          ]
        },
        {
          "output_type": "stream",
          "name": "stderr",
          "text": [
            "Epoch 56/300: 100%|██████████| 247/247 [00:42<00:00,  5.81it/s, lr=9.19e-5, roi_cls=0.339, roi_loc=0.627, rpn_cls=0.0516, rpn_loc=0.0555, total_loss=1.07]\n"
          ]
        },
        {
          "output_type": "stream",
          "name": "stdout",
          "text": [
            "Finish Train\n",
            "Start Validation\n"
          ]
        },
        {
          "output_type": "stream",
          "name": "stderr",
          "text": [
            "Epoch 56/300: 100%|██████████| 27/27 [00:03<00:00,  7.10it/s, val_loss=1.17]\n"
          ]
        },
        {
          "output_type": "stream",
          "name": "stdout",
          "text": [
            "Finish Validation\n",
            "Epoch:56/300\n",
            "Total Loss: 1.073 || Val Loss: 1.167 \n",
            "Start Train\n"
          ]
        },
        {
          "output_type": "stream",
          "name": "stderr",
          "text": [
            "Epoch 57/300: 100%|██████████| 247/247 [00:42<00:00,  5.78it/s, lr=9.16e-5, roi_cls=0.359, roi_loc=0.653, rpn_cls=0.0536, rpn_loc=0.0587, total_loss=1.12]\n"
          ]
        },
        {
          "output_type": "stream",
          "name": "stdout",
          "text": [
            "Finish Train\n",
            "Start Validation\n"
          ]
        },
        {
          "output_type": "stream",
          "name": "stderr",
          "text": [
            "Epoch 57/300: 100%|██████████| 27/27 [00:03<00:00,  6.94it/s, val_loss=1.16]\n"
          ]
        },
        {
          "output_type": "stream",
          "name": "stdout",
          "text": [
            "Finish Validation\n",
            "Epoch:57/300\n",
            "Total Loss: 1.124 || Val Loss: 1.165 \n",
            "Start Train\n"
          ]
        },
        {
          "output_type": "stream",
          "name": "stderr",
          "text": [
            "Epoch 58/300: 100%|██████████| 247/247 [00:41<00:00,  5.92it/s, lr=9.13e-5, roi_cls=0.334, roi_loc=0.63, rpn_cls=0.052, rpn_loc=0.0591, total_loss=1.08]\n"
          ]
        },
        {
          "output_type": "stream",
          "name": "stdout",
          "text": [
            "Finish Train\n",
            "Start Validation\n"
          ]
        },
        {
          "output_type": "stream",
          "name": "stderr",
          "text": [
            "Epoch 58/300: 100%|██████████| 27/27 [00:03<00:00,  7.39it/s, val_loss=1.14]\n"
          ]
        },
        {
          "output_type": "stream",
          "name": "stdout",
          "text": [
            "Finish Validation\n",
            "Epoch:58/300\n",
            "Total Loss: 1.076 || Val Loss: 1.144 \n",
            "Start Train\n"
          ]
        },
        {
          "output_type": "stream",
          "name": "stderr",
          "text": [
            "Epoch 59/300: 100%|██████████| 247/247 [00:41<00:00,  5.93it/s, lr=9.1e-5, roi_cls=0.344, roi_loc=0.633, rpn_cls=0.0495, rpn_loc=0.0565, total_loss=1.08]\n"
          ]
        },
        {
          "output_type": "stream",
          "name": "stdout",
          "text": [
            "Finish Train\n",
            "Start Validation\n"
          ]
        },
        {
          "output_type": "stream",
          "name": "stderr",
          "text": [
            "Epoch 59/300: 100%|██████████| 27/27 [00:03<00:00,  7.20it/s, val_loss=1.16]\n"
          ]
        },
        {
          "output_type": "stream",
          "name": "stdout",
          "text": [
            "Finish Validation\n",
            "Epoch:59/300\n",
            "Total Loss: 1.083 || Val Loss: 1.159 \n",
            "Start Train\n"
          ]
        },
        {
          "output_type": "stream",
          "name": "stderr",
          "text": [
            "Epoch 60/300: 100%|██████████| 247/247 [00:41<00:00,  5.94it/s, lr=9.07e-5, roi_cls=0.343, roi_loc=0.631, rpn_cls=0.0527, rpn_loc=0.0515, total_loss=1.08]\n"
          ]
        },
        {
          "output_type": "stream",
          "name": "stdout",
          "text": [
            "Finish Train\n",
            "Start Validation\n"
          ]
        },
        {
          "output_type": "stream",
          "name": "stderr",
          "text": [
            "Epoch 60/300: 100%|██████████| 27/27 [00:03<00:00,  7.12it/s, val_loss=1.13]\n"
          ]
        },
        {
          "output_type": "stream",
          "name": "stdout",
          "text": [
            "Finish Validation\n",
            "Get map.\n"
          ]
        },
        {
          "output_type": "stream",
          "name": "stderr",
          "text": [
            "100%|██████████| 55/55 [00:04<00:00, 11.58it/s]\n"
          ]
        },
        {
          "output_type": "stream",
          "name": "stdout",
          "text": [
            "Calculate Map.\n",
            "loading annotations into memory...\n",
            "Done (t=0.01s)\n",
            "creating index...\n",
            "index created!\n",
            "Loading and preparing results...\n",
            "DONE (t=0.02s)\n",
            "creating index...\n",
            "index created!\n",
            "Running per image evaluation...\n",
            "Evaluate annotation type *bbox*\n",
            "DONE (t=1.05s).\n",
            "Accumulating evaluation results...\n",
            "DONE (t=0.11s).\n",
            " Average Precision  (AP) @[ IoU=0.50:0.95 | area=   all | maxDets=100 ] = 0.452\n",
            " Average Precision  (AP) @[ IoU=0.50      | area=   all | maxDets=100 ] = 0.769\n",
            " Average Precision  (AP) @[ IoU=0.75      | area=   all | maxDets=100 ] = 0.483\n",
            " Average Precision  (AP) @[ IoU=0.50:0.95 | area= small | maxDets=100 ] = 0.240\n",
            " Average Precision  (AP) @[ IoU=0.50:0.95 | area=medium | maxDets=100 ] = 0.409\n",
            " Average Precision  (AP) @[ IoU=0.50:0.95 | area= large | maxDets=100 ] = 0.528\n",
            " Average Recall     (AR) @[ IoU=0.50:0.95 | area=   all | maxDets=  1 ] = 0.147\n",
            " Average Recall     (AR) @[ IoU=0.50:0.95 | area=   all | maxDets= 10 ] = 0.487\n",
            " Average Recall     (AR) @[ IoU=0.50:0.95 | area=   all | maxDets=100 ] = 0.542\n",
            " Average Recall     (AR) @[ IoU=0.50:0.95 | area= small | maxDets=100 ] = 0.307\n",
            " Average Recall     (AR) @[ IoU=0.50:0.95 | area=medium | maxDets=100 ] = 0.502\n",
            " Average Recall     (AR) @[ IoU=0.50:0.95 | area= large | maxDets=100 ] = 0.611\n",
            "Get map done.\n",
            "Epoch:60/300\n",
            "Total Loss: 1.078 || Val Loss: 1.126 \n",
            "Start Train\n"
          ]
        },
        {
          "output_type": "stream",
          "name": "stderr",
          "text": [
            "Epoch 61/300: 100%|██████████| 247/247 [00:41<00:00,  5.94it/s, lr=9.04e-5, roi_cls=0.339, roi_loc=0.609, rpn_cls=0.054, rpn_loc=0.0532, total_loss=1.06]\n"
          ]
        },
        {
          "output_type": "stream",
          "name": "stdout",
          "text": [
            "Finish Train\n",
            "Start Validation\n"
          ]
        },
        {
          "output_type": "stream",
          "name": "stderr",
          "text": [
            "Epoch 61/300: 100%|██████████| 27/27 [00:03<00:00,  7.10it/s, val_loss=1.15]\n"
          ]
        },
        {
          "output_type": "stream",
          "name": "stdout",
          "text": [
            "Finish Validation\n",
            "Epoch:61/300\n",
            "Total Loss: 1.056 || Val Loss: 1.147 \n",
            "Start Train\n"
          ]
        },
        {
          "output_type": "stream",
          "name": "stderr",
          "text": [
            "Epoch 62/300: 100%|██████████| 247/247 [00:42<00:00,  5.86it/s, lr=9e-5, roi_cls=0.338, roi_loc=0.632, rpn_cls=0.0569, rpn_loc=0.0639, total_loss=1.09]\n"
          ]
        },
        {
          "output_type": "stream",
          "name": "stdout",
          "text": [
            "Finish Train\n",
            "Start Validation\n"
          ]
        },
        {
          "output_type": "stream",
          "name": "stderr",
          "text": [
            "Epoch 62/300: 100%|██████████| 27/27 [00:03<00:00,  7.07it/s, val_loss=1.19]\n"
          ]
        },
        {
          "output_type": "stream",
          "name": "stdout",
          "text": [
            "Finish Validation\n",
            "Epoch:62/300\n",
            "Total Loss: 1.091 || Val Loss: 1.194 \n",
            "Start Train\n"
          ]
        },
        {
          "output_type": "stream",
          "name": "stderr",
          "text": [
            "Epoch 63/300: 100%|██████████| 247/247 [00:42<00:00,  5.76it/s, lr=8.97e-5, roi_cls=0.327, roi_loc=0.634, rpn_cls=0.052, rpn_loc=0.0554, total_loss=1.07]\n"
          ]
        },
        {
          "output_type": "stream",
          "name": "stdout",
          "text": [
            "Finish Train\n",
            "Start Validation\n"
          ]
        },
        {
          "output_type": "stream",
          "name": "stderr",
          "text": [
            "Epoch 63/300: 100%|██████████| 27/27 [00:03<00:00,  6.90it/s, val_loss=1.15]\n"
          ]
        },
        {
          "output_type": "stream",
          "name": "stdout",
          "text": [
            "Finish Validation\n",
            "Epoch:63/300\n",
            "Total Loss: 1.069 || Val Loss: 1.150 \n",
            "Start Train\n"
          ]
        },
        {
          "output_type": "stream",
          "name": "stderr",
          "text": [
            "Epoch 64/300: 100%|██████████| 247/247 [00:42<00:00,  5.79it/s, lr=8.93e-5, roi_cls=0.329, roi_loc=0.641, rpn_cls=0.048, rpn_loc=0.054, total_loss=1.07]\n"
          ]
        },
        {
          "output_type": "stream",
          "name": "stdout",
          "text": [
            "Finish Train\n",
            "Start Validation\n"
          ]
        },
        {
          "output_type": "stream",
          "name": "stderr",
          "text": [
            "Epoch 64/300: 100%|██████████| 27/27 [00:03<00:00,  7.11it/s, val_loss=1.07]\n"
          ]
        },
        {
          "output_type": "stream",
          "name": "stdout",
          "text": [
            "Finish Validation\n",
            "Epoch:64/300\n",
            "Total Loss: 1.072 || Val Loss: 1.073 \n",
            "Start Train\n"
          ]
        },
        {
          "output_type": "stream",
          "name": "stderr",
          "text": [
            "Epoch 65/300: 100%|██████████| 247/247 [00:42<00:00,  5.83it/s, lr=8.9e-5, roi_cls=0.318, roi_loc=0.62, rpn_cls=0.0489, rpn_loc=0.052, total_loss=1.04]\n"
          ]
        },
        {
          "output_type": "stream",
          "name": "stdout",
          "text": [
            "Finish Train\n",
            "Start Validation\n"
          ]
        },
        {
          "output_type": "stream",
          "name": "stderr",
          "text": [
            "Epoch 65/300: 100%|██████████| 27/27 [00:03<00:00,  7.05it/s, val_loss=1.19]\n"
          ]
        },
        {
          "output_type": "stream",
          "name": "stdout",
          "text": [
            "Finish Validation\n",
            "Get map.\n"
          ]
        },
        {
          "output_type": "stream",
          "name": "stderr",
          "text": [
            "100%|██████████| 55/55 [00:04<00:00, 11.29it/s]\n"
          ]
        },
        {
          "output_type": "stream",
          "name": "stdout",
          "text": [
            "Calculate Map.\n",
            "loading annotations into memory...\n",
            "Done (t=0.01s)\n",
            "creating index...\n",
            "index created!\n",
            "Loading and preparing results...\n",
            "DONE (t=0.01s)\n",
            "creating index...\n",
            "index created!\n",
            "Running per image evaluation...\n",
            "Evaluate annotation type *bbox*\n",
            "DONE (t=0.77s).\n",
            "Accumulating evaluation results...\n",
            "DONE (t=0.10s).\n",
            " Average Precision  (AP) @[ IoU=0.50:0.95 | area=   all | maxDets=100 ] = 0.455\n",
            " Average Precision  (AP) @[ IoU=0.50      | area=   all | maxDets=100 ] = 0.762\n",
            " Average Precision  (AP) @[ IoU=0.75      | area=   all | maxDets=100 ] = 0.490\n",
            " Average Precision  (AP) @[ IoU=0.50:0.95 | area= small | maxDets=100 ] = 0.307\n",
            " Average Precision  (AP) @[ IoU=0.50:0.95 | area=medium | maxDets=100 ] = 0.414\n",
            " Average Precision  (AP) @[ IoU=0.50:0.95 | area= large | maxDets=100 ] = 0.531\n",
            " Average Recall     (AR) @[ IoU=0.50:0.95 | area=   all | maxDets=  1 ] = 0.143\n",
            " Average Recall     (AR) @[ IoU=0.50:0.95 | area=   all | maxDets= 10 ] = 0.486\n",
            " Average Recall     (AR) @[ IoU=0.50:0.95 | area=   all | maxDets=100 ] = 0.544\n",
            " Average Recall     (AR) @[ IoU=0.50:0.95 | area= small | maxDets=100 ] = 0.331\n",
            " Average Recall     (AR) @[ IoU=0.50:0.95 | area=medium | maxDets=100 ] = 0.502\n",
            " Average Recall     (AR) @[ IoU=0.50:0.95 | area= large | maxDets=100 ] = 0.620\n",
            "Get map done.\n",
            "Epoch:65/300\n",
            "Total Loss: 1.038 || Val Loss: 1.192 \n",
            "Start Train\n"
          ]
        },
        {
          "output_type": "stream",
          "name": "stderr",
          "text": [
            "Epoch 66/300: 100%|██████████| 247/247 [00:42<00:00,  5.81it/s, lr=8.87e-5, roi_cls=0.319, roi_loc=0.628, rpn_cls=0.0529, rpn_loc=0.058, total_loss=1.06]\n"
          ]
        },
        {
          "output_type": "stream",
          "name": "stdout",
          "text": [
            "Finish Train\n",
            "Start Validation\n"
          ]
        },
        {
          "output_type": "stream",
          "name": "stderr",
          "text": [
            "Epoch 66/300: 100%|██████████| 27/27 [00:03<00:00,  6.88it/s, val_loss=1.17]\n"
          ]
        },
        {
          "output_type": "stream",
          "name": "stdout",
          "text": [
            "Finish Validation\n",
            "Epoch:66/300\n",
            "Total Loss: 1.057 || Val Loss: 1.166 \n",
            "Start Train\n"
          ]
        },
        {
          "output_type": "stream",
          "name": "stderr",
          "text": [
            "Epoch 67/300: 100%|██████████| 247/247 [00:42<00:00,  5.79it/s, lr=8.83e-5, roi_cls=0.324, roi_loc=0.62, rpn_cls=0.0516, rpn_loc=0.0533, total_loss=1.05]\n"
          ]
        },
        {
          "output_type": "stream",
          "name": "stdout",
          "text": [
            "Finish Train\n",
            "Start Validation\n"
          ]
        },
        {
          "output_type": "stream",
          "name": "stderr",
          "text": [
            "Epoch 67/300: 100%|██████████| 27/27 [00:03<00:00,  7.00it/s, val_loss=1.16]\n"
          ]
        },
        {
          "output_type": "stream",
          "name": "stdout",
          "text": [
            "Finish Validation\n",
            "Epoch:67/300\n",
            "Total Loss: 1.049 || Val Loss: 1.160 \n",
            "Start Train\n"
          ]
        },
        {
          "output_type": "stream",
          "name": "stderr",
          "text": [
            "Epoch 68/300: 100%|██████████| 247/247 [00:42<00:00,  5.82it/s, lr=8.79e-5, roi_cls=0.318, roi_loc=0.622, rpn_cls=0.0525, rpn_loc=0.056, total_loss=1.05]\n"
          ]
        },
        {
          "output_type": "stream",
          "name": "stdout",
          "text": [
            "Finish Train\n",
            "Start Validation\n"
          ]
        },
        {
          "output_type": "stream",
          "name": "stderr",
          "text": [
            "Epoch 68/300: 100%|██████████| 27/27 [00:03<00:00,  7.16it/s, val_loss=1.15]\n"
          ]
        },
        {
          "output_type": "stream",
          "name": "stdout",
          "text": [
            "Finish Validation\n",
            "Epoch:68/300\n",
            "Total Loss: 1.049 || Val Loss: 1.148 \n",
            "Start Train\n"
          ]
        },
        {
          "output_type": "stream",
          "name": "stderr",
          "text": [
            "Epoch 69/300: 100%|██████████| 247/247 [00:42<00:00,  5.84it/s, lr=8.76e-5, roi_cls=0.315, roi_loc=0.626, rpn_cls=0.0514, rpn_loc=0.0569, total_loss=1.05]\n"
          ]
        },
        {
          "output_type": "stream",
          "name": "stdout",
          "text": [
            "Finish Train\n",
            "Start Validation\n"
          ]
        },
        {
          "output_type": "stream",
          "name": "stderr",
          "text": [
            "Epoch 69/300: 100%|██████████| 27/27 [00:03<00:00,  7.07it/s, val_loss=1.11]\n"
          ]
        },
        {
          "output_type": "stream",
          "name": "stdout",
          "text": [
            "Finish Validation\n",
            "Epoch:69/300\n",
            "Total Loss: 1.048 || Val Loss: 1.109 \n",
            "Start Train\n"
          ]
        },
        {
          "output_type": "stream",
          "name": "stderr",
          "text": [
            "Epoch 70/300: 100%|██████████| 247/247 [00:42<00:00,  5.76it/s, lr=8.72e-5, roi_cls=0.321, roi_loc=0.63, rpn_cls=0.0512, rpn_loc=0.0545, total_loss=1.06]\n"
          ]
        },
        {
          "output_type": "stream",
          "name": "stdout",
          "text": [
            "Finish Train\n",
            "Start Validation\n"
          ]
        },
        {
          "output_type": "stream",
          "name": "stderr",
          "text": [
            "Epoch 70/300: 100%|██████████| 27/27 [00:03<00:00,  6.95it/s, val_loss=1.12]\n"
          ]
        },
        {
          "output_type": "stream",
          "name": "stdout",
          "text": [
            "Finish Validation\n",
            "Get map.\n"
          ]
        },
        {
          "output_type": "stream",
          "name": "stderr",
          "text": [
            "100%|██████████| 55/55 [00:04<00:00, 11.17it/s]\n"
          ]
        },
        {
          "output_type": "stream",
          "name": "stdout",
          "text": [
            "Calculate Map.\n",
            "loading annotations into memory...\n",
            "Done (t=0.01s)\n",
            "creating index...\n",
            "index created!\n",
            "Loading and preparing results...\n",
            "DONE (t=0.01s)\n",
            "creating index...\n",
            "index created!\n",
            "Running per image evaluation...\n",
            "Evaluate annotation type *bbox*\n",
            "DONE (t=0.80s).\n",
            "Accumulating evaluation results...\n",
            "DONE (t=0.11s).\n",
            " Average Precision  (AP) @[ IoU=0.50:0.95 | area=   all | maxDets=100 ] = 0.466\n",
            " Average Precision  (AP) @[ IoU=0.50      | area=   all | maxDets=100 ] = 0.769\n",
            " Average Precision  (AP) @[ IoU=0.75      | area=   all | maxDets=100 ] = 0.515\n",
            " Average Precision  (AP) @[ IoU=0.50:0.95 | area= small | maxDets=100 ] = 0.226\n",
            " Average Precision  (AP) @[ IoU=0.50:0.95 | area=medium | maxDets=100 ] = 0.417\n",
            " Average Precision  (AP) @[ IoU=0.50:0.95 | area= large | maxDets=100 ] = 0.550\n",
            " Average Recall     (AR) @[ IoU=0.50:0.95 | area=   all | maxDets=  1 ] = 0.150\n",
            " Average Recall     (AR) @[ IoU=0.50:0.95 | area=   all | maxDets= 10 ] = 0.496\n",
            " Average Recall     (AR) @[ IoU=0.50:0.95 | area=   all | maxDets=100 ] = 0.555\n",
            " Average Recall     (AR) @[ IoU=0.50:0.95 | area= small | maxDets=100 ] = 0.285\n",
            " Average Recall     (AR) @[ IoU=0.50:0.95 | area=medium | maxDets=100 ] = 0.509\n",
            " Average Recall     (AR) @[ IoU=0.50:0.95 | area= large | maxDets=100 ] = 0.637\n",
            "Get map done.\n",
            "Epoch:70/300\n",
            "Total Loss: 1.057 || Val Loss: 1.123 \n",
            "Start Train\n"
          ]
        },
        {
          "output_type": "stream",
          "name": "stderr",
          "text": [
            "Epoch 71/300: 100%|██████████| 247/247 [00:42<00:00,  5.81it/s, lr=8.68e-5, roi_cls=0.329, roi_loc=0.624, rpn_cls=0.0539, rpn_loc=0.0521, total_loss=1.06]\n"
          ]
        },
        {
          "output_type": "stream",
          "name": "stdout",
          "text": [
            "Finish Train\n",
            "Start Validation\n"
          ]
        },
        {
          "output_type": "stream",
          "name": "stderr",
          "text": [
            "Epoch 71/300: 100%|██████████| 27/27 [00:03<00:00,  7.10it/s, val_loss=1.1]\n"
          ]
        },
        {
          "output_type": "stream",
          "name": "stdout",
          "text": [
            "Finish Validation\n",
            "Epoch:71/300\n",
            "Total Loss: 1.059 || Val Loss: 1.095 \n",
            "Start Train\n"
          ]
        },
        {
          "output_type": "stream",
          "name": "stderr",
          "text": [
            "Epoch 72/300: 100%|██████████| 247/247 [00:42<00:00,  5.79it/s, lr=8.65e-5, roi_cls=0.325, roi_loc=0.626, rpn_cls=0.0539, rpn_loc=0.0528, total_loss=1.06]\n"
          ]
        },
        {
          "output_type": "stream",
          "name": "stdout",
          "text": [
            "Finish Train\n",
            "Start Validation\n"
          ]
        },
        {
          "output_type": "stream",
          "name": "stderr",
          "text": [
            "Epoch 72/300: 100%|██████████| 27/27 [00:03<00:00,  7.04it/s, val_loss=1.12]\n"
          ]
        },
        {
          "output_type": "stream",
          "name": "stdout",
          "text": [
            "Finish Validation\n",
            "Epoch:72/300\n",
            "Total Loss: 1.058 || Val Loss: 1.117 \n",
            "Start Train\n"
          ]
        },
        {
          "output_type": "stream",
          "name": "stderr",
          "text": [
            "Epoch 73/300: 100%|██████████| 247/247 [00:42<00:00,  5.84it/s, lr=8.61e-5, roi_cls=0.313, roi_loc=0.627, rpn_cls=0.05, rpn_loc=0.0509, total_loss=1.04]\n"
          ]
        },
        {
          "output_type": "stream",
          "name": "stdout",
          "text": [
            "Finish Train\n",
            "Start Validation\n"
          ]
        },
        {
          "output_type": "stream",
          "name": "stderr",
          "text": [
            "Epoch 73/300: 100%|██████████| 27/27 [00:03<00:00,  7.04it/s, val_loss=1.16]\n"
          ]
        },
        {
          "output_type": "stream",
          "name": "stdout",
          "text": [
            "Finish Validation\n",
            "Epoch:73/300\n",
            "Total Loss: 1.041 || Val Loss: 1.160 \n",
            "Start Train\n"
          ]
        },
        {
          "output_type": "stream",
          "name": "stderr",
          "text": [
            "Epoch 74/300: 100%|██████████| 247/247 [00:42<00:00,  5.79it/s, lr=8.57e-5, roi_cls=0.316, roi_loc=0.624, rpn_cls=0.0488, rpn_loc=0.0532, total_loss=1.04]\n"
          ]
        },
        {
          "output_type": "stream",
          "name": "stdout",
          "text": [
            "Finish Train\n",
            "Start Validation\n"
          ]
        },
        {
          "output_type": "stream",
          "name": "stderr",
          "text": [
            "Epoch 74/300: 100%|██████████| 27/27 [00:03<00:00,  7.23it/s, val_loss=1.15]\n"
          ]
        },
        {
          "output_type": "stream",
          "name": "stdout",
          "text": [
            "Finish Validation\n",
            "Epoch:74/300\n",
            "Total Loss: 1.041 || Val Loss: 1.151 \n",
            "Start Train\n"
          ]
        },
        {
          "output_type": "stream",
          "name": "stderr",
          "text": [
            "Epoch 75/300: 100%|██████████| 247/247 [00:42<00:00,  5.85it/s, lr=8.53e-5, roi_cls=0.31, roi_loc=0.623, rpn_cls=0.0483, rpn_loc=0.0493, total_loss=1.03]\n"
          ]
        },
        {
          "output_type": "stream",
          "name": "stdout",
          "text": [
            "Finish Train\n",
            "Start Validation\n"
          ]
        },
        {
          "output_type": "stream",
          "name": "stderr",
          "text": [
            "Epoch 75/300: 100%|██████████| 27/27 [00:03<00:00,  7.12it/s, val_loss=1.15]\n"
          ]
        },
        {
          "output_type": "stream",
          "name": "stdout",
          "text": [
            "Finish Validation\n",
            "Get map.\n"
          ]
        },
        {
          "output_type": "stream",
          "name": "stderr",
          "text": [
            "100%|██████████| 55/55 [00:04<00:00, 11.45it/s]\n"
          ]
        },
        {
          "output_type": "stream",
          "name": "stdout",
          "text": [
            "Calculate Map.\n",
            "loading annotations into memory...\n",
            "Done (t=0.01s)\n",
            "creating index...\n",
            "index created!\n",
            "Loading and preparing results...\n",
            "DONE (t=0.26s)\n",
            "creating index...\n",
            "index created!\n",
            "Running per image evaluation...\n",
            "Evaluate annotation type *bbox*\n",
            "DONE (t=0.79s).\n",
            "Accumulating evaluation results...\n",
            "DONE (t=0.10s).\n",
            " Average Precision  (AP) @[ IoU=0.50:0.95 | area=   all | maxDets=100 ] = 0.451\n",
            " Average Precision  (AP) @[ IoU=0.50      | area=   all | maxDets=100 ] = 0.752\n",
            " Average Precision  (AP) @[ IoU=0.75      | area=   all | maxDets=100 ] = 0.491\n",
            " Average Precision  (AP) @[ IoU=0.50:0.95 | area= small | maxDets=100 ] = 0.349\n",
            " Average Precision  (AP) @[ IoU=0.50:0.95 | area=medium | maxDets=100 ] = 0.400\n",
            " Average Precision  (AP) @[ IoU=0.50:0.95 | area= large | maxDets=100 ] = 0.535\n",
            " Average Recall     (AR) @[ IoU=0.50:0.95 | area=   all | maxDets=  1 ] = 0.140\n",
            " Average Recall     (AR) @[ IoU=0.50:0.95 | area=   all | maxDets= 10 ] = 0.483\n",
            " Average Recall     (AR) @[ IoU=0.50:0.95 | area=   all | maxDets=100 ] = 0.545\n",
            " Average Recall     (AR) @[ IoU=0.50:0.95 | area= small | maxDets=100 ] = 0.392\n",
            " Average Recall     (AR) @[ IoU=0.50:0.95 | area=medium | maxDets=100 ] = 0.495\n",
            " Average Recall     (AR) @[ IoU=0.50:0.95 | area= large | maxDets=100 ] = 0.622\n",
            "Get map done.\n",
            "Epoch:75/300\n",
            "Total Loss: 1.031 || Val Loss: 1.147 \n",
            "Start Train\n"
          ]
        },
        {
          "output_type": "stream",
          "name": "stderr",
          "text": [
            "Epoch 76/300: 100%|██████████| 247/247 [00:42<00:00,  5.76it/s, lr=8.49e-5, roi_cls=0.322, roi_loc=0.61, rpn_cls=0.049, rpn_loc=0.0518, total_loss=1.03]\n"
          ]
        },
        {
          "output_type": "stream",
          "name": "stdout",
          "text": [
            "Finish Train\n",
            "Start Validation\n"
          ]
        },
        {
          "output_type": "stream",
          "name": "stderr",
          "text": [
            "Epoch 76/300: 100%|██████████| 27/27 [00:03<00:00,  7.02it/s, val_loss=1.13]\n"
          ]
        },
        {
          "output_type": "stream",
          "name": "stdout",
          "text": [
            "Finish Validation\n",
            "Epoch:76/300\n",
            "Total Loss: 1.033 || Val Loss: 1.130 \n",
            "Start Train\n"
          ]
        },
        {
          "output_type": "stream",
          "name": "stderr",
          "text": [
            "Epoch 77/300: 100%|██████████| 247/247 [00:42<00:00,  5.75it/s, lr=8.45e-5, roi_cls=0.324, roi_loc=0.614, rpn_cls=0.0451, rpn_loc=0.0613, total_loss=1.04]\n"
          ]
        },
        {
          "output_type": "stream",
          "name": "stdout",
          "text": [
            "Finish Train\n",
            "Start Validation\n"
          ]
        },
        {
          "output_type": "stream",
          "name": "stderr",
          "text": [
            "Epoch 77/300: 100%|██████████| 27/27 [00:03<00:00,  6.95it/s, val_loss=1.18]\n"
          ]
        },
        {
          "output_type": "stream",
          "name": "stdout",
          "text": [
            "Finish Validation\n",
            "Epoch:77/300\n",
            "Total Loss: 1.044 || Val Loss: 1.183 \n",
            "Start Train\n"
          ]
        },
        {
          "output_type": "stream",
          "name": "stderr",
          "text": [
            "Epoch 78/300: 100%|██████████| 247/247 [00:42<00:00,  5.76it/s, lr=8.41e-5, roi_cls=0.317, roi_loc=0.623, rpn_cls=0.0523, rpn_loc=0.0544, total_loss=1.05]\n"
          ]
        },
        {
          "output_type": "stream",
          "name": "stdout",
          "text": [
            "Finish Train\n",
            "Start Validation\n"
          ]
        },
        {
          "output_type": "stream",
          "name": "stderr",
          "text": [
            "Epoch 78/300: 100%|██████████| 27/27 [00:03<00:00,  7.12it/s, val_loss=1.21]\n"
          ]
        },
        {
          "output_type": "stream",
          "name": "stdout",
          "text": [
            "Finish Validation\n",
            "Epoch:78/300\n",
            "Total Loss: 1.046 || Val Loss: 1.209 \n",
            "Start Train\n"
          ]
        },
        {
          "output_type": "stream",
          "name": "stderr",
          "text": [
            "Epoch 79/300: 100%|██████████| 247/247 [00:42<00:00,  5.78it/s, lr=8.37e-5, roi_cls=0.316, roi_loc=0.619, rpn_cls=0.0497, rpn_loc=0.0522, total_loss=1.04]\n"
          ]
        },
        {
          "output_type": "stream",
          "name": "stdout",
          "text": [
            "Finish Train\n",
            "Start Validation\n"
          ]
        },
        {
          "output_type": "stream",
          "name": "stderr",
          "text": [
            "Epoch 79/300: 100%|██████████| 27/27 [00:03<00:00,  7.00it/s, val_loss=1.17]\n"
          ]
        },
        {
          "output_type": "stream",
          "name": "stdout",
          "text": [
            "Finish Validation\n",
            "Epoch:79/300\n",
            "Total Loss: 1.038 || Val Loss: 1.172 \n",
            "Start Train\n"
          ]
        },
        {
          "output_type": "stream",
          "name": "stderr",
          "text": [
            "Epoch 80/300: 100%|██████████| 247/247 [00:43<00:00,  5.74it/s, lr=8.33e-5, roi_cls=0.312, roi_loc=0.604, rpn_cls=0.0481, rpn_loc=0.0592, total_loss=1.02]\n"
          ]
        },
        {
          "output_type": "stream",
          "name": "stdout",
          "text": [
            "Finish Train\n",
            "Start Validation\n"
          ]
        },
        {
          "output_type": "stream",
          "name": "stderr",
          "text": [
            "Epoch 80/300: 100%|██████████| 27/27 [00:03<00:00,  7.07it/s, val_loss=1.18]\n"
          ]
        },
        {
          "output_type": "stream",
          "name": "stdout",
          "text": [
            "Finish Validation\n",
            "Get map.\n"
          ]
        },
        {
          "output_type": "stream",
          "name": "stderr",
          "text": [
            "100%|██████████| 55/55 [00:04<00:00, 11.41it/s]\n"
          ]
        },
        {
          "output_type": "stream",
          "name": "stdout",
          "text": [
            "Calculate Map.\n",
            "loading annotations into memory...\n",
            "Done (t=0.01s)\n",
            "creating index...\n",
            "index created!\n",
            "Loading and preparing results...\n",
            "DONE (t=0.01s)\n",
            "creating index...\n",
            "index created!\n",
            "Running per image evaluation...\n",
            "Evaluate annotation type *bbox*\n",
            "DONE (t=0.81s).\n",
            "Accumulating evaluation results...\n",
            "DONE (t=0.11s).\n",
            " Average Precision  (AP) @[ IoU=0.50:0.95 | area=   all | maxDets=100 ] = 0.439\n",
            " Average Precision  (AP) @[ IoU=0.50      | area=   all | maxDets=100 ] = 0.727\n",
            " Average Precision  (AP) @[ IoU=0.75      | area=   all | maxDets=100 ] = 0.489\n",
            " Average Precision  (AP) @[ IoU=0.50:0.95 | area= small | maxDets=100 ] = 0.314\n",
            " Average Precision  (AP) @[ IoU=0.50:0.95 | area=medium | maxDets=100 ] = 0.385\n",
            " Average Precision  (AP) @[ IoU=0.50:0.95 | area= large | maxDets=100 ] = 0.517\n",
            " Average Recall     (AR) @[ IoU=0.50:0.95 | area=   all | maxDets=  1 ] = 0.138\n",
            " Average Recall     (AR) @[ IoU=0.50:0.95 | area=   all | maxDets= 10 ] = 0.482\n",
            " Average Recall     (AR) @[ IoU=0.50:0.95 | area=   all | maxDets=100 ] = 0.539\n",
            " Average Recall     (AR) @[ IoU=0.50:0.95 | area= small | maxDets=100 ] = 0.377\n",
            " Average Recall     (AR) @[ IoU=0.50:0.95 | area=medium | maxDets=100 ] = 0.493\n",
            " Average Recall     (AR) @[ IoU=0.50:0.95 | area= large | maxDets=100 ] = 0.601\n",
            "Get map done.\n",
            "Epoch:80/300\n",
            "Total Loss: 1.024 || Val Loss: 1.182 \n",
            "Start Train\n"
          ]
        },
        {
          "output_type": "stream",
          "name": "stderr",
          "text": [
            "Epoch 81/300: 100%|██████████| 247/247 [00:42<00:00,  5.83it/s, lr=8.29e-5, roi_cls=0.316, roi_loc=0.613, rpn_cls=0.0506, rpn_loc=0.0535, total_loss=1.03]\n"
          ]
        },
        {
          "output_type": "stream",
          "name": "stdout",
          "text": [
            "Finish Train\n",
            "Start Validation\n"
          ]
        },
        {
          "output_type": "stream",
          "name": "stderr",
          "text": [
            "Epoch 81/300: 100%|██████████| 27/27 [00:03<00:00,  6.94it/s, val_loss=1.16]\n"
          ]
        },
        {
          "output_type": "stream",
          "name": "stdout",
          "text": [
            "Finish Validation\n",
            "Epoch:81/300\n",
            "Total Loss: 1.033 || Val Loss: 1.159 \n",
            "Start Train\n"
          ]
        },
        {
          "output_type": "stream",
          "name": "stderr",
          "text": [
            "Epoch 82/300: 100%|██████████| 247/247 [00:42<00:00,  5.84it/s, lr=8.25e-5, roi_cls=0.315, roi_loc=0.611, rpn_cls=0.0576, rpn_loc=0.0564, total_loss=1.04]\n"
          ]
        },
        {
          "output_type": "stream",
          "name": "stdout",
          "text": [
            "Finish Train\n",
            "Start Validation\n"
          ]
        },
        {
          "output_type": "stream",
          "name": "stderr",
          "text": [
            "Epoch 82/300: 100%|██████████| 27/27 [00:03<00:00,  7.01it/s, val_loss=1.16]\n"
          ]
        },
        {
          "output_type": "stream",
          "name": "stdout",
          "text": [
            "Finish Validation\n",
            "Epoch:82/300\n",
            "Total Loss: 1.040 || Val Loss: 1.159 \n",
            "Start Train\n"
          ]
        },
        {
          "output_type": "stream",
          "name": "stderr",
          "text": [
            "Epoch 83/300: 100%|██████████| 247/247 [00:42<00:00,  5.86it/s, lr=8.2e-5, roi_cls=0.311, roi_loc=0.622, rpn_cls=0.0475, rpn_loc=0.053, total_loss=1.03]\n"
          ]
        },
        {
          "output_type": "stream",
          "name": "stdout",
          "text": [
            "Finish Train\n",
            "Start Validation\n"
          ]
        },
        {
          "output_type": "stream",
          "name": "stderr",
          "text": [
            "Epoch 83/300: 100%|██████████| 27/27 [00:03<00:00,  6.92it/s, val_loss=1.16]\n"
          ]
        },
        {
          "output_type": "stream",
          "name": "stdout",
          "text": [
            "Finish Validation\n",
            "Epoch:83/300\n",
            "Total Loss: 1.033 || Val Loss: 1.162 \n",
            "Start Train\n"
          ]
        },
        {
          "output_type": "stream",
          "name": "stderr",
          "text": [
            "Epoch 84/300: 100%|██████████| 247/247 [00:42<00:00,  5.84it/s, lr=8.16e-5, roi_cls=0.316, roi_loc=0.606, rpn_cls=0.0539, rpn_loc=0.0527, total_loss=1.03]\n"
          ]
        },
        {
          "output_type": "stream",
          "name": "stdout",
          "text": [
            "Finish Train\n",
            "Start Validation\n"
          ]
        },
        {
          "output_type": "stream",
          "name": "stderr",
          "text": [
            "Epoch 84/300: 100%|██████████| 27/27 [00:03<00:00,  7.06it/s, val_loss=1.12]\n"
          ]
        },
        {
          "output_type": "stream",
          "name": "stdout",
          "text": [
            "Finish Validation\n",
            "Epoch:84/300\n",
            "Total Loss: 1.029 || Val Loss: 1.119 \n",
            "Start Train\n"
          ]
        },
        {
          "output_type": "stream",
          "name": "stderr",
          "text": [
            "Epoch 85/300: 100%|██████████| 247/247 [00:42<00:00,  5.79it/s, lr=8.12e-5, roi_cls=0.308, roi_loc=0.592, rpn_cls=0.053, rpn_loc=0.0497, total_loss=1]\n"
          ]
        },
        {
          "output_type": "stream",
          "name": "stdout",
          "text": [
            "Finish Train\n",
            "Start Validation\n"
          ]
        },
        {
          "output_type": "stream",
          "name": "stderr",
          "text": [
            "Epoch 85/300: 100%|██████████| 27/27 [00:03<00:00,  7.10it/s, val_loss=1.11]\n"
          ]
        },
        {
          "output_type": "stream",
          "name": "stdout",
          "text": [
            "Finish Validation\n",
            "Get map.\n"
          ]
        },
        {
          "output_type": "stream",
          "name": "stderr",
          "text": [
            "100%|██████████| 55/55 [00:04<00:00, 11.41it/s]\n"
          ]
        },
        {
          "output_type": "stream",
          "name": "stdout",
          "text": [
            "Calculate Map.\n",
            "loading annotations into memory...\n",
            "Done (t=0.01s)\n",
            "creating index...\n",
            "index created!\n",
            "Loading and preparing results...\n",
            "DONE (t=0.01s)\n",
            "creating index...\n",
            "index created!\n",
            "Running per image evaluation...\n",
            "Evaluate annotation type *bbox*\n",
            "DONE (t=0.78s).\n",
            "Accumulating evaluation results...\n",
            "DONE (t=0.11s).\n",
            " Average Precision  (AP) @[ IoU=0.50:0.95 | area=   all | maxDets=100 ] = 0.470\n",
            " Average Precision  (AP) @[ IoU=0.50      | area=   all | maxDets=100 ] = 0.767\n",
            " Average Precision  (AP) @[ IoU=0.75      | area=   all | maxDets=100 ] = 0.513\n",
            " Average Precision  (AP) @[ IoU=0.50:0.95 | area= small | maxDets=100 ] = 0.220\n",
            " Average Precision  (AP) @[ IoU=0.50:0.95 | area=medium | maxDets=100 ] = 0.411\n",
            " Average Precision  (AP) @[ IoU=0.50:0.95 | area= large | maxDets=100 ] = 0.570\n",
            " Average Recall     (AR) @[ IoU=0.50:0.95 | area=   all | maxDets=  1 ] = 0.147\n",
            " Average Recall     (AR) @[ IoU=0.50:0.95 | area=   all | maxDets= 10 ] = 0.500\n",
            " Average Recall     (AR) @[ IoU=0.50:0.95 | area=   all | maxDets=100 ] = 0.558\n",
            " Average Recall     (AR) @[ IoU=0.50:0.95 | area= small | maxDets=100 ] = 0.338\n",
            " Average Recall     (AR) @[ IoU=0.50:0.95 | area=medium | maxDets=100 ] = 0.506\n",
            " Average Recall     (AR) @[ IoU=0.50:0.95 | area= large | maxDets=100 ] = 0.646\n",
            "Get map done.\n",
            "Epoch:85/300\n",
            "Total Loss: 1.003 || Val Loss: 1.107 \n",
            "Start Train\n"
          ]
        },
        {
          "output_type": "stream",
          "name": "stderr",
          "text": [
            "Epoch 86/300: 100%|██████████| 247/247 [00:42<00:00,  5.81it/s, lr=8.07e-5, roi_cls=0.302, roi_loc=0.596, rpn_cls=0.0466, rpn_loc=0.0508, total_loss=0.995]\n"
          ]
        },
        {
          "output_type": "stream",
          "name": "stdout",
          "text": [
            "Finish Train\n",
            "Start Validation\n"
          ]
        },
        {
          "output_type": "stream",
          "name": "stderr",
          "text": [
            "Epoch 86/300: 100%|██████████| 27/27 [00:03<00:00,  6.93it/s, val_loss=1.1]\n"
          ]
        },
        {
          "output_type": "stream",
          "name": "stdout",
          "text": [
            "Finish Validation\n",
            "Epoch:86/300\n",
            "Total Loss: 0.995 || Val Loss: 1.098 \n",
            "Start Train\n"
          ]
        },
        {
          "output_type": "stream",
          "name": "stderr",
          "text": [
            "Epoch 87/300: 100%|██████████| 247/247 [00:42<00:00,  5.80it/s, lr=8.03e-5, roi_cls=0.297, roi_loc=0.59, rpn_cls=0.0453, rpn_loc=0.0517, total_loss=0.984]\n"
          ]
        },
        {
          "output_type": "stream",
          "name": "stdout",
          "text": [
            "Finish Train\n",
            "Start Validation\n"
          ]
        },
        {
          "output_type": "stream",
          "name": "stderr",
          "text": [
            "Epoch 87/300: 100%|██████████| 27/27 [00:03<00:00,  6.96it/s, val_loss=1.1]\n"
          ]
        },
        {
          "output_type": "stream",
          "name": "stdout",
          "text": [
            "Finish Validation\n",
            "Epoch:87/300\n",
            "Total Loss: 0.984 || Val Loss: 1.096 \n",
            "Start Train\n"
          ]
        },
        {
          "output_type": "stream",
          "name": "stderr",
          "text": [
            "Epoch 88/300: 100%|██████████| 247/247 [00:42<00:00,  5.83it/s, lr=7.99e-5, roi_cls=0.308, roi_loc=0.613, rpn_cls=0.0496, rpn_loc=0.0503, total_loss=1.02]\n"
          ]
        },
        {
          "output_type": "stream",
          "name": "stdout",
          "text": [
            "Finish Train\n",
            "Start Validation\n"
          ]
        },
        {
          "output_type": "stream",
          "name": "stderr",
          "text": [
            "Epoch 88/300: 100%|██████████| 27/27 [00:03<00:00,  7.17it/s, val_loss=1.16]\n"
          ]
        },
        {
          "output_type": "stream",
          "name": "stdout",
          "text": [
            "Finish Validation\n",
            "Epoch:88/300\n",
            "Total Loss: 1.022 || Val Loss: 1.163 \n",
            "Start Train\n"
          ]
        },
        {
          "output_type": "stream",
          "name": "stderr",
          "text": [
            "Epoch 89/300: 100%|██████████| 247/247 [00:42<00:00,  5.78it/s, lr=7.94e-5, roi_cls=0.3, roi_loc=0.597, rpn_cls=0.0517, rpn_loc=0.0506, total_loss=0.999]\n"
          ]
        },
        {
          "output_type": "stream",
          "name": "stdout",
          "text": [
            "Finish Train\n",
            "Start Validation\n"
          ]
        },
        {
          "output_type": "stream",
          "name": "stderr",
          "text": [
            "Epoch 89/300: 100%|██████████| 27/27 [00:03<00:00,  6.98it/s, val_loss=1.13]\n"
          ]
        },
        {
          "output_type": "stream",
          "name": "stdout",
          "text": [
            "Finish Validation\n",
            "Epoch:89/300\n",
            "Total Loss: 0.999 || Val Loss: 1.129 \n",
            "Start Train\n"
          ]
        },
        {
          "output_type": "stream",
          "name": "stderr",
          "text": [
            "Epoch 90/300: 100%|██████████| 247/247 [00:42<00:00,  5.77it/s, lr=7.9e-5, roi_cls=0.309, roi_loc=0.604, rpn_cls=0.0469, rpn_loc=0.0521, total_loss=1.01]\n"
          ]
        },
        {
          "output_type": "stream",
          "name": "stdout",
          "text": [
            "Finish Train\n",
            "Start Validation\n"
          ]
        },
        {
          "output_type": "stream",
          "name": "stderr",
          "text": [
            "Epoch 90/300: 100%|██████████| 27/27 [00:03<00:00,  6.85it/s, val_loss=1.17]\n"
          ]
        },
        {
          "output_type": "stream",
          "name": "stdout",
          "text": [
            "Finish Validation\n",
            "Get map.\n"
          ]
        },
        {
          "output_type": "stream",
          "name": "stderr",
          "text": [
            "100%|██████████| 55/55 [00:04<00:00, 11.31it/s]\n"
          ]
        },
        {
          "output_type": "stream",
          "name": "stdout",
          "text": [
            "Calculate Map.\n",
            "loading annotations into memory...\n",
            "Done (t=0.01s)\n",
            "creating index...\n",
            "index created!\n",
            "Loading and preparing results...\n",
            "DONE (t=0.01s)\n",
            "creating index...\n",
            "index created!\n",
            "Running per image evaluation...\n",
            "Evaluate annotation type *bbox*\n",
            "DONE (t=0.78s).\n",
            "Accumulating evaluation results...\n",
            "DONE (t=0.11s).\n",
            " Average Precision  (AP) @[ IoU=0.50:0.95 | area=   all | maxDets=100 ] = 0.469\n",
            " Average Precision  (AP) @[ IoU=0.50      | area=   all | maxDets=100 ] = 0.760\n",
            " Average Precision  (AP) @[ IoU=0.75      | area=   all | maxDets=100 ] = 0.522\n",
            " Average Precision  (AP) @[ IoU=0.50:0.95 | area= small | maxDets=100 ] = 0.269\n",
            " Average Precision  (AP) @[ IoU=0.50:0.95 | area=medium | maxDets=100 ] = 0.411\n",
            " Average Precision  (AP) @[ IoU=0.50:0.95 | area= large | maxDets=100 ] = 0.569\n",
            " Average Recall     (AR) @[ IoU=0.50:0.95 | area=   all | maxDets=  1 ] = 0.149\n",
            " Average Recall     (AR) @[ IoU=0.50:0.95 | area=   all | maxDets= 10 ] = 0.497\n",
            " Average Recall     (AR) @[ IoU=0.50:0.95 | area=   all | maxDets=100 ] = 0.558\n",
            " Average Recall     (AR) @[ IoU=0.50:0.95 | area= small | maxDets=100 ] = 0.357\n",
            " Average Recall     (AR) @[ IoU=0.50:0.95 | area=medium | maxDets=100 ] = 0.502\n",
            " Average Recall     (AR) @[ IoU=0.50:0.95 | area= large | maxDets=100 ] = 0.652\n",
            "Get map done.\n",
            "Epoch:90/300\n",
            "Total Loss: 1.012 || Val Loss: 1.166 \n",
            "Start Train\n"
          ]
        },
        {
          "output_type": "stream",
          "name": "stderr",
          "text": [
            "Epoch 91/300: 100%|██████████| 247/247 [00:42<00:00,  5.78it/s, lr=7.85e-5, roi_cls=0.298, roi_loc=0.596, rpn_cls=0.0466, rpn_loc=0.0548, total_loss=0.995]\n"
          ]
        },
        {
          "output_type": "stream",
          "name": "stdout",
          "text": [
            "Finish Train\n",
            "Start Validation\n"
          ]
        },
        {
          "output_type": "stream",
          "name": "stderr",
          "text": [
            "Epoch 91/300: 100%|██████████| 27/27 [00:03<00:00,  7.09it/s, val_loss=1.18]\n"
          ]
        },
        {
          "output_type": "stream",
          "name": "stdout",
          "text": [
            "Finish Validation\n",
            "Epoch:91/300\n",
            "Total Loss: 0.995 || Val Loss: 1.183 \n",
            "Start Train\n"
          ]
        },
        {
          "output_type": "stream",
          "name": "stderr",
          "text": [
            "Epoch 92/300: 100%|██████████| 247/247 [00:42<00:00,  5.75it/s, lr=7.81e-5, roi_cls=0.297, roi_loc=0.603, rpn_cls=0.0465, rpn_loc=0.0556, total_loss=1]\n"
          ]
        },
        {
          "output_type": "stream",
          "name": "stdout",
          "text": [
            "Finish Train\n",
            "Start Validation\n"
          ]
        },
        {
          "output_type": "stream",
          "name": "stderr",
          "text": [
            "Epoch 92/300: 100%|██████████| 27/27 [00:03<00:00,  7.00it/s, val_loss=1.13]\n"
          ]
        },
        {
          "output_type": "stream",
          "name": "stdout",
          "text": [
            "Finish Validation\n",
            "Epoch:92/300\n",
            "Total Loss: 1.001 || Val Loss: 1.131 \n",
            "Start Train\n"
          ]
        },
        {
          "output_type": "stream",
          "name": "stderr",
          "text": [
            "Epoch 93/300: 100%|██████████| 247/247 [00:43<00:00,  5.73it/s, lr=7.76e-5, roi_cls=0.3, roi_loc=0.595, rpn_cls=0.0495, rpn_loc=0.0526, total_loss=0.996]\n"
          ]
        },
        {
          "output_type": "stream",
          "name": "stdout",
          "text": [
            "Finish Train\n",
            "Start Validation\n"
          ]
        },
        {
          "output_type": "stream",
          "name": "stderr",
          "text": [
            "Epoch 93/300: 100%|██████████| 27/27 [00:03<00:00,  7.19it/s, val_loss=1.14]\n"
          ]
        },
        {
          "output_type": "stream",
          "name": "stdout",
          "text": [
            "Finish Validation\n",
            "Epoch:93/300\n",
            "Total Loss: 0.996 || Val Loss: 1.145 \n",
            "Start Train\n"
          ]
        },
        {
          "output_type": "stream",
          "name": "stderr",
          "text": [
            "Epoch 94/300: 100%|██████████| 247/247 [00:42<00:00,  5.79it/s, lr=7.71e-5, roi_cls=0.3, roi_loc=0.592, rpn_cls=0.0474, rpn_loc=0.053, total_loss=0.992]\n"
          ]
        },
        {
          "output_type": "stream",
          "name": "stdout",
          "text": [
            "Finish Train\n",
            "Start Validation\n"
          ]
        },
        {
          "output_type": "stream",
          "name": "stderr",
          "text": [
            "Epoch 94/300: 100%|██████████| 27/27 [00:03<00:00,  7.00it/s, val_loss=1.14]\n"
          ]
        },
        {
          "output_type": "stream",
          "name": "stdout",
          "text": [
            "Finish Validation\n",
            "Epoch:94/300\n",
            "Total Loss: 0.992 || Val Loss: 1.139 \n",
            "Start Train\n"
          ]
        },
        {
          "output_type": "stream",
          "name": "stderr",
          "text": [
            "Epoch 95/300: 100%|██████████| 247/247 [00:42<00:00,  5.77it/s, lr=7.67e-5, roi_cls=0.29, roi_loc=0.601, rpn_cls=0.0491, rpn_loc=0.0509, total_loss=0.991]\n"
          ]
        },
        {
          "output_type": "stream",
          "name": "stdout",
          "text": [
            "Finish Train\n",
            "Start Validation\n"
          ]
        },
        {
          "output_type": "stream",
          "name": "stderr",
          "text": [
            "Epoch 95/300: 100%|██████████| 27/27 [00:03<00:00,  6.97it/s, val_loss=1.18]\n"
          ]
        },
        {
          "output_type": "stream",
          "name": "stdout",
          "text": [
            "Finish Validation\n",
            "Get map.\n"
          ]
        },
        {
          "output_type": "stream",
          "name": "stderr",
          "text": [
            "100%|██████████| 55/55 [00:04<00:00, 11.15it/s]\n"
          ]
        },
        {
          "output_type": "stream",
          "name": "stdout",
          "text": [
            "Calculate Map.\n",
            "loading annotations into memory...\n",
            "Done (t=0.01s)\n",
            "creating index...\n",
            "index created!\n",
            "Loading and preparing results...\n",
            "DONE (t=0.01s)\n",
            "creating index...\n",
            "index created!\n",
            "Running per image evaluation...\n",
            "Evaluate annotation type *bbox*\n",
            "DONE (t=0.79s).\n",
            "Accumulating evaluation results...\n",
            "DONE (t=0.11s).\n",
            " Average Precision  (AP) @[ IoU=0.50:0.95 | area=   all | maxDets=100 ] = 0.467\n",
            " Average Precision  (AP) @[ IoU=0.50      | area=   all | maxDets=100 ] = 0.760\n",
            " Average Precision  (AP) @[ IoU=0.75      | area=   all | maxDets=100 ] = 0.509\n",
            " Average Precision  (AP) @[ IoU=0.50:0.95 | area= small | maxDets=100 ] = 0.223\n",
            " Average Precision  (AP) @[ IoU=0.50:0.95 | area=medium | maxDets=100 ] = 0.404\n",
            " Average Precision  (AP) @[ IoU=0.50:0.95 | area= large | maxDets=100 ] = 0.573\n",
            " Average Recall     (AR) @[ IoU=0.50:0.95 | area=   all | maxDets=  1 ] = 0.149\n",
            " Average Recall     (AR) @[ IoU=0.50:0.95 | area=   all | maxDets= 10 ] = 0.488\n",
            " Average Recall     (AR) @[ IoU=0.50:0.95 | area=   all | maxDets=100 ] = 0.555\n",
            " Average Recall     (AR) @[ IoU=0.50:0.95 | area= small | maxDets=100 ] = 0.342\n",
            " Average Recall     (AR) @[ IoU=0.50:0.95 | area=medium | maxDets=100 ] = 0.501\n",
            " Average Recall     (AR) @[ IoU=0.50:0.95 | area= large | maxDets=100 ] = 0.648\n",
            "Get map done.\n",
            "Epoch:95/300\n",
            "Total Loss: 0.991 || Val Loss: 1.185 \n",
            "Start Train\n"
          ]
        },
        {
          "output_type": "stream",
          "name": "stderr",
          "text": [
            "Epoch 96/300: 100%|██████████| 247/247 [00:42<00:00,  5.79it/s, lr=7.62e-5, roi_cls=0.285, roi_loc=0.588, rpn_cls=0.0441, rpn_loc=0.0476, total_loss=0.965]\n"
          ]
        },
        {
          "output_type": "stream",
          "name": "stdout",
          "text": [
            "Finish Train\n",
            "Start Validation\n"
          ]
        },
        {
          "output_type": "stream",
          "name": "stderr",
          "text": [
            "Epoch 96/300: 100%|██████████| 27/27 [00:03<00:00,  7.07it/s, val_loss=1.12]\n"
          ]
        },
        {
          "output_type": "stream",
          "name": "stdout",
          "text": [
            "Finish Validation\n",
            "Epoch:96/300\n",
            "Total Loss: 0.965 || Val Loss: 1.123 \n",
            "Start Train\n"
          ]
        },
        {
          "output_type": "stream",
          "name": "stderr",
          "text": [
            "Epoch 97/300: 100%|██████████| 247/247 [00:42<00:00,  5.79it/s, lr=7.57e-5, roi_cls=0.285, roi_loc=0.584, rpn_cls=0.0454, rpn_loc=0.0515, total_loss=0.966]\n"
          ]
        },
        {
          "output_type": "stream",
          "name": "stdout",
          "text": [
            "Finish Train\n",
            "Start Validation\n"
          ]
        },
        {
          "output_type": "stream",
          "name": "stderr",
          "text": [
            "Epoch 97/300: 100%|██████████| 27/27 [00:03<00:00,  6.95it/s, val_loss=1.14]\n"
          ]
        },
        {
          "output_type": "stream",
          "name": "stdout",
          "text": [
            "Finish Validation\n",
            "Epoch:97/300\n",
            "Total Loss: 0.966 || Val Loss: 1.145 \n",
            "Start Train\n"
          ]
        },
        {
          "output_type": "stream",
          "name": "stderr",
          "text": [
            "Epoch 98/300: 100%|██████████| 247/247 [00:42<00:00,  5.82it/s, lr=7.52e-5, roi_cls=0.295, roi_loc=0.602, rpn_cls=0.049, rpn_loc=0.0539, total_loss=1]\n"
          ]
        },
        {
          "output_type": "stream",
          "name": "stdout",
          "text": [
            "Finish Train\n",
            "Start Validation\n"
          ]
        },
        {
          "output_type": "stream",
          "name": "stderr",
          "text": [
            "Epoch 98/300: 100%|██████████| 27/27 [00:03<00:00,  6.95it/s, val_loss=1.16]\n"
          ]
        },
        {
          "output_type": "stream",
          "name": "stdout",
          "text": [
            "Finish Validation\n",
            "Epoch:98/300\n",
            "Total Loss: 1.000 || Val Loss: 1.158 \n",
            "Start Train\n"
          ]
        },
        {
          "output_type": "stream",
          "name": "stderr",
          "text": [
            "Epoch 99/300: 100%|██████████| 247/247 [00:42<00:00,  5.83it/s, lr=7.48e-5, roi_cls=0.287, roi_loc=0.581, rpn_cls=0.045, rpn_loc=0.0494, total_loss=0.962]\n"
          ]
        },
        {
          "output_type": "stream",
          "name": "stdout",
          "text": [
            "Finish Train\n",
            "Start Validation\n"
          ]
        },
        {
          "output_type": "stream",
          "name": "stderr",
          "text": [
            "Epoch 99/300: 100%|██████████| 27/27 [00:03<00:00,  7.24it/s, val_loss=1.09]\n"
          ]
        },
        {
          "output_type": "stream",
          "name": "stdout",
          "text": [
            "Finish Validation\n",
            "Epoch:99/300\n",
            "Total Loss: 0.962 || Val Loss: 1.091 \n",
            "Start Train\n"
          ]
        },
        {
          "output_type": "stream",
          "name": "stderr",
          "text": [
            "Epoch 100/300: 100%|██████████| 247/247 [00:42<00:00,  5.82it/s, lr=7.43e-5, roi_cls=0.291, roi_loc=0.586, rpn_cls=0.0444, rpn_loc=0.0498, total_loss=0.972]\n"
          ]
        },
        {
          "output_type": "stream",
          "name": "stdout",
          "text": [
            "Finish Train\n",
            "Start Validation\n"
          ]
        },
        {
          "output_type": "stream",
          "name": "stderr",
          "text": [
            "Epoch 100/300: 100%|██████████| 27/27 [00:03<00:00,  7.15it/s, val_loss=1.2]\n"
          ]
        },
        {
          "output_type": "stream",
          "name": "stdout",
          "text": [
            "Finish Validation\n",
            "Get map.\n"
          ]
        },
        {
          "output_type": "stream",
          "name": "stderr",
          "text": [
            "100%|██████████| 55/55 [00:04<00:00, 11.68it/s]\n"
          ]
        },
        {
          "output_type": "stream",
          "name": "stdout",
          "text": [
            "Calculate Map.\n",
            "loading annotations into memory...\n",
            "Done (t=0.01s)\n",
            "creating index...\n",
            "index created!\n",
            "Loading and preparing results...\n",
            "DONE (t=0.24s)\n",
            "creating index...\n",
            "index created!\n",
            "Running per image evaluation...\n",
            "Evaluate annotation type *bbox*\n",
            "DONE (t=0.73s).\n",
            "Accumulating evaluation results...\n",
            "DONE (t=0.10s).\n",
            " Average Precision  (AP) @[ IoU=0.50:0.95 | area=   all | maxDets=100 ] = 0.471\n",
            " Average Precision  (AP) @[ IoU=0.50      | area=   all | maxDets=100 ] = 0.774\n",
            " Average Precision  (AP) @[ IoU=0.75      | area=   all | maxDets=100 ] = 0.512\n",
            " Average Precision  (AP) @[ IoU=0.50:0.95 | area= small | maxDets=100 ] = 0.262\n",
            " Average Precision  (AP) @[ IoU=0.50:0.95 | area=medium | maxDets=100 ] = 0.407\n",
            " Average Precision  (AP) @[ IoU=0.50:0.95 | area= large | maxDets=100 ] = 0.583\n",
            " Average Recall     (AR) @[ IoU=0.50:0.95 | area=   all | maxDets=  1 ] = 0.148\n",
            " Average Recall     (AR) @[ IoU=0.50:0.95 | area=   all | maxDets= 10 ] = 0.501\n",
            " Average Recall     (AR) @[ IoU=0.50:0.95 | area=   all | maxDets=100 ] = 0.553\n",
            " Average Recall     (AR) @[ IoU=0.50:0.95 | area= small | maxDets=100 ] = 0.306\n",
            " Average Recall     (AR) @[ IoU=0.50:0.95 | area=medium | maxDets=100 ] = 0.497\n",
            " Average Recall     (AR) @[ IoU=0.50:0.95 | area= large | maxDets=100 ] = 0.657\n",
            "Get map done.\n",
            "Epoch:100/300\n",
            "Total Loss: 0.972 || Val Loss: 1.205 \n",
            "Start Train\n"
          ]
        },
        {
          "output_type": "stream",
          "name": "stderr",
          "text": [
            "Epoch 101/300: 100%|██████████| 247/247 [00:41<00:00,  5.91it/s, lr=7.38e-5, roi_cls=0.284, roi_loc=0.58, rpn_cls=0.0483, rpn_loc=0.0543, total_loss=0.966]\n"
          ]
        },
        {
          "output_type": "stream",
          "name": "stdout",
          "text": [
            "Finish Train\n",
            "Start Validation\n"
          ]
        },
        {
          "output_type": "stream",
          "name": "stderr",
          "text": [
            "Epoch 101/300: 100%|██████████| 27/27 [00:03<00:00,  7.15it/s, val_loss=1.16]\n"
          ]
        },
        {
          "output_type": "stream",
          "name": "stdout",
          "text": [
            "Finish Validation\n",
            "Epoch:101/300\n",
            "Total Loss: 0.966 || Val Loss: 1.163 \n",
            "Start Train\n"
          ]
        },
        {
          "output_type": "stream",
          "name": "stderr",
          "text": [
            "Epoch 102/300: 100%|██████████| 247/247 [00:41<00:00,  5.94it/s, lr=7.33e-5, roi_cls=0.285, roi_loc=0.587, rpn_cls=0.0424, rpn_loc=0.0486, total_loss=0.963]\n"
          ]
        },
        {
          "output_type": "stream",
          "name": "stdout",
          "text": [
            "Finish Train\n",
            "Start Validation\n"
          ]
        },
        {
          "output_type": "stream",
          "name": "stderr",
          "text": [
            "Epoch 102/300: 100%|██████████| 27/27 [00:03<00:00,  7.11it/s, val_loss=1.15]\n"
          ]
        },
        {
          "output_type": "stream",
          "name": "stdout",
          "text": [
            "Finish Validation\n",
            "Epoch:102/300\n",
            "Total Loss: 0.963 || Val Loss: 1.147 \n",
            "Start Train\n"
          ]
        },
        {
          "output_type": "stream",
          "name": "stderr",
          "text": [
            "Epoch 103/300: 100%|██████████| 247/247 [00:41<00:00,  5.92it/s, lr=7.28e-5, roi_cls=0.291, roi_loc=0.599, rpn_cls=0.0508, rpn_loc=0.0496, total_loss=0.99]\n"
          ]
        },
        {
          "output_type": "stream",
          "name": "stdout",
          "text": [
            "Finish Train\n",
            "Start Validation\n"
          ]
        },
        {
          "output_type": "stream",
          "name": "stderr",
          "text": [
            "Epoch 103/300: 100%|██████████| 27/27 [00:03<00:00,  7.06it/s, val_loss=1.16]\n"
          ]
        },
        {
          "output_type": "stream",
          "name": "stdout",
          "text": [
            "Finish Validation\n",
            "Epoch:103/300\n",
            "Total Loss: 0.990 || Val Loss: 1.158 \n",
            "Start Train\n"
          ]
        },
        {
          "output_type": "stream",
          "name": "stderr",
          "text": [
            "Epoch 104/300: 100%|██████████| 247/247 [00:41<00:00,  5.89it/s, lr=7.23e-5, roi_cls=0.287, roi_loc=0.578, rpn_cls=0.0484, rpn_loc=0.0471, total_loss=0.961]\n"
          ]
        },
        {
          "output_type": "stream",
          "name": "stdout",
          "text": [
            "Finish Train\n",
            "Start Validation\n"
          ]
        },
        {
          "output_type": "stream",
          "name": "stderr",
          "text": [
            "Epoch 104/300: 100%|██████████| 27/27 [00:03<00:00,  7.11it/s, val_loss=1.14]\n"
          ]
        },
        {
          "output_type": "stream",
          "name": "stdout",
          "text": [
            "Finish Validation\n",
            "Epoch:104/300\n",
            "Total Loss: 0.961 || Val Loss: 1.135 \n",
            "Start Train\n"
          ]
        },
        {
          "output_type": "stream",
          "name": "stderr",
          "text": [
            "Epoch 105/300: 100%|██████████| 247/247 [00:42<00:00,  5.86it/s, lr=7.18e-5, roi_cls=0.285, roi_loc=0.592, rpn_cls=0.0431, rpn_loc=0.0494, total_loss=0.969]\n"
          ]
        },
        {
          "output_type": "stream",
          "name": "stdout",
          "text": [
            "Finish Train\n",
            "Start Validation\n"
          ]
        },
        {
          "output_type": "stream",
          "name": "stderr",
          "text": [
            "Epoch 105/300: 100%|██████████| 27/27 [00:03<00:00,  7.13it/s, val_loss=1.18]\n"
          ]
        },
        {
          "output_type": "stream",
          "name": "stdout",
          "text": [
            "Finish Validation\n",
            "Get map.\n"
          ]
        },
        {
          "output_type": "stream",
          "name": "stderr",
          "text": [
            "100%|██████████| 55/55 [00:04<00:00, 11.72it/s]\n"
          ]
        },
        {
          "output_type": "stream",
          "name": "stdout",
          "text": [
            "Calculate Map.\n",
            "loading annotations into memory...\n",
            "Done (t=0.01s)\n",
            "creating index...\n",
            "index created!\n",
            "Loading and preparing results...\n",
            "DONE (t=0.01s)\n",
            "creating index...\n",
            "index created!\n",
            "Running per image evaluation...\n",
            "Evaluate annotation type *bbox*\n",
            "DONE (t=0.72s).\n",
            "Accumulating evaluation results...\n",
            "DONE (t=0.10s).\n",
            " Average Precision  (AP) @[ IoU=0.50:0.95 | area=   all | maxDets=100 ] = 0.470\n",
            " Average Precision  (AP) @[ IoU=0.50      | area=   all | maxDets=100 ] = 0.774\n",
            " Average Precision  (AP) @[ IoU=0.75      | area=   all | maxDets=100 ] = 0.510\n",
            " Average Precision  (AP) @[ IoU=0.50:0.95 | area= small | maxDets=100 ] = 0.284\n",
            " Average Precision  (AP) @[ IoU=0.50:0.95 | area=medium | maxDets=100 ] = 0.420\n",
            " Average Precision  (AP) @[ IoU=0.50:0.95 | area= large | maxDets=100 ] = 0.559\n",
            " Average Recall     (AR) @[ IoU=0.50:0.95 | area=   all | maxDets=  1 ] = 0.145\n",
            " Average Recall     (AR) @[ IoU=0.50:0.95 | area=   all | maxDets= 10 ] = 0.497\n",
            " Average Recall     (AR) @[ IoU=0.50:0.95 | area=   all | maxDets=100 ] = 0.552\n",
            " Average Recall     (AR) @[ IoU=0.50:0.95 | area= small | maxDets=100 ] = 0.398\n",
            " Average Recall     (AR) @[ IoU=0.50:0.95 | area=medium | maxDets=100 ] = 0.508\n",
            " Average Recall     (AR) @[ IoU=0.50:0.95 | area= large | maxDets=100 ] = 0.629\n",
            "Get map done.\n",
            "Epoch:105/300\n",
            "Total Loss: 0.969 || Val Loss: 1.181 \n",
            "Start Train\n"
          ]
        },
        {
          "output_type": "stream",
          "name": "stderr",
          "text": [
            "Epoch 106/300: 100%|██████████| 247/247 [00:41<00:00,  5.89it/s, lr=7.13e-5, roi_cls=0.282, roi_loc=0.584, rpn_cls=0.0474, rpn_loc=0.0519, total_loss=0.965]\n"
          ]
        },
        {
          "output_type": "stream",
          "name": "stdout",
          "text": [
            "Finish Train\n",
            "Start Validation\n"
          ]
        },
        {
          "output_type": "stream",
          "name": "stderr",
          "text": [
            "Epoch 106/300: 100%|██████████| 27/27 [00:03<00:00,  7.21it/s, val_loss=1.16]\n"
          ]
        },
        {
          "output_type": "stream",
          "name": "stdout",
          "text": [
            "Finish Validation\n",
            "Epoch:106/300\n",
            "Total Loss: 0.965 || Val Loss: 1.160 \n",
            "Start Train\n"
          ]
        },
        {
          "output_type": "stream",
          "name": "stderr",
          "text": [
            "Epoch 107/300: 100%|██████████| 247/247 [00:41<00:00,  5.90it/s, lr=7.08e-5, roi_cls=0.287, roi_loc=0.579, rpn_cls=0.0441, rpn_loc=0.0499, total_loss=0.96]\n"
          ]
        },
        {
          "output_type": "stream",
          "name": "stdout",
          "text": [
            "Finish Train\n",
            "Start Validation\n"
          ]
        },
        {
          "output_type": "stream",
          "name": "stderr",
          "text": [
            "Epoch 107/300: 100%|██████████| 27/27 [00:03<00:00,  7.13it/s, val_loss=1.17]\n"
          ]
        },
        {
          "output_type": "stream",
          "name": "stdout",
          "text": [
            "Finish Validation\n",
            "Epoch:107/300\n",
            "Total Loss: 0.960 || Val Loss: 1.168 \n",
            "Start Train\n"
          ]
        },
        {
          "output_type": "stream",
          "name": "stderr",
          "text": [
            "Epoch 108/300: 100%|██████████| 247/247 [00:41<00:00,  5.92it/s, lr=7.03e-5, roi_cls=0.276, roi_loc=0.586, rpn_cls=0.0439, rpn_loc=0.0456, total_loss=0.952]\n"
          ]
        },
        {
          "output_type": "stream",
          "name": "stdout",
          "text": [
            "Finish Train\n",
            "Start Validation\n"
          ]
        },
        {
          "output_type": "stream",
          "name": "stderr",
          "text": [
            "Epoch 108/300: 100%|██████████| 27/27 [00:03<00:00,  7.32it/s, val_loss=1.16]\n"
          ]
        },
        {
          "output_type": "stream",
          "name": "stdout",
          "text": [
            "Finish Validation\n",
            "Epoch:108/300\n",
            "Total Loss: 0.952 || Val Loss: 1.157 \n",
            "Start Train\n"
          ]
        },
        {
          "output_type": "stream",
          "name": "stderr",
          "text": [
            "Epoch 109/300: 100%|██████████| 247/247 [00:41<00:00,  5.91it/s, lr=6.98e-5, roi_cls=0.277, roi_loc=0.575, rpn_cls=0.0479, rpn_loc=0.055, total_loss=0.954]\n"
          ]
        },
        {
          "output_type": "stream",
          "name": "stdout",
          "text": [
            "Finish Train\n",
            "Start Validation\n"
          ]
        },
        {
          "output_type": "stream",
          "name": "stderr",
          "text": [
            "Epoch 109/300: 100%|██████████| 27/27 [00:03<00:00,  7.22it/s, val_loss=1.12]\n"
          ]
        },
        {
          "output_type": "stream",
          "name": "stdout",
          "text": [
            "Finish Validation\n",
            "Epoch:109/300\n",
            "Total Loss: 0.954 || Val Loss: 1.121 \n",
            "Start Train\n"
          ]
        },
        {
          "output_type": "stream",
          "name": "stderr",
          "text": [
            "Epoch 110/300: 100%|██████████| 247/247 [00:41<00:00,  5.92it/s, lr=6.93e-5, roi_cls=0.284, roi_loc=0.563, rpn_cls=0.0433, rpn_loc=0.0496, total_loss=0.94]\n"
          ]
        },
        {
          "output_type": "stream",
          "name": "stdout",
          "text": [
            "Finish Train\n",
            "Start Validation\n"
          ]
        },
        {
          "output_type": "stream",
          "name": "stderr",
          "text": [
            "Epoch 110/300: 100%|██████████| 27/27 [00:03<00:00,  7.19it/s, val_loss=1.13]\n"
          ]
        },
        {
          "output_type": "stream",
          "name": "stdout",
          "text": [
            "Finish Validation\n",
            "Get map.\n"
          ]
        },
        {
          "output_type": "stream",
          "name": "stderr",
          "text": [
            "100%|██████████| 55/55 [00:04<00:00, 11.69it/s]\n"
          ]
        },
        {
          "output_type": "stream",
          "name": "stdout",
          "text": [
            "Calculate Map.\n",
            "loading annotations into memory...\n",
            "Done (t=0.01s)\n",
            "creating index...\n",
            "index created!\n",
            "Loading and preparing results...\n",
            "DONE (t=0.01s)\n",
            "creating index...\n",
            "index created!\n",
            "Running per image evaluation...\n",
            "Evaluate annotation type *bbox*\n",
            "DONE (t=0.76s).\n",
            "Accumulating evaluation results...\n",
            "DONE (t=0.11s).\n",
            " Average Precision  (AP) @[ IoU=0.50:0.95 | area=   all | maxDets=100 ] = 0.486\n",
            " Average Precision  (AP) @[ IoU=0.50      | area=   all | maxDets=100 ] = 0.785\n",
            " Average Precision  (AP) @[ IoU=0.75      | area=   all | maxDets=100 ] = 0.549\n",
            " Average Precision  (AP) @[ IoU=0.50:0.95 | area= small | maxDets=100 ] = 0.311\n",
            " Average Precision  (AP) @[ IoU=0.50:0.95 | area=medium | maxDets=100 ] = 0.423\n",
            " Average Precision  (AP) @[ IoU=0.50:0.95 | area= large | maxDets=100 ] = 0.589\n",
            " Average Recall     (AR) @[ IoU=0.50:0.95 | area=   all | maxDets=  1 ] = 0.149\n",
            " Average Recall     (AR) @[ IoU=0.50:0.95 | area=   all | maxDets= 10 ] = 0.515\n",
            " Average Recall     (AR) @[ IoU=0.50:0.95 | area=   all | maxDets=100 ] = 0.571\n",
            " Average Recall     (AR) @[ IoU=0.50:0.95 | area= small | maxDets=100 ] = 0.438\n",
            " Average Recall     (AR) @[ IoU=0.50:0.95 | area=medium | maxDets=100 ] = 0.517\n",
            " Average Recall     (AR) @[ IoU=0.50:0.95 | area= large | maxDets=100 ] = 0.662\n",
            "Get map done.\n",
            "Epoch:110/300\n",
            "Total Loss: 0.940 || Val Loss: 1.128 \n",
            "Start Train\n"
          ]
        },
        {
          "output_type": "stream",
          "name": "stderr",
          "text": [
            "Epoch 111/300: 100%|██████████| 247/247 [00:41<00:00,  5.89it/s, lr=6.88e-5, roi_cls=0.278, roi_loc=0.584, rpn_cls=0.0466, rpn_loc=0.0482, total_loss=0.957]\n"
          ]
        },
        {
          "output_type": "stream",
          "name": "stdout",
          "text": [
            "Finish Train\n",
            "Start Validation\n"
          ]
        },
        {
          "output_type": "stream",
          "name": "stderr",
          "text": [
            "Epoch 111/300: 100%|██████████| 27/27 [00:03<00:00,  7.09it/s, val_loss=1.17]\n"
          ]
        },
        {
          "output_type": "stream",
          "name": "stdout",
          "text": [
            "Finish Validation\n",
            "Epoch:111/300\n",
            "Total Loss: 0.957 || Val Loss: 1.174 \n",
            "Start Train\n"
          ]
        },
        {
          "output_type": "stream",
          "name": "stderr",
          "text": [
            "Epoch 112/300: 100%|██████████| 247/247 [00:41<00:00,  5.97it/s, lr=6.83e-5, roi_cls=0.293, roi_loc=0.587, rpn_cls=0.0452, rpn_loc=0.0586, total_loss=0.984]\n"
          ]
        },
        {
          "output_type": "stream",
          "name": "stdout",
          "text": [
            "Finish Train\n",
            "Start Validation\n"
          ]
        },
        {
          "output_type": "stream",
          "name": "stderr",
          "text": [
            "Epoch 112/300: 100%|██████████| 27/27 [00:03<00:00,  7.12it/s, val_loss=1.13]\n"
          ]
        },
        {
          "output_type": "stream",
          "name": "stdout",
          "text": [
            "Finish Validation\n",
            "Epoch:112/300\n",
            "Total Loss: 0.984 || Val Loss: 1.127 \n",
            "Start Train\n"
          ]
        },
        {
          "output_type": "stream",
          "name": "stderr",
          "text": [
            "Epoch 113/300: 100%|██████████| 247/247 [00:41<00:00,  5.98it/s, lr=6.78e-5, roi_cls=0.273, roi_loc=0.576, rpn_cls=0.0435, rpn_loc=0.0488, total_loss=0.942]\n"
          ]
        },
        {
          "output_type": "stream",
          "name": "stdout",
          "text": [
            "Finish Train\n",
            "Start Validation\n"
          ]
        },
        {
          "output_type": "stream",
          "name": "stderr",
          "text": [
            "Epoch 113/300: 100%|██████████| 27/27 [00:03<00:00,  7.20it/s, val_loss=1.14]\n"
          ]
        },
        {
          "output_type": "stream",
          "name": "stdout",
          "text": [
            "Finish Validation\n",
            "Epoch:113/300\n",
            "Total Loss: 0.942 || Val Loss: 1.143 \n",
            "Start Train\n"
          ]
        },
        {
          "output_type": "stream",
          "name": "stderr",
          "text": [
            "Epoch 114/300: 100%|██████████| 247/247 [00:41<00:00,  5.88it/s, lr=6.73e-5, roi_cls=0.272, roi_loc=0.57, rpn_cls=0.0456, rpn_loc=0.0434, total_loss=0.931]\n"
          ]
        },
        {
          "output_type": "stream",
          "name": "stdout",
          "text": [
            "Finish Train\n",
            "Start Validation\n"
          ]
        },
        {
          "output_type": "stream",
          "name": "stderr",
          "text": [
            "Epoch 114/300: 100%|██████████| 27/27 [00:03<00:00,  7.18it/s, val_loss=1.12]\n"
          ]
        },
        {
          "output_type": "stream",
          "name": "stdout",
          "text": [
            "Finish Validation\n",
            "Epoch:114/300\n",
            "Total Loss: 0.931 || Val Loss: 1.120 \n",
            "Start Train\n"
          ]
        },
        {
          "output_type": "stream",
          "name": "stderr",
          "text": [
            "Epoch 115/300: 100%|██████████| 247/247 [00:41<00:00,  5.96it/s, lr=6.67e-5, roi_cls=0.277, roi_loc=0.564, rpn_cls=0.0402, rpn_loc=0.0471, total_loss=0.928]\n"
          ]
        },
        {
          "output_type": "stream",
          "name": "stdout",
          "text": [
            "Finish Train\n",
            "Start Validation\n"
          ]
        },
        {
          "output_type": "stream",
          "name": "stderr",
          "text": [
            "Epoch 115/300: 100%|██████████| 27/27 [00:03<00:00,  7.30it/s, val_loss=1.08]\n"
          ]
        },
        {
          "output_type": "stream",
          "name": "stdout",
          "text": [
            "Finish Validation\n",
            "Get map.\n"
          ]
        },
        {
          "output_type": "stream",
          "name": "stderr",
          "text": [
            "100%|██████████| 55/55 [00:04<00:00, 11.52it/s]\n"
          ]
        },
        {
          "output_type": "stream",
          "name": "stdout",
          "text": [
            "Calculate Map.\n",
            "loading annotations into memory...\n",
            "Done (t=0.01s)\n",
            "creating index...\n",
            "index created!\n",
            "Loading and preparing results...\n",
            "DONE (t=0.01s)\n",
            "creating index...\n",
            "index created!\n",
            "Running per image evaluation...\n",
            "Evaluate annotation type *bbox*\n",
            "DONE (t=0.80s).\n",
            "Accumulating evaluation results...\n",
            "DONE (t=0.11s).\n",
            " Average Precision  (AP) @[ IoU=0.50:0.95 | area=   all | maxDets=100 ] = 0.472\n",
            " Average Precision  (AP) @[ IoU=0.50      | area=   all | maxDets=100 ] = 0.779\n",
            " Average Precision  (AP) @[ IoU=0.75      | area=   all | maxDets=100 ] = 0.526\n",
            " Average Precision  (AP) @[ IoU=0.50:0.95 | area= small | maxDets=100 ] = 0.184\n",
            " Average Precision  (AP) @[ IoU=0.50:0.95 | area=medium | maxDets=100 ] = 0.414\n",
            " Average Precision  (AP) @[ IoU=0.50:0.95 | area= large | maxDets=100 ] = 0.567\n",
            " Average Recall     (AR) @[ IoU=0.50:0.95 | area=   all | maxDets=  1 ] = 0.147\n",
            " Average Recall     (AR) @[ IoU=0.50:0.95 | area=   all | maxDets= 10 ] = 0.499\n",
            " Average Recall     (AR) @[ IoU=0.50:0.95 | area=   all | maxDets=100 ] = 0.554\n",
            " Average Recall     (AR) @[ IoU=0.50:0.95 | area= small | maxDets=100 ] = 0.367\n",
            " Average Recall     (AR) @[ IoU=0.50:0.95 | area=medium | maxDets=100 ] = 0.499\n",
            " Average Recall     (AR) @[ IoU=0.50:0.95 | area= large | maxDets=100 ] = 0.644\n",
            "Get map done.\n",
            "Epoch:115/300\n",
            "Total Loss: 0.928 || Val Loss: 1.081 \n",
            "Start Train\n"
          ]
        },
        {
          "output_type": "stream",
          "name": "stderr",
          "text": [
            "Epoch 116/300: 100%|██████████| 247/247 [00:41<00:00,  5.93it/s, lr=6.62e-5, roi_cls=0.273, roi_loc=0.554, rpn_cls=0.0439, rpn_loc=0.0505, total_loss=0.922]\n"
          ]
        },
        {
          "output_type": "stream",
          "name": "stdout",
          "text": [
            "Finish Train\n",
            "Start Validation\n"
          ]
        },
        {
          "output_type": "stream",
          "name": "stderr",
          "text": [
            "Epoch 116/300: 100%|██████████| 27/27 [00:03<00:00,  7.30it/s, val_loss=1.12]\n"
          ]
        },
        {
          "output_type": "stream",
          "name": "stdout",
          "text": [
            "Finish Validation\n",
            "Epoch:116/300\n",
            "Total Loss: 0.922 || Val Loss: 1.115 \n",
            "Start Train\n"
          ]
        },
        {
          "output_type": "stream",
          "name": "stderr",
          "text": [
            "Epoch 117/300: 100%|██████████| 247/247 [00:41<00:00,  5.94it/s, lr=6.57e-5, roi_cls=0.275, roi_loc=0.58, rpn_cls=0.0447, rpn_loc=0.0482, total_loss=0.948]\n"
          ]
        },
        {
          "output_type": "stream",
          "name": "stdout",
          "text": [
            "Finish Train\n",
            "Start Validation\n"
          ]
        },
        {
          "output_type": "stream",
          "name": "stderr",
          "text": [
            "Epoch 117/300: 100%|██████████| 27/27 [00:03<00:00,  7.20it/s, val_loss=1.11]\n"
          ]
        },
        {
          "output_type": "stream",
          "name": "stdout",
          "text": [
            "Finish Validation\n",
            "Epoch:117/300\n",
            "Total Loss: 0.948 || Val Loss: 1.110 \n",
            "Start Train\n"
          ]
        },
        {
          "output_type": "stream",
          "name": "stderr",
          "text": [
            "Epoch 118/300: 100%|██████████| 247/247 [00:41<00:00,  5.91it/s, lr=6.52e-5, roi_cls=0.272, roi_loc=0.573, rpn_cls=0.0457, rpn_loc=0.0496, total_loss=0.941]\n"
          ]
        },
        {
          "output_type": "stream",
          "name": "stdout",
          "text": [
            "Finish Train\n",
            "Start Validation\n"
          ]
        },
        {
          "output_type": "stream",
          "name": "stderr",
          "text": [
            "Epoch 118/300: 100%|██████████| 27/27 [00:03<00:00,  7.26it/s, val_loss=1.13]\n"
          ]
        },
        {
          "output_type": "stream",
          "name": "stdout",
          "text": [
            "Finish Validation\n",
            "Epoch:118/300\n",
            "Total Loss: 0.941 || Val Loss: 1.127 \n",
            "Start Train\n"
          ]
        },
        {
          "output_type": "stream",
          "name": "stderr",
          "text": [
            "Epoch 119/300: 100%|██████████| 247/247 [00:41<00:00,  5.91it/s, lr=6.46e-5, roi_cls=0.272, roi_loc=0.579, rpn_cls=0.0415, rpn_loc=0.0517, total_loss=0.945]\n"
          ]
        },
        {
          "output_type": "stream",
          "name": "stdout",
          "text": [
            "Finish Train\n",
            "Start Validation\n"
          ]
        },
        {
          "output_type": "stream",
          "name": "stderr",
          "text": [
            "Epoch 119/300: 100%|██████████| 27/27 [00:03<00:00,  7.22it/s, val_loss=1.16]\n"
          ]
        },
        {
          "output_type": "stream",
          "name": "stdout",
          "text": [
            "Finish Validation\n",
            "Epoch:119/300\n",
            "Total Loss: 0.945 || Val Loss: 1.165 \n",
            "Start Train\n"
          ]
        },
        {
          "output_type": "stream",
          "name": "stderr",
          "text": [
            "Epoch 120/300: 100%|██████████| 247/247 [00:42<00:00,  5.84it/s, lr=6.41e-5, roi_cls=0.275, roi_loc=0.571, rpn_cls=0.0435, rpn_loc=0.0526, total_loss=0.942]\n"
          ]
        },
        {
          "output_type": "stream",
          "name": "stdout",
          "text": [
            "Finish Train\n",
            "Start Validation\n"
          ]
        },
        {
          "output_type": "stream",
          "name": "stderr",
          "text": [
            "Epoch 120/300: 100%|██████████| 27/27 [00:03<00:00,  7.28it/s, val_loss=1.14]\n"
          ]
        },
        {
          "output_type": "stream",
          "name": "stdout",
          "text": [
            "Finish Validation\n",
            "Get map.\n"
          ]
        },
        {
          "output_type": "stream",
          "name": "stderr",
          "text": [
            "100%|██████████| 55/55 [00:04<00:00, 11.60it/s]\n"
          ]
        },
        {
          "output_type": "stream",
          "name": "stdout",
          "text": [
            "Calculate Map.\n",
            "loading annotations into memory...\n",
            "Done (t=0.01s)\n",
            "creating index...\n",
            "index created!\n",
            "Loading and preparing results...\n",
            "DONE (t=0.01s)\n",
            "creating index...\n",
            "index created!\n",
            "Running per image evaluation...\n",
            "Evaluate annotation type *bbox*\n",
            "DONE (t=0.72s).\n",
            "Accumulating evaluation results...\n",
            "DONE (t=0.10s).\n",
            " Average Precision  (AP) @[ IoU=0.50:0.95 | area=   all | maxDets=100 ] = 0.472\n",
            " Average Precision  (AP) @[ IoU=0.50      | area=   all | maxDets=100 ] = 0.775\n",
            " Average Precision  (AP) @[ IoU=0.75      | area=   all | maxDets=100 ] = 0.544\n",
            " Average Precision  (AP) @[ IoU=0.50:0.95 | area= small | maxDets=100 ] = 0.255\n",
            " Average Precision  (AP) @[ IoU=0.50:0.95 | area=medium | maxDets=100 ] = 0.411\n",
            " Average Precision  (AP) @[ IoU=0.50:0.95 | area= large | maxDets=100 ] = 0.576\n",
            " Average Recall     (AR) @[ IoU=0.50:0.95 | area=   all | maxDets=  1 ] = 0.144\n",
            " Average Recall     (AR) @[ IoU=0.50:0.95 | area=   all | maxDets= 10 ] = 0.502\n",
            " Average Recall     (AR) @[ IoU=0.50:0.95 | area=   all | maxDets=100 ] = 0.559\n",
            " Average Recall     (AR) @[ IoU=0.50:0.95 | area= small | maxDets=100 ] = 0.360\n",
            " Average Recall     (AR) @[ IoU=0.50:0.95 | area=medium | maxDets=100 ] = 0.508\n",
            " Average Recall     (AR) @[ IoU=0.50:0.95 | area= large | maxDets=100 ] = 0.651\n",
            "Get map done.\n",
            "Epoch:120/300\n",
            "Total Loss: 0.942 || Val Loss: 1.145 \n",
            "Start Train\n"
          ]
        },
        {
          "output_type": "stream",
          "name": "stderr",
          "text": [
            "Epoch 121/300: 100%|██████████| 247/247 [00:41<00:00,  5.88it/s, lr=6.36e-5, roi_cls=0.269, roi_loc=0.568, rpn_cls=0.0446, rpn_loc=0.048, total_loss=0.929]\n"
          ]
        },
        {
          "output_type": "stream",
          "name": "stdout",
          "text": [
            "Finish Train\n",
            "Start Validation\n"
          ]
        },
        {
          "output_type": "stream",
          "name": "stderr",
          "text": [
            "Epoch 121/300: 100%|██████████| 27/27 [00:03<00:00,  7.21it/s, val_loss=1.14]\n"
          ]
        },
        {
          "output_type": "stream",
          "name": "stdout",
          "text": [
            "Finish Validation\n",
            "Epoch:121/300\n",
            "Total Loss: 0.929 || Val Loss: 1.137 \n",
            "Start Train\n"
          ]
        },
        {
          "output_type": "stream",
          "name": "stderr",
          "text": [
            "Epoch 122/300: 100%|██████████| 247/247 [00:41<00:00,  5.96it/s, lr=6.3e-5, roi_cls=0.267, roi_loc=0.562, rpn_cls=0.0435, rpn_loc=0.0464, total_loss=0.919]\n"
          ]
        },
        {
          "output_type": "stream",
          "name": "stdout",
          "text": [
            "Finish Train\n",
            "Start Validation\n"
          ]
        },
        {
          "output_type": "stream",
          "name": "stderr",
          "text": [
            "Epoch 122/300: 100%|██████████| 27/27 [00:03<00:00,  7.19it/s, val_loss=1.18]\n"
          ]
        },
        {
          "output_type": "stream",
          "name": "stdout",
          "text": [
            "Finish Validation\n",
            "Epoch:122/300\n",
            "Total Loss: 0.919 || Val Loss: 1.176 \n",
            "Start Train\n"
          ]
        },
        {
          "output_type": "stream",
          "name": "stderr",
          "text": [
            "Epoch 123/300: 100%|██████████| 247/247 [00:41<00:00,  5.91it/s, lr=6.25e-5, roi_cls=0.271, roi_loc=0.55, rpn_cls=0.0435, rpn_loc=0.0444, total_loss=0.909]\n"
          ]
        },
        {
          "output_type": "stream",
          "name": "stdout",
          "text": [
            "Finish Train\n",
            "Start Validation\n"
          ]
        },
        {
          "output_type": "stream",
          "name": "stderr",
          "text": [
            "Epoch 123/300: 100%|██████████| 27/27 [00:03<00:00,  7.15it/s, val_loss=1.13]\n"
          ]
        },
        {
          "output_type": "stream",
          "name": "stdout",
          "text": [
            "Finish Validation\n",
            "Epoch:123/300\n",
            "Total Loss: 0.909 || Val Loss: 1.127 \n",
            "Start Train\n"
          ]
        },
        {
          "output_type": "stream",
          "name": "stderr",
          "text": [
            "Epoch 124/300: 100%|██████████| 247/247 [00:41<00:00,  5.91it/s, lr=6.2e-5, roi_cls=0.268, roi_loc=0.564, rpn_cls=0.0404, rpn_loc=0.0447, total_loss=0.918]\n"
          ]
        },
        {
          "output_type": "stream",
          "name": "stdout",
          "text": [
            "Finish Train\n",
            "Start Validation\n"
          ]
        },
        {
          "output_type": "stream",
          "name": "stderr",
          "text": [
            "Epoch 124/300: 100%|██████████| 27/27 [00:03<00:00,  7.41it/s, val_loss=1.17]\n"
          ]
        },
        {
          "output_type": "stream",
          "name": "stdout",
          "text": [
            "Finish Validation\n",
            "Epoch:124/300\n",
            "Total Loss: 0.918 || Val Loss: 1.168 \n",
            "Start Train\n"
          ]
        },
        {
          "output_type": "stream",
          "name": "stderr",
          "text": [
            "Epoch 125/300: 100%|██████████| 247/247 [00:41<00:00,  5.93it/s, lr=6.14e-5, roi_cls=0.268, roi_loc=0.57, rpn_cls=0.0432, rpn_loc=0.0445, total_loss=0.925]\n"
          ]
        },
        {
          "output_type": "stream",
          "name": "stdout",
          "text": [
            "Finish Train\n",
            "Start Validation\n"
          ]
        },
        {
          "output_type": "stream",
          "name": "stderr",
          "text": [
            "Epoch 125/300: 100%|██████████| 27/27 [00:03<00:00,  7.34it/s, val_loss=1.11]\n"
          ]
        },
        {
          "output_type": "stream",
          "name": "stdout",
          "text": [
            "Finish Validation\n",
            "Get map.\n"
          ]
        },
        {
          "output_type": "stream",
          "name": "stderr",
          "text": [
            "100%|██████████| 55/55 [00:04<00:00, 11.60it/s]\n"
          ]
        },
        {
          "output_type": "stream",
          "name": "stdout",
          "text": [
            "Calculate Map.\n",
            "loading annotations into memory...\n",
            "Done (t=0.01s)\n",
            "creating index...\n",
            "index created!\n",
            "Loading and preparing results...\n",
            "DONE (t=0.01s)\n",
            "creating index...\n",
            "index created!\n",
            "Running per image evaluation...\n",
            "Evaluate annotation type *bbox*\n",
            "DONE (t=0.75s).\n",
            "Accumulating evaluation results...\n",
            "DONE (t=0.10s).\n",
            " Average Precision  (AP) @[ IoU=0.50:0.95 | area=   all | maxDets=100 ] = 0.479\n",
            " Average Precision  (AP) @[ IoU=0.50      | area=   all | maxDets=100 ] = 0.767\n",
            " Average Precision  (AP) @[ IoU=0.75      | area=   all | maxDets=100 ] = 0.532\n",
            " Average Precision  (AP) @[ IoU=0.50:0.95 | area= small | maxDets=100 ] = 0.153\n",
            " Average Precision  (AP) @[ IoU=0.50:0.95 | area=medium | maxDets=100 ] = 0.411\n",
            " Average Precision  (AP) @[ IoU=0.50:0.95 | area= large | maxDets=100 ] = 0.576\n",
            " Average Recall     (AR) @[ IoU=0.50:0.95 | area=   all | maxDets=  1 ] = 0.147\n",
            " Average Recall     (AR) @[ IoU=0.50:0.95 | area=   all | maxDets= 10 ] = 0.508\n",
            " Average Recall     (AR) @[ IoU=0.50:0.95 | area=   all | maxDets=100 ] = 0.564\n",
            " Average Recall     (AR) @[ IoU=0.50:0.95 | area= small | maxDets=100 ] = 0.296\n",
            " Average Recall     (AR) @[ IoU=0.50:0.95 | area=medium | maxDets=100 ] = 0.511\n",
            " Average Recall     (AR) @[ IoU=0.50:0.95 | area= large | maxDets=100 ] = 0.643\n",
            "Get map done.\n",
            "Epoch:125/300\n",
            "Total Loss: 0.925 || Val Loss: 1.115 \n",
            "Start Train\n"
          ]
        },
        {
          "output_type": "stream",
          "name": "stderr",
          "text": [
            "Epoch 126/300: 100%|██████████| 247/247 [00:41<00:00,  5.93it/s, lr=6.09e-5, roi_cls=0.267, roi_loc=0.566, rpn_cls=0.0408, rpn_loc=0.0477, total_loss=0.921]\n"
          ]
        },
        {
          "output_type": "stream",
          "name": "stdout",
          "text": [
            "Finish Train\n",
            "Start Validation\n"
          ]
        },
        {
          "output_type": "stream",
          "name": "stderr",
          "text": [
            "Epoch 126/300: 100%|██████████| 27/27 [00:03<00:00,  7.20it/s, val_loss=1.13]\n"
          ]
        },
        {
          "output_type": "stream",
          "name": "stdout",
          "text": [
            "Finish Validation\n",
            "Epoch:126/300\n",
            "Total Loss: 0.921 || Val Loss: 1.129 \n",
            "Start Train\n"
          ]
        },
        {
          "output_type": "stream",
          "name": "stderr",
          "text": [
            "Epoch 127/300: 100%|██████████| 247/247 [00:41<00:00,  5.98it/s, lr=6.04e-5, roi_cls=0.264, roi_loc=0.558, rpn_cls=0.0425, rpn_loc=0.0457, total_loss=0.911]\n"
          ]
        },
        {
          "output_type": "stream",
          "name": "stdout",
          "text": [
            "Finish Train\n",
            "Start Validation\n"
          ]
        },
        {
          "output_type": "stream",
          "name": "stderr",
          "text": [
            "Epoch 127/300: 100%|██████████| 27/27 [00:03<00:00,  7.28it/s, val_loss=1.15]\n"
          ]
        },
        {
          "output_type": "stream",
          "name": "stdout",
          "text": [
            "Finish Validation\n",
            "Epoch:127/300\n",
            "Total Loss: 0.911 || Val Loss: 1.146 \n",
            "Start Train\n"
          ]
        },
        {
          "output_type": "stream",
          "name": "stderr",
          "text": [
            "Epoch 128/300: 100%|██████████| 247/247 [00:41<00:00,  5.93it/s, lr=5.98e-5, roi_cls=0.264, roi_loc=0.565, rpn_cls=0.0405, rpn_loc=0.0476, total_loss=0.917]\n"
          ]
        },
        {
          "output_type": "stream",
          "name": "stdout",
          "text": [
            "Finish Train\n",
            "Start Validation\n"
          ]
        },
        {
          "output_type": "stream",
          "name": "stderr",
          "text": [
            "Epoch 128/300: 100%|██████████| 27/27 [00:03<00:00,  7.22it/s, val_loss=1.19]\n"
          ]
        },
        {
          "output_type": "stream",
          "name": "stdout",
          "text": [
            "Finish Validation\n",
            "Epoch:128/300\n",
            "Total Loss: 0.917 || Val Loss: 1.192 \n",
            "Start Train\n"
          ]
        },
        {
          "output_type": "stream",
          "name": "stderr",
          "text": [
            "Epoch 129/300: 100%|██████████| 247/247 [00:41<00:00,  5.90it/s, lr=5.93e-5, roi_cls=0.265, roi_loc=0.561, rpn_cls=0.0429, rpn_loc=0.0448, total_loss=0.913]\n"
          ]
        },
        {
          "output_type": "stream",
          "name": "stdout",
          "text": [
            "Finish Train\n",
            "Start Validation\n"
          ]
        },
        {
          "output_type": "stream",
          "name": "stderr",
          "text": [
            "Epoch 129/300: 100%|██████████| 27/27 [00:03<00:00,  7.16it/s, val_loss=1.13]\n"
          ]
        },
        {
          "output_type": "stream",
          "name": "stdout",
          "text": [
            "Finish Validation\n",
            "Epoch:129/300\n",
            "Total Loss: 0.913 || Val Loss: 1.131 \n",
            "Start Train\n"
          ]
        },
        {
          "output_type": "stream",
          "name": "stderr",
          "text": [
            "Epoch 130/300: 100%|██████████| 247/247 [00:41<00:00,  5.89it/s, lr=5.87e-5, roi_cls=0.269, roi_loc=0.563, rpn_cls=0.0441, rpn_loc=0.0428, total_loss=0.919]\n"
          ]
        },
        {
          "output_type": "stream",
          "name": "stdout",
          "text": [
            "Finish Train\n",
            "Start Validation\n"
          ]
        },
        {
          "output_type": "stream",
          "name": "stderr",
          "text": [
            "Epoch 130/300: 100%|██████████| 27/27 [00:03<00:00,  7.14it/s, val_loss=1.12]\n"
          ]
        },
        {
          "output_type": "stream",
          "name": "stdout",
          "text": [
            "Finish Validation\n",
            "Get map.\n"
          ]
        },
        {
          "output_type": "stream",
          "name": "stderr",
          "text": [
            "100%|██████████| 55/55 [00:04<00:00, 11.52it/s]\n"
          ]
        },
        {
          "output_type": "stream",
          "name": "stdout",
          "text": [
            "Calculate Map.\n",
            "loading annotations into memory...\n",
            "Done (t=0.01s)\n",
            "creating index...\n",
            "index created!\n",
            "Loading and preparing results...\n",
            "DONE (t=0.01s)\n",
            "creating index...\n",
            "index created!\n",
            "Running per image evaluation...\n",
            "Evaluate annotation type *bbox*\n",
            "DONE (t=0.76s).\n",
            "Accumulating evaluation results...\n",
            "DONE (t=0.10s).\n",
            " Average Precision  (AP) @[ IoU=0.50:0.95 | area=   all | maxDets=100 ] = 0.490\n",
            " Average Precision  (AP) @[ IoU=0.50      | area=   all | maxDets=100 ] = 0.782\n",
            " Average Precision  (AP) @[ IoU=0.75      | area=   all | maxDets=100 ] = 0.576\n",
            " Average Precision  (AP) @[ IoU=0.50:0.95 | area= small | maxDets=100 ] = 0.213\n",
            " Average Precision  (AP) @[ IoU=0.50:0.95 | area=medium | maxDets=100 ] = 0.427\n",
            " Average Precision  (AP) @[ IoU=0.50:0.95 | area= large | maxDets=100 ] = 0.596\n",
            " Average Recall     (AR) @[ IoU=0.50:0.95 | area=   all | maxDets=  1 ] = 0.155\n",
            " Average Recall     (AR) @[ IoU=0.50:0.95 | area=   all | maxDets= 10 ] = 0.511\n",
            " Average Recall     (AR) @[ IoU=0.50:0.95 | area=   all | maxDets=100 ] = 0.570\n",
            " Average Recall     (AR) @[ IoU=0.50:0.95 | area= small | maxDets=100 ] = 0.281\n",
            " Average Recall     (AR) @[ IoU=0.50:0.95 | area=medium | maxDets=100 ] = 0.518\n",
            " Average Recall     (AR) @[ IoU=0.50:0.95 | area= large | maxDets=100 ] = 0.662\n",
            "Get map done.\n",
            "Epoch:130/300\n",
            "Total Loss: 0.919 || Val Loss: 1.122 \n",
            "Start Train\n"
          ]
        },
        {
          "output_type": "stream",
          "name": "stderr",
          "text": [
            "Epoch 131/300: 100%|██████████| 247/247 [00:42<00:00,  5.87it/s, lr=5.82e-5, roi_cls=0.261, roi_loc=0.557, rpn_cls=0.0409, rpn_loc=0.0458, total_loss=0.904]\n"
          ]
        },
        {
          "output_type": "stream",
          "name": "stdout",
          "text": [
            "Finish Train\n",
            "Start Validation\n"
          ]
        },
        {
          "output_type": "stream",
          "name": "stderr",
          "text": [
            "Epoch 131/300: 100%|██████████| 27/27 [00:03<00:00,  7.14it/s, val_loss=1.15]\n"
          ]
        },
        {
          "output_type": "stream",
          "name": "stdout",
          "text": [
            "Finish Validation\n",
            "Epoch:131/300\n",
            "Total Loss: 0.904 || Val Loss: 1.148 \n",
            "Start Train\n"
          ]
        },
        {
          "output_type": "stream",
          "name": "stderr",
          "text": [
            "Epoch 132/300: 100%|██████████| 247/247 [00:41<00:00,  5.92it/s, lr=5.76e-5, roi_cls=0.26, roi_loc=0.552, rpn_cls=0.0407, rpn_loc=0.0458, total_loss=0.899]\n"
          ]
        },
        {
          "output_type": "stream",
          "name": "stdout",
          "text": [
            "Finish Train\n",
            "Start Validation\n"
          ]
        },
        {
          "output_type": "stream",
          "name": "stderr",
          "text": [
            "Epoch 132/300: 100%|██████████| 27/27 [00:03<00:00,  7.12it/s, val_loss=1.13]\n"
          ]
        },
        {
          "output_type": "stream",
          "name": "stdout",
          "text": [
            "Finish Validation\n",
            "Epoch:132/300\n",
            "Total Loss: 0.899 || Val Loss: 1.135 \n",
            "Start Train\n"
          ]
        },
        {
          "output_type": "stream",
          "name": "stderr",
          "text": [
            "Epoch 133/300: 100%|██████████| 247/247 [00:41<00:00,  5.93it/s, lr=5.71e-5, roi_cls=0.267, roi_loc=0.578, rpn_cls=0.0446, rpn_loc=0.0476, total_loss=0.937]\n"
          ]
        },
        {
          "output_type": "stream",
          "name": "stdout",
          "text": [
            "Finish Train\n",
            "Start Validation\n"
          ]
        },
        {
          "output_type": "stream",
          "name": "stderr",
          "text": [
            "Epoch 133/300: 100%|██████████| 27/27 [00:03<00:00,  7.29it/s, val_loss=1.16]\n"
          ]
        },
        {
          "output_type": "stream",
          "name": "stdout",
          "text": [
            "Finish Validation\n",
            "Epoch:133/300\n",
            "Total Loss: 0.937 || Val Loss: 1.155 \n",
            "Start Train\n"
          ]
        },
        {
          "output_type": "stream",
          "name": "stderr",
          "text": [
            "Epoch 134/300: 100%|██████████| 247/247 [00:42<00:00,  5.88it/s, lr=5.66e-5, roi_cls=0.266, roi_loc=0.56, rpn_cls=0.0428, rpn_loc=0.0425, total_loss=0.911]\n"
          ]
        },
        {
          "output_type": "stream",
          "name": "stdout",
          "text": [
            "Finish Train\n",
            "Start Validation\n"
          ]
        },
        {
          "output_type": "stream",
          "name": "stderr",
          "text": [
            "Epoch 134/300: 100%|██████████| 27/27 [00:03<00:00,  7.22it/s, val_loss=1.15]\n"
          ]
        },
        {
          "output_type": "stream",
          "name": "stdout",
          "text": [
            "Finish Validation\n",
            "Epoch:134/300\n",
            "Total Loss: 0.911 || Val Loss: 1.149 \n",
            "Start Train\n"
          ]
        },
        {
          "output_type": "stream",
          "name": "stderr",
          "text": [
            "Epoch 135/300: 100%|██████████| 247/247 [00:42<00:00,  5.88it/s, lr=5.6e-5, roi_cls=0.263, roi_loc=0.56, rpn_cls=0.0424, rpn_loc=0.0446, total_loss=0.91]\n"
          ]
        },
        {
          "output_type": "stream",
          "name": "stdout",
          "text": [
            "Finish Train\n",
            "Start Validation\n"
          ]
        },
        {
          "output_type": "stream",
          "name": "stderr",
          "text": [
            "Epoch 135/300: 100%|██████████| 27/27 [00:03<00:00,  7.23it/s, val_loss=1.13]\n"
          ]
        },
        {
          "output_type": "stream",
          "name": "stdout",
          "text": [
            "Finish Validation\n",
            "Get map.\n"
          ]
        },
        {
          "output_type": "stream",
          "name": "stderr",
          "text": [
            "100%|██████████| 55/55 [00:04<00:00, 11.50it/s]\n"
          ]
        },
        {
          "output_type": "stream",
          "name": "stdout",
          "text": [
            "Calculate Map.\n",
            "loading annotations into memory...\n",
            "Done (t=0.01s)\n",
            "creating index...\n",
            "index created!\n",
            "Loading and preparing results...\n",
            "DONE (t=0.01s)\n",
            "creating index...\n",
            "index created!\n",
            "Running per image evaluation...\n",
            "Evaluate annotation type *bbox*\n",
            "DONE (t=0.73s).\n",
            "Accumulating evaluation results...\n",
            "DONE (t=0.10s).\n",
            " Average Precision  (AP) @[ IoU=0.50:0.95 | area=   all | maxDets=100 ] = 0.483\n",
            " Average Precision  (AP) @[ IoU=0.50      | area=   all | maxDets=100 ] = 0.786\n",
            " Average Precision  (AP) @[ IoU=0.75      | area=   all | maxDets=100 ] = 0.551\n",
            " Average Precision  (AP) @[ IoU=0.50:0.95 | area= small | maxDets=100 ] = 0.283\n",
            " Average Precision  (AP) @[ IoU=0.50:0.95 | area=medium | maxDets=100 ] = 0.429\n",
            " Average Precision  (AP) @[ IoU=0.50:0.95 | area= large | maxDets=100 ] = 0.577\n",
            " Average Recall     (AR) @[ IoU=0.50:0.95 | area=   all | maxDets=  1 ] = 0.148\n",
            " Average Recall     (AR) @[ IoU=0.50:0.95 | area=   all | maxDets= 10 ] = 0.506\n",
            " Average Recall     (AR) @[ IoU=0.50:0.95 | area=   all | maxDets=100 ] = 0.561\n",
            " Average Recall     (AR) @[ IoU=0.50:0.95 | area= small | maxDets=100 ] = 0.337\n",
            " Average Recall     (AR) @[ IoU=0.50:0.95 | area=medium | maxDets=100 ] = 0.507\n",
            " Average Recall     (AR) @[ IoU=0.50:0.95 | area= large | maxDets=100 ] = 0.652\n",
            "Get map done.\n",
            "Epoch:135/300\n",
            "Total Loss: 0.910 || Val Loss: 1.128 \n",
            "Start Train\n"
          ]
        },
        {
          "output_type": "stream",
          "name": "stderr",
          "text": [
            "Epoch 136/300: 100%|██████████| 247/247 [00:41<00:00,  5.90it/s, lr=5.55e-5, roi_cls=0.254, roi_loc=0.55, rpn_cls=0.0415, rpn_loc=0.0466, total_loss=0.892]\n"
          ]
        },
        {
          "output_type": "stream",
          "name": "stdout",
          "text": [
            "Finish Train\n",
            "Start Validation\n"
          ]
        },
        {
          "output_type": "stream",
          "name": "stderr",
          "text": [
            "Epoch 136/300: 100%|██████████| 27/27 [00:03<00:00,  7.18it/s, val_loss=1.14]\n"
          ]
        },
        {
          "output_type": "stream",
          "name": "stdout",
          "text": [
            "Finish Validation\n",
            "Epoch:136/300\n",
            "Total Loss: 0.892 || Val Loss: 1.137 \n",
            "Start Train\n"
          ]
        },
        {
          "output_type": "stream",
          "name": "stderr",
          "text": [
            "Epoch 137/300: 100%|██████████| 247/247 [00:41<00:00,  6.00it/s, lr=5.49e-5, roi_cls=0.258, roi_loc=0.548, rpn_cls=0.0408, rpn_loc=0.0415, total_loss=0.888]\n"
          ]
        },
        {
          "output_type": "stream",
          "name": "stdout",
          "text": [
            "Finish Train\n",
            "Start Validation\n"
          ]
        },
        {
          "output_type": "stream",
          "name": "stderr",
          "text": [
            "Epoch 137/300: 100%|██████████| 27/27 [00:03<00:00,  7.35it/s, val_loss=1.14]\n"
          ]
        },
        {
          "output_type": "stream",
          "name": "stdout",
          "text": [
            "Finish Validation\n",
            "Epoch:137/300\n",
            "Total Loss: 0.888 || Val Loss: 1.140 \n",
            "Start Train\n"
          ]
        },
        {
          "output_type": "stream",
          "name": "stderr",
          "text": [
            "Epoch 138/300: 100%|██████████| 247/247 [00:41<00:00,  5.91it/s, lr=5.44e-5, roi_cls=0.261, roi_loc=0.557, rpn_cls=0.0427, rpn_loc=0.0423, total_loss=0.903]\n"
          ]
        },
        {
          "output_type": "stream",
          "name": "stdout",
          "text": [
            "Finish Train\n",
            "Start Validation\n"
          ]
        },
        {
          "output_type": "stream",
          "name": "stderr",
          "text": [
            "Epoch 138/300: 100%|██████████| 27/27 [00:03<00:00,  7.21it/s, val_loss=1.09]\n"
          ]
        },
        {
          "output_type": "stream",
          "name": "stdout",
          "text": [
            "Finish Validation\n",
            "Epoch:138/300\n",
            "Total Loss: 0.903 || Val Loss: 1.092 \n",
            "Start Train\n"
          ]
        },
        {
          "output_type": "stream",
          "name": "stderr",
          "text": [
            "Epoch 139/300: 100%|██████████| 247/247 [00:41<00:00,  5.93it/s, lr=5.38e-5, roi_cls=0.255, roi_loc=0.56, rpn_cls=0.0416, rpn_loc=0.0472, total_loss=0.904]\n"
          ]
        },
        {
          "output_type": "stream",
          "name": "stdout",
          "text": [
            "Finish Train\n",
            "Start Validation\n"
          ]
        },
        {
          "output_type": "stream",
          "name": "stderr",
          "text": [
            "Epoch 139/300: 100%|██████████| 27/27 [00:03<00:00,  7.24it/s, val_loss=1.1]\n"
          ]
        },
        {
          "output_type": "stream",
          "name": "stdout",
          "text": [
            "Finish Validation\n",
            "Epoch:139/300\n",
            "Total Loss: 0.904 || Val Loss: 1.096 \n",
            "Start Train\n"
          ]
        },
        {
          "output_type": "stream",
          "name": "stderr",
          "text": [
            "Epoch 140/300: 100%|██████████| 247/247 [00:41<00:00,  5.96it/s, lr=5.33e-5, roi_cls=0.259, roi_loc=0.562, rpn_cls=0.0375, rpn_loc=0.0439, total_loss=0.902]\n"
          ]
        },
        {
          "output_type": "stream",
          "name": "stdout",
          "text": [
            "Finish Train\n",
            "Start Validation\n"
          ]
        },
        {
          "output_type": "stream",
          "name": "stderr",
          "text": [
            "Epoch 140/300: 100%|██████████| 27/27 [00:03<00:00,  7.33it/s, val_loss=1.17]\n"
          ]
        },
        {
          "output_type": "stream",
          "name": "stdout",
          "text": [
            "Finish Validation\n",
            "Get map.\n"
          ]
        },
        {
          "output_type": "stream",
          "name": "stderr",
          "text": [
            "100%|██████████| 55/55 [00:04<00:00, 11.57it/s]\n"
          ]
        },
        {
          "output_type": "stream",
          "name": "stdout",
          "text": [
            "Calculate Map.\n",
            "loading annotations into memory...\n",
            "Done (t=0.01s)\n",
            "creating index...\n",
            "index created!\n",
            "Loading and preparing results...\n",
            "DONE (t=0.01s)\n",
            "creating index...\n",
            "index created!\n",
            "Running per image evaluation...\n",
            "Evaluate annotation type *bbox*\n",
            "DONE (t=0.72s).\n",
            "Accumulating evaluation results...\n",
            "DONE (t=0.10s).\n",
            " Average Precision  (AP) @[ IoU=0.50:0.95 | area=   all | maxDets=100 ] = 0.489\n",
            " Average Precision  (AP) @[ IoU=0.50      | area=   all | maxDets=100 ] = 0.785\n",
            " Average Precision  (AP) @[ IoU=0.75      | area=   all | maxDets=100 ] = 0.547\n",
            " Average Precision  (AP) @[ IoU=0.50:0.95 | area= small | maxDets=100 ] = 0.154\n",
            " Average Precision  (AP) @[ IoU=0.50:0.95 | area=medium | maxDets=100 ] = 0.430\n",
            " Average Precision  (AP) @[ IoU=0.50:0.95 | area= large | maxDets=100 ] = 0.598\n",
            " Average Recall     (AR) @[ IoU=0.50:0.95 | area=   all | maxDets=  1 ] = 0.147\n",
            " Average Recall     (AR) @[ IoU=0.50:0.95 | area=   all | maxDets= 10 ] = 0.518\n",
            " Average Recall     (AR) @[ IoU=0.50:0.95 | area=   all | maxDets=100 ] = 0.572\n",
            " Average Recall     (AR) @[ IoU=0.50:0.95 | area= small | maxDets=100 ] = 0.249\n",
            " Average Recall     (AR) @[ IoU=0.50:0.95 | area=medium | maxDets=100 ] = 0.516\n",
            " Average Recall     (AR) @[ IoU=0.50:0.95 | area= large | maxDets=100 ] = 0.672\n",
            "Get map done.\n",
            "Epoch:140/300\n",
            "Total Loss: 0.902 || Val Loss: 1.174 \n",
            "Start Train\n"
          ]
        },
        {
          "output_type": "stream",
          "name": "stderr",
          "text": [
            "Epoch 141/300: 100%|██████████| 247/247 [00:41<00:00,  5.89it/s, lr=5.27e-5, roi_cls=0.266, roi_loc=0.548, rpn_cls=0.0406, rpn_loc=0.0496, total_loss=0.905]\n"
          ]
        },
        {
          "output_type": "stream",
          "name": "stdout",
          "text": [
            "Finish Train\n",
            "Start Validation\n"
          ]
        },
        {
          "output_type": "stream",
          "name": "stderr",
          "text": [
            "Epoch 141/300: 100%|██████████| 27/27 [00:03<00:00,  7.10it/s, val_loss=1.12]\n"
          ]
        },
        {
          "output_type": "stream",
          "name": "stdout",
          "text": [
            "Finish Validation\n",
            "Epoch:141/300\n",
            "Total Loss: 0.905 || Val Loss: 1.119 \n",
            "Start Train\n"
          ]
        },
        {
          "output_type": "stream",
          "name": "stderr",
          "text": [
            "Epoch 142/300: 100%|██████████| 247/247 [00:42<00:00,  5.88it/s, lr=5.22e-5, roi_cls=0.253, roi_loc=0.556, rpn_cls=0.0394, rpn_loc=0.0454, total_loss=0.894]\n"
          ]
        },
        {
          "output_type": "stream",
          "name": "stdout",
          "text": [
            "Finish Train\n",
            "Start Validation\n"
          ]
        },
        {
          "output_type": "stream",
          "name": "stderr",
          "text": [
            "Epoch 142/300: 100%|██████████| 27/27 [00:03<00:00,  7.14it/s, val_loss=1.13]\n"
          ]
        },
        {
          "output_type": "stream",
          "name": "stdout",
          "text": [
            "Finish Validation\n",
            "Epoch:142/300\n",
            "Total Loss: 0.894 || Val Loss: 1.132 \n",
            "Start Train\n"
          ]
        },
        {
          "output_type": "stream",
          "name": "stderr",
          "text": [
            "Epoch 143/300: 100%|██████████| 247/247 [00:41<00:00,  5.89it/s, lr=5.16e-5, roi_cls=0.26, roi_loc=0.561, rpn_cls=0.0408, rpn_loc=0.044, total_loss=0.905]\n"
          ]
        },
        {
          "output_type": "stream",
          "name": "stdout",
          "text": [
            "Finish Train\n",
            "Start Validation\n"
          ]
        },
        {
          "output_type": "stream",
          "name": "stderr",
          "text": [
            "Epoch 143/300: 100%|██████████| 27/27 [00:03<00:00,  7.20it/s, val_loss=1.1]\n"
          ]
        },
        {
          "output_type": "stream",
          "name": "stdout",
          "text": [
            "Finish Validation\n",
            "Epoch:143/300\n",
            "Total Loss: 0.905 || Val Loss: 1.095 \n",
            "Start Train\n"
          ]
        },
        {
          "output_type": "stream",
          "name": "stderr",
          "text": [
            "Epoch 144/300: 100%|██████████| 247/247 [00:42<00:00,  5.87it/s, lr=5.11e-5, roi_cls=0.253, roi_loc=0.568, rpn_cls=0.0394, rpn_loc=0.0458, total_loss=0.906]\n"
          ]
        },
        {
          "output_type": "stream",
          "name": "stdout",
          "text": [
            "Finish Train\n",
            "Start Validation\n"
          ]
        },
        {
          "output_type": "stream",
          "name": "stderr",
          "text": [
            "Epoch 144/300: 100%|██████████| 27/27 [00:03<00:00,  7.18it/s, val_loss=1.16]\n"
          ]
        },
        {
          "output_type": "stream",
          "name": "stdout",
          "text": [
            "Finish Validation\n",
            "Epoch:144/300\n",
            "Total Loss: 0.906 || Val Loss: 1.160 \n",
            "Start Train\n"
          ]
        },
        {
          "output_type": "stream",
          "name": "stderr",
          "text": [
            "Epoch 145/300: 100%|██████████| 247/247 [00:41<00:00,  5.91it/s, lr=5.05e-5, roi_cls=0.26, roi_loc=0.541, rpn_cls=0.0445, rpn_loc=0.0449, total_loss=0.891]\n"
          ]
        },
        {
          "output_type": "stream",
          "name": "stdout",
          "text": [
            "Finish Train\n",
            "Start Validation\n"
          ]
        },
        {
          "output_type": "stream",
          "name": "stderr",
          "text": [
            "Epoch 145/300: 100%|██████████| 27/27 [00:03<00:00,  7.22it/s, val_loss=1.11]\n"
          ]
        },
        {
          "output_type": "stream",
          "name": "stdout",
          "text": [
            "Finish Validation\n",
            "Get map.\n"
          ]
        },
        {
          "output_type": "stream",
          "name": "stderr",
          "text": [
            "100%|██████████| 55/55 [00:04<00:00, 11.57it/s]\n"
          ]
        },
        {
          "output_type": "stream",
          "name": "stdout",
          "text": [
            "Calculate Map.\n",
            "loading annotations into memory...\n",
            "Done (t=0.01s)\n",
            "creating index...\n",
            "index created!\n",
            "Loading and preparing results...\n",
            "DONE (t=0.01s)\n",
            "creating index...\n",
            "index created!\n",
            "Running per image evaluation...\n",
            "Evaluate annotation type *bbox*\n",
            "DONE (t=0.70s).\n",
            "Accumulating evaluation results...\n",
            "DONE (t=0.10s).\n",
            " Average Precision  (AP) @[ IoU=0.50:0.95 | area=   all | maxDets=100 ] = 0.484\n",
            " Average Precision  (AP) @[ IoU=0.50      | area=   all | maxDets=100 ] = 0.784\n",
            " Average Precision  (AP) @[ IoU=0.75      | area=   all | maxDets=100 ] = 0.536\n",
            " Average Precision  (AP) @[ IoU=0.50:0.95 | area= small | maxDets=100 ] = 0.245\n",
            " Average Precision  (AP) @[ IoU=0.50:0.95 | area=medium | maxDets=100 ] = 0.421\n",
            " Average Precision  (AP) @[ IoU=0.50:0.95 | area= large | maxDets=100 ] = 0.582\n",
            " Average Recall     (AR) @[ IoU=0.50:0.95 | area=   all | maxDets=  1 ] = 0.151\n",
            " Average Recall     (AR) @[ IoU=0.50:0.95 | area=   all | maxDets= 10 ] = 0.507\n",
            " Average Recall     (AR) @[ IoU=0.50:0.95 | area=   all | maxDets=100 ] = 0.561\n",
            " Average Recall     (AR) @[ IoU=0.50:0.95 | area= small | maxDets=100 ] = 0.288\n",
            " Average Recall     (AR) @[ IoU=0.50:0.95 | area=medium | maxDets=100 ] = 0.507\n",
            " Average Recall     (AR) @[ IoU=0.50:0.95 | area= large | maxDets=100 ] = 0.648\n",
            "Get map done.\n",
            "Epoch:145/300\n",
            "Total Loss: 0.891 || Val Loss: 1.106 \n",
            "Start Train\n"
          ]
        },
        {
          "output_type": "stream",
          "name": "stderr",
          "text": [
            "Epoch 146/300: 100%|██████████| 247/247 [00:41<00:00,  5.91it/s, lr=4.99e-5, roi_cls=0.256, roi_loc=0.556, rpn_cls=0.0377, rpn_loc=0.0451, total_loss=0.895]\n"
          ]
        },
        {
          "output_type": "stream",
          "name": "stdout",
          "text": [
            "Finish Train\n",
            "Start Validation\n"
          ]
        },
        {
          "output_type": "stream",
          "name": "stderr",
          "text": [
            "Epoch 146/300: 100%|██████████| 27/27 [00:03<00:00,  7.12it/s, val_loss=1.14]\n"
          ]
        },
        {
          "output_type": "stream",
          "name": "stdout",
          "text": [
            "Finish Validation\n",
            "Epoch:146/300\n",
            "Total Loss: 0.895 || Val Loss: 1.144 \n",
            "Start Train\n"
          ]
        },
        {
          "output_type": "stream",
          "name": "stderr",
          "text": [
            "Epoch 147/300: 100%|██████████| 247/247 [00:41<00:00,  5.95it/s, lr=4.94e-5, roi_cls=0.257, roi_loc=0.559, rpn_cls=0.0423, rpn_loc=0.0452, total_loss=0.903]\n"
          ]
        },
        {
          "output_type": "stream",
          "name": "stdout",
          "text": [
            "Finish Train\n",
            "Start Validation\n"
          ]
        },
        {
          "output_type": "stream",
          "name": "stderr",
          "text": [
            "Epoch 147/300: 100%|██████████| 27/27 [00:03<00:00,  7.24it/s, val_loss=1.09]\n"
          ]
        },
        {
          "output_type": "stream",
          "name": "stdout",
          "text": [
            "Finish Validation\n",
            "Epoch:147/300\n",
            "Total Loss: 0.903 || Val Loss: 1.092 \n",
            "Start Train\n"
          ]
        },
        {
          "output_type": "stream",
          "name": "stderr",
          "text": [
            "Epoch 148/300: 100%|██████████| 247/247 [00:41<00:00,  5.93it/s, lr=4.88e-5, roi_cls=0.249, roi_loc=0.556, rpn_cls=0.0422, rpn_loc=0.0433, total_loss=0.89]\n"
          ]
        },
        {
          "output_type": "stream",
          "name": "stdout",
          "text": [
            "Finish Train\n",
            "Start Validation\n"
          ]
        },
        {
          "output_type": "stream",
          "name": "stderr",
          "text": [
            "Epoch 148/300: 100%|██████████| 27/27 [00:03<00:00,  7.17it/s, val_loss=1.07]\n"
          ]
        },
        {
          "output_type": "stream",
          "name": "stdout",
          "text": [
            "Finish Validation\n",
            "Epoch:148/300\n",
            "Total Loss: 0.890 || Val Loss: 1.066 \n",
            "Start Train\n"
          ]
        },
        {
          "output_type": "stream",
          "name": "stderr",
          "text": [
            "Epoch 149/300: 100%|██████████| 247/247 [00:41<00:00,  5.93it/s, lr=4.83e-5, roi_cls=0.259, roi_loc=0.552, rpn_cls=0.0421, rpn_loc=0.0442, total_loss=0.897]\n"
          ]
        },
        {
          "output_type": "stream",
          "name": "stdout",
          "text": [
            "Finish Train\n",
            "Start Validation\n"
          ]
        },
        {
          "output_type": "stream",
          "name": "stderr",
          "text": [
            "Epoch 149/300: 100%|██████████| 27/27 [00:03<00:00,  7.11it/s, val_loss=1.06]\n"
          ]
        },
        {
          "output_type": "stream",
          "name": "stdout",
          "text": [
            "Finish Validation\n",
            "Epoch:149/300\n",
            "Total Loss: 0.897 || Val Loss: 1.063 \n",
            "Start Train\n"
          ]
        },
        {
          "output_type": "stream",
          "name": "stderr",
          "text": [
            "Epoch 150/300: 100%|██████████| 247/247 [00:41<00:00,  5.94it/s, lr=4.77e-5, roi_cls=0.246, roi_loc=0.542, rpn_cls=0.0416, rpn_loc=0.0441, total_loss=0.874]\n"
          ]
        },
        {
          "output_type": "stream",
          "name": "stdout",
          "text": [
            "Finish Train\n",
            "Start Validation\n"
          ]
        },
        {
          "output_type": "stream",
          "name": "stderr",
          "text": [
            "Epoch 150/300: 100%|██████████| 27/27 [00:03<00:00,  7.31it/s, val_loss=1.08]\n"
          ]
        },
        {
          "output_type": "stream",
          "name": "stdout",
          "text": [
            "Finish Validation\n",
            "Get map.\n"
          ]
        },
        {
          "output_type": "stream",
          "name": "stderr",
          "text": [
            "100%|██████████| 55/55 [00:04<00:00, 11.63it/s]\n"
          ]
        },
        {
          "output_type": "stream",
          "name": "stdout",
          "text": [
            "Calculate Map.\n",
            "loading annotations into memory...\n",
            "Done (t=0.01s)\n",
            "creating index...\n",
            "index created!\n",
            "Loading and preparing results...\n",
            "DONE (t=0.01s)\n",
            "creating index...\n",
            "index created!\n",
            "Running per image evaluation...\n",
            "Evaluate annotation type *bbox*\n",
            "DONE (t=0.75s).\n",
            "Accumulating evaluation results...\n",
            "DONE (t=0.10s).\n",
            " Average Precision  (AP) @[ IoU=0.50:0.95 | area=   all | maxDets=100 ] = 0.479\n",
            " Average Precision  (AP) @[ IoU=0.50      | area=   all | maxDets=100 ] = 0.781\n",
            " Average Precision  (AP) @[ IoU=0.75      | area=   all | maxDets=100 ] = 0.540\n",
            " Average Precision  (AP) @[ IoU=0.50:0.95 | area= small | maxDets=100 ] = 0.207\n",
            " Average Precision  (AP) @[ IoU=0.50:0.95 | area=medium | maxDets=100 ] = 0.421\n",
            " Average Precision  (AP) @[ IoU=0.50:0.95 | area= large | maxDets=100 ] = 0.574\n",
            " Average Recall     (AR) @[ IoU=0.50:0.95 | area=   all | maxDets=  1 ] = 0.149\n",
            " Average Recall     (AR) @[ IoU=0.50:0.95 | area=   all | maxDets= 10 ] = 0.504\n",
            " Average Recall     (AR) @[ IoU=0.50:0.95 | area=   all | maxDets=100 ] = 0.559\n",
            " Average Recall     (AR) @[ IoU=0.50:0.95 | area= small | maxDets=100 ] = 0.338\n",
            " Average Recall     (AR) @[ IoU=0.50:0.95 | area=medium | maxDets=100 ] = 0.511\n",
            " Average Recall     (AR) @[ IoU=0.50:0.95 | area= large | maxDets=100 ] = 0.637\n",
            "Get map done.\n",
            "Epoch:150/300\n",
            "Total Loss: 0.874 || Val Loss: 1.084 \n",
            "Start Train\n"
          ]
        },
        {
          "output_type": "stream",
          "name": "stderr",
          "text": [
            "Epoch 151/300: 100%|██████████| 247/247 [00:41<00:00,  5.90it/s, lr=4.72e-5, roi_cls=0.243, roi_loc=0.542, rpn_cls=0.0382, rpn_loc=0.0437, total_loss=0.867]\n"
          ]
        },
        {
          "output_type": "stream",
          "name": "stdout",
          "text": [
            "Finish Train\n",
            "Start Validation\n"
          ]
        },
        {
          "output_type": "stream",
          "name": "stderr",
          "text": [
            "Epoch 151/300: 100%|██████████| 27/27 [00:03<00:00,  7.24it/s, val_loss=1.11]\n"
          ]
        },
        {
          "output_type": "stream",
          "name": "stdout",
          "text": [
            "Finish Validation\n",
            "Epoch:151/300\n",
            "Total Loss: 0.867 || Val Loss: 1.106 \n",
            "Start Train\n"
          ]
        },
        {
          "output_type": "stream",
          "name": "stderr",
          "text": [
            "Epoch 152/300: 100%|██████████| 247/247 [00:41<00:00,  5.90it/s, lr=4.66e-5, roi_cls=0.243, roi_loc=0.541, rpn_cls=0.0386, rpn_loc=0.0441, total_loss=0.867]\n"
          ]
        },
        {
          "output_type": "stream",
          "name": "stdout",
          "text": [
            "Finish Train\n",
            "Start Validation\n"
          ]
        },
        {
          "output_type": "stream",
          "name": "stderr",
          "text": [
            "Epoch 152/300: 100%|██████████| 27/27 [00:03<00:00,  7.36it/s, val_loss=1.15]\n"
          ]
        },
        {
          "output_type": "stream",
          "name": "stdout",
          "text": [
            "Finish Validation\n",
            "Epoch:152/300\n",
            "Total Loss: 0.867 || Val Loss: 1.154 \n",
            "Start Train\n"
          ]
        },
        {
          "output_type": "stream",
          "name": "stderr",
          "text": [
            "Epoch 153/300: 100%|██████████| 247/247 [00:41<00:00,  5.96it/s, lr=4.61e-5, roi_cls=0.254, roi_loc=0.55, rpn_cls=0.0391, rpn_loc=0.0473, total_loss=0.89]\n"
          ]
        },
        {
          "output_type": "stream",
          "name": "stdout",
          "text": [
            "Finish Train\n",
            "Start Validation\n"
          ]
        },
        {
          "output_type": "stream",
          "name": "stderr",
          "text": [
            "Epoch 153/300: 100%|██████████| 27/27 [00:03<00:00,  7.15it/s, val_loss=1.17]\n"
          ]
        },
        {
          "output_type": "stream",
          "name": "stdout",
          "text": [
            "Finish Validation\n",
            "Epoch:153/300\n",
            "Total Loss: 0.890 || Val Loss: 1.173 \n",
            "Start Train\n"
          ]
        },
        {
          "output_type": "stream",
          "name": "stderr",
          "text": [
            "Epoch 154/300: 100%|██████████| 247/247 [00:41<00:00,  5.91it/s, lr=4.55e-5, roi_cls=0.251, roi_loc=0.554, rpn_cls=0.0408, rpn_loc=0.044, total_loss=0.889]\n"
          ]
        },
        {
          "output_type": "stream",
          "name": "stdout",
          "text": [
            "Finish Train\n",
            "Start Validation\n"
          ]
        },
        {
          "output_type": "stream",
          "name": "stderr",
          "text": [
            "Epoch 154/300: 100%|██████████| 27/27 [00:03<00:00,  7.46it/s, val_loss=1.08]\n"
          ]
        },
        {
          "output_type": "stream",
          "name": "stdout",
          "text": [
            "Finish Validation\n",
            "Epoch:154/300\n",
            "Total Loss: 0.889 || Val Loss: 1.075 \n",
            "Start Train\n"
          ]
        },
        {
          "output_type": "stream",
          "name": "stderr",
          "text": [
            "Epoch 155/300: 100%|██████████| 247/247 [00:41<00:00,  5.95it/s, lr=4.5e-5, roi_cls=0.245, roi_loc=0.545, rpn_cls=0.0391, rpn_loc=0.0416, total_loss=0.87]\n"
          ]
        },
        {
          "output_type": "stream",
          "name": "stdout",
          "text": [
            "Finish Train\n",
            "Start Validation\n"
          ]
        },
        {
          "output_type": "stream",
          "name": "stderr",
          "text": [
            "Epoch 155/300: 100%|██████████| 27/27 [00:03<00:00,  7.21it/s, val_loss=1.14]\n"
          ]
        },
        {
          "output_type": "stream",
          "name": "stdout",
          "text": [
            "Finish Validation\n",
            "Get map.\n"
          ]
        },
        {
          "output_type": "stream",
          "name": "stderr",
          "text": [
            "100%|██████████| 55/55 [00:04<00:00, 11.44it/s]\n"
          ]
        },
        {
          "output_type": "stream",
          "name": "stdout",
          "text": [
            "Calculate Map.\n",
            "loading annotations into memory...\n",
            "Done (t=0.24s)\n",
            "creating index...\n",
            "index created!\n",
            "Loading and preparing results...\n",
            "DONE (t=0.01s)\n",
            "creating index...\n",
            "index created!\n",
            "Running per image evaluation...\n",
            "Evaluate annotation type *bbox*\n",
            "DONE (t=0.74s).\n",
            "Accumulating evaluation results...\n",
            "DONE (t=0.10s).\n",
            " Average Precision  (AP) @[ IoU=0.50:0.95 | area=   all | maxDets=100 ] = 0.490\n",
            " Average Precision  (AP) @[ IoU=0.50      | area=   all | maxDets=100 ] = 0.780\n",
            " Average Precision  (AP) @[ IoU=0.75      | area=   all | maxDets=100 ] = 0.543\n",
            " Average Precision  (AP) @[ IoU=0.50:0.95 | area= small | maxDets=100 ] = 0.331\n",
            " Average Precision  (AP) @[ IoU=0.50:0.95 | area=medium | maxDets=100 ] = 0.422\n",
            " Average Precision  (AP) @[ IoU=0.50:0.95 | area= large | maxDets=100 ] = 0.591\n",
            " Average Recall     (AR) @[ IoU=0.50:0.95 | area=   all | maxDets=  1 ] = 0.155\n",
            " Average Recall     (AR) @[ IoU=0.50:0.95 | area=   all | maxDets= 10 ] = 0.510\n",
            " Average Recall     (AR) @[ IoU=0.50:0.95 | area=   all | maxDets=100 ] = 0.572\n",
            " Average Recall     (AR) @[ IoU=0.50:0.95 | area= small | maxDets=100 ] = 0.375\n",
            " Average Recall     (AR) @[ IoU=0.50:0.95 | area=medium | maxDets=100 ] = 0.515\n",
            " Average Recall     (AR) @[ IoU=0.50:0.95 | area= large | maxDets=100 ] = 0.665\n",
            "Get map done.\n",
            "Epoch:155/300\n",
            "Total Loss: 0.870 || Val Loss: 1.136 \n",
            "Start Train\n"
          ]
        },
        {
          "output_type": "stream",
          "name": "stderr",
          "text": [
            "Epoch 156/300: 100%|██████████| 247/247 [00:41<00:00,  5.89it/s, lr=4.44e-5, roi_cls=0.241, roi_loc=0.534, rpn_cls=0.0368, rpn_loc=0.0447, total_loss=0.856]\n"
          ]
        },
        {
          "output_type": "stream",
          "name": "stdout",
          "text": [
            "Finish Train\n",
            "Start Validation\n"
          ]
        },
        {
          "output_type": "stream",
          "name": "stderr",
          "text": [
            "Epoch 156/300: 100%|██████████| 27/27 [00:03<00:00,  7.14it/s, val_loss=1.16]\n"
          ]
        },
        {
          "output_type": "stream",
          "name": "stdout",
          "text": [
            "Finish Validation\n",
            "Epoch:156/300\n",
            "Total Loss: 0.856 || Val Loss: 1.158 \n",
            "Start Train\n"
          ]
        },
        {
          "output_type": "stream",
          "name": "stderr",
          "text": [
            "Epoch 157/300: 100%|██████████| 247/247 [00:41<00:00,  5.89it/s, lr=4.39e-5, roi_cls=0.253, roi_loc=0.546, rpn_cls=0.0369, rpn_loc=0.0442, total_loss=0.88]\n"
          ]
        },
        {
          "output_type": "stream",
          "name": "stdout",
          "text": [
            "Finish Train\n",
            "Start Validation\n"
          ]
        },
        {
          "output_type": "stream",
          "name": "stderr",
          "text": [
            "Epoch 157/300: 100%|██████████| 27/27 [00:03<00:00,  7.12it/s, val_loss=1.18]\n"
          ]
        },
        {
          "output_type": "stream",
          "name": "stdout",
          "text": [
            "Finish Validation\n",
            "Epoch:157/300\n",
            "Total Loss: 0.880 || Val Loss: 1.184 \n",
            "Start Train\n"
          ]
        },
        {
          "output_type": "stream",
          "name": "stderr",
          "text": [
            "Epoch 158/300: 100%|██████████| 247/247 [00:42<00:00,  5.88it/s, lr=4.34e-5, roi_cls=0.24, roi_loc=0.531, rpn_cls=0.037, rpn_loc=0.0447, total_loss=0.852]\n"
          ]
        },
        {
          "output_type": "stream",
          "name": "stdout",
          "text": [
            "Finish Train\n",
            "Start Validation\n"
          ]
        },
        {
          "output_type": "stream",
          "name": "stderr",
          "text": [
            "Epoch 158/300: 100%|██████████| 27/27 [00:03<00:00,  7.25it/s, val_loss=1.14]\n"
          ]
        },
        {
          "output_type": "stream",
          "name": "stdout",
          "text": [
            "Finish Validation\n",
            "Epoch:158/300\n",
            "Total Loss: 0.852 || Val Loss: 1.138 \n",
            "Start Train\n"
          ]
        },
        {
          "output_type": "stream",
          "name": "stderr",
          "text": [
            "Epoch 159/300: 100%|██████████| 247/247 [00:41<00:00,  5.96it/s, lr=4.28e-5, roi_cls=0.25, roi_loc=0.541, rpn_cls=0.0385, rpn_loc=0.0424, total_loss=0.872]\n"
          ]
        },
        {
          "output_type": "stream",
          "name": "stdout",
          "text": [
            "Finish Train\n",
            "Start Validation\n"
          ]
        },
        {
          "output_type": "stream",
          "name": "stderr",
          "text": [
            "Epoch 159/300: 100%|██████████| 27/27 [00:03<00:00,  7.12it/s, val_loss=1.06]\n"
          ]
        },
        {
          "output_type": "stream",
          "name": "stdout",
          "text": [
            "Finish Validation\n",
            "Epoch:159/300\n",
            "Total Loss: 0.872 || Val Loss: 1.059 \n",
            "Start Train\n"
          ]
        },
        {
          "output_type": "stream",
          "name": "stderr",
          "text": [
            "Epoch 160/300: 100%|██████████| 247/247 [00:41<00:00,  5.93it/s, lr=4.23e-5, roi_cls=0.24, roi_loc=0.543, rpn_cls=0.041, rpn_loc=0.0422, total_loss=0.867]\n"
          ]
        },
        {
          "output_type": "stream",
          "name": "stdout",
          "text": [
            "Finish Train\n",
            "Start Validation\n"
          ]
        },
        {
          "output_type": "stream",
          "name": "stderr",
          "text": [
            "Epoch 160/300: 100%|██████████| 27/27 [00:03<00:00,  7.29it/s, val_loss=1.16]\n"
          ]
        },
        {
          "output_type": "stream",
          "name": "stdout",
          "text": [
            "Finish Validation\n",
            "Get map.\n"
          ]
        },
        {
          "output_type": "stream",
          "name": "stderr",
          "text": [
            "100%|██████████| 55/55 [00:04<00:00, 11.53it/s]\n"
          ]
        },
        {
          "output_type": "stream",
          "name": "stdout",
          "text": [
            "Calculate Map.\n",
            "loading annotations into memory...\n",
            "Done (t=0.01s)\n",
            "creating index...\n",
            "index created!\n",
            "Loading and preparing results...\n",
            "DONE (t=0.01s)\n",
            "creating index...\n",
            "index created!\n",
            "Running per image evaluation...\n",
            "Evaluate annotation type *bbox*\n",
            "DONE (t=0.70s).\n",
            "Accumulating evaluation results...\n",
            "DONE (t=0.10s).\n",
            " Average Precision  (AP) @[ IoU=0.50:0.95 | area=   all | maxDets=100 ] = 0.483\n",
            " Average Precision  (AP) @[ IoU=0.50      | area=   all | maxDets=100 ] = 0.778\n",
            " Average Precision  (AP) @[ IoU=0.75      | area=   all | maxDets=100 ] = 0.554\n",
            " Average Precision  (AP) @[ IoU=0.50:0.95 | area= small | maxDets=100 ] = 0.208\n",
            " Average Precision  (AP) @[ IoU=0.50:0.95 | area=medium | maxDets=100 ] = 0.426\n",
            " Average Precision  (AP) @[ IoU=0.50:0.95 | area= large | maxDets=100 ] = 0.575\n",
            " Average Recall     (AR) @[ IoU=0.50:0.95 | area=   all | maxDets=  1 ] = 0.152\n",
            " Average Recall     (AR) @[ IoU=0.50:0.95 | area=   all | maxDets= 10 ] = 0.507\n",
            " Average Recall     (AR) @[ IoU=0.50:0.95 | area=   all | maxDets=100 ] = 0.562\n",
            " Average Recall     (AR) @[ IoU=0.50:0.95 | area= small | maxDets=100 ] = 0.227\n",
            " Average Recall     (AR) @[ IoU=0.50:0.95 | area=medium | maxDets=100 ] = 0.508\n",
            " Average Recall     (AR) @[ IoU=0.50:0.95 | area= large | maxDets=100 ] = 0.646\n",
            "Get map done.\n",
            "Epoch:160/300\n",
            "Total Loss: 0.867 || Val Loss: 1.156 \n",
            "Start Train\n"
          ]
        },
        {
          "output_type": "stream",
          "name": "stderr",
          "text": [
            "Epoch 161/300: 100%|██████████| 247/247 [00:41<00:00,  5.89it/s, lr=4.17e-5, roi_cls=0.244, roi_loc=0.539, rpn_cls=0.0376, rpn_loc=0.0421, total_loss=0.862]\n"
          ]
        },
        {
          "output_type": "stream",
          "name": "stdout",
          "text": [
            "Finish Train\n",
            "Start Validation\n"
          ]
        },
        {
          "output_type": "stream",
          "name": "stderr",
          "text": [
            "Epoch 161/300: 100%|██████████| 27/27 [00:03<00:00,  7.22it/s, val_loss=1.1]\n"
          ]
        },
        {
          "output_type": "stream",
          "name": "stdout",
          "text": [
            "Finish Validation\n",
            "Epoch:161/300\n",
            "Total Loss: 0.862 || Val Loss: 1.096 \n",
            "Start Train\n"
          ]
        },
        {
          "output_type": "stream",
          "name": "stderr",
          "text": [
            "Epoch 162/300: 100%|██████████| 247/247 [00:41<00:00,  5.97it/s, lr=4.12e-5, roi_cls=0.235, roi_loc=0.53, rpn_cls=0.0436, rpn_loc=0.042, total_loss=0.851]\n"
          ]
        },
        {
          "output_type": "stream",
          "name": "stdout",
          "text": [
            "Finish Train\n",
            "Start Validation\n"
          ]
        },
        {
          "output_type": "stream",
          "name": "stderr",
          "text": [
            "Epoch 162/300: 100%|██████████| 27/27 [00:03<00:00,  7.17it/s, val_loss=1.12]\n"
          ]
        },
        {
          "output_type": "stream",
          "name": "stdout",
          "text": [
            "Finish Validation\n",
            "Epoch:162/300\n",
            "Total Loss: 0.851 || Val Loss: 1.122 \n",
            "Start Train\n"
          ]
        },
        {
          "output_type": "stream",
          "name": "stderr",
          "text": [
            "Epoch 163/300: 100%|██████████| 247/247 [00:41<00:00,  5.90it/s, lr=4.06e-5, roi_cls=0.239, roi_loc=0.538, rpn_cls=0.0387, rpn_loc=0.0417, total_loss=0.857]\n"
          ]
        },
        {
          "output_type": "stream",
          "name": "stdout",
          "text": [
            "Finish Train\n",
            "Start Validation\n"
          ]
        },
        {
          "output_type": "stream",
          "name": "stderr",
          "text": [
            "Epoch 163/300: 100%|██████████| 27/27 [00:03<00:00,  7.34it/s, val_loss=1.11]\n"
          ]
        },
        {
          "output_type": "stream",
          "name": "stdout",
          "text": [
            "Finish Validation\n",
            "Epoch:163/300\n",
            "Total Loss: 0.857 || Val Loss: 1.114 \n",
            "Start Train\n"
          ]
        },
        {
          "output_type": "stream",
          "name": "stderr",
          "text": [
            "Epoch 164/300: 100%|██████████| 247/247 [00:41<00:00,  5.93it/s, lr=4.01e-5, roi_cls=0.238, roi_loc=0.522, rpn_cls=0.0401, rpn_loc=0.0443, total_loss=0.844]\n"
          ]
        },
        {
          "output_type": "stream",
          "name": "stdout",
          "text": [
            "Finish Train\n",
            "Start Validation\n"
          ]
        },
        {
          "output_type": "stream",
          "name": "stderr",
          "text": [
            "Epoch 164/300: 100%|██████████| 27/27 [00:03<00:00,  7.18it/s, val_loss=1.16]\n"
          ]
        },
        {
          "output_type": "stream",
          "name": "stdout",
          "text": [
            "Finish Validation\n",
            "Epoch:164/300\n",
            "Total Loss: 0.844 || Val Loss: 1.155 \n",
            "Start Train\n"
          ]
        },
        {
          "output_type": "stream",
          "name": "stderr",
          "text": [
            "Epoch 165/300: 100%|██████████| 247/247 [00:41<00:00,  5.94it/s, lr=3.96e-5, roi_cls=0.242, roi_loc=0.538, rpn_cls=0.04, rpn_loc=0.0433, total_loss=0.863]\n"
          ]
        },
        {
          "output_type": "stream",
          "name": "stdout",
          "text": [
            "Finish Train\n",
            "Start Validation\n"
          ]
        },
        {
          "output_type": "stream",
          "name": "stderr",
          "text": [
            "Epoch 165/300: 100%|██████████| 27/27 [00:03<00:00,  7.38it/s, val_loss=1.07]\n"
          ]
        },
        {
          "output_type": "stream",
          "name": "stdout",
          "text": [
            "Finish Validation\n",
            "Get map.\n"
          ]
        },
        {
          "output_type": "stream",
          "name": "stderr",
          "text": [
            "100%|██████████| 55/55 [00:04<00:00, 11.60it/s]\n"
          ]
        },
        {
          "output_type": "stream",
          "name": "stdout",
          "text": [
            "Calculate Map.\n",
            "loading annotations into memory...\n",
            "Done (t=0.01s)\n",
            "creating index...\n",
            "index created!\n",
            "Loading and preparing results...\n",
            "DONE (t=0.01s)\n",
            "creating index...\n",
            "index created!\n",
            "Running per image evaluation...\n",
            "Evaluate annotation type *bbox*\n",
            "DONE (t=0.79s).\n",
            "Accumulating evaluation results...\n",
            "DONE (t=0.10s).\n",
            " Average Precision  (AP) @[ IoU=0.50:0.95 | area=   all | maxDets=100 ] = 0.486\n",
            " Average Precision  (AP) @[ IoU=0.50      | area=   all | maxDets=100 ] = 0.774\n",
            " Average Precision  (AP) @[ IoU=0.75      | area=   all | maxDets=100 ] = 0.546\n",
            " Average Precision  (AP) @[ IoU=0.50:0.95 | area= small | maxDets=100 ] = 0.186\n",
            " Average Precision  (AP) @[ IoU=0.50:0.95 | area=medium | maxDets=100 ] = 0.421\n",
            " Average Precision  (AP) @[ IoU=0.50:0.95 | area= large | maxDets=100 ] = 0.599\n",
            " Average Recall     (AR) @[ IoU=0.50:0.95 | area=   all | maxDets=  1 ] = 0.154\n",
            " Average Recall     (AR) @[ IoU=0.50:0.95 | area=   all | maxDets= 10 ] = 0.508\n",
            " Average Recall     (AR) @[ IoU=0.50:0.95 | area=   all | maxDets=100 ] = 0.571\n",
            " Average Recall     (AR) @[ IoU=0.50:0.95 | area= small | maxDets=100 ] = 0.309\n",
            " Average Recall     (AR) @[ IoU=0.50:0.95 | area=medium | maxDets=100 ] = 0.519\n",
            " Average Recall     (AR) @[ IoU=0.50:0.95 | area= large | maxDets=100 ] = 0.666\n",
            "Get map done.\n",
            "Epoch:165/300\n",
            "Total Loss: 0.863 || Val Loss: 1.075 \n",
            "Start Train\n"
          ]
        },
        {
          "output_type": "stream",
          "name": "stderr",
          "text": [
            "Epoch 166/300: 100%|██████████| 247/247 [00:41<00:00,  5.98it/s, lr=3.9e-5, roi_cls=0.233, roi_loc=0.545, rpn_cls=0.0357, rpn_loc=0.0397, total_loss=0.853]\n"
          ]
        },
        {
          "output_type": "stream",
          "name": "stdout",
          "text": [
            "Finish Train\n",
            "Start Validation\n"
          ]
        },
        {
          "output_type": "stream",
          "name": "stderr",
          "text": [
            "Epoch 166/300: 100%|██████████| 27/27 [00:03<00:00,  7.32it/s, val_loss=1.09]\n"
          ]
        },
        {
          "output_type": "stream",
          "name": "stdout",
          "text": [
            "Finish Validation\n",
            "Epoch:166/300\n",
            "Total Loss: 0.853 || Val Loss: 1.093 \n",
            "Start Train\n"
          ]
        },
        {
          "output_type": "stream",
          "name": "stderr",
          "text": [
            "Epoch 167/300: 100%|██████████| 247/247 [00:41<00:00,  5.93it/s, lr=3.85e-5, roi_cls=0.238, roi_loc=0.527, rpn_cls=0.0376, rpn_loc=0.045, total_loss=0.848]\n"
          ]
        },
        {
          "output_type": "stream",
          "name": "stdout",
          "text": [
            "Finish Train\n",
            "Start Validation\n"
          ]
        },
        {
          "output_type": "stream",
          "name": "stderr",
          "text": [
            "Epoch 167/300: 100%|██████████| 27/27 [00:03<00:00,  7.37it/s, val_loss=1.14]\n"
          ]
        },
        {
          "output_type": "stream",
          "name": "stdout",
          "text": [
            "Finish Validation\n",
            "Epoch:167/300\n",
            "Total Loss: 0.848 || Val Loss: 1.143 \n",
            "Start Train\n"
          ]
        },
        {
          "output_type": "stream",
          "name": "stderr",
          "text": [
            "Epoch 168/300: 100%|██████████| 247/247 [00:41<00:00,  5.91it/s, lr=3.8e-5, roi_cls=0.242, roi_loc=0.533, rpn_cls=0.0372, rpn_loc=0.0429, total_loss=0.855]\n"
          ]
        },
        {
          "output_type": "stream",
          "name": "stdout",
          "text": [
            "Finish Train\n",
            "Start Validation\n"
          ]
        },
        {
          "output_type": "stream",
          "name": "stderr",
          "text": [
            "Epoch 168/300: 100%|██████████| 27/27 [00:03<00:00,  7.30it/s, val_loss=1.11]\n"
          ]
        },
        {
          "output_type": "stream",
          "name": "stdout",
          "text": [
            "Finish Validation\n",
            "Epoch:168/300\n",
            "Total Loss: 0.855 || Val Loss: 1.105 \n",
            "Start Train\n"
          ]
        },
        {
          "output_type": "stream",
          "name": "stderr",
          "text": [
            "Epoch 169/300: 100%|██████████| 247/247 [00:41<00:00,  5.97it/s, lr=3.74e-5, roi_cls=0.237, roi_loc=0.53, rpn_cls=0.0357, rpn_loc=0.0392, total_loss=0.842]\n"
          ]
        },
        {
          "output_type": "stream",
          "name": "stdout",
          "text": [
            "Finish Train\n",
            "Start Validation\n"
          ]
        },
        {
          "output_type": "stream",
          "name": "stderr",
          "text": [
            "Epoch 169/300: 100%|██████████| 27/27 [00:03<00:00,  7.22it/s, val_loss=1.12]\n"
          ]
        },
        {
          "output_type": "stream",
          "name": "stdout",
          "text": [
            "Finish Validation\n",
            "Epoch:169/300\n",
            "Total Loss: 0.842 || Val Loss: 1.124 \n",
            "Start Train\n"
          ]
        },
        {
          "output_type": "stream",
          "name": "stderr",
          "text": [
            "Epoch 170/300: 100%|██████████| 247/247 [00:41<00:00,  5.92it/s, lr=3.69e-5, roi_cls=0.233, roi_loc=0.525, rpn_cls=0.0377, rpn_loc=0.042, total_loss=0.837]\n"
          ]
        },
        {
          "output_type": "stream",
          "name": "stdout",
          "text": [
            "Finish Train\n",
            "Start Validation\n"
          ]
        },
        {
          "output_type": "stream",
          "name": "stderr",
          "text": [
            "Epoch 170/300: 100%|██████████| 27/27 [00:03<00:00,  7.10it/s, val_loss=1.15]\n"
          ]
        },
        {
          "output_type": "stream",
          "name": "stdout",
          "text": [
            "Finish Validation\n",
            "Get map.\n"
          ]
        },
        {
          "output_type": "stream",
          "name": "stderr",
          "text": [
            "100%|██████████| 55/55 [00:04<00:00, 11.56it/s]\n"
          ]
        },
        {
          "output_type": "stream",
          "name": "stdout",
          "text": [
            "Calculate Map.\n",
            "loading annotations into memory...\n",
            "Done (t=0.01s)\n",
            "creating index...\n",
            "index created!\n",
            "Loading and preparing results...\n",
            "DONE (t=0.01s)\n",
            "creating index...\n",
            "index created!\n",
            "Running per image evaluation...\n",
            "Evaluate annotation type *bbox*\n",
            "DONE (t=0.70s).\n",
            "Accumulating evaluation results...\n",
            "DONE (t=0.10s).\n",
            " Average Precision  (AP) @[ IoU=0.50:0.95 | area=   all | maxDets=100 ] = 0.488\n",
            " Average Precision  (AP) @[ IoU=0.50      | area=   all | maxDets=100 ] = 0.779\n",
            " Average Precision  (AP) @[ IoU=0.75      | area=   all | maxDets=100 ] = 0.538\n",
            " Average Precision  (AP) @[ IoU=0.50:0.95 | area= small | maxDets=100 ] = 0.203\n",
            " Average Precision  (AP) @[ IoU=0.50:0.95 | area=medium | maxDets=100 ] = 0.434\n",
            " Average Precision  (AP) @[ IoU=0.50:0.95 | area= large | maxDets=100 ] = 0.582\n",
            " Average Recall     (AR) @[ IoU=0.50:0.95 | area=   all | maxDets=  1 ] = 0.144\n",
            " Average Recall     (AR) @[ IoU=0.50:0.95 | area=   all | maxDets= 10 ] = 0.507\n",
            " Average Recall     (AR) @[ IoU=0.50:0.95 | area=   all | maxDets=100 ] = 0.559\n",
            " Average Recall     (AR) @[ IoU=0.50:0.95 | area= small | maxDets=100 ] = 0.262\n",
            " Average Recall     (AR) @[ IoU=0.50:0.95 | area=medium | maxDets=100 ] = 0.507\n",
            " Average Recall     (AR) @[ IoU=0.50:0.95 | area= large | maxDets=100 ] = 0.651\n",
            "Get map done.\n",
            "Epoch:170/300\n",
            "Total Loss: 0.837 || Val Loss: 1.146 \n",
            "Start Train\n"
          ]
        },
        {
          "output_type": "stream",
          "name": "stderr",
          "text": [
            "Epoch 171/300: 100%|██████████| 247/247 [00:41<00:00,  5.88it/s, lr=3.64e-5, roi_cls=0.24, roi_loc=0.522, rpn_cls=0.039, rpn_loc=0.0414, total_loss=0.842]\n"
          ]
        },
        {
          "output_type": "stream",
          "name": "stdout",
          "text": [
            "Finish Train\n",
            "Start Validation\n"
          ]
        },
        {
          "output_type": "stream",
          "name": "stderr",
          "text": [
            "Epoch 171/300: 100%|██████████| 27/27 [00:03<00:00,  7.25it/s, val_loss=1.1]\n"
          ]
        },
        {
          "output_type": "stream",
          "name": "stdout",
          "text": [
            "Finish Validation\n",
            "Epoch:171/300\n",
            "Total Loss: 0.842 || Val Loss: 1.100 \n",
            "Start Train\n"
          ]
        },
        {
          "output_type": "stream",
          "name": "stderr",
          "text": [
            "Epoch 172/300: 100%|██████████| 247/247 [00:41<00:00,  5.91it/s, lr=3.58e-5, roi_cls=0.24, roi_loc=0.542, rpn_cls=0.0373, rpn_loc=0.043, total_loss=0.863]\n"
          ]
        },
        {
          "output_type": "stream",
          "name": "stdout",
          "text": [
            "Finish Train\n",
            "Start Validation\n"
          ]
        },
        {
          "output_type": "stream",
          "name": "stderr",
          "text": [
            "Epoch 172/300: 100%|██████████| 27/27 [00:03<00:00,  7.26it/s, val_loss=1.16]\n"
          ]
        },
        {
          "output_type": "stream",
          "name": "stdout",
          "text": [
            "Finish Validation\n",
            "Epoch:172/300\n",
            "Total Loss: 0.863 || Val Loss: 1.160 \n",
            "Start Train\n"
          ]
        },
        {
          "output_type": "stream",
          "name": "stderr",
          "text": [
            "Epoch 173/300: 100%|██████████| 247/247 [00:41<00:00,  5.94it/s, lr=3.53e-5, roi_cls=0.233, roi_loc=0.536, rpn_cls=0.0375, rpn_loc=0.0397, total_loss=0.847]\n"
          ]
        },
        {
          "output_type": "stream",
          "name": "stdout",
          "text": [
            "Finish Train\n",
            "Start Validation\n"
          ]
        },
        {
          "output_type": "stream",
          "name": "stderr",
          "text": [
            "Epoch 173/300: 100%|██████████| 27/27 [00:03<00:00,  7.18it/s, val_loss=1.1]\n"
          ]
        },
        {
          "output_type": "stream",
          "name": "stdout",
          "text": [
            "Finish Validation\n",
            "Epoch:173/300\n",
            "Total Loss: 0.847 || Val Loss: 1.099 \n",
            "Start Train\n"
          ]
        },
        {
          "output_type": "stream",
          "name": "stderr",
          "text": [
            "Epoch 174/300: 100%|██████████| 247/247 [00:41<00:00,  5.90it/s, lr=3.48e-5, roi_cls=0.225, roi_loc=0.51, rpn_cls=0.0348, rpn_loc=0.0386, total_loss=0.808]\n"
          ]
        },
        {
          "output_type": "stream",
          "name": "stdout",
          "text": [
            "Finish Train\n",
            "Start Validation\n"
          ]
        },
        {
          "output_type": "stream",
          "name": "stderr",
          "text": [
            "Epoch 174/300: 100%|██████████| 27/27 [00:03<00:00,  7.19it/s, val_loss=1.18]\n"
          ]
        },
        {
          "output_type": "stream",
          "name": "stdout",
          "text": [
            "Finish Validation\n",
            "Epoch:174/300\n",
            "Total Loss: 0.808 || Val Loss: 1.183 \n",
            "Start Train\n"
          ]
        },
        {
          "output_type": "stream",
          "name": "stderr",
          "text": [
            "Epoch 175/300: 100%|██████████| 247/247 [00:41<00:00,  5.91it/s, lr=3.43e-5, roi_cls=0.232, roi_loc=0.535, rpn_cls=0.0363, rpn_loc=0.042, total_loss=0.845]\n"
          ]
        },
        {
          "output_type": "stream",
          "name": "stdout",
          "text": [
            "Finish Train\n",
            "Start Validation\n"
          ]
        },
        {
          "output_type": "stream",
          "name": "stderr",
          "text": [
            "Epoch 175/300: 100%|██████████| 27/27 [00:03<00:00,  7.27it/s, val_loss=1.1]\n"
          ]
        },
        {
          "output_type": "stream",
          "name": "stdout",
          "text": [
            "Finish Validation\n",
            "Get map.\n"
          ]
        },
        {
          "output_type": "stream",
          "name": "stderr",
          "text": [
            "100%|██████████| 55/55 [00:04<00:00, 11.66it/s]\n"
          ]
        },
        {
          "output_type": "stream",
          "name": "stdout",
          "text": [
            "Calculate Map.\n",
            "loading annotations into memory...\n",
            "Done (t=0.01s)\n",
            "creating index...\n",
            "index created!\n",
            "Loading and preparing results...\n",
            "DONE (t=0.01s)\n",
            "creating index...\n",
            "index created!\n",
            "Running per image evaluation...\n",
            "Evaluate annotation type *bbox*\n",
            "DONE (t=0.72s).\n",
            "Accumulating evaluation results...\n",
            "DONE (t=0.10s).\n",
            " Average Precision  (AP) @[ IoU=0.50:0.95 | area=   all | maxDets=100 ] = 0.492\n",
            " Average Precision  (AP) @[ IoU=0.50      | area=   all | maxDets=100 ] = 0.784\n",
            " Average Precision  (AP) @[ IoU=0.75      | area=   all | maxDets=100 ] = 0.562\n",
            " Average Precision  (AP) @[ IoU=0.50:0.95 | area= small | maxDets=100 ] = 0.250\n",
            " Average Precision  (AP) @[ IoU=0.50:0.95 | area=medium | maxDets=100 ] = 0.429\n",
            " Average Precision  (AP) @[ IoU=0.50:0.95 | area= large | maxDets=100 ] = 0.589\n",
            " Average Recall     (AR) @[ IoU=0.50:0.95 | area=   all | maxDets=  1 ] = 0.152\n",
            " Average Recall     (AR) @[ IoU=0.50:0.95 | area=   all | maxDets= 10 ] = 0.511\n",
            " Average Recall     (AR) @[ IoU=0.50:0.95 | area=   all | maxDets=100 ] = 0.569\n",
            " Average Recall     (AR) @[ IoU=0.50:0.95 | area= small | maxDets=100 ] = 0.340\n",
            " Average Recall     (AR) @[ IoU=0.50:0.95 | area=medium | maxDets=100 ] = 0.513\n",
            " Average Recall     (AR) @[ IoU=0.50:0.95 | area= large | maxDets=100 ] = 0.653\n",
            "Get map done.\n",
            "Epoch:175/300\n",
            "Total Loss: 0.845 || Val Loss: 1.101 \n",
            "Start Train\n"
          ]
        },
        {
          "output_type": "stream",
          "name": "stderr",
          "text": [
            "Epoch 176/300: 100%|██████████| 247/247 [00:41<00:00,  5.90it/s, lr=3.37e-5, roi_cls=0.229, roi_loc=0.53, rpn_cls=0.0364, rpn_loc=0.0392, total_loss=0.835]\n"
          ]
        },
        {
          "output_type": "stream",
          "name": "stdout",
          "text": [
            "Finish Train\n",
            "Start Validation\n"
          ]
        },
        {
          "output_type": "stream",
          "name": "stderr",
          "text": [
            "Epoch 176/300: 100%|██████████| 27/27 [00:03<00:00,  7.29it/s, val_loss=1.11]\n"
          ]
        },
        {
          "output_type": "stream",
          "name": "stdout",
          "text": [
            "Finish Validation\n",
            "Epoch:176/300\n",
            "Total Loss: 0.835 || Val Loss: 1.114 \n",
            "Start Train\n"
          ]
        },
        {
          "output_type": "stream",
          "name": "stderr",
          "text": [
            "Epoch 177/300: 100%|██████████| 247/247 [00:41<00:00,  5.94it/s, lr=3.32e-5, roi_cls=0.227, roi_loc=0.525, rpn_cls=0.0388, rpn_loc=0.0392, total_loss=0.83]\n"
          ]
        },
        {
          "output_type": "stream",
          "name": "stdout",
          "text": [
            "Finish Train\n",
            "Start Validation\n"
          ]
        },
        {
          "output_type": "stream",
          "name": "stderr",
          "text": [
            "Epoch 177/300: 100%|██████████| 27/27 [00:03<00:00,  7.24it/s, val_loss=1.15]\n"
          ]
        },
        {
          "output_type": "stream",
          "name": "stdout",
          "text": [
            "Finish Validation\n",
            "Epoch:177/300\n",
            "Total Loss: 0.830 || Val Loss: 1.154 \n",
            "Start Train\n"
          ]
        },
        {
          "output_type": "stream",
          "name": "stderr",
          "text": [
            "Epoch 178/300: 100%|██████████| 247/247 [00:41<00:00,  5.96it/s, lr=3.27e-5, roi_cls=0.232, roi_loc=0.516, rpn_cls=0.0386, rpn_loc=0.0389, total_loss=0.825]\n"
          ]
        },
        {
          "output_type": "stream",
          "name": "stdout",
          "text": [
            "Finish Train\n",
            "Start Validation\n"
          ]
        },
        {
          "output_type": "stream",
          "name": "stderr",
          "text": [
            "Epoch 178/300: 100%|██████████| 27/27 [00:03<00:00,  7.20it/s, val_loss=1.13]\n"
          ]
        },
        {
          "output_type": "stream",
          "name": "stdout",
          "text": [
            "Finish Validation\n",
            "Epoch:178/300\n",
            "Total Loss: 0.825 || Val Loss: 1.128 \n",
            "Start Train\n"
          ]
        },
        {
          "output_type": "stream",
          "name": "stderr",
          "text": [
            "Epoch 179/300: 100%|██████████| 247/247 [00:41<00:00,  5.90it/s, lr=3.22e-5, roi_cls=0.231, roi_loc=0.531, rpn_cls=0.0363, rpn_loc=0.0438, total_loss=0.842]\n"
          ]
        },
        {
          "output_type": "stream",
          "name": "stdout",
          "text": [
            "Finish Train\n",
            "Start Validation\n"
          ]
        },
        {
          "output_type": "stream",
          "name": "stderr",
          "text": [
            "Epoch 179/300: 100%|██████████| 27/27 [00:03<00:00,  7.07it/s, val_loss=1.12]\n"
          ]
        },
        {
          "output_type": "stream",
          "name": "stdout",
          "text": [
            "Finish Validation\n",
            "Epoch:179/300\n",
            "Total Loss: 0.842 || Val Loss: 1.123 \n",
            "Start Train\n"
          ]
        },
        {
          "output_type": "stream",
          "name": "stderr",
          "text": [
            "Epoch 180/300: 100%|██████████| 247/247 [00:42<00:00,  5.87it/s, lr=3.17e-5, roi_cls=0.226, roi_loc=0.516, rpn_cls=0.0367, rpn_loc=0.0401, total_loss=0.819]\n"
          ]
        },
        {
          "output_type": "stream",
          "name": "stdout",
          "text": [
            "Finish Train\n",
            "Start Validation\n"
          ]
        },
        {
          "output_type": "stream",
          "name": "stderr",
          "text": [
            "Epoch 180/300: 100%|██████████| 27/27 [00:03<00:00,  7.17it/s, val_loss=1.14]\n"
          ]
        },
        {
          "output_type": "stream",
          "name": "stdout",
          "text": [
            "Finish Validation\n",
            "Get map.\n"
          ]
        },
        {
          "output_type": "stream",
          "name": "stderr",
          "text": [
            "100%|██████████| 55/55 [00:04<00:00, 11.40it/s]\n"
          ]
        },
        {
          "output_type": "stream",
          "name": "stdout",
          "text": [
            "Calculate Map.\n",
            "loading annotations into memory...\n",
            "Done (t=0.01s)\n",
            "creating index...\n",
            "index created!\n",
            "Loading and preparing results...\n",
            "DONE (t=0.01s)\n",
            "creating index...\n",
            "index created!\n",
            "Running per image evaluation...\n",
            "Evaluate annotation type *bbox*\n",
            "DONE (t=0.69s).\n",
            "Accumulating evaluation results...\n",
            "DONE (t=0.11s).\n",
            " Average Precision  (AP) @[ IoU=0.50:0.95 | area=   all | maxDets=100 ] = 0.509\n",
            " Average Precision  (AP) @[ IoU=0.50      | area=   all | maxDets=100 ] = 0.795\n",
            " Average Precision  (AP) @[ IoU=0.75      | area=   all | maxDets=100 ] = 0.588\n",
            " Average Precision  (AP) @[ IoU=0.50:0.95 | area= small | maxDets=100 ] = 0.257\n",
            " Average Precision  (AP) @[ IoU=0.50:0.95 | area=medium | maxDets=100 ] = 0.448\n",
            " Average Precision  (AP) @[ IoU=0.50:0.95 | area= large | maxDets=100 ] = 0.612\n",
            " Average Recall     (AR) @[ IoU=0.50:0.95 | area=   all | maxDets=  1 ] = 0.154\n",
            " Average Recall     (AR) @[ IoU=0.50:0.95 | area=   all | maxDets= 10 ] = 0.525\n",
            " Average Recall     (AR) @[ IoU=0.50:0.95 | area=   all | maxDets=100 ] = 0.577\n",
            " Average Recall     (AR) @[ IoU=0.50:0.95 | area= small | maxDets=100 ] = 0.354\n",
            " Average Recall     (AR) @[ IoU=0.50:0.95 | area=medium | maxDets=100 ] = 0.523\n",
            " Average Recall     (AR) @[ IoU=0.50:0.95 | area= large | maxDets=100 ] = 0.672\n",
            "Get map done.\n",
            "Epoch:180/300\n",
            "Total Loss: 0.819 || Val Loss: 1.136 \n",
            "Start Train\n"
          ]
        },
        {
          "output_type": "stream",
          "name": "stderr",
          "text": [
            "Epoch 181/300: 100%|██████████| 247/247 [00:42<00:00,  5.86it/s, lr=3.12e-5, roi_cls=0.228, roi_loc=0.526, rpn_cls=0.0354, rpn_loc=0.0416, total_loss=0.832]\n"
          ]
        },
        {
          "output_type": "stream",
          "name": "stdout",
          "text": [
            "Finish Train\n",
            "Start Validation\n"
          ]
        },
        {
          "output_type": "stream",
          "name": "stderr",
          "text": [
            "Epoch 181/300: 100%|██████████| 27/27 [00:03<00:00,  7.09it/s, val_loss=1.16]\n"
          ]
        },
        {
          "output_type": "stream",
          "name": "stdout",
          "text": [
            "Finish Validation\n",
            "Epoch:181/300\n",
            "Total Loss: 0.832 || Val Loss: 1.159 \n",
            "Start Train\n"
          ]
        },
        {
          "output_type": "stream",
          "name": "stderr",
          "text": [
            "Epoch 182/300: 100%|██████████| 247/247 [00:42<00:00,  5.82it/s, lr=3.07e-5, roi_cls=0.231, roi_loc=0.527, rpn_cls=0.0366, rpn_loc=0.0383, total_loss=0.833]\n"
          ]
        },
        {
          "output_type": "stream",
          "name": "stdout",
          "text": [
            "Finish Train\n",
            "Start Validation\n"
          ]
        },
        {
          "output_type": "stream",
          "name": "stderr",
          "text": [
            "Epoch 182/300: 100%|██████████| 27/27 [00:03<00:00,  7.09it/s, val_loss=1.14]\n"
          ]
        },
        {
          "output_type": "stream",
          "name": "stdout",
          "text": [
            "Finish Validation\n",
            "Epoch:182/300\n",
            "Total Loss: 0.833 || Val Loss: 1.143 \n",
            "Start Train\n"
          ]
        },
        {
          "output_type": "stream",
          "name": "stderr",
          "text": [
            "Epoch 183/300: 100%|██████████| 247/247 [00:42<00:00,  5.79it/s, lr=3.02e-5, roi_cls=0.233, roi_loc=0.52, rpn_cls=0.0382, rpn_loc=0.0425, total_loss=0.834]\n"
          ]
        },
        {
          "output_type": "stream",
          "name": "stdout",
          "text": [
            "Finish Train\n",
            "Start Validation\n"
          ]
        },
        {
          "output_type": "stream",
          "name": "stderr",
          "text": [
            "Epoch 183/300: 100%|██████████| 27/27 [00:03<00:00,  7.13it/s, val_loss=1.15]\n"
          ]
        },
        {
          "output_type": "stream",
          "name": "stdout",
          "text": [
            "Finish Validation\n",
            "Epoch:183/300\n",
            "Total Loss: 0.834 || Val Loss: 1.145 \n",
            "Start Train\n"
          ]
        },
        {
          "output_type": "stream",
          "name": "stderr",
          "text": [
            "Epoch 184/300: 100%|██████████| 247/247 [00:42<00:00,  5.86it/s, lr=2.97e-5, roi_cls=0.224, roi_loc=0.52, rpn_cls=0.0376, rpn_loc=0.0452, total_loss=0.826]\n"
          ]
        },
        {
          "output_type": "stream",
          "name": "stdout",
          "text": [
            "Finish Train\n",
            "Start Validation\n"
          ]
        },
        {
          "output_type": "stream",
          "name": "stderr",
          "text": [
            "Epoch 184/300: 100%|██████████| 27/27 [00:03<00:00,  6.95it/s, val_loss=1.15]\n"
          ]
        },
        {
          "output_type": "stream",
          "name": "stdout",
          "text": [
            "Finish Validation\n",
            "Epoch:184/300\n",
            "Total Loss: 0.826 || Val Loss: 1.150 \n",
            "Start Train\n"
          ]
        },
        {
          "output_type": "stream",
          "name": "stderr",
          "text": [
            "Epoch 185/300: 100%|██████████| 247/247 [00:42<00:00,  5.82it/s, lr=2.92e-5, roi_cls=0.226, roi_loc=0.532, rpn_cls=0.0337, rpn_loc=0.039, total_loss=0.831]\n"
          ]
        },
        {
          "output_type": "stream",
          "name": "stdout",
          "text": [
            "Finish Train\n",
            "Start Validation\n"
          ]
        },
        {
          "output_type": "stream",
          "name": "stderr",
          "text": [
            "Epoch 185/300: 100%|██████████| 27/27 [00:03<00:00,  7.09it/s, val_loss=1.15]\n"
          ]
        },
        {
          "output_type": "stream",
          "name": "stdout",
          "text": [
            "Finish Validation\n",
            "Get map.\n"
          ]
        },
        {
          "output_type": "stream",
          "name": "stderr",
          "text": [
            "100%|██████████| 55/55 [00:04<00:00, 11.48it/s]\n"
          ]
        },
        {
          "output_type": "stream",
          "name": "stdout",
          "text": [
            "Calculate Map.\n",
            "loading annotations into memory...\n",
            "Done (t=0.01s)\n",
            "creating index...\n",
            "index created!\n",
            "Loading and preparing results...\n",
            "DONE (t=0.01s)\n",
            "creating index...\n",
            "index created!\n",
            "Running per image evaluation...\n",
            "Evaluate annotation type *bbox*\n",
            "DONE (t=0.71s).\n",
            "Accumulating evaluation results...\n",
            "DONE (t=0.10s).\n",
            " Average Precision  (AP) @[ IoU=0.50:0.95 | area=   all | maxDets=100 ] = 0.495\n",
            " Average Precision  (AP) @[ IoU=0.50      | area=   all | maxDets=100 ] = 0.791\n",
            " Average Precision  (AP) @[ IoU=0.75      | area=   all | maxDets=100 ] = 0.572\n",
            " Average Precision  (AP) @[ IoU=0.50:0.95 | area= small | maxDets=100 ] = 0.219\n",
            " Average Precision  (AP) @[ IoU=0.50:0.95 | area=medium | maxDets=100 ] = 0.434\n",
            " Average Precision  (AP) @[ IoU=0.50:0.95 | area= large | maxDets=100 ] = 0.598\n",
            " Average Recall     (AR) @[ IoU=0.50:0.95 | area=   all | maxDets=  1 ] = 0.155\n",
            " Average Recall     (AR) @[ IoU=0.50:0.95 | area=   all | maxDets= 10 ] = 0.514\n",
            " Average Recall     (AR) @[ IoU=0.50:0.95 | area=   all | maxDets=100 ] = 0.568\n",
            " Average Recall     (AR) @[ IoU=0.50:0.95 | area= small | maxDets=100 ] = 0.292\n",
            " Average Recall     (AR) @[ IoU=0.50:0.95 | area=medium | maxDets=100 ] = 0.509\n",
            " Average Recall     (AR) @[ IoU=0.50:0.95 | area= large | maxDets=100 ] = 0.663\n",
            "Get map done.\n",
            "Epoch:185/300\n",
            "Total Loss: 0.831 || Val Loss: 1.147 \n",
            "Start Train\n"
          ]
        },
        {
          "output_type": "stream",
          "name": "stderr",
          "text": [
            "Epoch 186/300: 100%|██████████| 247/247 [00:42<00:00,  5.83it/s, lr=2.87e-5, roi_cls=0.229, roi_loc=0.531, rpn_cls=0.0353, rpn_loc=0.0407, total_loss=0.836]\n"
          ]
        },
        {
          "output_type": "stream",
          "name": "stdout",
          "text": [
            "Finish Train\n",
            "Start Validation\n"
          ]
        },
        {
          "output_type": "stream",
          "name": "stderr",
          "text": [
            "Epoch 186/300: 100%|██████████| 27/27 [00:03<00:00,  7.08it/s, val_loss=1.07]\n"
          ]
        },
        {
          "output_type": "stream",
          "name": "stdout",
          "text": [
            "Finish Validation\n",
            "Epoch:186/300\n",
            "Total Loss: 0.836 || Val Loss: 1.069 \n",
            "Start Train\n"
          ]
        },
        {
          "output_type": "stream",
          "name": "stderr",
          "text": [
            "Epoch 187/300: 100%|██████████| 247/247 [00:42<00:00,  5.79it/s, lr=2.82e-5, roi_cls=0.225, roi_loc=0.522, rpn_cls=0.0353, rpn_loc=0.0395, total_loss=0.822]\n"
          ]
        },
        {
          "output_type": "stream",
          "name": "stdout",
          "text": [
            "Finish Train\n",
            "Start Validation\n"
          ]
        },
        {
          "output_type": "stream",
          "name": "stderr",
          "text": [
            "Epoch 187/300: 100%|██████████| 27/27 [00:03<00:00,  7.03it/s, val_loss=1.13]\n"
          ]
        },
        {
          "output_type": "stream",
          "name": "stdout",
          "text": [
            "Finish Validation\n",
            "Epoch:187/300\n",
            "Total Loss: 0.822 || Val Loss: 1.128 \n",
            "Start Train\n"
          ]
        },
        {
          "output_type": "stream",
          "name": "stderr",
          "text": [
            "Epoch 188/300: 100%|██████████| 247/247 [00:42<00:00,  5.87it/s, lr=2.77e-5, roi_cls=0.224, roi_loc=0.521, rpn_cls=0.0364, rpn_loc=0.0408, total_loss=0.823]\n"
          ]
        },
        {
          "output_type": "stream",
          "name": "stdout",
          "text": [
            "Finish Train\n",
            "Start Validation\n"
          ]
        },
        {
          "output_type": "stream",
          "name": "stderr",
          "text": [
            "Epoch 188/300: 100%|██████████| 27/27 [00:03<00:00,  7.10it/s, val_loss=1.08]\n"
          ]
        },
        {
          "output_type": "stream",
          "name": "stdout",
          "text": [
            "Finish Validation\n",
            "Epoch:188/300\n",
            "Total Loss: 0.823 || Val Loss: 1.080 \n",
            "Start Train\n"
          ]
        },
        {
          "output_type": "stream",
          "name": "stderr",
          "text": [
            "Epoch 189/300: 100%|██████████| 247/247 [00:42<00:00,  5.84it/s, lr=2.72e-5, roi_cls=0.223, roi_loc=0.522, rpn_cls=0.0353, rpn_loc=0.0379, total_loss=0.818]\n"
          ]
        },
        {
          "output_type": "stream",
          "name": "stdout",
          "text": [
            "Finish Train\n",
            "Start Validation\n"
          ]
        },
        {
          "output_type": "stream",
          "name": "stderr",
          "text": [
            "Epoch 189/300: 100%|██████████| 27/27 [00:03<00:00,  7.14it/s, val_loss=1.09]\n"
          ]
        },
        {
          "output_type": "stream",
          "name": "stdout",
          "text": [
            "Finish Validation\n",
            "Epoch:189/300\n",
            "Total Loss: 0.818 || Val Loss: 1.092 \n",
            "Start Train\n"
          ]
        },
        {
          "output_type": "stream",
          "name": "stderr",
          "text": [
            "Epoch 190/300: 100%|██████████| 247/247 [00:42<00:00,  5.85it/s, lr=2.67e-5, roi_cls=0.219, roi_loc=0.508, rpn_cls=0.0352, rpn_loc=0.0435, total_loss=0.805]\n"
          ]
        },
        {
          "output_type": "stream",
          "name": "stdout",
          "text": [
            "Finish Train\n",
            "Start Validation\n"
          ]
        },
        {
          "output_type": "stream",
          "name": "stderr",
          "text": [
            "Epoch 190/300: 100%|██████████| 27/27 [00:03<00:00,  7.23it/s, val_loss=1.15]\n"
          ]
        },
        {
          "output_type": "stream",
          "name": "stdout",
          "text": [
            "Finish Validation\n",
            "Get map.\n"
          ]
        },
        {
          "output_type": "stream",
          "name": "stderr",
          "text": [
            "100%|██████████| 55/55 [00:04<00:00, 11.45it/s]\n"
          ]
        },
        {
          "output_type": "stream",
          "name": "stdout",
          "text": [
            "Calculate Map.\n",
            "loading annotations into memory...\n",
            "Done (t=0.01s)\n",
            "creating index...\n",
            "index created!\n",
            "Loading and preparing results...\n",
            "DONE (t=0.01s)\n",
            "creating index...\n",
            "index created!\n",
            "Running per image evaluation...\n",
            "Evaluate annotation type *bbox*\n",
            "DONE (t=0.70s).\n",
            "Accumulating evaluation results...\n",
            "DONE (t=0.10s).\n",
            " Average Precision  (AP) @[ IoU=0.50:0.95 | area=   all | maxDets=100 ] = 0.499\n",
            " Average Precision  (AP) @[ IoU=0.50      | area=   all | maxDets=100 ] = 0.784\n",
            " Average Precision  (AP) @[ IoU=0.75      | area=   all | maxDets=100 ] = 0.555\n",
            " Average Precision  (AP) @[ IoU=0.50:0.95 | area= small | maxDets=100 ] = 0.274\n",
            " Average Precision  (AP) @[ IoU=0.50:0.95 | area=medium | maxDets=100 ] = 0.431\n",
            " Average Precision  (AP) @[ IoU=0.50:0.95 | area= large | maxDets=100 ] = 0.603\n",
            " Average Recall     (AR) @[ IoU=0.50:0.95 | area=   all | maxDets=  1 ] = 0.153\n",
            " Average Recall     (AR) @[ IoU=0.50:0.95 | area=   all | maxDets= 10 ] = 0.520\n",
            " Average Recall     (AR) @[ IoU=0.50:0.95 | area=   all | maxDets=100 ] = 0.577\n",
            " Average Recall     (AR) @[ IoU=0.50:0.95 | area= small | maxDets=100 ] = 0.344\n",
            " Average Recall     (AR) @[ IoU=0.50:0.95 | area=medium | maxDets=100 ] = 0.520\n",
            " Average Recall     (AR) @[ IoU=0.50:0.95 | area= large | maxDets=100 ] = 0.674\n",
            "Get map done.\n",
            "Epoch:190/300\n",
            "Total Loss: 0.805 || Val Loss: 1.145 \n",
            "Start Train\n"
          ]
        },
        {
          "output_type": "stream",
          "name": "stderr",
          "text": [
            "Epoch 191/300: 100%|██████████| 247/247 [00:41<00:00,  5.90it/s, lr=2.62e-5, roi_cls=0.228, roi_loc=0.532, rpn_cls=0.0358, rpn_loc=0.0399, total_loss=0.836]\n"
          ]
        },
        {
          "output_type": "stream",
          "name": "stdout",
          "text": [
            "Finish Train\n",
            "Start Validation\n"
          ]
        },
        {
          "output_type": "stream",
          "name": "stderr",
          "text": [
            "Epoch 191/300: 100%|██████████| 27/27 [00:03<00:00,  7.13it/s, val_loss=1.1]\n"
          ]
        },
        {
          "output_type": "stream",
          "name": "stdout",
          "text": [
            "Finish Validation\n",
            "Epoch:191/300\n",
            "Total Loss: 0.836 || Val Loss: 1.104 \n",
            "Start Train\n"
          ]
        },
        {
          "output_type": "stream",
          "name": "stderr",
          "text": [
            "Epoch 192/300: 100%|██████████| 247/247 [00:42<00:00,  5.86it/s, lr=2.57e-5, roi_cls=0.226, roi_loc=0.52, rpn_cls=0.0362, rpn_loc=0.0395, total_loss=0.823]\n"
          ]
        },
        {
          "output_type": "stream",
          "name": "stdout",
          "text": [
            "Finish Train\n",
            "Start Validation\n"
          ]
        },
        {
          "output_type": "stream",
          "name": "stderr",
          "text": [
            "Epoch 192/300: 100%|██████████| 27/27 [00:03<00:00,  7.31it/s, val_loss=1.09]\n"
          ]
        },
        {
          "output_type": "stream",
          "name": "stdout",
          "text": [
            "Finish Validation\n",
            "Epoch:192/300\n",
            "Total Loss: 0.823 || Val Loss: 1.095 \n",
            "Start Train\n"
          ]
        },
        {
          "output_type": "stream",
          "name": "stderr",
          "text": [
            "Epoch 193/300: 100%|██████████| 247/247 [00:41<00:00,  5.89it/s, lr=2.53e-5, roi_cls=0.218, roi_loc=0.515, rpn_cls=0.037, rpn_loc=0.0424, total_loss=0.812]\n"
          ]
        },
        {
          "output_type": "stream",
          "name": "stdout",
          "text": [
            "Finish Train\n",
            "Start Validation\n"
          ]
        },
        {
          "output_type": "stream",
          "name": "stderr",
          "text": [
            "Epoch 193/300: 100%|██████████| 27/27 [00:03<00:00,  7.21it/s, val_loss=1.13]\n"
          ]
        },
        {
          "output_type": "stream",
          "name": "stdout",
          "text": [
            "Finish Validation\n",
            "Epoch:193/300\n",
            "Total Loss: 0.812 || Val Loss: 1.131 \n",
            "Start Train\n"
          ]
        },
        {
          "output_type": "stream",
          "name": "stderr",
          "text": [
            "Epoch 194/300: 100%|██████████| 247/247 [00:41<00:00,  5.93it/s, lr=2.48e-5, roi_cls=0.222, roi_loc=0.51, rpn_cls=0.0379, rpn_loc=0.04, total_loss=0.81]\n"
          ]
        },
        {
          "output_type": "stream",
          "name": "stdout",
          "text": [
            "Finish Train\n",
            "Start Validation\n"
          ]
        },
        {
          "output_type": "stream",
          "name": "stderr",
          "text": [
            "Epoch 194/300: 100%|██████████| 27/27 [00:03<00:00,  7.21it/s, val_loss=1.12]\n"
          ]
        },
        {
          "output_type": "stream",
          "name": "stdout",
          "text": [
            "Finish Validation\n",
            "Epoch:194/300\n",
            "Total Loss: 0.810 || Val Loss: 1.118 \n",
            "Start Train\n"
          ]
        },
        {
          "output_type": "stream",
          "name": "stderr",
          "text": [
            "Epoch 195/300: 100%|██████████| 247/247 [00:41<00:00,  5.93it/s, lr=2.43e-5, roi_cls=0.221, roi_loc=0.508, rpn_cls=0.0348, rpn_loc=0.0374, total_loss=0.802]\n"
          ]
        },
        {
          "output_type": "stream",
          "name": "stdout",
          "text": [
            "Finish Train\n",
            "Start Validation\n"
          ]
        },
        {
          "output_type": "stream",
          "name": "stderr",
          "text": [
            "Epoch 195/300: 100%|██████████| 27/27 [00:03<00:00,  7.33it/s, val_loss=1.14]\n"
          ]
        },
        {
          "output_type": "stream",
          "name": "stdout",
          "text": [
            "Finish Validation\n",
            "Get map.\n"
          ]
        },
        {
          "output_type": "stream",
          "name": "stderr",
          "text": [
            "100%|██████████| 55/55 [00:04<00:00, 11.45it/s]\n"
          ]
        },
        {
          "output_type": "stream",
          "name": "stdout",
          "text": [
            "Calculate Map.\n",
            "loading annotations into memory...\n",
            "Done (t=0.01s)\n",
            "creating index...\n",
            "index created!\n",
            "Loading and preparing results...\n",
            "DONE (t=0.26s)\n",
            "creating index...\n",
            "index created!\n",
            "Running per image evaluation...\n",
            "Evaluate annotation type *bbox*\n",
            "DONE (t=0.70s).\n",
            "Accumulating evaluation results...\n",
            "DONE (t=0.10s).\n",
            " Average Precision  (AP) @[ IoU=0.50:0.95 | area=   all | maxDets=100 ] = 0.487\n",
            " Average Precision  (AP) @[ IoU=0.50      | area=   all | maxDets=100 ] = 0.772\n",
            " Average Precision  (AP) @[ IoU=0.75      | area=   all | maxDets=100 ] = 0.546\n",
            " Average Precision  (AP) @[ IoU=0.50:0.95 | area= small | maxDets=100 ] = 0.197\n",
            " Average Precision  (AP) @[ IoU=0.50:0.95 | area=medium | maxDets=100 ] = 0.420\n",
            " Average Precision  (AP) @[ IoU=0.50:0.95 | area= large | maxDets=100 ] = 0.592\n",
            " Average Recall     (AR) @[ IoU=0.50:0.95 | area=   all | maxDets=  1 ] = 0.151\n",
            " Average Recall     (AR) @[ IoU=0.50:0.95 | area=   all | maxDets= 10 ] = 0.509\n",
            " Average Recall     (AR) @[ IoU=0.50:0.95 | area=   all | maxDets=100 ] = 0.566\n",
            " Average Recall     (AR) @[ IoU=0.50:0.95 | area= small | maxDets=100 ] = 0.337\n",
            " Average Recall     (AR) @[ IoU=0.50:0.95 | area=medium | maxDets=100 ] = 0.509\n",
            " Average Recall     (AR) @[ IoU=0.50:0.95 | area= large | maxDets=100 ] = 0.656\n",
            "Get map done.\n",
            "Epoch:195/300\n",
            "Total Loss: 0.802 || Val Loss: 1.140 \n",
            "Start Train\n"
          ]
        },
        {
          "output_type": "stream",
          "name": "stderr",
          "text": [
            "Epoch 196/300: 100%|██████████| 247/247 [00:41<00:00,  5.92it/s, lr=2.39e-5, roi_cls=0.229, roi_loc=0.523, rpn_cls=0.0386, rpn_loc=0.0395, total_loss=0.829]\n"
          ]
        },
        {
          "output_type": "stream",
          "name": "stdout",
          "text": [
            "Finish Train\n",
            "Start Validation\n"
          ]
        },
        {
          "output_type": "stream",
          "name": "stderr",
          "text": [
            "Epoch 196/300: 100%|██████████| 27/27 [00:03<00:00,  7.10it/s, val_loss=1.1]\n"
          ]
        },
        {
          "output_type": "stream",
          "name": "stdout",
          "text": [
            "Finish Validation\n",
            "Epoch:196/300\n",
            "Total Loss: 0.829 || Val Loss: 1.097 \n",
            "Start Train\n"
          ]
        },
        {
          "output_type": "stream",
          "name": "stderr",
          "text": [
            "Epoch 197/300: 100%|██████████| 247/247 [00:41<00:00,  5.90it/s, lr=2.34e-5, roi_cls=0.218, roi_loc=0.502, rpn_cls=0.036, rpn_loc=0.0392, total_loss=0.795]\n"
          ]
        },
        {
          "output_type": "stream",
          "name": "stdout",
          "text": [
            "Finish Train\n",
            "Start Validation\n"
          ]
        },
        {
          "output_type": "stream",
          "name": "stderr",
          "text": [
            "Epoch 197/300: 100%|██████████| 27/27 [00:03<00:00,  7.18it/s, val_loss=1.11]\n"
          ]
        },
        {
          "output_type": "stream",
          "name": "stdout",
          "text": [
            "Finish Validation\n",
            "Epoch:197/300\n",
            "Total Loss: 0.795 || Val Loss: 1.108 \n",
            "Start Train\n"
          ]
        },
        {
          "output_type": "stream",
          "name": "stderr",
          "text": [
            "Epoch 198/300: 100%|██████████| 247/247 [00:41<00:00,  5.89it/s, lr=2.29e-5, roi_cls=0.217, roi_loc=0.502, rpn_cls=0.0359, rpn_loc=0.0375, total_loss=0.792]\n"
          ]
        },
        {
          "output_type": "stream",
          "name": "stdout",
          "text": [
            "Finish Train\n",
            "Start Validation\n"
          ]
        },
        {
          "output_type": "stream",
          "name": "stderr",
          "text": [
            "Epoch 198/300: 100%|██████████| 27/27 [00:03<00:00,  7.14it/s, val_loss=1.06]\n"
          ]
        },
        {
          "output_type": "stream",
          "name": "stdout",
          "text": [
            "Finish Validation\n",
            "Epoch:198/300\n",
            "Total Loss: 0.792 || Val Loss: 1.059 \n",
            "Start Train\n"
          ]
        },
        {
          "output_type": "stream",
          "name": "stderr",
          "text": [
            "Epoch 199/300: 100%|██████████| 247/247 [00:42<00:00,  5.88it/s, lr=2.25e-5, roi_cls=0.22, roi_loc=0.515, rpn_cls=0.0361, rpn_loc=0.0389, total_loss=0.81]\n"
          ]
        },
        {
          "output_type": "stream",
          "name": "stdout",
          "text": [
            "Finish Train\n",
            "Start Validation\n"
          ]
        },
        {
          "output_type": "stream",
          "name": "stderr",
          "text": [
            "Epoch 199/300: 100%|██████████| 27/27 [00:03<00:00,  7.20it/s, val_loss=1.09]\n"
          ]
        },
        {
          "output_type": "stream",
          "name": "stdout",
          "text": [
            "Finish Validation\n",
            "Epoch:199/300\n",
            "Total Loss: 0.810 || Val Loss: 1.088 \n",
            "Start Train\n"
          ]
        },
        {
          "output_type": "stream",
          "name": "stderr",
          "text": [
            "Epoch 200/300: 100%|██████████| 247/247 [00:42<00:00,  5.87it/s, lr=2.2e-5, roi_cls=0.223, roi_loc=0.51, rpn_cls=0.0394, rpn_loc=0.0401, total_loss=0.812]\n"
          ]
        },
        {
          "output_type": "stream",
          "name": "stdout",
          "text": [
            "Finish Train\n",
            "Start Validation\n"
          ]
        },
        {
          "output_type": "stream",
          "name": "stderr",
          "text": [
            "Epoch 200/300: 100%|██████████| 27/27 [00:03<00:00,  7.09it/s, val_loss=1.07]\n"
          ]
        },
        {
          "output_type": "stream",
          "name": "stdout",
          "text": [
            "Finish Validation\n",
            "Get map.\n"
          ]
        },
        {
          "output_type": "stream",
          "name": "stderr",
          "text": [
            "100%|██████████| 55/55 [00:04<00:00, 11.38it/s]\n"
          ]
        },
        {
          "output_type": "stream",
          "name": "stdout",
          "text": [
            "Calculate Map.\n",
            "loading annotations into memory...\n",
            "Done (t=0.01s)\n",
            "creating index...\n",
            "index created!\n",
            "Loading and preparing results...\n",
            "DONE (t=0.01s)\n",
            "creating index...\n",
            "index created!\n",
            "Running per image evaluation...\n",
            "Evaluate annotation type *bbox*\n",
            "DONE (t=0.72s).\n",
            "Accumulating evaluation results...\n",
            "DONE (t=0.10s).\n",
            " Average Precision  (AP) @[ IoU=0.50:0.95 | area=   all | maxDets=100 ] = 0.503\n",
            " Average Precision  (AP) @[ IoU=0.50      | area=   all | maxDets=100 ] = 0.789\n",
            " Average Precision  (AP) @[ IoU=0.75      | area=   all | maxDets=100 ] = 0.573\n",
            " Average Precision  (AP) @[ IoU=0.50:0.95 | area= small | maxDets=100 ] = 0.302\n",
            " Average Precision  (AP) @[ IoU=0.50:0.95 | area=medium | maxDets=100 ] = 0.440\n",
            " Average Precision  (AP) @[ IoU=0.50:0.95 | area= large | maxDets=100 ] = 0.593\n",
            " Average Recall     (AR) @[ IoU=0.50:0.95 | area=   all | maxDets=  1 ] = 0.154\n",
            " Average Recall     (AR) @[ IoU=0.50:0.95 | area=   all | maxDets= 10 ] = 0.521\n",
            " Average Recall     (AR) @[ IoU=0.50:0.95 | area=   all | maxDets=100 ] = 0.577\n",
            " Average Recall     (AR) @[ IoU=0.50:0.95 | area= small | maxDets=100 ] = 0.334\n",
            " Average Recall     (AR) @[ IoU=0.50:0.95 | area=medium | maxDets=100 ] = 0.524\n",
            " Average Recall     (AR) @[ IoU=0.50:0.95 | area= large | maxDets=100 ] = 0.656\n",
            "Get map done.\n",
            "Epoch:200/300\n",
            "Total Loss: 0.812 || Val Loss: 1.068 \n",
            "Start Train\n"
          ]
        },
        {
          "output_type": "stream",
          "name": "stderr",
          "text": [
            "Epoch 201/300: 100%|██████████| 247/247 [00:42<00:00,  5.84it/s, lr=2.16e-5, roi_cls=0.226, roi_loc=0.509, rpn_cls=0.0345, rpn_loc=0.0399, total_loss=0.81]\n"
          ]
        },
        {
          "output_type": "stream",
          "name": "stdout",
          "text": [
            "Finish Train\n",
            "Start Validation\n"
          ]
        },
        {
          "output_type": "stream",
          "name": "stderr",
          "text": [
            "Epoch 201/300: 100%|██████████| 27/27 [00:03<00:00,  7.12it/s, val_loss=1.13]\n"
          ]
        },
        {
          "output_type": "stream",
          "name": "stdout",
          "text": [
            "Finish Validation\n",
            "Epoch:201/300\n",
            "Total Loss: 0.810 || Val Loss: 1.129 \n",
            "Start Train\n"
          ]
        },
        {
          "output_type": "stream",
          "name": "stderr",
          "text": [
            "Epoch 202/300: 100%|██████████| 247/247 [00:41<00:00,  5.90it/s, lr=2.11e-5, roi_cls=0.219, roi_loc=0.505, rpn_cls=0.0337, rpn_loc=0.0405, total_loss=0.798]\n"
          ]
        },
        {
          "output_type": "stream",
          "name": "stdout",
          "text": [
            "Finish Train\n",
            "Start Validation\n"
          ]
        },
        {
          "output_type": "stream",
          "name": "stderr",
          "text": [
            "Epoch 202/300: 100%|██████████| 27/27 [00:03<00:00,  7.06it/s, val_loss=1.08]\n"
          ]
        },
        {
          "output_type": "stream",
          "name": "stdout",
          "text": [
            "Finish Validation\n",
            "Epoch:202/300\n",
            "Total Loss: 0.798 || Val Loss: 1.084 \n",
            "Start Train\n"
          ]
        },
        {
          "output_type": "stream",
          "name": "stderr",
          "text": [
            "Epoch 203/300: 100%|██████████| 247/247 [00:42<00:00,  5.82it/s, lr=2.07e-5, roi_cls=0.213, roi_loc=0.499, rpn_cls=0.0336, rpn_loc=0.0429, total_loss=0.789]\n"
          ]
        },
        {
          "output_type": "stream",
          "name": "stdout",
          "text": [
            "Finish Train\n",
            "Start Validation\n"
          ]
        },
        {
          "output_type": "stream",
          "name": "stderr",
          "text": [
            "Epoch 203/300: 100%|██████████| 27/27 [00:03<00:00,  6.97it/s, val_loss=1.15]\n"
          ]
        },
        {
          "output_type": "stream",
          "name": "stdout",
          "text": [
            "Finish Validation\n",
            "Epoch:203/300\n",
            "Total Loss: 0.789 || Val Loss: 1.153 \n",
            "Start Train\n"
          ]
        },
        {
          "output_type": "stream",
          "name": "stderr",
          "text": [
            "Epoch 204/300: 100%|██████████| 247/247 [00:42<00:00,  5.83it/s, lr=2.03e-5, roi_cls=0.219, roi_loc=0.503, rpn_cls=0.0359, rpn_loc=0.0431, total_loss=0.801]\n"
          ]
        },
        {
          "output_type": "stream",
          "name": "stdout",
          "text": [
            "Finish Train\n",
            "Start Validation\n"
          ]
        },
        {
          "output_type": "stream",
          "name": "stderr",
          "text": [
            "Epoch 204/300: 100%|██████████| 27/27 [00:03<00:00,  7.20it/s, val_loss=1.15]\n"
          ]
        },
        {
          "output_type": "stream",
          "name": "stdout",
          "text": [
            "Finish Validation\n",
            "Epoch:204/300\n",
            "Total Loss: 0.801 || Val Loss: 1.145 \n",
            "Start Train\n"
          ]
        },
        {
          "output_type": "stream",
          "name": "stderr",
          "text": [
            "Epoch 205/300: 100%|██████████| 247/247 [00:41<00:00,  5.92it/s, lr=1.98e-5, roi_cls=0.215, roi_loc=0.505, rpn_cls=0.0375, rpn_loc=0.0354, total_loss=0.794]\n"
          ]
        },
        {
          "output_type": "stream",
          "name": "stdout",
          "text": [
            "Finish Train\n",
            "Start Validation\n"
          ]
        },
        {
          "output_type": "stream",
          "name": "stderr",
          "text": [
            "Epoch 205/300: 100%|██████████| 27/27 [00:03<00:00,  7.11it/s, val_loss=1.08]\n"
          ]
        },
        {
          "output_type": "stream",
          "name": "stdout",
          "text": [
            "Finish Validation\n",
            "Get map.\n"
          ]
        },
        {
          "output_type": "stream",
          "name": "stderr",
          "text": [
            "100%|██████████| 55/55 [00:04<00:00, 11.29it/s]\n"
          ]
        },
        {
          "output_type": "stream",
          "name": "stdout",
          "text": [
            "Calculate Map.\n",
            "loading annotations into memory...\n",
            "Done (t=0.01s)\n",
            "creating index...\n",
            "index created!\n",
            "Loading and preparing results...\n",
            "DONE (t=0.01s)\n",
            "creating index...\n",
            "index created!\n",
            "Running per image evaluation...\n",
            "Evaluate annotation type *bbox*\n",
            "DONE (t=0.71s).\n",
            "Accumulating evaluation results...\n",
            "DONE (t=0.10s).\n",
            " Average Precision  (AP) @[ IoU=0.50:0.95 | area=   all | maxDets=100 ] = 0.502\n",
            " Average Precision  (AP) @[ IoU=0.50      | area=   all | maxDets=100 ] = 0.782\n",
            " Average Precision  (AP) @[ IoU=0.75      | area=   all | maxDets=100 ] = 0.580\n",
            " Average Precision  (AP) @[ IoU=0.50:0.95 | area= small | maxDets=100 ] = 0.293\n",
            " Average Precision  (AP) @[ IoU=0.50:0.95 | area=medium | maxDets=100 ] = 0.438\n",
            " Average Precision  (AP) @[ IoU=0.50:0.95 | area= large | maxDets=100 ] = 0.598\n",
            " Average Recall     (AR) @[ IoU=0.50:0.95 | area=   all | maxDets=  1 ] = 0.154\n",
            " Average Recall     (AR) @[ IoU=0.50:0.95 | area=   all | maxDets= 10 ] = 0.519\n",
            " Average Recall     (AR) @[ IoU=0.50:0.95 | area=   all | maxDets=100 ] = 0.575\n",
            " Average Recall     (AR) @[ IoU=0.50:0.95 | area= small | maxDets=100 ] = 0.346\n",
            " Average Recall     (AR) @[ IoU=0.50:0.95 | area=medium | maxDets=100 ] = 0.523\n",
            " Average Recall     (AR) @[ IoU=0.50:0.95 | area= large | maxDets=100 ] = 0.657\n",
            "Get map done.\n",
            "Epoch:205/300\n",
            "Total Loss: 0.794 || Val Loss: 1.081 \n",
            "Start Train\n"
          ]
        },
        {
          "output_type": "stream",
          "name": "stderr",
          "text": [
            "Epoch 206/300: 100%|██████████| 247/247 [00:41<00:00,  5.90it/s, lr=1.94e-5, roi_cls=0.214, roi_loc=0.501, rpn_cls=0.0332, rpn_loc=0.0394, total_loss=0.788]\n"
          ]
        },
        {
          "output_type": "stream",
          "name": "stdout",
          "text": [
            "Finish Train\n",
            "Start Validation\n"
          ]
        },
        {
          "output_type": "stream",
          "name": "stderr",
          "text": [
            "Epoch 206/300: 100%|██████████| 27/27 [00:03<00:00,  7.10it/s, val_loss=1.12]\n"
          ]
        },
        {
          "output_type": "stream",
          "name": "stdout",
          "text": [
            "Finish Validation\n",
            "Epoch:206/300\n",
            "Total Loss: 0.788 || Val Loss: 1.119 \n",
            "Start Train\n"
          ]
        },
        {
          "output_type": "stream",
          "name": "stderr",
          "text": [
            "Epoch 207/300: 100%|██████████| 247/247 [00:42<00:00,  5.85it/s, lr=1.9e-5, roi_cls=0.217, roi_loc=0.505, rpn_cls=0.0332, rpn_loc=0.0395, total_loss=0.795]\n"
          ]
        },
        {
          "output_type": "stream",
          "name": "stdout",
          "text": [
            "Finish Train\n",
            "Start Validation\n"
          ]
        },
        {
          "output_type": "stream",
          "name": "stderr",
          "text": [
            "Epoch 207/300: 100%|██████████| 27/27 [00:03<00:00,  7.05it/s, val_loss=1.11]\n"
          ]
        },
        {
          "output_type": "stream",
          "name": "stdout",
          "text": [
            "Finish Validation\n",
            "Epoch:207/300\n",
            "Total Loss: 0.795 || Val Loss: 1.107 \n",
            "Start Train\n"
          ]
        },
        {
          "output_type": "stream",
          "name": "stderr",
          "text": [
            "Epoch 208/300: 100%|██████████| 247/247 [00:42<00:00,  5.87it/s, lr=1.85e-5, roi_cls=0.215, roi_loc=0.515, rpn_cls=0.0356, rpn_loc=0.0378, total_loss=0.803]\n"
          ]
        },
        {
          "output_type": "stream",
          "name": "stdout",
          "text": [
            "Finish Train\n",
            "Start Validation\n"
          ]
        },
        {
          "output_type": "stream",
          "name": "stderr",
          "text": [
            "Epoch 208/300: 100%|██████████| 27/27 [00:03<00:00,  7.36it/s, val_loss=1.12]\n"
          ]
        },
        {
          "output_type": "stream",
          "name": "stdout",
          "text": [
            "Finish Validation\n",
            "Epoch:208/300\n",
            "Total Loss: 0.803 || Val Loss: 1.124 \n",
            "Start Train\n"
          ]
        },
        {
          "output_type": "stream",
          "name": "stderr",
          "text": [
            "Epoch 209/300: 100%|██████████| 247/247 [00:41<00:00,  5.93it/s, lr=1.81e-5, roi_cls=0.217, roi_loc=0.503, rpn_cls=0.0385, rpn_loc=0.0409, total_loss=0.799]\n"
          ]
        },
        {
          "output_type": "stream",
          "name": "stdout",
          "text": [
            "Finish Train\n",
            "Start Validation\n"
          ]
        },
        {
          "output_type": "stream",
          "name": "stderr",
          "text": [
            "Epoch 209/300: 100%|██████████| 27/27 [00:03<00:00,  7.28it/s, val_loss=1.13]\n"
          ]
        },
        {
          "output_type": "stream",
          "name": "stdout",
          "text": [
            "Finish Validation\n",
            "Epoch:209/300\n",
            "Total Loss: 0.799 || Val Loss: 1.128 \n",
            "Start Train\n"
          ]
        },
        {
          "output_type": "stream",
          "name": "stderr",
          "text": [
            "Epoch 210/300: 100%|██████████| 247/247 [00:42<00:00,  5.88it/s, lr=1.77e-5, roi_cls=0.212, roi_loc=0.51, rpn_cls=0.0318, rpn_loc=0.0387, total_loss=0.793]\n"
          ]
        },
        {
          "output_type": "stream",
          "name": "stdout",
          "text": [
            "Finish Train\n",
            "Start Validation\n"
          ]
        },
        {
          "output_type": "stream",
          "name": "stderr",
          "text": [
            "Epoch 210/300: 100%|██████████| 27/27 [00:03<00:00,  7.00it/s, val_loss=1.1]\n"
          ]
        },
        {
          "output_type": "stream",
          "name": "stdout",
          "text": [
            "Finish Validation\n",
            "Get map.\n"
          ]
        },
        {
          "output_type": "stream",
          "name": "stderr",
          "text": [
            "100%|██████████| 55/55 [00:04<00:00, 11.25it/s]\n"
          ]
        },
        {
          "output_type": "stream",
          "name": "stdout",
          "text": [
            "Calculate Map.\n",
            "loading annotations into memory...\n",
            "Done (t=0.01s)\n",
            "creating index...\n",
            "index created!\n",
            "Loading and preparing results...\n",
            "DONE (t=0.01s)\n",
            "creating index...\n",
            "index created!\n",
            "Running per image evaluation...\n",
            "Evaluate annotation type *bbox*\n",
            "DONE (t=0.95s).\n",
            "Accumulating evaluation results...\n",
            "DONE (t=0.11s).\n",
            " Average Precision  (AP) @[ IoU=0.50:0.95 | area=   all | maxDets=100 ] = 0.505\n",
            " Average Precision  (AP) @[ IoU=0.50      | area=   all | maxDets=100 ] = 0.793\n",
            " Average Precision  (AP) @[ IoU=0.75      | area=   all | maxDets=100 ] = 0.581\n",
            " Average Precision  (AP) @[ IoU=0.50:0.95 | area= small | maxDets=100 ] = 0.289\n",
            " Average Precision  (AP) @[ IoU=0.50:0.95 | area=medium | maxDets=100 ] = 0.441\n",
            " Average Precision  (AP) @[ IoU=0.50:0.95 | area= large | maxDets=100 ] = 0.610\n",
            " Average Recall     (AR) @[ IoU=0.50:0.95 | area=   all | maxDets=  1 ] = 0.155\n",
            " Average Recall     (AR) @[ IoU=0.50:0.95 | area=   all | maxDets= 10 ] = 0.525\n",
            " Average Recall     (AR) @[ IoU=0.50:0.95 | area=   all | maxDets=100 ] = 0.578\n",
            " Average Recall     (AR) @[ IoU=0.50:0.95 | area= small | maxDets=100 ] = 0.368\n",
            " Average Recall     (AR) @[ IoU=0.50:0.95 | area=medium | maxDets=100 ] = 0.517\n",
            " Average Recall     (AR) @[ IoU=0.50:0.95 | area= large | maxDets=100 ] = 0.674\n",
            "Get map done.\n",
            "Epoch:210/300\n",
            "Total Loss: 0.793 || Val Loss: 1.097 \n",
            "Start Train\n"
          ]
        },
        {
          "output_type": "stream",
          "name": "stderr",
          "text": [
            "Epoch 211/300: 100%|██████████| 247/247 [00:42<00:00,  5.83it/s, lr=1.73e-5, roi_cls=0.211, roi_loc=0.512, rpn_cls=0.0359, rpn_loc=0.0393, total_loss=0.799]\n"
          ]
        },
        {
          "output_type": "stream",
          "name": "stdout",
          "text": [
            "Finish Train\n",
            "Start Validation\n"
          ]
        },
        {
          "output_type": "stream",
          "name": "stderr",
          "text": [
            "Epoch 211/300: 100%|██████████| 27/27 [00:03<00:00,  7.05it/s, val_loss=1.11]\n"
          ]
        },
        {
          "output_type": "stream",
          "name": "stdout",
          "text": [
            "Finish Validation\n",
            "Epoch:211/300\n",
            "Total Loss: 0.799 || Val Loss: 1.115 \n",
            "Start Train\n"
          ]
        },
        {
          "output_type": "stream",
          "name": "stderr",
          "text": [
            "Epoch 212/300: 100%|██████████| 247/247 [00:42<00:00,  5.87it/s, lr=1.69e-5, roi_cls=0.212, roi_loc=0.493, rpn_cls=0.0356, rpn_loc=0.036, total_loss=0.777]\n"
          ]
        },
        {
          "output_type": "stream",
          "name": "stdout",
          "text": [
            "Finish Train\n",
            "Start Validation\n"
          ]
        },
        {
          "output_type": "stream",
          "name": "stderr",
          "text": [
            "Epoch 212/300: 100%|██████████| 27/27 [00:03<00:00,  7.19it/s, val_loss=1.11]\n"
          ]
        },
        {
          "output_type": "stream",
          "name": "stdout",
          "text": [
            "Finish Validation\n",
            "Epoch:212/300\n",
            "Total Loss: 0.777 || Val Loss: 1.112 \n",
            "Start Train\n"
          ]
        },
        {
          "output_type": "stream",
          "name": "stderr",
          "text": [
            "Epoch 213/300: 100%|██████████| 247/247 [00:42<00:00,  5.82it/s, lr=1.65e-5, roi_cls=0.218, roi_loc=0.51, rpn_cls=0.0364, rpn_loc=0.0352, total_loss=0.799]\n"
          ]
        },
        {
          "output_type": "stream",
          "name": "stdout",
          "text": [
            "Finish Train\n",
            "Start Validation\n"
          ]
        },
        {
          "output_type": "stream",
          "name": "stderr",
          "text": [
            "Epoch 213/300: 100%|██████████| 27/27 [00:03<00:00,  6.97it/s, val_loss=1.13]\n"
          ]
        },
        {
          "output_type": "stream",
          "name": "stdout",
          "text": [
            "Finish Validation\n",
            "Epoch:213/300\n",
            "Total Loss: 0.799 || Val Loss: 1.132 \n",
            "Start Train\n"
          ]
        },
        {
          "output_type": "stream",
          "name": "stderr",
          "text": [
            "Epoch 214/300: 100%|██████████| 247/247 [00:42<00:00,  5.86it/s, lr=1.61e-5, roi_cls=0.216, roi_loc=0.502, rpn_cls=0.0324, rpn_loc=0.0385, total_loss=0.789]\n"
          ]
        },
        {
          "output_type": "stream",
          "name": "stdout",
          "text": [
            "Finish Train\n",
            "Start Validation\n"
          ]
        },
        {
          "output_type": "stream",
          "name": "stderr",
          "text": [
            "Epoch 214/300: 100%|██████████| 27/27 [00:03<00:00,  7.21it/s, val_loss=1.14]\n"
          ]
        },
        {
          "output_type": "stream",
          "name": "stdout",
          "text": [
            "Finish Validation\n",
            "Epoch:214/300\n",
            "Total Loss: 0.789 || Val Loss: 1.138 \n",
            "Start Train\n"
          ]
        },
        {
          "output_type": "stream",
          "name": "stderr",
          "text": [
            "Epoch 215/300: 100%|██████████| 247/247 [00:42<00:00,  5.82it/s, lr=1.57e-5, roi_cls=0.214, roi_loc=0.508, rpn_cls=0.0358, rpn_loc=0.0401, total_loss=0.797]\n"
          ]
        },
        {
          "output_type": "stream",
          "name": "stdout",
          "text": [
            "Finish Train\n",
            "Start Validation\n"
          ]
        },
        {
          "output_type": "stream",
          "name": "stderr",
          "text": [
            "Epoch 215/300: 100%|██████████| 27/27 [00:03<00:00,  7.10it/s, val_loss=1.14]\n"
          ]
        },
        {
          "output_type": "stream",
          "name": "stdout",
          "text": [
            "Finish Validation\n",
            "Get map.\n"
          ]
        },
        {
          "output_type": "stream",
          "name": "stderr",
          "text": [
            "100%|██████████| 55/55 [00:04<00:00, 11.70it/s]\n"
          ]
        },
        {
          "output_type": "stream",
          "name": "stdout",
          "text": [
            "Calculate Map.\n",
            "loading annotations into memory...\n",
            "Done (t=0.01s)\n",
            "creating index...\n",
            "index created!\n",
            "Loading and preparing results...\n",
            "DONE (t=0.01s)\n",
            "creating index...\n",
            "index created!\n",
            "Running per image evaluation...\n",
            "Evaluate annotation type *bbox*\n",
            "DONE (t=0.69s).\n",
            "Accumulating evaluation results...\n",
            "DONE (t=0.10s).\n",
            " Average Precision  (AP) @[ IoU=0.50:0.95 | area=   all | maxDets=100 ] = 0.510\n",
            " Average Precision  (AP) @[ IoU=0.50      | area=   all | maxDets=100 ] = 0.793\n",
            " Average Precision  (AP) @[ IoU=0.75      | area=   all | maxDets=100 ] = 0.589\n",
            " Average Precision  (AP) @[ IoU=0.50:0.95 | area= small | maxDets=100 ] = 0.240\n",
            " Average Precision  (AP) @[ IoU=0.50:0.95 | area=medium | maxDets=100 ] = 0.451\n",
            " Average Precision  (AP) @[ IoU=0.50:0.95 | area= large | maxDets=100 ] = 0.610\n",
            " Average Recall     (AR) @[ IoU=0.50:0.95 | area=   all | maxDets=  1 ] = 0.156\n",
            " Average Recall     (AR) @[ IoU=0.50:0.95 | area=   all | maxDets= 10 ] = 0.525\n",
            " Average Recall     (AR) @[ IoU=0.50:0.95 | area=   all | maxDets=100 ] = 0.580\n",
            " Average Recall     (AR) @[ IoU=0.50:0.95 | area= small | maxDets=100 ] = 0.316\n",
            " Average Recall     (AR) @[ IoU=0.50:0.95 | area=medium | maxDets=100 ] = 0.522\n",
            " Average Recall     (AR) @[ IoU=0.50:0.95 | area= large | maxDets=100 ] = 0.678\n",
            "Get map done.\n",
            "Epoch:215/300\n",
            "Total Loss: 0.797 || Val Loss: 1.140 \n",
            "Start Train\n"
          ]
        },
        {
          "output_type": "stream",
          "name": "stderr",
          "text": [
            "Epoch 216/300: 100%|██████████| 247/247 [00:41<00:00,  5.92it/s, lr=1.53e-5, roi_cls=0.208, roi_loc=0.5, rpn_cls=0.0326, rpn_loc=0.0388, total_loss=0.78]\n"
          ]
        },
        {
          "output_type": "stream",
          "name": "stdout",
          "text": [
            "Finish Train\n",
            "Start Validation\n"
          ]
        },
        {
          "output_type": "stream",
          "name": "stderr",
          "text": [
            "Epoch 216/300: 100%|██████████| 27/27 [00:03<00:00,  7.10it/s, val_loss=1.12]\n"
          ]
        },
        {
          "output_type": "stream",
          "name": "stdout",
          "text": [
            "Finish Validation\n",
            "Epoch:216/300\n",
            "Total Loss: 0.780 || Val Loss: 1.116 \n",
            "Start Train\n"
          ]
        },
        {
          "output_type": "stream",
          "name": "stderr",
          "text": [
            "Epoch 217/300: 100%|██████████| 247/247 [00:41<00:00,  5.89it/s, lr=1.49e-5, roi_cls=0.206, roi_loc=0.495, rpn_cls=0.0324, rpn_loc=0.0365, total_loss=0.77]\n"
          ]
        },
        {
          "output_type": "stream",
          "name": "stdout",
          "text": [
            "Finish Train\n",
            "Start Validation\n"
          ]
        },
        {
          "output_type": "stream",
          "name": "stderr",
          "text": [
            "Epoch 217/300: 100%|██████████| 27/27 [00:03<00:00,  7.06it/s, val_loss=1.14]\n"
          ]
        },
        {
          "output_type": "stream",
          "name": "stdout",
          "text": [
            "Finish Validation\n",
            "Epoch:217/300\n",
            "Total Loss: 0.770 || Val Loss: 1.140 \n",
            "Start Train\n"
          ]
        },
        {
          "output_type": "stream",
          "name": "stderr",
          "text": [
            "Epoch 218/300: 100%|██████████| 247/247 [00:42<00:00,  5.85it/s, lr=1.45e-5, roi_cls=0.21, roi_loc=0.506, rpn_cls=0.0324, rpn_loc=0.0358, total_loss=0.785]\n"
          ]
        },
        {
          "output_type": "stream",
          "name": "stdout",
          "text": [
            "Finish Train\n",
            "Start Validation\n"
          ]
        },
        {
          "output_type": "stream",
          "name": "stderr",
          "text": [
            "Epoch 218/300: 100%|██████████| 27/27 [00:03<00:00,  7.30it/s, val_loss=1.11]\n"
          ]
        },
        {
          "output_type": "stream",
          "name": "stdout",
          "text": [
            "Finish Validation\n",
            "Epoch:218/300\n",
            "Total Loss: 0.785 || Val Loss: 1.113 \n",
            "Start Train\n"
          ]
        },
        {
          "output_type": "stream",
          "name": "stderr",
          "text": [
            "Epoch 219/300: 100%|██████████| 247/247 [00:41<00:00,  5.89it/s, lr=1.42e-5, roi_cls=0.21, roi_loc=0.504, rpn_cls=0.0308, rpn_loc=0.0389, total_loss=0.784]\n"
          ]
        },
        {
          "output_type": "stream",
          "name": "stdout",
          "text": [
            "Finish Train\n",
            "Start Validation\n"
          ]
        },
        {
          "output_type": "stream",
          "name": "stderr",
          "text": [
            "Epoch 219/300: 100%|██████████| 27/27 [00:03<00:00,  7.13it/s, val_loss=1.13]\n"
          ]
        },
        {
          "output_type": "stream",
          "name": "stdout",
          "text": [
            "Finish Validation\n",
            "Epoch:219/300\n",
            "Total Loss: 0.784 || Val Loss: 1.135 \n",
            "Start Train\n"
          ]
        },
        {
          "output_type": "stream",
          "name": "stderr",
          "text": [
            "Epoch 220/300: 100%|██████████| 247/247 [00:41<00:00,  5.93it/s, lr=1.38e-5, roi_cls=0.207, roi_loc=0.507, rpn_cls=0.0349, rpn_loc=0.0364, total_loss=0.785]\n"
          ]
        },
        {
          "output_type": "stream",
          "name": "stdout",
          "text": [
            "Finish Train\n",
            "Start Validation\n"
          ]
        },
        {
          "output_type": "stream",
          "name": "stderr",
          "text": [
            "Epoch 220/300: 100%|██████████| 27/27 [00:03<00:00,  7.16it/s, val_loss=1.11]\n"
          ]
        },
        {
          "output_type": "stream",
          "name": "stdout",
          "text": [
            "Finish Validation\n",
            "Get map.\n"
          ]
        },
        {
          "output_type": "stream",
          "name": "stderr",
          "text": [
            "100%|██████████| 55/55 [00:04<00:00, 11.44it/s]\n"
          ]
        },
        {
          "output_type": "stream",
          "name": "stdout",
          "text": [
            "Calculate Map.\n",
            "loading annotations into memory...\n",
            "Done (t=0.01s)\n",
            "creating index...\n",
            "index created!\n",
            "Loading and preparing results...\n",
            "DONE (t=0.01s)\n",
            "creating index...\n",
            "index created!\n",
            "Running per image evaluation...\n",
            "Evaluate annotation type *bbox*\n",
            "DONE (t=0.68s).\n",
            "Accumulating evaluation results...\n",
            "DONE (t=0.10s).\n",
            " Average Precision  (AP) @[ IoU=0.50:0.95 | area=   all | maxDets=100 ] = 0.508\n",
            " Average Precision  (AP) @[ IoU=0.50      | area=   all | maxDets=100 ] = 0.800\n",
            " Average Precision  (AP) @[ IoU=0.75      | area=   all | maxDets=100 ] = 0.587\n",
            " Average Precision  (AP) @[ IoU=0.50:0.95 | area= small | maxDets=100 ] = 0.284\n",
            " Average Precision  (AP) @[ IoU=0.50:0.95 | area=medium | maxDets=100 ] = 0.450\n",
            " Average Precision  (AP) @[ IoU=0.50:0.95 | area= large | maxDets=100 ] = 0.593\n",
            " Average Recall     (AR) @[ IoU=0.50:0.95 | area=   all | maxDets=  1 ] = 0.154\n",
            " Average Recall     (AR) @[ IoU=0.50:0.95 | area=   all | maxDets= 10 ] = 0.521\n",
            " Average Recall     (AR) @[ IoU=0.50:0.95 | area=   all | maxDets=100 ] = 0.576\n",
            " Average Recall     (AR) @[ IoU=0.50:0.95 | area= small | maxDets=100 ] = 0.359\n",
            " Average Recall     (AR) @[ IoU=0.50:0.95 | area=medium | maxDets=100 ] = 0.520\n",
            " Average Recall     (AR) @[ IoU=0.50:0.95 | area= large | maxDets=100 ] = 0.656\n",
            "Get map done.\n",
            "Epoch:220/300\n",
            "Total Loss: 0.785 || Val Loss: 1.111 \n",
            "Start Train\n"
          ]
        },
        {
          "output_type": "stream",
          "name": "stderr",
          "text": [
            "Epoch 221/300: 100%|██████████| 247/247 [00:42<00:00,  5.88it/s, lr=1.34e-5, roi_cls=0.214, roi_loc=0.497, rpn_cls=0.0366, rpn_loc=0.0379, total_loss=0.786]\n"
          ]
        },
        {
          "output_type": "stream",
          "name": "stdout",
          "text": [
            "Finish Train\n",
            "Start Validation\n"
          ]
        },
        {
          "output_type": "stream",
          "name": "stderr",
          "text": [
            "Epoch 221/300: 100%|██████████| 27/27 [00:03<00:00,  7.08it/s, val_loss=1.14]\n"
          ]
        },
        {
          "output_type": "stream",
          "name": "stdout",
          "text": [
            "Finish Validation\n",
            "Epoch:221/300\n",
            "Total Loss: 0.786 || Val Loss: 1.137 \n",
            "Start Train\n"
          ]
        },
        {
          "output_type": "stream",
          "name": "stderr",
          "text": [
            "Epoch 222/300: 100%|██████████| 247/247 [00:41<00:00,  5.90it/s, lr=1.31e-5, roi_cls=0.208, roi_loc=0.497, rpn_cls=0.0343, rpn_loc=0.0385, total_loss=0.778]\n"
          ]
        },
        {
          "output_type": "stream",
          "name": "stdout",
          "text": [
            "Finish Train\n",
            "Start Validation\n"
          ]
        },
        {
          "output_type": "stream",
          "name": "stderr",
          "text": [
            "Epoch 222/300: 100%|██████████| 27/27 [00:03<00:00,  7.18it/s, val_loss=1.11]\n"
          ]
        },
        {
          "output_type": "stream",
          "name": "stdout",
          "text": [
            "Finish Validation\n",
            "Epoch:222/300\n",
            "Total Loss: 0.778 || Val Loss: 1.111 \n",
            "Start Train\n"
          ]
        },
        {
          "output_type": "stream",
          "name": "stderr",
          "text": [
            "Epoch 223/300: 100%|██████████| 247/247 [00:42<00:00,  5.83it/s, lr=1.27e-5, roi_cls=0.204, roi_loc=0.498, rpn_cls=0.0328, rpn_loc=0.0423, total_loss=0.777]\n"
          ]
        },
        {
          "output_type": "stream",
          "name": "stdout",
          "text": [
            "Finish Train\n",
            "Start Validation\n"
          ]
        },
        {
          "output_type": "stream",
          "name": "stderr",
          "text": [
            "Epoch 223/300: 100%|██████████| 27/27 [00:03<00:00,  7.08it/s, val_loss=1.13]\n"
          ]
        },
        {
          "output_type": "stream",
          "name": "stdout",
          "text": [
            "Finish Validation\n",
            "Epoch:223/300\n",
            "Total Loss: 0.777 || Val Loss: 1.134 \n",
            "Start Train\n"
          ]
        },
        {
          "output_type": "stream",
          "name": "stderr",
          "text": [
            "Epoch 224/300: 100%|██████████| 247/247 [00:42<00:00,  5.86it/s, lr=1.23e-5, roi_cls=0.216, roi_loc=0.512, rpn_cls=0.0326, rpn_loc=0.0399, total_loss=0.8]\n"
          ]
        },
        {
          "output_type": "stream",
          "name": "stdout",
          "text": [
            "Finish Train\n",
            "Start Validation\n"
          ]
        },
        {
          "output_type": "stream",
          "name": "stderr",
          "text": [
            "Epoch 224/300: 100%|██████████| 27/27 [00:03<00:00,  7.15it/s, val_loss=1.14]\n"
          ]
        },
        {
          "output_type": "stream",
          "name": "stdout",
          "text": [
            "Finish Validation\n",
            "Epoch:224/300\n",
            "Total Loss: 0.800 || Val Loss: 1.139 \n",
            "Start Train\n"
          ]
        },
        {
          "output_type": "stream",
          "name": "stderr",
          "text": [
            "Epoch 225/300: 100%|██████████| 247/247 [00:41<00:00,  5.89it/s, lr=1.2e-5, roi_cls=0.209, roi_loc=0.491, rpn_cls=0.0351, rpn_loc=0.0388, total_loss=0.773]\n"
          ]
        },
        {
          "output_type": "stream",
          "name": "stdout",
          "text": [
            "Finish Train\n",
            "Start Validation\n"
          ]
        },
        {
          "output_type": "stream",
          "name": "stderr",
          "text": [
            "Epoch 225/300: 100%|██████████| 27/27 [00:03<00:00,  7.14it/s, val_loss=1.11]\n"
          ]
        },
        {
          "output_type": "stream",
          "name": "stdout",
          "text": [
            "Finish Validation\n",
            "Get map.\n"
          ]
        },
        {
          "output_type": "stream",
          "name": "stderr",
          "text": [
            "100%|██████████| 55/55 [00:04<00:00, 11.28it/s]\n"
          ]
        },
        {
          "output_type": "stream",
          "name": "stdout",
          "text": [
            "Calculate Map.\n",
            "loading annotations into memory...\n",
            "Done (t=0.01s)\n",
            "creating index...\n",
            "index created!\n",
            "Loading and preparing results...\n",
            "DONE (t=0.01s)\n",
            "creating index...\n",
            "index created!\n",
            "Running per image evaluation...\n",
            "Evaluate annotation type *bbox*\n",
            "DONE (t=0.69s).\n",
            "Accumulating evaluation results...\n",
            "DONE (t=0.10s).\n",
            " Average Precision  (AP) @[ IoU=0.50:0.95 | area=   all | maxDets=100 ] = 0.503\n",
            " Average Precision  (AP) @[ IoU=0.50      | area=   all | maxDets=100 ] = 0.789\n",
            " Average Precision  (AP) @[ IoU=0.75      | area=   all | maxDets=100 ] = 0.600\n",
            " Average Precision  (AP) @[ IoU=0.50:0.95 | area= small | maxDets=100 ] = 0.257\n",
            " Average Precision  (AP) @[ IoU=0.50:0.95 | area=medium | maxDets=100 ] = 0.443\n",
            " Average Precision  (AP) @[ IoU=0.50:0.95 | area= large | maxDets=100 ] = 0.603\n",
            " Average Recall     (AR) @[ IoU=0.50:0.95 | area=   all | maxDets=  1 ] = 0.157\n",
            " Average Recall     (AR) @[ IoU=0.50:0.95 | area=   all | maxDets= 10 ] = 0.520\n",
            " Average Recall     (AR) @[ IoU=0.50:0.95 | area=   all | maxDets=100 ] = 0.574\n",
            " Average Recall     (AR) @[ IoU=0.50:0.95 | area= small | maxDets=100 ] = 0.312\n",
            " Average Recall     (AR) @[ IoU=0.50:0.95 | area=medium | maxDets=100 ] = 0.518\n",
            " Average Recall     (AR) @[ IoU=0.50:0.95 | area= large | maxDets=100 ] = 0.671\n",
            "Get map done.\n",
            "Epoch:225/300\n",
            "Total Loss: 0.773 || Val Loss: 1.108 \n",
            "Start Train\n"
          ]
        },
        {
          "output_type": "stream",
          "name": "stderr",
          "text": [
            "Epoch 226/300: 100%|██████████| 247/247 [00:42<00:00,  5.85it/s, lr=1.17e-5, roi_cls=0.208, roi_loc=0.494, rpn_cls=0.0337, rpn_loc=0.0367, total_loss=0.773]\n"
          ]
        },
        {
          "output_type": "stream",
          "name": "stdout",
          "text": [
            "Finish Train\n",
            "Start Validation\n"
          ]
        },
        {
          "output_type": "stream",
          "name": "stderr",
          "text": [
            "Epoch 226/300: 100%|██████████| 27/27 [00:03<00:00,  7.07it/s, val_loss=1.1]\n"
          ]
        },
        {
          "output_type": "stream",
          "name": "stdout",
          "text": [
            "Finish Validation\n",
            "Epoch:226/300\n",
            "Total Loss: 0.773 || Val Loss: 1.101 \n",
            "Start Train\n"
          ]
        },
        {
          "output_type": "stream",
          "name": "stderr",
          "text": [
            "Epoch 227/300: 100%|██████████| 247/247 [00:42<00:00,  5.88it/s, lr=1.13e-5, roi_cls=0.208, roi_loc=0.504, rpn_cls=0.0354, rpn_loc=0.0385, total_loss=0.786]\n"
          ]
        },
        {
          "output_type": "stream",
          "name": "stdout",
          "text": [
            "Finish Train\n",
            "Start Validation\n"
          ]
        },
        {
          "output_type": "stream",
          "name": "stderr",
          "text": [
            "Epoch 227/300: 100%|██████████| 27/27 [00:03<00:00,  7.22it/s, val_loss=1.15]\n"
          ]
        },
        {
          "output_type": "stream",
          "name": "stdout",
          "text": [
            "Finish Validation\n",
            "Epoch:227/300\n",
            "Total Loss: 0.786 || Val Loss: 1.145 \n",
            "Start Train\n"
          ]
        },
        {
          "output_type": "stream",
          "name": "stderr",
          "text": [
            "Epoch 228/300: 100%|██████████| 247/247 [00:42<00:00,  5.87it/s, lr=1.1e-5, roi_cls=0.207, roi_loc=0.487, rpn_cls=0.0341, rpn_loc=0.0385, total_loss=0.767]\n"
          ]
        },
        {
          "output_type": "stream",
          "name": "stdout",
          "text": [
            "Finish Train\n",
            "Start Validation\n"
          ]
        },
        {
          "output_type": "stream",
          "name": "stderr",
          "text": [
            "Epoch 228/300: 100%|██████████| 27/27 [00:03<00:00,  7.10it/s, val_loss=1.13]\n"
          ]
        },
        {
          "output_type": "stream",
          "name": "stdout",
          "text": [
            "Finish Validation\n",
            "Epoch:228/300\n",
            "Total Loss: 0.767 || Val Loss: 1.127 \n",
            "Start Train\n"
          ]
        },
        {
          "output_type": "stream",
          "name": "stderr",
          "text": [
            "Epoch 229/300: 100%|██████████| 247/247 [00:42<00:00,  5.83it/s, lr=1.06e-5, roi_cls=0.208, roi_loc=0.489, rpn_cls=0.0316, rpn_loc=0.0372, total_loss=0.766]\n"
          ]
        },
        {
          "output_type": "stream",
          "name": "stdout",
          "text": [
            "Finish Train\n",
            "Start Validation\n"
          ]
        },
        {
          "output_type": "stream",
          "name": "stderr",
          "text": [
            "Epoch 229/300: 100%|██████████| 27/27 [00:03<00:00,  6.96it/s, val_loss=1.13]\n"
          ]
        },
        {
          "output_type": "stream",
          "name": "stdout",
          "text": [
            "Finish Validation\n",
            "Epoch:229/300\n",
            "Total Loss: 0.766 || Val Loss: 1.132 \n",
            "Start Train\n"
          ]
        },
        {
          "output_type": "stream",
          "name": "stderr",
          "text": [
            "Epoch 230/300: 100%|██████████| 247/247 [00:42<00:00,  5.83it/s, lr=1.03e-5, roi_cls=0.206, roi_loc=0.505, rpn_cls=0.0315, rpn_loc=0.0365, total_loss=0.778]\n"
          ]
        },
        {
          "output_type": "stream",
          "name": "stdout",
          "text": [
            "Finish Train\n",
            "Start Validation\n"
          ]
        },
        {
          "output_type": "stream",
          "name": "stderr",
          "text": [
            "Epoch 230/300: 100%|██████████| 27/27 [00:03<00:00,  7.16it/s, val_loss=1.12]\n"
          ]
        },
        {
          "output_type": "stream",
          "name": "stdout",
          "text": [
            "Finish Validation\n",
            "Get map.\n"
          ]
        },
        {
          "output_type": "stream",
          "name": "stderr",
          "text": [
            "100%|██████████| 55/55 [00:04<00:00, 11.32it/s]\n"
          ]
        },
        {
          "output_type": "stream",
          "name": "stdout",
          "text": [
            "Calculate Map.\n",
            "loading annotations into memory...\n",
            "Done (t=0.01s)\n",
            "creating index...\n",
            "index created!\n",
            "Loading and preparing results...\n",
            "DONE (t=0.01s)\n",
            "creating index...\n",
            "index created!\n",
            "Running per image evaluation...\n",
            "Evaluate annotation type *bbox*\n",
            "DONE (t=0.69s).\n",
            "Accumulating evaluation results...\n",
            "DONE (t=0.10s).\n",
            " Average Precision  (AP) @[ IoU=0.50:0.95 | area=   all | maxDets=100 ] = 0.506\n",
            " Average Precision  (AP) @[ IoU=0.50      | area=   all | maxDets=100 ] = 0.800\n",
            " Average Precision  (AP) @[ IoU=0.75      | area=   all | maxDets=100 ] = 0.574\n",
            " Average Precision  (AP) @[ IoU=0.50:0.95 | area= small | maxDets=100 ] = 0.308\n",
            " Average Precision  (AP) @[ IoU=0.50:0.95 | area=medium | maxDets=100 ] = 0.451\n",
            " Average Precision  (AP) @[ IoU=0.50:0.95 | area= large | maxDets=100 ] = 0.587\n",
            " Average Recall     (AR) @[ IoU=0.50:0.95 | area=   all | maxDets=  1 ] = 0.154\n",
            " Average Recall     (AR) @[ IoU=0.50:0.95 | area=   all | maxDets= 10 ] = 0.522\n",
            " Average Recall     (AR) @[ IoU=0.50:0.95 | area=   all | maxDets=100 ] = 0.575\n",
            " Average Recall     (AR) @[ IoU=0.50:0.95 | area= small | maxDets=100 ] = 0.343\n",
            " Average Recall     (AR) @[ IoU=0.50:0.95 | area=medium | maxDets=100 ] = 0.521\n",
            " Average Recall     (AR) @[ IoU=0.50:0.95 | area= large | maxDets=100 ] = 0.651\n",
            "Get map done.\n",
            "Epoch:230/300\n",
            "Total Loss: 0.778 || Val Loss: 1.118 \n",
            "Start Train\n"
          ]
        },
        {
          "output_type": "stream",
          "name": "stderr",
          "text": [
            "Epoch 231/300: 100%|██████████| 247/247 [00:42<00:00,  5.86it/s, lr=1e-5, roi_cls=0.201, roi_loc=0.491, rpn_cls=0.0317, rpn_loc=0.0387, total_loss=0.762]\n"
          ]
        },
        {
          "output_type": "stream",
          "name": "stdout",
          "text": [
            "Finish Train\n",
            "Start Validation\n"
          ]
        },
        {
          "output_type": "stream",
          "name": "stderr",
          "text": [
            "Epoch 231/300: 100%|██████████| 27/27 [00:03<00:00,  7.02it/s, val_loss=1.12]\n"
          ]
        },
        {
          "output_type": "stream",
          "name": "stdout",
          "text": [
            "Finish Validation\n",
            "Epoch:231/300\n",
            "Total Loss: 0.762 || Val Loss: 1.125 \n",
            "Start Train\n"
          ]
        },
        {
          "output_type": "stream",
          "name": "stderr",
          "text": [
            "Epoch 232/300: 100%|██████████| 247/247 [00:41<00:00,  5.89it/s, lr=9.69e-6, roi_cls=0.207, roi_loc=0.499, rpn_cls=0.0325, rpn_loc=0.0351, total_loss=0.774]\n"
          ]
        },
        {
          "output_type": "stream",
          "name": "stdout",
          "text": [
            "Finish Train\n",
            "Start Validation\n"
          ]
        },
        {
          "output_type": "stream",
          "name": "stderr",
          "text": [
            "Epoch 232/300: 100%|██████████| 27/27 [00:03<00:00,  7.10it/s, val_loss=1.12]\n"
          ]
        },
        {
          "output_type": "stream",
          "name": "stdout",
          "text": [
            "Finish Validation\n",
            "Epoch:232/300\n",
            "Total Loss: 0.774 || Val Loss: 1.123 \n",
            "Start Train\n"
          ]
        },
        {
          "output_type": "stream",
          "name": "stderr",
          "text": [
            "Epoch 233/300: 100%|██████████| 247/247 [00:42<00:00,  5.79it/s, lr=9.38e-6, roi_cls=0.207, roi_loc=0.515, rpn_cls=0.0333, rpn_loc=0.0373, total_loss=0.793]\n"
          ]
        },
        {
          "output_type": "stream",
          "name": "stdout",
          "text": [
            "Finish Train\n",
            "Start Validation\n"
          ]
        },
        {
          "output_type": "stream",
          "name": "stderr",
          "text": [
            "Epoch 233/300: 100%|██████████| 27/27 [00:03<00:00,  7.11it/s, val_loss=1.16]\n"
          ]
        },
        {
          "output_type": "stream",
          "name": "stdout",
          "text": [
            "Finish Validation\n",
            "Epoch:233/300\n",
            "Total Loss: 0.793 || Val Loss: 1.155 \n",
            "Start Train\n"
          ]
        },
        {
          "output_type": "stream",
          "name": "stderr",
          "text": [
            "Epoch 234/300: 100%|██████████| 247/247 [00:42<00:00,  5.85it/s, lr=9.08e-6, roi_cls=0.204, roi_loc=0.482, rpn_cls=0.0348, rpn_loc=0.0354, total_loss=0.756]\n"
          ]
        },
        {
          "output_type": "stream",
          "name": "stdout",
          "text": [
            "Finish Train\n",
            "Start Validation\n"
          ]
        },
        {
          "output_type": "stream",
          "name": "stderr",
          "text": [
            "Epoch 234/300: 100%|██████████| 27/27 [00:03<00:00,  7.06it/s, val_loss=1.14]\n"
          ]
        },
        {
          "output_type": "stream",
          "name": "stdout",
          "text": [
            "Finish Validation\n",
            "Epoch:234/300\n",
            "Total Loss: 0.756 || Val Loss: 1.138 \n",
            "Start Train\n"
          ]
        },
        {
          "output_type": "stream",
          "name": "stderr",
          "text": [
            "Epoch 235/300: 100%|██████████| 247/247 [00:41<00:00,  5.91it/s, lr=8.78e-6, roi_cls=0.21, roi_loc=0.499, rpn_cls=0.033, rpn_loc=0.0371, total_loss=0.779]\n"
          ]
        },
        {
          "output_type": "stream",
          "name": "stdout",
          "text": [
            "Finish Train\n",
            "Start Validation\n"
          ]
        },
        {
          "output_type": "stream",
          "name": "stderr",
          "text": [
            "Epoch 235/300: 100%|██████████| 27/27 [00:03<00:00,  7.13it/s, val_loss=1.13]\n"
          ]
        },
        {
          "output_type": "stream",
          "name": "stdout",
          "text": [
            "Finish Validation\n",
            "Get map.\n"
          ]
        },
        {
          "output_type": "stream",
          "name": "stderr",
          "text": [
            "100%|██████████| 55/55 [00:04<00:00, 11.32it/s]\n"
          ]
        },
        {
          "output_type": "stream",
          "name": "stdout",
          "text": [
            "Calculate Map.\n",
            "loading annotations into memory...\n",
            "Done (t=0.01s)\n",
            "creating index...\n",
            "index created!\n",
            "Loading and preparing results...\n",
            "DONE (t=0.01s)\n",
            "creating index...\n",
            "index created!\n",
            "Running per image evaluation...\n",
            "Evaluate annotation type *bbox*\n",
            "DONE (t=0.71s).\n",
            "Accumulating evaluation results...\n",
            "DONE (t=0.10s).\n",
            " Average Precision  (AP) @[ IoU=0.50:0.95 | area=   all | maxDets=100 ] = 0.509\n",
            " Average Precision  (AP) @[ IoU=0.50      | area=   all | maxDets=100 ] = 0.788\n",
            " Average Precision  (AP) @[ IoU=0.75      | area=   all | maxDets=100 ] = 0.577\n",
            " Average Precision  (AP) @[ IoU=0.50:0.95 | area= small | maxDets=100 ] = 0.296\n",
            " Average Precision  (AP) @[ IoU=0.50:0.95 | area=medium | maxDets=100 ] = 0.444\n",
            " Average Precision  (AP) @[ IoU=0.50:0.95 | area= large | maxDets=100 ] = 0.614\n",
            " Average Recall     (AR) @[ IoU=0.50:0.95 | area=   all | maxDets=  1 ] = 0.157\n",
            " Average Recall     (AR) @[ IoU=0.50:0.95 | area=   all | maxDets= 10 ] = 0.525\n",
            " Average Recall     (AR) @[ IoU=0.50:0.95 | area=   all | maxDets=100 ] = 0.583\n",
            " Average Recall     (AR) @[ IoU=0.50:0.95 | area= small | maxDets=100 ] = 0.359\n",
            " Average Recall     (AR) @[ IoU=0.50:0.95 | area=medium | maxDets=100 ] = 0.522\n",
            " Average Recall     (AR) @[ IoU=0.50:0.95 | area= large | maxDets=100 ] = 0.681\n",
            "Get map done.\n",
            "Epoch:235/300\n",
            "Total Loss: 0.779 || Val Loss: 1.133 \n",
            "Start Train\n"
          ]
        },
        {
          "output_type": "stream",
          "name": "stderr",
          "text": [
            "Epoch 236/300: 100%|██████████| 247/247 [00:42<00:00,  5.86it/s, lr=8.48e-6, roi_cls=0.206, roi_loc=0.501, rpn_cls=0.0332, rpn_loc=0.0403, total_loss=0.781]\n"
          ]
        },
        {
          "output_type": "stream",
          "name": "stdout",
          "text": [
            "Finish Train\n",
            "Start Validation\n"
          ]
        },
        {
          "output_type": "stream",
          "name": "stderr",
          "text": [
            "Epoch 236/300: 100%|██████████| 27/27 [00:03<00:00,  7.11it/s, val_loss=1.13]\n"
          ]
        },
        {
          "output_type": "stream",
          "name": "stdout",
          "text": [
            "Finish Validation\n",
            "Epoch:236/300\n",
            "Total Loss: 0.781 || Val Loss: 1.133 \n",
            "Start Train\n"
          ]
        },
        {
          "output_type": "stream",
          "name": "stderr",
          "text": [
            "Epoch 237/300: 100%|██████████| 247/247 [00:41<00:00,  5.90it/s, lr=8.19e-6, roi_cls=0.2, roi_loc=0.489, rpn_cls=0.0316, rpn_loc=0.0392, total_loss=0.76]\n"
          ]
        },
        {
          "output_type": "stream",
          "name": "stdout",
          "text": [
            "Finish Train\n",
            "Start Validation\n"
          ]
        },
        {
          "output_type": "stream",
          "name": "stderr",
          "text": [
            "Epoch 237/300: 100%|██████████| 27/27 [00:03<00:00,  7.16it/s, val_loss=1.13]\n"
          ]
        },
        {
          "output_type": "stream",
          "name": "stdout",
          "text": [
            "Finish Validation\n",
            "Epoch:237/300\n",
            "Total Loss: 0.760 || Val Loss: 1.130 \n",
            "Start Train\n"
          ]
        },
        {
          "output_type": "stream",
          "name": "stderr",
          "text": [
            "Epoch 238/300: 100%|██████████| 247/247 [00:41<00:00,  5.89it/s, lr=7.91e-6, roi_cls=0.204, roi_loc=0.482, rpn_cls=0.034, rpn_loc=0.0378, total_loss=0.759]\n"
          ]
        },
        {
          "output_type": "stream",
          "name": "stdout",
          "text": [
            "Finish Train\n",
            "Start Validation\n"
          ]
        },
        {
          "output_type": "stream",
          "name": "stderr",
          "text": [
            "Epoch 238/300: 100%|██████████| 27/27 [00:03<00:00,  7.11it/s, val_loss=1.07]\n"
          ]
        },
        {
          "output_type": "stream",
          "name": "stdout",
          "text": [
            "Finish Validation\n",
            "Epoch:238/300\n",
            "Total Loss: 0.759 || Val Loss: 1.071 \n",
            "Start Train\n"
          ]
        },
        {
          "output_type": "stream",
          "name": "stderr",
          "text": [
            "Epoch 239/300: 100%|██████████| 247/247 [00:42<00:00,  5.86it/s, lr=7.63e-6, roi_cls=0.207, roi_loc=0.499, rpn_cls=0.0313, rpn_loc=0.0395, total_loss=0.777]\n"
          ]
        },
        {
          "output_type": "stream",
          "name": "stdout",
          "text": [
            "Finish Train\n",
            "Start Validation\n"
          ]
        },
        {
          "output_type": "stream",
          "name": "stderr",
          "text": [
            "Epoch 239/300: 100%|██████████| 27/27 [00:03<00:00,  7.12it/s, val_loss=1.14]\n"
          ]
        },
        {
          "output_type": "stream",
          "name": "stdout",
          "text": [
            "Finish Validation\n",
            "Epoch:239/300\n",
            "Total Loss: 0.777 || Val Loss: 1.144 \n",
            "Start Train\n"
          ]
        },
        {
          "output_type": "stream",
          "name": "stderr",
          "text": [
            "Epoch 240/300: 100%|██████████| 247/247 [00:41<00:00,  5.92it/s, lr=7.36e-6, roi_cls=0.208, roi_loc=0.489, rpn_cls=0.0362, rpn_loc=0.0385, total_loss=0.771]\n"
          ]
        },
        {
          "output_type": "stream",
          "name": "stdout",
          "text": [
            "Finish Train\n",
            "Start Validation\n"
          ]
        },
        {
          "output_type": "stream",
          "name": "stderr",
          "text": [
            "Epoch 240/300: 100%|██████████| 27/27 [00:03<00:00,  7.17it/s, val_loss=1.13]\n"
          ]
        },
        {
          "output_type": "stream",
          "name": "stdout",
          "text": [
            "Finish Validation\n",
            "Get map.\n"
          ]
        },
        {
          "output_type": "stream",
          "name": "stderr",
          "text": [
            "100%|██████████| 55/55 [00:04<00:00, 11.29it/s]\n"
          ]
        },
        {
          "output_type": "stream",
          "name": "stdout",
          "text": [
            "Calculate Map.\n",
            "loading annotations into memory...\n",
            "Done (t=0.01s)\n",
            "creating index...\n",
            "index created!\n",
            "Loading and preparing results...\n",
            "DONE (t=0.01s)\n",
            "creating index...\n",
            "index created!\n",
            "Running per image evaluation...\n",
            "Evaluate annotation type *bbox*\n",
            "DONE (t=0.67s).\n",
            "Accumulating evaluation results...\n",
            "DONE (t=0.09s).\n",
            " Average Precision  (AP) @[ IoU=0.50:0.95 | area=   all | maxDets=100 ] = 0.518\n",
            " Average Precision  (AP) @[ IoU=0.50      | area=   all | maxDets=100 ] = 0.799\n",
            " Average Precision  (AP) @[ IoU=0.75      | area=   all | maxDets=100 ] = 0.615\n",
            " Average Precision  (AP) @[ IoU=0.50:0.95 | area= small | maxDets=100 ] = 0.303\n",
            " Average Precision  (AP) @[ IoU=0.50:0.95 | area=medium | maxDets=100 ] = 0.456\n",
            " Average Precision  (AP) @[ IoU=0.50:0.95 | area= large | maxDets=100 ] = 0.617\n",
            " Average Recall     (AR) @[ IoU=0.50:0.95 | area=   all | maxDets=  1 ] = 0.160\n",
            " Average Recall     (AR) @[ IoU=0.50:0.95 | area=   all | maxDets= 10 ] = 0.532\n",
            " Average Recall     (AR) @[ IoU=0.50:0.95 | area=   all | maxDets=100 ] = 0.587\n",
            " Average Recall     (AR) @[ IoU=0.50:0.95 | area= small | maxDets=100 ] = 0.346\n",
            " Average Recall     (AR) @[ IoU=0.50:0.95 | area=medium | maxDets=100 ] = 0.532\n",
            " Average Recall     (AR) @[ IoU=0.50:0.95 | area= large | maxDets=100 ] = 0.678\n",
            "Get map done.\n",
            "Epoch:240/300\n",
            "Total Loss: 0.771 || Val Loss: 1.128 \n",
            "Start Train\n"
          ]
        },
        {
          "output_type": "stream",
          "name": "stderr",
          "text": [
            "Epoch 241/300: 100%|██████████| 247/247 [00:41<00:00,  5.93it/s, lr=7.09e-6, roi_cls=0.201, roi_loc=0.479, rpn_cls=0.0325, rpn_loc=0.0377, total_loss=0.75]\n"
          ]
        },
        {
          "output_type": "stream",
          "name": "stdout",
          "text": [
            "Finish Train\n",
            "Start Validation\n"
          ]
        },
        {
          "output_type": "stream",
          "name": "stderr",
          "text": [
            "Epoch 241/300: 100%|██████████| 27/27 [00:03<00:00,  7.11it/s, val_loss=1.15]\n"
          ]
        },
        {
          "output_type": "stream",
          "name": "stdout",
          "text": [
            "Finish Validation\n",
            "Epoch:241/300\n",
            "Total Loss: 0.750 || Val Loss: 1.145 \n",
            "Start Train\n"
          ]
        },
        {
          "output_type": "stream",
          "name": "stderr",
          "text": [
            "Epoch 242/300: 100%|██████████| 247/247 [00:41<00:00,  5.89it/s, lr=6.83e-6, roi_cls=0.202, roi_loc=0.491, rpn_cls=0.0328, rpn_loc=0.0353, total_loss=0.761]\n"
          ]
        },
        {
          "output_type": "stream",
          "name": "stdout",
          "text": [
            "Finish Train\n",
            "Start Validation\n"
          ]
        },
        {
          "output_type": "stream",
          "name": "stderr",
          "text": [
            "Epoch 242/300: 100%|██████████| 27/27 [00:03<00:00,  7.23it/s, val_loss=1.14]\n"
          ]
        },
        {
          "output_type": "stream",
          "name": "stdout",
          "text": [
            "Finish Validation\n",
            "Epoch:242/300\n",
            "Total Loss: 0.761 || Val Loss: 1.140 \n",
            "Start Train\n"
          ]
        },
        {
          "output_type": "stream",
          "name": "stderr",
          "text": [
            "Epoch 243/300: 100%|██████████| 247/247 [00:41<00:00,  5.90it/s, lr=6.57e-6, roi_cls=0.203, roi_loc=0.49, rpn_cls=0.0342, rpn_loc=0.0352, total_loss=0.762]\n"
          ]
        },
        {
          "output_type": "stream",
          "name": "stdout",
          "text": [
            "Finish Train\n",
            "Start Validation\n"
          ]
        },
        {
          "output_type": "stream",
          "name": "stderr",
          "text": [
            "Epoch 243/300: 100%|██████████| 27/27 [00:03<00:00,  7.12it/s, val_loss=1.12]\n"
          ]
        },
        {
          "output_type": "stream",
          "name": "stdout",
          "text": [
            "Finish Validation\n",
            "Epoch:243/300\n",
            "Total Loss: 0.762 || Val Loss: 1.121 \n",
            "Start Train\n"
          ]
        },
        {
          "output_type": "stream",
          "name": "stderr",
          "text": [
            "Epoch 244/300: 100%|██████████| 247/247 [00:42<00:00,  5.85it/s, lr=6.32e-6, roi_cls=0.205, roi_loc=0.485, rpn_cls=0.0342, rpn_loc=0.0357, total_loss=0.759]\n"
          ]
        },
        {
          "output_type": "stream",
          "name": "stdout",
          "text": [
            "Finish Train\n",
            "Start Validation\n"
          ]
        },
        {
          "output_type": "stream",
          "name": "stderr",
          "text": [
            "Epoch 244/300: 100%|██████████| 27/27 [00:03<00:00,  7.01it/s, val_loss=1.1]\n"
          ]
        },
        {
          "output_type": "stream",
          "name": "stdout",
          "text": [
            "Finish Validation\n",
            "Epoch:244/300\n",
            "Total Loss: 0.759 || Val Loss: 1.098 \n",
            "Start Train\n"
          ]
        },
        {
          "output_type": "stream",
          "name": "stderr",
          "text": [
            "Epoch 245/300: 100%|██████████| 247/247 [00:42<00:00,  5.83it/s, lr=6.07e-6, roi_cls=0.2, roi_loc=0.483, rpn_cls=0.0336, rpn_loc=0.035, total_loss=0.751]\n"
          ]
        },
        {
          "output_type": "stream",
          "name": "stdout",
          "text": [
            "Finish Train\n",
            "Start Validation\n"
          ]
        },
        {
          "output_type": "stream",
          "name": "stderr",
          "text": [
            "Epoch 245/300: 100%|██████████| 27/27 [00:03<00:00,  7.12it/s, val_loss=1.12]\n"
          ]
        },
        {
          "output_type": "stream",
          "name": "stdout",
          "text": [
            "Finish Validation\n",
            "Get map.\n"
          ]
        },
        {
          "output_type": "stream",
          "name": "stderr",
          "text": [
            "100%|██████████| 55/55 [00:04<00:00, 11.45it/s]\n"
          ]
        },
        {
          "output_type": "stream",
          "name": "stdout",
          "text": [
            "Calculate Map.\n",
            "loading annotations into memory...\n",
            "Done (t=0.01s)\n",
            "creating index...\n",
            "index created!\n",
            "Loading and preparing results...\n",
            "DONE (t=0.01s)\n",
            "creating index...\n",
            "index created!\n",
            "Running per image evaluation...\n",
            "Evaluate annotation type *bbox*\n",
            "DONE (t=0.70s).\n",
            "Accumulating evaluation results...\n",
            "DONE (t=0.10s).\n",
            " Average Precision  (AP) @[ IoU=0.50:0.95 | area=   all | maxDets=100 ] = 0.513\n",
            " Average Precision  (AP) @[ IoU=0.50      | area=   all | maxDets=100 ] = 0.790\n",
            " Average Precision  (AP) @[ IoU=0.75      | area=   all | maxDets=100 ] = 0.595\n",
            " Average Precision  (AP) @[ IoU=0.50:0.95 | area= small | maxDets=100 ] = 0.297\n",
            " Average Precision  (AP) @[ IoU=0.50:0.95 | area=medium | maxDets=100 ] = 0.453\n",
            " Average Precision  (AP) @[ IoU=0.50:0.95 | area= large | maxDets=100 ] = 0.607\n",
            " Average Recall     (AR) @[ IoU=0.50:0.95 | area=   all | maxDets=  1 ] = 0.154\n",
            " Average Recall     (AR) @[ IoU=0.50:0.95 | area=   all | maxDets= 10 ] = 0.527\n",
            " Average Recall     (AR) @[ IoU=0.50:0.95 | area=   all | maxDets=100 ] = 0.584\n",
            " Average Recall     (AR) @[ IoU=0.50:0.95 | area= small | maxDets=100 ] = 0.335\n",
            " Average Recall     (AR) @[ IoU=0.50:0.95 | area=medium | maxDets=100 ] = 0.529\n",
            " Average Recall     (AR) @[ IoU=0.50:0.95 | area= large | maxDets=100 ] = 0.668\n",
            "Get map done.\n",
            "Epoch:245/300\n",
            "Total Loss: 0.751 || Val Loss: 1.124 \n",
            "Start Train\n"
          ]
        },
        {
          "output_type": "stream",
          "name": "stderr",
          "text": [
            "Epoch 246/300: 100%|██████████| 247/247 [00:42<00:00,  5.86it/s, lr=5.83e-6, roi_cls=0.207, roi_loc=0.496, rpn_cls=0.0348, rpn_loc=0.0366, total_loss=0.775]\n"
          ]
        },
        {
          "output_type": "stream",
          "name": "stdout",
          "text": [
            "Finish Train\n",
            "Start Validation\n"
          ]
        },
        {
          "output_type": "stream",
          "name": "stderr",
          "text": [
            "Epoch 246/300: 100%|██████████| 27/27 [00:03<00:00,  7.06it/s, val_loss=1.17]\n"
          ]
        },
        {
          "output_type": "stream",
          "name": "stdout",
          "text": [
            "Finish Validation\n",
            "Epoch:246/300\n",
            "Total Loss: 0.775 || Val Loss: 1.169 \n",
            "Start Train\n"
          ]
        },
        {
          "output_type": "stream",
          "name": "stderr",
          "text": [
            "Epoch 247/300: 100%|██████████| 247/247 [00:42<00:00,  5.83it/s, lr=5.6e-6, roi_cls=0.202, roi_loc=0.499, rpn_cls=0.0345, rpn_loc=0.0375, total_loss=0.773]\n"
          ]
        },
        {
          "output_type": "stream",
          "name": "stdout",
          "text": [
            "Finish Train\n",
            "Start Validation\n"
          ]
        },
        {
          "output_type": "stream",
          "name": "stderr",
          "text": [
            "Epoch 247/300: 100%|██████████| 27/27 [00:03<00:00,  7.04it/s, val_loss=1.13]\n"
          ]
        },
        {
          "output_type": "stream",
          "name": "stdout",
          "text": [
            "Finish Validation\n",
            "Epoch:247/300\n",
            "Total Loss: 0.773 || Val Loss: 1.134 \n",
            "Start Train\n"
          ]
        },
        {
          "output_type": "stream",
          "name": "stderr",
          "text": [
            "Epoch 248/300: 100%|██████████| 247/247 [00:42<00:00,  5.85it/s, lr=5.37e-6, roi_cls=0.202, roi_loc=0.482, rpn_cls=0.031, rpn_loc=0.0434, total_loss=0.758]\n"
          ]
        },
        {
          "output_type": "stream",
          "name": "stdout",
          "text": [
            "Finish Train\n",
            "Start Validation\n"
          ]
        },
        {
          "output_type": "stream",
          "name": "stderr",
          "text": [
            "Epoch 248/300: 100%|██████████| 27/27 [00:03<00:00,  6.94it/s, val_loss=1.15]\n"
          ]
        },
        {
          "output_type": "stream",
          "name": "stdout",
          "text": [
            "Finish Validation\n",
            "Epoch:248/300\n",
            "Total Loss: 0.758 || Val Loss: 1.145 \n",
            "Start Train\n"
          ]
        },
        {
          "output_type": "stream",
          "name": "stderr",
          "text": [
            "Epoch 249/300: 100%|██████████| 247/247 [00:42<00:00,  5.84it/s, lr=5.15e-6, roi_cls=0.201, roi_loc=0.49, rpn_cls=0.032, rpn_loc=0.0336, total_loss=0.757]\n"
          ]
        },
        {
          "output_type": "stream",
          "name": "stdout",
          "text": [
            "Finish Train\n",
            "Start Validation\n"
          ]
        },
        {
          "output_type": "stream",
          "name": "stderr",
          "text": [
            "Epoch 249/300: 100%|██████████| 27/27 [00:03<00:00,  7.16it/s, val_loss=1.14]\n"
          ]
        },
        {
          "output_type": "stream",
          "name": "stdout",
          "text": [
            "Finish Validation\n",
            "Epoch:249/300\n",
            "Total Loss: 0.757 || Val Loss: 1.136 \n",
            "Start Train\n"
          ]
        },
        {
          "output_type": "stream",
          "name": "stderr",
          "text": [
            "Epoch 250/300: 100%|██████████| 247/247 [00:41<00:00,  5.90it/s, lr=4.93e-6, roi_cls=0.203, roi_loc=0.482, rpn_cls=0.0317, rpn_loc=0.0383, total_loss=0.755]\n"
          ]
        },
        {
          "output_type": "stream",
          "name": "stdout",
          "text": [
            "Finish Train\n",
            "Start Validation\n"
          ]
        },
        {
          "output_type": "stream",
          "name": "stderr",
          "text": [
            "Epoch 250/300: 100%|██████████| 27/27 [00:03<00:00,  7.09it/s, val_loss=1.14]\n"
          ]
        },
        {
          "output_type": "stream",
          "name": "stdout",
          "text": [
            "Finish Validation\n",
            "Get map.\n"
          ]
        },
        {
          "output_type": "stream",
          "name": "stderr",
          "text": [
            "100%|██████████| 55/55 [00:04<00:00, 11.47it/s]\n"
          ]
        },
        {
          "output_type": "stream",
          "name": "stdout",
          "text": [
            "Calculate Map.\n",
            "loading annotations into memory...\n",
            "Done (t=0.01s)\n",
            "creating index...\n",
            "index created!\n",
            "Loading and preparing results...\n",
            "DONE (t=0.01s)\n",
            "creating index...\n",
            "index created!\n",
            "Running per image evaluation...\n",
            "Evaluate annotation type *bbox*\n",
            "DONE (t=0.69s).\n",
            "Accumulating evaluation results...\n",
            "DONE (t=0.10s).\n",
            " Average Precision  (AP) @[ IoU=0.50:0.95 | area=   all | maxDets=100 ] = 0.519\n",
            " Average Precision  (AP) @[ IoU=0.50      | area=   all | maxDets=100 ] = 0.803\n",
            " Average Precision  (AP) @[ IoU=0.75      | area=   all | maxDets=100 ] = 0.605\n",
            " Average Precision  (AP) @[ IoU=0.50:0.95 | area= small | maxDets=100 ] = 0.312\n",
            " Average Precision  (AP) @[ IoU=0.50:0.95 | area=medium | maxDets=100 ] = 0.462\n",
            " Average Precision  (AP) @[ IoU=0.50:0.95 | area= large | maxDets=100 ] = 0.612\n",
            " Average Recall     (AR) @[ IoU=0.50:0.95 | area=   all | maxDets=  1 ] = 0.158\n",
            " Average Recall     (AR) @[ IoU=0.50:0.95 | area=   all | maxDets= 10 ] = 0.533\n",
            " Average Recall     (AR) @[ IoU=0.50:0.95 | area=   all | maxDets=100 ] = 0.591\n",
            " Average Recall     (AR) @[ IoU=0.50:0.95 | area= small | maxDets=100 ] = 0.348\n",
            " Average Recall     (AR) @[ IoU=0.50:0.95 | area=medium | maxDets=100 ] = 0.537\n",
            " Average Recall     (AR) @[ IoU=0.50:0.95 | area= large | maxDets=100 ] = 0.678\n",
            "Get map done.\n",
            "Epoch:250/300\n",
            "Total Loss: 0.755 || Val Loss: 1.144 \n",
            "Start Train\n"
          ]
        },
        {
          "output_type": "stream",
          "name": "stderr",
          "text": [
            "Epoch 251/300: 100%|██████████| 247/247 [00:42<00:00,  5.81it/s, lr=4.72e-6, roi_cls=0.205, roi_loc=0.5, rpn_cls=0.0312, rpn_loc=0.039, total_loss=0.775]\n"
          ]
        },
        {
          "output_type": "stream",
          "name": "stdout",
          "text": [
            "Finish Train\n",
            "Start Validation\n"
          ]
        },
        {
          "output_type": "stream",
          "name": "stderr",
          "text": [
            "Epoch 251/300: 100%|██████████| 27/27 [00:03<00:00,  7.11it/s, val_loss=1.14]\n"
          ]
        },
        {
          "output_type": "stream",
          "name": "stdout",
          "text": [
            "Finish Validation\n",
            "Epoch:251/300\n",
            "Total Loss: 0.775 || Val Loss: 1.141 \n",
            "Start Train\n"
          ]
        },
        {
          "output_type": "stream",
          "name": "stderr",
          "text": [
            "Epoch 252/300: 100%|██████████| 247/247 [00:42<00:00,  5.87it/s, lr=4.51e-6, roi_cls=0.199, roi_loc=0.482, rpn_cls=0.034, rpn_loc=0.0357, total_loss=0.751]\n"
          ]
        },
        {
          "output_type": "stream",
          "name": "stdout",
          "text": [
            "Finish Train\n",
            "Start Validation\n"
          ]
        },
        {
          "output_type": "stream",
          "name": "stderr",
          "text": [
            "Epoch 252/300: 100%|██████████| 27/27 [00:03<00:00,  7.11it/s, val_loss=1.14]\n"
          ]
        },
        {
          "output_type": "stream",
          "name": "stdout",
          "text": [
            "Finish Validation\n",
            "Epoch:252/300\n",
            "Total Loss: 0.751 || Val Loss: 1.144 \n",
            "Start Train\n"
          ]
        },
        {
          "output_type": "stream",
          "name": "stderr",
          "text": [
            "Epoch 253/300: 100%|██████████| 247/247 [00:41<00:00,  5.91it/s, lr=4.31e-6, roi_cls=0.203, roi_loc=0.489, rpn_cls=0.0337, rpn_loc=0.0353, total_loss=0.761]\n"
          ]
        },
        {
          "output_type": "stream",
          "name": "stdout",
          "text": [
            "Finish Train\n",
            "Start Validation\n"
          ]
        },
        {
          "output_type": "stream",
          "name": "stderr",
          "text": [
            "Epoch 253/300: 100%|██████████| 27/27 [00:03<00:00,  7.11it/s, val_loss=1.13]\n"
          ]
        },
        {
          "output_type": "stream",
          "name": "stdout",
          "text": [
            "Finish Validation\n",
            "Epoch:253/300\n",
            "Total Loss: 0.761 || Val Loss: 1.128 \n",
            "Start Train\n"
          ]
        },
        {
          "output_type": "stream",
          "name": "stderr",
          "text": [
            "Epoch 254/300: 100%|██████████| 247/247 [00:42<00:00,  5.88it/s, lr=4.11e-6, roi_cls=0.197, roi_loc=0.496, rpn_cls=0.0317, rpn_loc=0.0394, total_loss=0.764]\n"
          ]
        },
        {
          "output_type": "stream",
          "name": "stdout",
          "text": [
            "Finish Train\n",
            "Start Validation\n"
          ]
        },
        {
          "output_type": "stream",
          "name": "stderr",
          "text": [
            "Epoch 254/300: 100%|██████████| 27/27 [00:03<00:00,  7.09it/s, val_loss=1.07]\n"
          ]
        },
        {
          "output_type": "stream",
          "name": "stdout",
          "text": [
            "Finish Validation\n",
            "Epoch:254/300\n",
            "Total Loss: 0.764 || Val Loss: 1.066 \n",
            "Start Train\n"
          ]
        },
        {
          "output_type": "stream",
          "name": "stderr",
          "text": [
            "Epoch 255/300: 100%|██████████| 247/247 [00:41<00:00,  5.90it/s, lr=3.92e-6, roi_cls=0.199, roi_loc=0.487, rpn_cls=0.0312, rpn_loc=0.0392, total_loss=0.756]\n"
          ]
        },
        {
          "output_type": "stream",
          "name": "stdout",
          "text": [
            "Finish Train\n",
            "Start Validation\n"
          ]
        },
        {
          "output_type": "stream",
          "name": "stderr",
          "text": [
            "Epoch 255/300: 100%|██████████| 27/27 [00:03<00:00,  7.18it/s, val_loss=1.16]\n"
          ]
        },
        {
          "output_type": "stream",
          "name": "stdout",
          "text": [
            "Finish Validation\n",
            "Get map.\n"
          ]
        },
        {
          "output_type": "stream",
          "name": "stderr",
          "text": [
            "100%|██████████| 55/55 [00:04<00:00, 11.43it/s]\n"
          ]
        },
        {
          "output_type": "stream",
          "name": "stdout",
          "text": [
            "Calculate Map.\n",
            "loading annotations into memory...\n",
            "Done (t=0.01s)\n",
            "creating index...\n",
            "index created!\n",
            "Loading and preparing results...\n",
            "DONE (t=0.01s)\n",
            "creating index...\n",
            "index created!\n",
            "Running per image evaluation...\n",
            "Evaluate annotation type *bbox*\n",
            "DONE (t=0.69s).\n",
            "Accumulating evaluation results...\n",
            "DONE (t=0.10s).\n",
            " Average Precision  (AP) @[ IoU=0.50:0.95 | area=   all | maxDets=100 ] = 0.512\n",
            " Average Precision  (AP) @[ IoU=0.50      | area=   all | maxDets=100 ] = 0.799\n",
            " Average Precision  (AP) @[ IoU=0.75      | area=   all | maxDets=100 ] = 0.589\n",
            " Average Precision  (AP) @[ IoU=0.50:0.95 | area= small | maxDets=100 ] = 0.302\n",
            " Average Precision  (AP) @[ IoU=0.50:0.95 | area=medium | maxDets=100 ] = 0.458\n",
            " Average Precision  (AP) @[ IoU=0.50:0.95 | area= large | maxDets=100 ] = 0.605\n",
            " Average Recall     (AR) @[ IoU=0.50:0.95 | area=   all | maxDets=  1 ] = 0.153\n",
            " Average Recall     (AR) @[ IoU=0.50:0.95 | area=   all | maxDets= 10 ] = 0.528\n",
            " Average Recall     (AR) @[ IoU=0.50:0.95 | area=   all | maxDets=100 ] = 0.584\n",
            " Average Recall     (AR) @[ IoU=0.50:0.95 | area= small | maxDets=100 ] = 0.329\n",
            " Average Recall     (AR) @[ IoU=0.50:0.95 | area=medium | maxDets=100 ] = 0.530\n",
            " Average Recall     (AR) @[ IoU=0.50:0.95 | area= large | maxDets=100 ] = 0.676\n",
            "Get map done.\n",
            "Epoch:255/300\n",
            "Total Loss: 0.756 || Val Loss: 1.159 \n",
            "Start Train\n"
          ]
        },
        {
          "output_type": "stream",
          "name": "stderr",
          "text": [
            "Epoch 256/300: 100%|██████████| 247/247 [00:41<00:00,  5.90it/s, lr=3.74e-6, roi_cls=0.202, roi_loc=0.488, rpn_cls=0.0342, rpn_loc=0.0363, total_loss=0.76]\n"
          ]
        },
        {
          "output_type": "stream",
          "name": "stdout",
          "text": [
            "Finish Train\n",
            "Start Validation\n"
          ]
        },
        {
          "output_type": "stream",
          "name": "stderr",
          "text": [
            "Epoch 256/300: 100%|██████████| 27/27 [00:03<00:00,  7.20it/s, val_loss=1.14]\n"
          ]
        },
        {
          "output_type": "stream",
          "name": "stdout",
          "text": [
            "Finish Validation\n",
            "Epoch:256/300\n",
            "Total Loss: 0.760 || Val Loss: 1.135 \n",
            "Start Train\n"
          ]
        },
        {
          "output_type": "stream",
          "name": "stderr",
          "text": [
            "Epoch 257/300: 100%|██████████| 247/247 [00:42<00:00,  5.88it/s, lr=3.56e-6, roi_cls=0.199, roi_loc=0.488, rpn_cls=0.0301, rpn_loc=0.0371, total_loss=0.754]\n"
          ]
        },
        {
          "output_type": "stream",
          "name": "stdout",
          "text": [
            "Finish Train\n",
            "Start Validation\n"
          ]
        },
        {
          "output_type": "stream",
          "name": "stderr",
          "text": [
            "Epoch 257/300: 100%|██████████| 27/27 [00:03<00:00,  7.24it/s, val_loss=1.16]\n"
          ]
        },
        {
          "output_type": "stream",
          "name": "stdout",
          "text": [
            "Finish Validation\n",
            "Epoch:257/300\n",
            "Total Loss: 0.754 || Val Loss: 1.159 \n",
            "Start Train\n"
          ]
        },
        {
          "output_type": "stream",
          "name": "stderr",
          "text": [
            "Epoch 258/300: 100%|██████████| 247/247 [00:41<00:00,  5.90it/s, lr=3.39e-6, roi_cls=0.204, roi_loc=0.487, rpn_cls=0.0336, rpn_loc=0.0389, total_loss=0.763]\n"
          ]
        },
        {
          "output_type": "stream",
          "name": "stdout",
          "text": [
            "Finish Train\n",
            "Start Validation\n"
          ]
        },
        {
          "output_type": "stream",
          "name": "stderr",
          "text": [
            "Epoch 258/300: 100%|██████████| 27/27 [00:03<00:00,  7.26it/s, val_loss=1.12]\n"
          ]
        },
        {
          "output_type": "stream",
          "name": "stdout",
          "text": [
            "Finish Validation\n",
            "Epoch:258/300\n",
            "Total Loss: 0.763 || Val Loss: 1.124 \n",
            "Start Train\n"
          ]
        },
        {
          "output_type": "stream",
          "name": "stderr",
          "text": [
            "Epoch 259/300: 100%|██████████| 247/247 [00:41<00:00,  5.89it/s, lr=3.22e-6, roi_cls=0.202, roi_loc=0.491, rpn_cls=0.0308, rpn_loc=0.0353, total_loss=0.759]\n"
          ]
        },
        {
          "output_type": "stream",
          "name": "stdout",
          "text": [
            "Finish Train\n",
            "Start Validation\n"
          ]
        },
        {
          "output_type": "stream",
          "name": "stderr",
          "text": [
            "Epoch 259/300: 100%|██████████| 27/27 [00:03<00:00,  7.12it/s, val_loss=1.13]\n"
          ]
        },
        {
          "output_type": "stream",
          "name": "stdout",
          "text": [
            "Finish Validation\n",
            "Epoch:259/300\n",
            "Total Loss: 0.759 || Val Loss: 1.129 \n",
            "Start Train\n"
          ]
        },
        {
          "output_type": "stream",
          "name": "stderr",
          "text": [
            "Epoch 260/300: 100%|██████████| 247/247 [00:41<00:00,  5.89it/s, lr=3.06e-6, roi_cls=0.198, roi_loc=0.482, rpn_cls=0.0315, rpn_loc=0.0403, total_loss=0.751]\n"
          ]
        },
        {
          "output_type": "stream",
          "name": "stdout",
          "text": [
            "Finish Train\n",
            "Start Validation\n"
          ]
        },
        {
          "output_type": "stream",
          "name": "stderr",
          "text": [
            "Epoch 260/300: 100%|██████████| 27/27 [00:03<00:00,  7.09it/s, val_loss=1.1]\n"
          ]
        },
        {
          "output_type": "stream",
          "name": "stdout",
          "text": [
            "Finish Validation\n",
            "Get map.\n"
          ]
        },
        {
          "output_type": "stream",
          "name": "stderr",
          "text": [
            "100%|██████████| 55/55 [00:04<00:00, 11.64it/s]\n"
          ]
        },
        {
          "output_type": "stream",
          "name": "stdout",
          "text": [
            "Calculate Map.\n",
            "loading annotations into memory...\n",
            "Done (t=0.01s)\n",
            "creating index...\n",
            "index created!\n",
            "Loading and preparing results...\n",
            "DONE (t=0.01s)\n",
            "creating index...\n",
            "index created!\n",
            "Running per image evaluation...\n",
            "Evaluate annotation type *bbox*\n",
            "DONE (t=0.68s).\n",
            "Accumulating evaluation results...\n",
            "DONE (t=0.10s).\n",
            " Average Precision  (AP) @[ IoU=0.50:0.95 | area=   all | maxDets=100 ] = 0.520\n",
            " Average Precision  (AP) @[ IoU=0.50      | area=   all | maxDets=100 ] = 0.804\n",
            " Average Precision  (AP) @[ IoU=0.75      | area=   all | maxDets=100 ] = 0.603\n",
            " Average Precision  (AP) @[ IoU=0.50:0.95 | area= small | maxDets=100 ] = 0.291\n",
            " Average Precision  (AP) @[ IoU=0.50:0.95 | area=medium | maxDets=100 ] = 0.462\n",
            " Average Precision  (AP) @[ IoU=0.50:0.95 | area= large | maxDets=100 ] = 0.613\n",
            " Average Recall     (AR) @[ IoU=0.50:0.95 | area=   all | maxDets=  1 ] = 0.158\n",
            " Average Recall     (AR) @[ IoU=0.50:0.95 | area=   all | maxDets= 10 ] = 0.536\n",
            " Average Recall     (AR) @[ IoU=0.50:0.95 | area=   all | maxDets=100 ] = 0.591\n",
            " Average Recall     (AR) @[ IoU=0.50:0.95 | area= small | maxDets=100 ] = 0.331\n",
            " Average Recall     (AR) @[ IoU=0.50:0.95 | area=medium | maxDets=100 ] = 0.538\n",
            " Average Recall     (AR) @[ IoU=0.50:0.95 | area= large | maxDets=100 ] = 0.677\n",
            "Get map done.\n",
            "Epoch:260/300\n",
            "Total Loss: 0.751 || Val Loss: 1.103 \n",
            "Start Train\n"
          ]
        },
        {
          "output_type": "stream",
          "name": "stderr",
          "text": [
            "Epoch 261/300: 100%|██████████| 247/247 [00:41<00:00,  5.90it/s, lr=2.91e-6, roi_cls=0.203, roi_loc=0.491, rpn_cls=0.0349, rpn_loc=0.0381, total_loss=0.766]\n"
          ]
        },
        {
          "output_type": "stream",
          "name": "stdout",
          "text": [
            "Finish Train\n",
            "Start Validation\n"
          ]
        },
        {
          "output_type": "stream",
          "name": "stderr",
          "text": [
            "Epoch 261/300: 100%|██████████| 27/27 [00:03<00:00,  7.17it/s, val_loss=1.16]\n"
          ]
        },
        {
          "output_type": "stream",
          "name": "stdout",
          "text": [
            "Finish Validation\n",
            "Epoch:261/300\n",
            "Total Loss: 0.766 || Val Loss: 1.157 \n",
            "Start Train\n"
          ]
        },
        {
          "output_type": "stream",
          "name": "stderr",
          "text": [
            "Epoch 262/300: 100%|██████████| 247/247 [00:42<00:00,  5.84it/s, lr=2.76e-6, roi_cls=0.201, roi_loc=0.485, rpn_cls=0.0311, rpn_loc=0.0375, total_loss=0.755]\n"
          ]
        },
        {
          "output_type": "stream",
          "name": "stdout",
          "text": [
            "Finish Train\n",
            "Start Validation\n"
          ]
        },
        {
          "output_type": "stream",
          "name": "stderr",
          "text": [
            "Epoch 262/300: 100%|██████████| 27/27 [00:03<00:00,  7.16it/s, val_loss=1.14]\n"
          ]
        },
        {
          "output_type": "stream",
          "name": "stdout",
          "text": [
            "Finish Validation\n",
            "Epoch:262/300\n",
            "Total Loss: 0.755 || Val Loss: 1.141 \n",
            "Start Train\n"
          ]
        },
        {
          "output_type": "stream",
          "name": "stderr",
          "text": [
            "Epoch 263/300: 100%|██████████| 247/247 [00:41<00:00,  5.89it/s, lr=2.62e-6, roi_cls=0.199, roi_loc=0.487, rpn_cls=0.0332, rpn_loc=0.0366, total_loss=0.756]\n"
          ]
        },
        {
          "output_type": "stream",
          "name": "stdout",
          "text": [
            "Finish Train\n",
            "Start Validation\n"
          ]
        },
        {
          "output_type": "stream",
          "name": "stderr",
          "text": [
            "Epoch 263/300: 100%|██████████| 27/27 [00:03<00:00,  7.10it/s, val_loss=1.1]\n"
          ]
        },
        {
          "output_type": "stream",
          "name": "stdout",
          "text": [
            "Finish Validation\n",
            "Epoch:263/300\n",
            "Total Loss: 0.756 || Val Loss: 1.096 \n",
            "Start Train\n"
          ]
        },
        {
          "output_type": "stream",
          "name": "stderr",
          "text": [
            "Epoch 264/300: 100%|██████████| 247/247 [00:42<00:00,  5.88it/s, lr=2.48e-6, roi_cls=0.197, roi_loc=0.485, rpn_cls=0.0345, rpn_loc=0.0346, total_loss=0.751]\n"
          ]
        },
        {
          "output_type": "stream",
          "name": "stdout",
          "text": [
            "Finish Train\n",
            "Start Validation\n"
          ]
        },
        {
          "output_type": "stream",
          "name": "stderr",
          "text": [
            "Epoch 264/300: 100%|██████████| 27/27 [00:03<00:00,  7.13it/s, val_loss=1.14]\n"
          ]
        },
        {
          "output_type": "stream",
          "name": "stdout",
          "text": [
            "Finish Validation\n",
            "Epoch:264/300\n",
            "Total Loss: 0.751 || Val Loss: 1.137 \n",
            "Start Train\n"
          ]
        },
        {
          "output_type": "stream",
          "name": "stderr",
          "text": [
            "Epoch 265/300: 100%|██████████| 247/247 [00:41<00:00,  5.89it/s, lr=2.35e-6, roi_cls=0.195, roi_loc=0.489, rpn_cls=0.031, rpn_loc=0.0375, total_loss=0.752]\n"
          ]
        },
        {
          "output_type": "stream",
          "name": "stdout",
          "text": [
            "Finish Train\n",
            "Start Validation\n"
          ]
        },
        {
          "output_type": "stream",
          "name": "stderr",
          "text": [
            "Epoch 265/300: 100%|██████████| 27/27 [00:03<00:00,  7.18it/s, val_loss=1.12]\n"
          ]
        },
        {
          "output_type": "stream",
          "name": "stdout",
          "text": [
            "Finish Validation\n",
            "Get map.\n"
          ]
        },
        {
          "output_type": "stream",
          "name": "stderr",
          "text": [
            "100%|██████████| 55/55 [00:04<00:00, 11.58it/s]\n"
          ]
        },
        {
          "output_type": "stream",
          "name": "stdout",
          "text": [
            "Calculate Map.\n",
            "loading annotations into memory...\n",
            "Done (t=0.01s)\n",
            "creating index...\n",
            "index created!\n",
            "Loading and preparing results...\n",
            "DONE (t=0.01s)\n",
            "creating index...\n",
            "index created!\n",
            "Running per image evaluation...\n",
            "Evaluate annotation type *bbox*\n",
            "DONE (t=0.67s).\n",
            "Accumulating evaluation results...\n",
            "DONE (t=0.09s).\n",
            " Average Precision  (AP) @[ IoU=0.50:0.95 | area=   all | maxDets=100 ] = 0.509\n",
            " Average Precision  (AP) @[ IoU=0.50      | area=   all | maxDets=100 ] = 0.798\n",
            " Average Precision  (AP) @[ IoU=0.75      | area=   all | maxDets=100 ] = 0.583\n",
            " Average Precision  (AP) @[ IoU=0.50:0.95 | area= small | maxDets=100 ] = 0.279\n",
            " Average Precision  (AP) @[ IoU=0.50:0.95 | area=medium | maxDets=100 ] = 0.449\n",
            " Average Precision  (AP) @[ IoU=0.50:0.95 | area= large | maxDets=100 ] = 0.601\n",
            " Average Recall     (AR) @[ IoU=0.50:0.95 | area=   all | maxDets=  1 ] = 0.147\n",
            " Average Recall     (AR) @[ IoU=0.50:0.95 | area=   all | maxDets= 10 ] = 0.522\n",
            " Average Recall     (AR) @[ IoU=0.50:0.95 | area=   all | maxDets=100 ] = 0.578\n",
            " Average Recall     (AR) @[ IoU=0.50:0.95 | area= small | maxDets=100 ] = 0.305\n",
            " Average Recall     (AR) @[ IoU=0.50:0.95 | area=medium | maxDets=100 ] = 0.524\n",
            " Average Recall     (AR) @[ IoU=0.50:0.95 | area= large | maxDets=100 ] = 0.664\n",
            "Get map done.\n",
            "Epoch:265/300\n",
            "Total Loss: 0.752 || Val Loss: 1.118 \n",
            "Start Train\n"
          ]
        },
        {
          "output_type": "stream",
          "name": "stderr",
          "text": [
            "Epoch 266/300: 100%|██████████| 247/247 [00:42<00:00,  5.88it/s, lr=2.22e-6, roi_cls=0.199, roi_loc=0.48, rpn_cls=0.0351, rpn_loc=0.0386, total_loss=0.753]\n"
          ]
        },
        {
          "output_type": "stream",
          "name": "stdout",
          "text": [
            "Finish Train\n",
            "Start Validation\n"
          ]
        },
        {
          "output_type": "stream",
          "name": "stderr",
          "text": [
            "Epoch 266/300: 100%|██████████| 27/27 [00:03<00:00,  7.21it/s, val_loss=1.15]\n"
          ]
        },
        {
          "output_type": "stream",
          "name": "stdout",
          "text": [
            "Finish Validation\n",
            "Epoch:266/300\n",
            "Total Loss: 0.753 || Val Loss: 1.147 \n",
            "Start Train\n"
          ]
        },
        {
          "output_type": "stream",
          "name": "stderr",
          "text": [
            "Epoch 267/300: 100%|██████████| 247/247 [00:41<00:00,  5.91it/s, lr=2.1e-6, roi_cls=0.197, roi_loc=0.478, rpn_cls=0.0309, rpn_loc=0.0335, total_loss=0.739]\n"
          ]
        },
        {
          "output_type": "stream",
          "name": "stdout",
          "text": [
            "Finish Train\n",
            "Start Validation\n"
          ]
        },
        {
          "output_type": "stream",
          "name": "stderr",
          "text": [
            "Epoch 267/300: 100%|██████████| 27/27 [00:03<00:00,  7.17it/s, val_loss=1.12]\n"
          ]
        },
        {
          "output_type": "stream",
          "name": "stdout",
          "text": [
            "Finish Validation\n",
            "Epoch:267/300\n",
            "Total Loss: 0.739 || Val Loss: 1.123 \n",
            "Start Train\n"
          ]
        },
        {
          "output_type": "stream",
          "name": "stderr",
          "text": [
            "Epoch 268/300: 100%|██████████| 247/247 [00:41<00:00,  5.89it/s, lr=1.99e-6, roi_cls=0.198, roi_loc=0.48, rpn_cls=0.0317, rpn_loc=0.0382, total_loss=0.748]\n"
          ]
        },
        {
          "output_type": "stream",
          "name": "stdout",
          "text": [
            "Finish Train\n",
            "Start Validation\n"
          ]
        },
        {
          "output_type": "stream",
          "name": "stderr",
          "text": [
            "Epoch 268/300: 100%|██████████| 27/27 [00:03<00:00,  7.14it/s, val_loss=1.15]\n"
          ]
        },
        {
          "output_type": "stream",
          "name": "stdout",
          "text": [
            "Finish Validation\n",
            "Epoch:268/300\n",
            "Total Loss: 0.748 || Val Loss: 1.150 \n",
            "Start Train\n"
          ]
        },
        {
          "output_type": "stream",
          "name": "stderr",
          "text": [
            "Epoch 269/300: 100%|██████████| 247/247 [00:42<00:00,  5.87it/s, lr=1.89e-6, roi_cls=0.199, roi_loc=0.496, rpn_cls=0.033, rpn_loc=0.0393, total_loss=0.767]\n"
          ]
        },
        {
          "output_type": "stream",
          "name": "stdout",
          "text": [
            "Finish Train\n",
            "Start Validation\n"
          ]
        },
        {
          "output_type": "stream",
          "name": "stderr",
          "text": [
            "Epoch 269/300: 100%|██████████| 27/27 [00:03<00:00,  7.14it/s, val_loss=1.15]\n"
          ]
        },
        {
          "output_type": "stream",
          "name": "stdout",
          "text": [
            "Finish Validation\n",
            "Epoch:269/300\n",
            "Total Loss: 0.767 || Val Loss: 1.153 \n",
            "Start Train\n"
          ]
        },
        {
          "output_type": "stream",
          "name": "stderr",
          "text": [
            "Epoch 270/300: 100%|██████████| 247/247 [00:41<00:00,  5.91it/s, lr=1.78e-6, roi_cls=0.197, roi_loc=0.484, rpn_cls=0.0327, rpn_loc=0.039, total_loss=0.753]\n"
          ]
        },
        {
          "output_type": "stream",
          "name": "stdout",
          "text": [
            "Finish Train\n",
            "Start Validation\n"
          ]
        },
        {
          "output_type": "stream",
          "name": "stderr",
          "text": [
            "Epoch 270/300: 100%|██████████| 27/27 [00:03<00:00,  7.20it/s, val_loss=1.13]\n"
          ]
        },
        {
          "output_type": "stream",
          "name": "stdout",
          "text": [
            "Finish Validation\n",
            "Get map.\n"
          ]
        },
        {
          "output_type": "stream",
          "name": "stderr",
          "text": [
            "100%|██████████| 55/55 [00:04<00:00, 11.54it/s]\n"
          ]
        },
        {
          "output_type": "stream",
          "name": "stdout",
          "text": [
            "Calculate Map.\n",
            "loading annotations into memory...\n",
            "Done (t=0.01s)\n",
            "creating index...\n",
            "index created!\n",
            "Loading and preparing results...\n",
            "DONE (t=0.01s)\n",
            "creating index...\n",
            "index created!\n",
            "Running per image evaluation...\n",
            "Evaluate annotation type *bbox*\n",
            "DONE (t=0.68s).\n",
            "Accumulating evaluation results...\n",
            "DONE (t=0.09s).\n",
            " Average Precision  (AP) @[ IoU=0.50:0.95 | area=   all | maxDets=100 ] = 0.514\n",
            " Average Precision  (AP) @[ IoU=0.50      | area=   all | maxDets=100 ] = 0.803\n",
            " Average Precision  (AP) @[ IoU=0.75      | area=   all | maxDets=100 ] = 0.588\n",
            " Average Precision  (AP) @[ IoU=0.50:0.95 | area= small | maxDets=100 ] = 0.275\n",
            " Average Precision  (AP) @[ IoU=0.50:0.95 | area=medium | maxDets=100 ] = 0.451\n",
            " Average Precision  (AP) @[ IoU=0.50:0.95 | area= large | maxDets=100 ] = 0.605\n",
            " Average Recall     (AR) @[ IoU=0.50:0.95 | area=   all | maxDets=  1 ] = 0.153\n",
            " Average Recall     (AR) @[ IoU=0.50:0.95 | area=   all | maxDets= 10 ] = 0.529\n",
            " Average Recall     (AR) @[ IoU=0.50:0.95 | area=   all | maxDets=100 ] = 0.585\n",
            " Average Recall     (AR) @[ IoU=0.50:0.95 | area= small | maxDets=100 ] = 0.311\n",
            " Average Recall     (AR) @[ IoU=0.50:0.95 | area=medium | maxDets=100 ] = 0.529\n",
            " Average Recall     (AR) @[ IoU=0.50:0.95 | area= large | maxDets=100 ] = 0.670\n",
            "Get map done.\n",
            "Epoch:270/300\n",
            "Total Loss: 0.753 || Val Loss: 1.134 \n",
            "Start Train\n"
          ]
        },
        {
          "output_type": "stream",
          "name": "stderr",
          "text": [
            "Epoch 271/300: 100%|██████████| 247/247 [00:41<00:00,  5.91it/s, lr=1.69e-6, roi_cls=0.193, roi_loc=0.492, rpn_cls=0.0303, rpn_loc=0.0362, total_loss=0.751]\n"
          ]
        },
        {
          "output_type": "stream",
          "name": "stdout",
          "text": [
            "Finish Train\n",
            "Start Validation\n"
          ]
        },
        {
          "output_type": "stream",
          "name": "stderr",
          "text": [
            "Epoch 271/300: 100%|██████████| 27/27 [00:03<00:00,  7.15it/s, val_loss=1.14]\n"
          ]
        },
        {
          "output_type": "stream",
          "name": "stdout",
          "text": [
            "Finish Validation\n",
            "Epoch:271/300\n",
            "Total Loss: 0.751 || Val Loss: 1.138 \n",
            "Start Train\n"
          ]
        },
        {
          "output_type": "stream",
          "name": "stderr",
          "text": [
            "Epoch 272/300: 100%|██████████| 247/247 [00:41<00:00,  5.88it/s, lr=1.6e-6, roi_cls=0.195, roi_loc=0.486, rpn_cls=0.032, rpn_loc=0.036, total_loss=0.748]\n"
          ]
        },
        {
          "output_type": "stream",
          "name": "stdout",
          "text": [
            "Finish Train\n",
            "Start Validation\n"
          ]
        },
        {
          "output_type": "stream",
          "name": "stderr",
          "text": [
            "Epoch 272/300: 100%|██████████| 27/27 [00:03<00:00,  7.14it/s, val_loss=1.13]\n"
          ]
        },
        {
          "output_type": "stream",
          "name": "stdout",
          "text": [
            "Finish Validation\n",
            "Epoch:272/300\n",
            "Total Loss: 0.748 || Val Loss: 1.134 \n",
            "Start Train\n"
          ]
        },
        {
          "output_type": "stream",
          "name": "stderr",
          "text": [
            "Epoch 273/300: 100%|██████████| 247/247 [00:41<00:00,  5.92it/s, lr=1.52e-6, roi_cls=0.203, roi_loc=0.496, rpn_cls=0.0309, rpn_loc=0.0383, total_loss=0.768]\n"
          ]
        },
        {
          "output_type": "stream",
          "name": "stdout",
          "text": [
            "Finish Train\n",
            "Start Validation\n"
          ]
        },
        {
          "output_type": "stream",
          "name": "stderr",
          "text": [
            "Epoch 273/300: 100%|██████████| 27/27 [00:03<00:00,  7.31it/s, val_loss=1.12]\n"
          ]
        },
        {
          "output_type": "stream",
          "name": "stdout",
          "text": [
            "Finish Validation\n",
            "Epoch:273/300\n",
            "Total Loss: 0.768 || Val Loss: 1.120 \n",
            "Start Train\n"
          ]
        },
        {
          "output_type": "stream",
          "name": "stderr",
          "text": [
            "Epoch 274/300: 100%|██████████| 247/247 [00:42<00:00,  5.86it/s, lr=1.44e-6, roi_cls=0.197, roi_loc=0.483, rpn_cls=0.0322, rpn_loc=0.0367, total_loss=0.749]\n"
          ]
        },
        {
          "output_type": "stream",
          "name": "stdout",
          "text": [
            "Finish Train\n",
            "Start Validation\n"
          ]
        },
        {
          "output_type": "stream",
          "name": "stderr",
          "text": [
            "Epoch 274/300: 100%|██████████| 27/27 [00:03<00:00,  7.19it/s, val_loss=1.14]\n"
          ]
        },
        {
          "output_type": "stream",
          "name": "stdout",
          "text": [
            "Finish Validation\n",
            "Epoch:274/300\n",
            "Total Loss: 0.749 || Val Loss: 1.142 \n",
            "Start Train\n"
          ]
        },
        {
          "output_type": "stream",
          "name": "stderr",
          "text": [
            "Epoch 275/300: 100%|██████████| 247/247 [00:42<00:00,  5.87it/s, lr=1.37e-6, roi_cls=0.196, roi_loc=0.484, rpn_cls=0.031, rpn_loc=0.036, total_loss=0.747]\n"
          ]
        },
        {
          "output_type": "stream",
          "name": "stdout",
          "text": [
            "Finish Train\n",
            "Start Validation\n"
          ]
        },
        {
          "output_type": "stream",
          "name": "stderr",
          "text": [
            "Epoch 275/300: 100%|██████████| 27/27 [00:03<00:00,  7.04it/s, val_loss=1.14]\n"
          ]
        },
        {
          "output_type": "stream",
          "name": "stdout",
          "text": [
            "Finish Validation\n",
            "Get map.\n"
          ]
        },
        {
          "output_type": "stream",
          "name": "stderr",
          "text": [
            "100%|██████████| 55/55 [00:04<00:00, 11.59it/s]\n"
          ]
        },
        {
          "output_type": "stream",
          "name": "stdout",
          "text": [
            "Calculate Map.\n",
            "loading annotations into memory...\n",
            "Done (t=0.01s)\n",
            "creating index...\n",
            "index created!\n",
            "Loading and preparing results...\n",
            "DONE (t=0.01s)\n",
            "creating index...\n",
            "index created!\n",
            "Running per image evaluation...\n",
            "Evaluate annotation type *bbox*\n",
            "DONE (t=0.68s).\n",
            "Accumulating evaluation results...\n",
            "DONE (t=0.10s).\n",
            " Average Precision  (AP) @[ IoU=0.50:0.95 | area=   all | maxDets=100 ] = 0.515\n",
            " Average Precision  (AP) @[ IoU=0.50      | area=   all | maxDets=100 ] = 0.801\n",
            " Average Precision  (AP) @[ IoU=0.75      | area=   all | maxDets=100 ] = 0.597\n",
            " Average Precision  (AP) @[ IoU=0.50:0.95 | area= small | maxDets=100 ] = 0.314\n",
            " Average Precision  (AP) @[ IoU=0.50:0.95 | area=medium | maxDets=100 ] = 0.457\n",
            " Average Precision  (AP) @[ IoU=0.50:0.95 | area= large | maxDets=100 ] = 0.605\n",
            " Average Recall     (AR) @[ IoU=0.50:0.95 | area=   all | maxDets=  1 ] = 0.155\n",
            " Average Recall     (AR) @[ IoU=0.50:0.95 | area=   all | maxDets= 10 ] = 0.531\n",
            " Average Recall     (AR) @[ IoU=0.50:0.95 | area=   all | maxDets=100 ] = 0.585\n",
            " Average Recall     (AR) @[ IoU=0.50:0.95 | area= small | maxDets=100 ] = 0.337\n",
            " Average Recall     (AR) @[ IoU=0.50:0.95 | area=medium | maxDets=100 ] = 0.533\n",
            " Average Recall     (AR) @[ IoU=0.50:0.95 | area= large | maxDets=100 ] = 0.669\n",
            "Get map done.\n",
            "Epoch:275/300\n",
            "Total Loss: 0.747 || Val Loss: 1.144 \n",
            "Start Train\n"
          ]
        },
        {
          "output_type": "stream",
          "name": "stderr",
          "text": [
            "Epoch 276/300: 100%|██████████| 247/247 [00:42<00:00,  5.86it/s, lr=1.31e-6, roi_cls=0.2, roi_loc=0.478, rpn_cls=0.033, rpn_loc=0.0378, total_loss=0.749]\n"
          ]
        },
        {
          "output_type": "stream",
          "name": "stdout",
          "text": [
            "Finish Train\n",
            "Start Validation\n"
          ]
        },
        {
          "output_type": "stream",
          "name": "stderr",
          "text": [
            "Epoch 276/300: 100%|██████████| 27/27 [00:03<00:00,  6.80it/s, val_loss=1.15]\n"
          ]
        },
        {
          "output_type": "stream",
          "name": "stdout",
          "text": [
            "Finish Validation\n",
            "Epoch:276/300\n",
            "Total Loss: 0.749 || Val Loss: 1.152 \n",
            "Start Train\n"
          ]
        },
        {
          "output_type": "stream",
          "name": "stderr",
          "text": [
            "Epoch 277/300: 100%|██████████| 247/247 [00:42<00:00,  5.82it/s, lr=1.25e-6, roi_cls=0.196, roi_loc=0.486, rpn_cls=0.0329, rpn_loc=0.0345, total_loss=0.75]\n"
          ]
        },
        {
          "output_type": "stream",
          "name": "stdout",
          "text": [
            "Finish Train\n",
            "Start Validation\n"
          ]
        },
        {
          "output_type": "stream",
          "name": "stderr",
          "text": [
            "Epoch 277/300: 100%|██████████| 27/27 [00:03<00:00,  7.17it/s, val_loss=1.09]\n"
          ]
        },
        {
          "output_type": "stream",
          "name": "stdout",
          "text": [
            "Finish Validation\n",
            "Epoch:277/300\n",
            "Total Loss: 0.750 || Val Loss: 1.087 \n",
            "Start Train\n"
          ]
        },
        {
          "output_type": "stream",
          "name": "stderr",
          "text": [
            "Epoch 278/300: 100%|██████████| 247/247 [00:42<00:00,  5.83it/s, lr=1.2e-6, roi_cls=0.201, roi_loc=0.492, rpn_cls=0.0323, rpn_loc=0.0348, total_loss=0.76]\n"
          ]
        },
        {
          "output_type": "stream",
          "name": "stdout",
          "text": [
            "Finish Train\n",
            "Start Validation\n"
          ]
        },
        {
          "output_type": "stream",
          "name": "stderr",
          "text": [
            "Epoch 278/300: 100%|██████████| 27/27 [00:03<00:00,  7.14it/s, val_loss=1.07]\n"
          ]
        },
        {
          "output_type": "stream",
          "name": "stdout",
          "text": [
            "Finish Validation\n",
            "Epoch:278/300\n",
            "Total Loss: 0.760 || Val Loss: 1.069 \n",
            "Start Train\n"
          ]
        },
        {
          "output_type": "stream",
          "name": "stderr",
          "text": [
            "Epoch 279/300: 100%|██████████| 247/247 [00:41<00:00,  5.91it/s, lr=1.15e-6, roi_cls=0.197, roi_loc=0.494, rpn_cls=0.0308, rpn_loc=0.0377, total_loss=0.759]\n"
          ]
        },
        {
          "output_type": "stream",
          "name": "stdout",
          "text": [
            "Finish Train\n",
            "Start Validation\n"
          ]
        },
        {
          "output_type": "stream",
          "name": "stderr",
          "text": [
            "Epoch 279/300: 100%|██████████| 27/27 [00:03<00:00,  7.10it/s, val_loss=1.15]\n"
          ]
        },
        {
          "output_type": "stream",
          "name": "stdout",
          "text": [
            "Finish Validation\n",
            "Epoch:279/300\n",
            "Total Loss: 0.759 || Val Loss: 1.148 \n",
            "Start Train\n"
          ]
        },
        {
          "output_type": "stream",
          "name": "stderr",
          "text": [
            "Epoch 280/300: 100%|██████████| 247/247 [00:41<00:00,  5.89it/s, lr=1.11e-6, roi_cls=0.198, roi_loc=0.48, rpn_cls=0.0315, rpn_loc=0.0357, total_loss=0.746]\n"
          ]
        },
        {
          "output_type": "stream",
          "name": "stdout",
          "text": [
            "Finish Train\n",
            "Start Validation\n"
          ]
        },
        {
          "output_type": "stream",
          "name": "stderr",
          "text": [
            "Epoch 280/300: 100%|██████████| 27/27 [00:03<00:00,  7.13it/s, val_loss=1.13]\n"
          ]
        },
        {
          "output_type": "stream",
          "name": "stdout",
          "text": [
            "Finish Validation\n",
            "Get map.\n"
          ]
        },
        {
          "output_type": "stream",
          "name": "stderr",
          "text": [
            "100%|██████████| 55/55 [00:04<00:00, 11.47it/s]\n"
          ]
        },
        {
          "output_type": "stream",
          "name": "stdout",
          "text": [
            "Calculate Map.\n",
            "loading annotations into memory...\n",
            "Done (t=0.01s)\n",
            "creating index...\n",
            "index created!\n",
            "Loading and preparing results...\n",
            "DONE (t=0.01s)\n",
            "creating index...\n",
            "index created!\n",
            "Running per image evaluation...\n",
            "Evaluate annotation type *bbox*\n",
            "DONE (t=0.67s).\n",
            "Accumulating evaluation results...\n",
            "DONE (t=0.10s).\n",
            " Average Precision  (AP) @[ IoU=0.50:0.95 | area=   all | maxDets=100 ] = 0.517\n",
            " Average Precision  (AP) @[ IoU=0.50      | area=   all | maxDets=100 ] = 0.802\n",
            " Average Precision  (AP) @[ IoU=0.75      | area=   all | maxDets=100 ] = 0.596\n",
            " Average Precision  (AP) @[ IoU=0.50:0.95 | area= small | maxDets=100 ] = 0.310\n",
            " Average Precision  (AP) @[ IoU=0.50:0.95 | area=medium | maxDets=100 ] = 0.458\n",
            " Average Precision  (AP) @[ IoU=0.50:0.95 | area= large | maxDets=100 ] = 0.607\n",
            " Average Recall     (AR) @[ IoU=0.50:0.95 | area=   all | maxDets=  1 ] = 0.156\n",
            " Average Recall     (AR) @[ IoU=0.50:0.95 | area=   all | maxDets= 10 ] = 0.531\n",
            " Average Recall     (AR) @[ IoU=0.50:0.95 | area=   all | maxDets=100 ] = 0.587\n",
            " Average Recall     (AR) @[ IoU=0.50:0.95 | area= small | maxDets=100 ] = 0.324\n",
            " Average Recall     (AR) @[ IoU=0.50:0.95 | area=medium | maxDets=100 ] = 0.532\n",
            " Average Recall     (AR) @[ IoU=0.50:0.95 | area= large | maxDets=100 ] = 0.673\n",
            "Get map done.\n",
            "Epoch:280/300\n",
            "Total Loss: 0.746 || Val Loss: 1.130 \n",
            "Start Train\n"
          ]
        },
        {
          "output_type": "stream",
          "name": "stderr",
          "text": [
            "Epoch 281/300: 100%|██████████| 247/247 [00:42<00:00,  5.88it/s, lr=1.08e-6, roi_cls=0.196, roi_loc=0.485, rpn_cls=0.0322, rpn_loc=0.0336, total_loss=0.746]\n"
          ]
        },
        {
          "output_type": "stream",
          "name": "stdout",
          "text": [
            "Finish Train\n",
            "Start Validation\n"
          ]
        },
        {
          "output_type": "stream",
          "name": "stderr",
          "text": [
            "Epoch 281/300: 100%|██████████| 27/27 [00:03<00:00,  7.13it/s, val_loss=1.14]\n"
          ]
        },
        {
          "output_type": "stream",
          "name": "stdout",
          "text": [
            "Finish Validation\n",
            "Epoch:281/300\n",
            "Total Loss: 0.746 || Val Loss: 1.142 \n",
            "Start Train\n"
          ]
        },
        {
          "output_type": "stream",
          "name": "stderr",
          "text": [
            "Epoch 282/300: 100%|██████████| 247/247 [00:41<00:00,  5.90it/s, lr=1.05e-6, roi_cls=0.203, roi_loc=0.495, rpn_cls=0.0312, rpn_loc=0.0349, total_loss=0.764]\n"
          ]
        },
        {
          "output_type": "stream",
          "name": "stdout",
          "text": [
            "Finish Train\n",
            "Start Validation\n"
          ]
        },
        {
          "output_type": "stream",
          "name": "stderr",
          "text": [
            "Epoch 282/300: 100%|██████████| 27/27 [00:03<00:00,  7.24it/s, val_loss=1.14]\n"
          ]
        },
        {
          "output_type": "stream",
          "name": "stdout",
          "text": [
            "Finish Validation\n",
            "Epoch:282/300\n",
            "Total Loss: 0.764 || Val Loss: 1.137 \n",
            "Start Train\n"
          ]
        },
        {
          "output_type": "stream",
          "name": "stderr",
          "text": [
            "Epoch 283/300: 100%|██████████| 247/247 [00:42<00:00,  5.86it/s, lr=1.03e-6, roi_cls=0.205, roi_loc=0.494, rpn_cls=0.0326, rpn_loc=0.0356, total_loss=0.768]\n"
          ]
        },
        {
          "output_type": "stream",
          "name": "stdout",
          "text": [
            "Finish Train\n",
            "Start Validation\n"
          ]
        },
        {
          "output_type": "stream",
          "name": "stderr",
          "text": [
            "Epoch 283/300: 100%|██████████| 27/27 [00:03<00:00,  7.20it/s, val_loss=1.16]\n"
          ]
        },
        {
          "output_type": "stream",
          "name": "stdout",
          "text": [
            "Finish Validation\n",
            "Epoch:283/300\n",
            "Total Loss: 0.768 || Val Loss: 1.163 \n",
            "Start Train\n"
          ]
        },
        {
          "output_type": "stream",
          "name": "stderr",
          "text": [
            "Epoch 284/300: 100%|██████████| 247/247 [00:42<00:00,  5.88it/s, lr=1.01e-6, roi_cls=0.194, roi_loc=0.482, rpn_cls=0.0316, rpn_loc=0.0366, total_loss=0.744]\n"
          ]
        },
        {
          "output_type": "stream",
          "name": "stdout",
          "text": [
            "Finish Train\n",
            "Start Validation\n"
          ]
        },
        {
          "output_type": "stream",
          "name": "stderr",
          "text": [
            "Epoch 284/300: 100%|██████████| 27/27 [00:03<00:00,  7.16it/s, val_loss=1.14]\n"
          ]
        },
        {
          "output_type": "stream",
          "name": "stdout",
          "text": [
            "Finish Validation\n",
            "Epoch:284/300\n",
            "Total Loss: 0.744 || Val Loss: 1.140 \n",
            "Start Train\n"
          ]
        },
        {
          "output_type": "stream",
          "name": "stderr",
          "text": [
            "Epoch 285/300: 100%|██████████| 247/247 [00:42<00:00,  5.85it/s, lr=1e-6, roi_cls=0.2, roi_loc=0.489, rpn_cls=0.0321, rpn_loc=0.0391, total_loss=0.76]\n"
          ]
        },
        {
          "output_type": "stream",
          "name": "stdout",
          "text": [
            "Finish Train\n",
            "Start Validation\n"
          ]
        },
        {
          "output_type": "stream",
          "name": "stderr",
          "text": [
            "Epoch 285/300: 100%|██████████| 27/27 [00:03<00:00,  7.14it/s, val_loss=1.08]\n"
          ]
        },
        {
          "output_type": "stream",
          "name": "stdout",
          "text": [
            "Finish Validation\n",
            "Get map.\n"
          ]
        },
        {
          "output_type": "stream",
          "name": "stderr",
          "text": [
            "100%|██████████| 55/55 [00:04<00:00, 11.48it/s]\n"
          ]
        },
        {
          "output_type": "stream",
          "name": "stdout",
          "text": [
            "Calculate Map.\n",
            "loading annotations into memory...\n",
            "Done (t=0.01s)\n",
            "creating index...\n",
            "index created!\n",
            "Loading and preparing results...\n",
            "DONE (t=0.01s)\n",
            "creating index...\n",
            "index created!\n",
            "Running per image evaluation...\n",
            "Evaluate annotation type *bbox*\n",
            "DONE (t=0.68s).\n",
            "Accumulating evaluation results...\n",
            "DONE (t=0.10s).\n",
            " Average Precision  (AP) @[ IoU=0.50:0.95 | area=   all | maxDets=100 ] = 0.516\n",
            " Average Precision  (AP) @[ IoU=0.50      | area=   all | maxDets=100 ] = 0.802\n",
            " Average Precision  (AP) @[ IoU=0.75      | area=   all | maxDets=100 ] = 0.603\n",
            " Average Precision  (AP) @[ IoU=0.50:0.95 | area= small | maxDets=100 ] = 0.315\n",
            " Average Precision  (AP) @[ IoU=0.50:0.95 | area=medium | maxDets=100 ] = 0.457\n",
            " Average Precision  (AP) @[ IoU=0.50:0.95 | area= large | maxDets=100 ] = 0.607\n",
            " Average Recall     (AR) @[ IoU=0.50:0.95 | area=   all | maxDets=  1 ] = 0.157\n",
            " Average Recall     (AR) @[ IoU=0.50:0.95 | area=   all | maxDets= 10 ] = 0.530\n",
            " Average Recall     (AR) @[ IoU=0.50:0.95 | area=   all | maxDets=100 ] = 0.586\n",
            " Average Recall     (AR) @[ IoU=0.50:0.95 | area= small | maxDets=100 ] = 0.324\n",
            " Average Recall     (AR) @[ IoU=0.50:0.95 | area=medium | maxDets=100 ] = 0.532\n",
            " Average Recall     (AR) @[ IoU=0.50:0.95 | area= large | maxDets=100 ] = 0.672\n",
            "Get map done.\n",
            "Epoch:285/300\n",
            "Total Loss: 0.760 || Val Loss: 1.085 \n",
            "Start Train\n"
          ]
        },
        {
          "output_type": "stream",
          "name": "stderr",
          "text": [
            "Epoch 286/300: 100%|██████████| 247/247 [00:42<00:00,  5.87it/s, lr=1e-6, roi_cls=0.202, roi_loc=0.492, rpn_cls=0.0348, rpn_loc=0.0344, total_loss=0.762]\n"
          ]
        },
        {
          "output_type": "stream",
          "name": "stdout",
          "text": [
            "Finish Train\n",
            "Start Validation\n"
          ]
        },
        {
          "output_type": "stream",
          "name": "stderr",
          "text": [
            "Epoch 286/300: 100%|██████████| 27/27 [00:03<00:00,  7.05it/s, val_loss=1.13]\n"
          ]
        },
        {
          "output_type": "stream",
          "name": "stdout",
          "text": [
            "Finish Validation\n",
            "Epoch:286/300\n",
            "Total Loss: 0.762 || Val Loss: 1.130 \n",
            "Start Train\n"
          ]
        },
        {
          "output_type": "stream",
          "name": "stderr",
          "text": [
            "Epoch 287/300: 100%|██████████| 247/247 [00:41<00:00,  5.88it/s, lr=1e-6, roi_cls=0.194, roi_loc=0.484, rpn_cls=0.0306, rpn_loc=0.0351, total_loss=0.744]\n"
          ]
        },
        {
          "output_type": "stream",
          "name": "stdout",
          "text": [
            "Finish Train\n",
            "Start Validation\n"
          ]
        },
        {
          "output_type": "stream",
          "name": "stderr",
          "text": [
            "Epoch 287/300: 100%|██████████| 27/27 [00:03<00:00,  7.08it/s, val_loss=1.14]\n"
          ]
        },
        {
          "output_type": "stream",
          "name": "stdout",
          "text": [
            "Finish Validation\n",
            "Epoch:287/300\n",
            "Total Loss: 0.744 || Val Loss: 1.141 \n",
            "Start Train\n"
          ]
        },
        {
          "output_type": "stream",
          "name": "stderr",
          "text": [
            "Epoch 288/300: 100%|██████████| 247/247 [00:41<00:00,  5.90it/s, lr=1e-6, roi_cls=0.201, roi_loc=0.479, rpn_cls=0.0313, rpn_loc=0.0362, total_loss=0.747]\n"
          ]
        },
        {
          "output_type": "stream",
          "name": "stdout",
          "text": [
            "Finish Train\n",
            "Start Validation\n"
          ]
        },
        {
          "output_type": "stream",
          "name": "stderr",
          "text": [
            "Epoch 288/300: 100%|██████████| 27/27 [00:03<00:00,  7.15it/s, val_loss=1.14]\n"
          ]
        },
        {
          "output_type": "stream",
          "name": "stdout",
          "text": [
            "Finish Validation\n",
            "Epoch:288/300\n",
            "Total Loss: 0.747 || Val Loss: 1.144 \n",
            "Start Train\n"
          ]
        },
        {
          "output_type": "stream",
          "name": "stderr",
          "text": [
            "Epoch 289/300: 100%|██████████| 247/247 [00:41<00:00,  5.88it/s, lr=1e-6, roi_cls=0.203, roi_loc=0.506, rpn_cls=0.0313, rpn_loc=0.0353, total_loss=0.776]\n"
          ]
        },
        {
          "output_type": "stream",
          "name": "stdout",
          "text": [
            "Finish Train\n",
            "Start Validation\n"
          ]
        },
        {
          "output_type": "stream",
          "name": "stderr",
          "text": [
            "Epoch 289/300: 100%|██████████| 27/27 [00:03<00:00,  7.24it/s, val_loss=1.12]\n"
          ]
        },
        {
          "output_type": "stream",
          "name": "stdout",
          "text": [
            "Finish Validation\n",
            "Epoch:289/300\n",
            "Total Loss: 0.776 || Val Loss: 1.118 \n",
            "Start Train\n"
          ]
        },
        {
          "output_type": "stream",
          "name": "stderr",
          "text": [
            "Epoch 290/300: 100%|██████████| 247/247 [00:42<00:00,  5.82it/s, lr=1e-6, roi_cls=0.198, roi_loc=0.493, rpn_cls=0.0293, rpn_loc=0.0378, total_loss=0.758]\n"
          ]
        },
        {
          "output_type": "stream",
          "name": "stdout",
          "text": [
            "Finish Train\n",
            "Start Validation\n"
          ]
        },
        {
          "output_type": "stream",
          "name": "stderr",
          "text": [
            "Epoch 290/300: 100%|██████████| 27/27 [00:03<00:00,  7.14it/s, val_loss=1.14]\n"
          ]
        },
        {
          "output_type": "stream",
          "name": "stdout",
          "text": [
            "Finish Validation\n",
            "Get map.\n"
          ]
        },
        {
          "output_type": "stream",
          "name": "stderr",
          "text": [
            "100%|██████████| 55/55 [00:04<00:00, 11.47it/s]\n"
          ]
        },
        {
          "output_type": "stream",
          "name": "stdout",
          "text": [
            "Calculate Map.\n",
            "loading annotations into memory...\n",
            "Done (t=0.01s)\n",
            "creating index...\n",
            "index created!\n",
            "Loading and preparing results...\n",
            "DONE (t=0.01s)\n",
            "creating index...\n",
            "index created!\n",
            "Running per image evaluation...\n",
            "Evaluate annotation type *bbox*\n",
            "DONE (t=0.68s).\n",
            "Accumulating evaluation results...\n",
            "DONE (t=0.10s).\n",
            " Average Precision  (AP) @[ IoU=0.50:0.95 | area=   all | maxDets=100 ] = 0.507\n",
            " Average Precision  (AP) @[ IoU=0.50      | area=   all | maxDets=100 ] = 0.799\n",
            " Average Precision  (AP) @[ IoU=0.75      | area=   all | maxDets=100 ] = 0.575\n",
            " Average Precision  (AP) @[ IoU=0.50:0.95 | area= small | maxDets=100 ] = 0.328\n",
            " Average Precision  (AP) @[ IoU=0.50:0.95 | area=medium | maxDets=100 ] = 0.448\n",
            " Average Precision  (AP) @[ IoU=0.50:0.95 | area= large | maxDets=100 ] = 0.596\n",
            " Average Recall     (AR) @[ IoU=0.50:0.95 | area=   all | maxDets=  1 ] = 0.153\n",
            " Average Recall     (AR) @[ IoU=0.50:0.95 | area=   all | maxDets= 10 ] = 0.523\n",
            " Average Recall     (AR) @[ IoU=0.50:0.95 | area=   all | maxDets=100 ] = 0.579\n",
            " Average Recall     (AR) @[ IoU=0.50:0.95 | area= small | maxDets=100 ] = 0.347\n",
            " Average Recall     (AR) @[ IoU=0.50:0.95 | area=medium | maxDets=100 ] = 0.526\n",
            " Average Recall     (AR) @[ IoU=0.50:0.95 | area= large | maxDets=100 ] = 0.663\n",
            "Get map done.\n",
            "Epoch:290/300\n",
            "Total Loss: 0.758 || Val Loss: 1.143 \n",
            "Start Train\n"
          ]
        },
        {
          "output_type": "stream",
          "name": "stderr",
          "text": [
            "Epoch 291/300: 100%|██████████| 247/247 [00:41<00:00,  5.88it/s, lr=1e-6, roi_cls=0.199, roi_loc=0.489, rpn_cls=0.03, rpn_loc=0.0383, total_loss=0.756]\n"
          ]
        },
        {
          "output_type": "stream",
          "name": "stdout",
          "text": [
            "Finish Train\n",
            "Start Validation\n"
          ]
        },
        {
          "output_type": "stream",
          "name": "stderr",
          "text": [
            "Epoch 291/300: 100%|██████████| 27/27 [00:03<00:00,  7.05it/s, val_loss=1.11]\n"
          ]
        },
        {
          "output_type": "stream",
          "name": "stdout",
          "text": [
            "Finish Validation\n",
            "Epoch:291/300\n",
            "Total Loss: 0.756 || Val Loss: 1.115 \n",
            "Start Train\n"
          ]
        },
        {
          "output_type": "stream",
          "name": "stderr",
          "text": [
            "Epoch 292/300: 100%|██████████| 247/247 [00:41<00:00,  5.90it/s, lr=1e-6, roi_cls=0.194, roi_loc=0.477, rpn_cls=0.0325, rpn_loc=0.0357, total_loss=0.739]\n"
          ]
        },
        {
          "output_type": "stream",
          "name": "stdout",
          "text": [
            "Finish Train\n",
            "Start Validation\n"
          ]
        },
        {
          "output_type": "stream",
          "name": "stderr",
          "text": [
            "Epoch 292/300: 100%|██████████| 27/27 [00:03<00:00,  7.17it/s, val_loss=1.13]\n"
          ]
        },
        {
          "output_type": "stream",
          "name": "stdout",
          "text": [
            "Finish Validation\n",
            "Epoch:292/300\n",
            "Total Loss: 0.739 || Val Loss: 1.127 \n",
            "Start Train\n"
          ]
        },
        {
          "output_type": "stream",
          "name": "stderr",
          "text": [
            "Epoch 293/300: 100%|██████████| 247/247 [00:42<00:00,  5.83it/s, lr=1e-6, roi_cls=0.201, roi_loc=0.495, rpn_cls=0.0339, rpn_loc=0.0357, total_loss=0.765]\n"
          ]
        },
        {
          "output_type": "stream",
          "name": "stdout",
          "text": [
            "Finish Train\n",
            "Start Validation\n"
          ]
        },
        {
          "output_type": "stream",
          "name": "stderr",
          "text": [
            "Epoch 293/300: 100%|██████████| 27/27 [00:03<00:00,  7.13it/s, val_loss=1.14]\n"
          ]
        },
        {
          "output_type": "stream",
          "name": "stdout",
          "text": [
            "Finish Validation\n",
            "Epoch:293/300\n",
            "Total Loss: 0.765 || Val Loss: 1.144 \n",
            "Start Train\n"
          ]
        },
        {
          "output_type": "stream",
          "name": "stderr",
          "text": [
            "Epoch 294/300: 100%|██████████| 247/247 [00:41<00:00,  5.88it/s, lr=1e-6, roi_cls=0.196, roi_loc=0.489, rpn_cls=0.0304, rpn_loc=0.0347, total_loss=0.75]\n"
          ]
        },
        {
          "output_type": "stream",
          "name": "stdout",
          "text": [
            "Finish Train\n",
            "Start Validation\n"
          ]
        },
        {
          "output_type": "stream",
          "name": "stderr",
          "text": [
            "Epoch 294/300: 100%|██████████| 27/27 [00:03<00:00,  7.13it/s, val_loss=1.11]\n"
          ]
        },
        {
          "output_type": "stream",
          "name": "stdout",
          "text": [
            "Finish Validation\n",
            "Epoch:294/300\n",
            "Total Loss: 0.750 || Val Loss: 1.110 \n",
            "Start Train\n"
          ]
        },
        {
          "output_type": "stream",
          "name": "stderr",
          "text": [
            "Epoch 295/300: 100%|██████████| 247/247 [00:42<00:00,  5.84it/s, lr=1e-6, roi_cls=0.194, roi_loc=0.486, rpn_cls=0.0319, rpn_loc=0.0353, total_loss=0.747]\n"
          ]
        },
        {
          "output_type": "stream",
          "name": "stdout",
          "text": [
            "Finish Train\n",
            "Start Validation\n"
          ]
        },
        {
          "output_type": "stream",
          "name": "stderr",
          "text": [
            "Epoch 295/300: 100%|██████████| 27/27 [00:03<00:00,  7.14it/s, val_loss=1.13]\n"
          ]
        },
        {
          "output_type": "stream",
          "name": "stdout",
          "text": [
            "Finish Validation\n",
            "Get map.\n"
          ]
        },
        {
          "output_type": "stream",
          "name": "stderr",
          "text": [
            "100%|██████████| 55/55 [00:04<00:00, 11.36it/s]\n"
          ]
        },
        {
          "output_type": "stream",
          "name": "stdout",
          "text": [
            "Calculate Map.\n",
            "loading annotations into memory...\n",
            "Done (t=0.01s)\n",
            "creating index...\n",
            "index created!\n",
            "Loading and preparing results...\n",
            "DONE (t=0.01s)\n",
            "creating index...\n",
            "index created!\n",
            "Running per image evaluation...\n",
            "Evaluate annotation type *bbox*\n",
            "DONE (t=0.68s).\n",
            "Accumulating evaluation results...\n",
            "DONE (t=0.10s).\n",
            " Average Precision  (AP) @[ IoU=0.50:0.95 | area=   all | maxDets=100 ] = 0.513\n",
            " Average Precision  (AP) @[ IoU=0.50      | area=   all | maxDets=100 ] = 0.797\n",
            " Average Precision  (AP) @[ IoU=0.75      | area=   all | maxDets=100 ] = 0.586\n",
            " Average Precision  (AP) @[ IoU=0.50:0.95 | area= small | maxDets=100 ] = 0.295\n",
            " Average Precision  (AP) @[ IoU=0.50:0.95 | area=medium | maxDets=100 ] = 0.452\n",
            " Average Precision  (AP) @[ IoU=0.50:0.95 | area= large | maxDets=100 ] = 0.601\n",
            " Average Recall     (AR) @[ IoU=0.50:0.95 | area=   all | maxDets=  1 ] = 0.153\n",
            " Average Recall     (AR) @[ IoU=0.50:0.95 | area=   all | maxDets= 10 ] = 0.529\n",
            " Average Recall     (AR) @[ IoU=0.50:0.95 | area=   all | maxDets=100 ] = 0.584\n",
            " Average Recall     (AR) @[ IoU=0.50:0.95 | area= small | maxDets=100 ] = 0.335\n",
            " Average Recall     (AR) @[ IoU=0.50:0.95 | area=medium | maxDets=100 ] = 0.528\n",
            " Average Recall     (AR) @[ IoU=0.50:0.95 | area= large | maxDets=100 ] = 0.666\n",
            "Get map done.\n",
            "Epoch:295/300\n",
            "Total Loss: 0.747 || Val Loss: 1.131 \n",
            "Start Train\n"
          ]
        },
        {
          "output_type": "stream",
          "name": "stderr",
          "text": [
            "Epoch 296/300: 100%|██████████| 247/247 [00:41<00:00,  5.94it/s, lr=1e-6, roi_cls=0.2, roi_loc=0.476, rpn_cls=0.0302, rpn_loc=0.0334, total_loss=0.74]\n"
          ]
        },
        {
          "output_type": "stream",
          "name": "stdout",
          "text": [
            "Finish Train\n",
            "Start Validation\n"
          ]
        },
        {
          "output_type": "stream",
          "name": "stderr",
          "text": [
            "Epoch 296/300: 100%|██████████| 27/27 [00:03<00:00,  7.09it/s, val_loss=1.06]\n"
          ]
        },
        {
          "output_type": "stream",
          "name": "stdout",
          "text": [
            "Finish Validation\n",
            "Epoch:296/300\n",
            "Total Loss: 0.740 || Val Loss: 1.062 \n",
            "Start Train\n"
          ]
        },
        {
          "output_type": "stream",
          "name": "stderr",
          "text": [
            "Epoch 297/300: 100%|██████████| 247/247 [00:42<00:00,  5.87it/s, lr=1e-6, roi_cls=0.198, roi_loc=0.485, rpn_cls=0.0323, rpn_loc=0.0365, total_loss=0.752]\n"
          ]
        },
        {
          "output_type": "stream",
          "name": "stdout",
          "text": [
            "Finish Train\n",
            "Start Validation\n"
          ]
        },
        {
          "output_type": "stream",
          "name": "stderr",
          "text": [
            "Epoch 297/300: 100%|██████████| 27/27 [00:03<00:00,  7.19it/s, val_loss=1.13]\n"
          ]
        },
        {
          "output_type": "stream",
          "name": "stdout",
          "text": [
            "Finish Validation\n",
            "Epoch:297/300\n",
            "Total Loss: 0.752 || Val Loss: 1.131 \n",
            "Start Train\n"
          ]
        },
        {
          "output_type": "stream",
          "name": "stderr",
          "text": [
            "Epoch 298/300: 100%|██████████| 247/247 [00:42<00:00,  5.84it/s, lr=1e-6, roi_cls=0.194, roi_loc=0.492, rpn_cls=0.0303, rpn_loc=0.0354, total_loss=0.752]\n"
          ]
        },
        {
          "output_type": "stream",
          "name": "stdout",
          "text": [
            "Finish Train\n",
            "Start Validation\n"
          ]
        },
        {
          "output_type": "stream",
          "name": "stderr",
          "text": [
            "Epoch 298/300: 100%|██████████| 27/27 [00:03<00:00,  7.17it/s, val_loss=1.05]\n"
          ]
        },
        {
          "output_type": "stream",
          "name": "stdout",
          "text": [
            "Finish Validation\n",
            "Epoch:298/300\n",
            "Total Loss: 0.752 || Val Loss: 1.054 \n",
            "Start Train\n"
          ]
        },
        {
          "output_type": "stream",
          "name": "stderr",
          "text": [
            "Epoch 299/300: 100%|██████████| 247/247 [00:41<00:00,  5.91it/s, lr=1e-6, roi_cls=0.202, roi_loc=0.482, rpn_cls=0.0314, rpn_loc=0.0366, total_loss=0.752]\n"
          ]
        },
        {
          "output_type": "stream",
          "name": "stdout",
          "text": [
            "Finish Train\n",
            "Start Validation\n"
          ]
        },
        {
          "output_type": "stream",
          "name": "stderr",
          "text": [
            "Epoch 299/300: 100%|██████████| 27/27 [00:03<00:00,  6.99it/s, val_loss=1.11]\n"
          ]
        },
        {
          "output_type": "stream",
          "name": "stdout",
          "text": [
            "Finish Validation\n",
            "Epoch:299/300\n",
            "Total Loss: 0.752 || Val Loss: 1.111 \n",
            "Start Train\n"
          ]
        },
        {
          "output_type": "stream",
          "name": "stderr",
          "text": [
            "Epoch 300/300: 100%|██████████| 247/247 [00:42<00:00,  5.87it/s, lr=1e-6, roi_cls=0.195, roi_loc=0.485, rpn_cls=0.0307, rpn_loc=0.0334, total_loss=0.743]\n"
          ]
        },
        {
          "output_type": "stream",
          "name": "stdout",
          "text": [
            "Finish Train\n",
            "Start Validation\n"
          ]
        },
        {
          "output_type": "stream",
          "name": "stderr",
          "text": [
            "Epoch 300/300: 100%|██████████| 27/27 [00:03<00:00,  7.13it/s, val_loss=1.15]\n"
          ]
        },
        {
          "output_type": "stream",
          "name": "stdout",
          "text": [
            "Finish Validation\n",
            "Get map.\n"
          ]
        },
        {
          "output_type": "stream",
          "name": "stderr",
          "text": [
            "100%|██████████| 55/55 [00:04<00:00, 11.44it/s]\n"
          ]
        },
        {
          "output_type": "stream",
          "name": "stdout",
          "text": [
            "Calculate Map.\n",
            "loading annotations into memory...\n",
            "Done (t=0.01s)\n",
            "creating index...\n",
            "index created!\n",
            "Loading and preparing results...\n",
            "DONE (t=0.01s)\n",
            "creating index...\n",
            "index created!\n",
            "Running per image evaluation...\n",
            "Evaluate annotation type *bbox*\n",
            "DONE (t=0.68s).\n",
            "Accumulating evaluation results...\n",
            "DONE (t=0.09s).\n",
            " Average Precision  (AP) @[ IoU=0.50:0.95 | area=   all | maxDets=100 ] = 0.510\n",
            " Average Precision  (AP) @[ IoU=0.50      | area=   all | maxDets=100 ] = 0.797\n",
            " Average Precision  (AP) @[ IoU=0.75      | area=   all | maxDets=100 ] = 0.582\n",
            " Average Precision  (AP) @[ IoU=0.50:0.95 | area= small | maxDets=100 ] = 0.305\n",
            " Average Precision  (AP) @[ IoU=0.50:0.95 | area=medium | maxDets=100 ] = 0.449\n",
            " Average Precision  (AP) @[ IoU=0.50:0.95 | area= large | maxDets=100 ] = 0.602\n",
            " Average Recall     (AR) @[ IoU=0.50:0.95 | area=   all | maxDets=  1 ] = 0.151\n",
            " Average Recall     (AR) @[ IoU=0.50:0.95 | area=   all | maxDets= 10 ] = 0.527\n",
            " Average Recall     (AR) @[ IoU=0.50:0.95 | area=   all | maxDets=100 ] = 0.582\n",
            " Average Recall     (AR) @[ IoU=0.50:0.95 | area= small | maxDets=100 ] = 0.335\n",
            " Average Recall     (AR) @[ IoU=0.50:0.95 | area=medium | maxDets=100 ] = 0.524\n",
            " Average Recall     (AR) @[ IoU=0.50:0.95 | area= large | maxDets=100 ] = 0.667\n",
            "Get map done.\n",
            "Epoch:300/300\n",
            "Total Loss: 0.743 || Val Loss: 1.148 \n"
          ]
        }
      ]
    },
    {
      "cell_type": "code",
      "source": [
        "import os\n",
        "import xml.etree.ElementTree as ET\n",
        "\n",
        "from PIL import Image\n",
        "from tqdm import tqdm\n",
        "\n",
        "from utils.utils import get_classes\n",
        "from utils.utils_map import get_coco_map, get_map\n",
        "from frcnn import FRCNN\n",
        "\n",
        "if __name__ == \"__main__\":\n",
        "    '''\n",
        "    Recall和Precision不像AP是一个面积的概念，因此在门限值（Confidence）不同时，网络的Recall和Precision值是不同的。\n",
        "    默认情况下，本代码计算的Recall和Precision代表的是当门限值（Confidence）为0.5时，所对应的Recall和Precision值。\n",
        "\n",
        "    受到mAP计算原理的限制，网络在计算mAP时需要获得近乎所有的预测框，这样才可以计算不同门限条件下的Recall和Precision值\n",
        "    因此，本代码获得的map_out/detection-results/里面的txt的框的数量一般会比直接predict多一些，目的是列出所有可能的预测框，\n",
        "    '''\n",
        "    #------------------------------------------------------------------------------------------------------------------#\n",
        "    #   map_mode用于指定该文件运行时计算的内容\n",
        "    #   map_mode为0代表整个map计算流程，包括获得预测结果、获得真实框、计算VOC_map。\n",
        "    #   map_mode为1代表仅仅获得预测结果。\n",
        "    #   map_mode为2代表仅仅获得真实框。\n",
        "    #   map_mode为3代表仅仅计算VOC_map。\n",
        "    #   map_mode为4代表利用COCO工具箱计算当前数据集的0.50:0.95map。需要获得预测结果、获得真实框后并安装pycocotools才行\n",
        "    #-------------------------------------------------------------------------------------------------------------------#\n",
        "    map_mode        = 0\n",
        "    #--------------------------------------------------------------------------------------#\n",
        "    #   此处的classes_path用于指定需要测量VOC_map的类别\n",
        "    #   一般情况下与训练和预测所用的classes_path一致即可\n",
        "    #--------------------------------------------------------------------------------------#\n",
        "    classes_path    = '/content/drive/MyDrive/fasterb/model_data/voc_classes.txt'\n",
        "    #--------------------------------------------------------------------------------------#\n",
        "    #   MINOVERLAP用于指定想要获得的mAP0.x，mAP0.x的意义是什么请同学们百度一下。\n",
        "    #   比如计算mAP0.75，可以设定MINOVERLAP = 0.75。\n",
        "    #\n",
        "    #   当某一预测框与真实框重合度大于MINOVERLAP时，该预测框被认为是正样本，否则为负样本。\n",
        "    #   因此MINOVERLAP的值越大，预测框要预测的越准确才能被认为是正样本，此时算出来的mAP值越低，\n",
        "    #--------------------------------------------------------------------------------------#\n",
        "    MINOVERLAP      = 0.5\n",
        "    #--------------------------------------------------------------------------------------#\n",
        "    #   受到mAP计算原理的限制，网络在计算mAP时需要获得近乎所有的预测框，这样才可以计算mAP\n",
        "    #   因此，confidence的值应当设置的尽量小进而获得全部可能的预测框。\n",
        "    #\n",
        "    #   该值一般不调整。因为计算mAP需要获得近乎所有的预测框，此处的confidence不能随便更改。\n",
        "    #   想要获得不同门限值下的Recall和Precision值，请修改下方的score_threhold。\n",
        "    #--------------------------------------------------------------------------------------#\n",
        "    confidence      = 0.02\n",
        "    #--------------------------------------------------------------------------------------#\n",
        "    #   预测时使用到的非极大抑制值的大小，越大表示非极大抑制越不严格。\n",
        "    #\n",
        "    #   该值一般不调整。\n",
        "    #--------------------------------------------------------------------------------------#\n",
        "    nms_iou         = 0.5\n",
        "    #---------------------------------------------------------------------------------------------------------------#\n",
        "    #   Recall和Precision不像AP是一个面积的概念，因此在门限值不同时，网络的Recall和Precision值是不同的。\n",
        "    #\n",
        "    #   默认情况下，本代码计算的Recall和Precision代表的是当门限值为0.5（此处定义为score_threhold）时所对应的Recall和Precision值。\n",
        "    #   因为计算mAP需要获得近乎所有的预测框，上面定义的confidence不能随便更改。\n",
        "    #   这里专门定义一个score_threhold用于代表门限值，进而在计算mAP时找到门限值对应的Recall和Precision值。\n",
        "    #---------------------------------------------------------------------------------------------------------------#\n",
        "    score_threhold  = 0.5\n",
        "    #-------------------------------------------------------#\n",
        "    #   map_vis用于指定是否开启VOC_map计算的可视化\n",
        "    #-------------------------------------------------------#\n",
        "    map_vis         = False\n",
        "    #-------------------------------------------------------#\n",
        "    #   指向VOC数据集所在的文件夹\n",
        "    #   默认指向根目录下的VOC数据集\n",
        "    #-------------------------------------------------------#\n",
        "    VOCdevkit_path  = 'VOCdevkit'\n",
        "    #-------------------------------------------------------#\n",
        "    #   结果输出的文件夹，默认为map_out\n",
        "    #-------------------------------------------------------#\n",
        "    map_out_path    = 'new'\n",
        "\n",
        "    image_ids = open(os.path.join(VOCdevkit_path, \"VOC2007/new/main/test.txt\")).read().strip().split()\n",
        "\n",
        "    if not os.path.exists(map_out_path):\n",
        "        os.makedirs(map_out_path)\n",
        "    if not os.path.exists(os.path.join(map_out_path, 'ground-truth')):\n",
        "        os.makedirs(os.path.join(map_out_path, 'ground-truth'))\n",
        "    if not os.path.exists(os.path.join(map_out_path, 'detection-results')):\n",
        "        os.makedirs(os.path.join(map_out_path, 'detection-results'))\n",
        "    if not os.path.exists(os.path.join(map_out_path, 'images-optional')):\n",
        "        os.makedirs(os.path.join(map_out_path, 'images-optional'))\n",
        "\n",
        "    class_names, _ = get_classes(classes_path)\n",
        "\n",
        "    if map_mode == 0 or map_mode == 1:\n",
        "        print(\"Load model.\")\n",
        "        frcnn = FRCNN(confidence = confidence, nms_iou = nms_iou)\n",
        "        print(\"Load model done.\")\n",
        "\n",
        "        print(\"Get predict result.\")\n",
        "        for image_id in tqdm(image_ids):\n",
        "            image_path  = os.path.join(VOCdevkit_path, \"VOC2007/JPEGImages/\"+image_id+\".jpg\")\n",
        "            image       = Image.open(image_path)\n",
        "            if map_vis:\n",
        "                image.save(os.path.join(map_out_path, \"images-optional/\" + image_id + \".jpg\"))\n",
        "            frcnn.get_map_txt(image_id, image, class_names, map_out_path)\n",
        "        print(\"Get predict result done.\")\n",
        "\n",
        "    if map_mode == 0 or map_mode == 2:\n",
        "        print(\"Get ground truth result.\")\n",
        "        for image_id in tqdm(image_ids):\n",
        "            with open(os.path.join(map_out_path, \"ground-truth/\"+image_id+\".txt\"), \"w\") as new_f:\n",
        "                root = ET.parse(os.path.join(VOCdevkit_path, \"VOC2007/Annotations/\"+image_id+\".xml\")).getroot()\n",
        "                for obj in root.findall('object'):\n",
        "                    difficult_flag = False\n",
        "                    if obj.find('difficult')!=None:\n",
        "                        difficult = obj.find('difficult').text\n",
        "                        if int(difficult)==1:\n",
        "                            difficult_flag = True\n",
        "                    obj_name = obj.find('name').text\n",
        "                    if obj_name not in class_names:\n",
        "                        continue\n",
        "                    bndbox  = obj.find('bndbox')\n",
        "                    left    = bndbox.find('xmin').text\n",
        "                    top     = bndbox.find('ymin').text\n",
        "                    right   = bndbox.find('xmax').text\n",
        "                    bottom  = bndbox.find('ymax').text\n",
        "\n",
        "                    if difficult_flag:\n",
        "                        new_f.write(\"%s %s %s %s %s difficult\\n\" % (obj_name, left, top, right, bottom))\n",
        "                    else:\n",
        "                        new_f.write(\"%s %s %s %s %s\\n\" % (obj_name, left, top, right, bottom))\n",
        "        print(\"Get ground truth result done.\")\n",
        "\n",
        "    if map_mode == 0 or map_mode == 3:\n",
        "        print(\"Get map.\")\n",
        "        get_map(MINOVERLAP, True, score_threhold = score_threhold, path = map_out_path)\n",
        "        print(\"Get map done.\")\n",
        "\n",
        "    if map_mode == 4:\n",
        "        print(\"Get map.\")\n",
        "        get_coco_map(class_names = class_names, path = map_out_path)\n",
        "        print(\"Get map done.\")\n"
      ],
      "metadata": {
        "colab": {
          "base_uri": "https://localhost:8080/",
          "height": 958
        },
        "id": "F549FO6KMV4-",
        "outputId": "28aea233-9ec3-43d6-f6b6-11fe5d37e593"
      },
      "execution_count": null,
      "outputs": [
        {
          "output_type": "stream",
          "name": "stdout",
          "text": [
            "Load model.\n",
            "/content/drive/MyDrive/fasterb/logs_new02/ep300-loss0.743-val_loss1.148.pth model, anchors, and classes loaded.\n",
            "Configurations:\n",
            "----------------------------------------------------------------------\n",
            "|                     keys |                                   values|\n",
            "----------------------------------------------------------------------\n",
            "|               model_path | /content/drive/MyDrive/fasterb/logs_new02/ep300-loss0.743-val_loss1.148.pth|\n",
            "|             classes_path | /content/drive/MyDrive/fasterb/model_data/voc_classes.txt|\n",
            "|                 backbone |                                 resnet50|\n",
            "|               confidence |                                     0.02|\n",
            "|                  nms_iou |                                      0.5|\n",
            "|             anchors_size |                              [4, 16, 32]|\n",
            "|                     cuda |                                     True|\n",
            "----------------------------------------------------------------------\n",
            "Load model done.\n",
            "Get predict result.\n"
          ]
        },
        {
          "output_type": "stream",
          "name": "stderr",
          "text": [
            "100%|██████████| 401/401 [00:24<00:00, 16.43it/s]\n"
          ]
        },
        {
          "output_type": "stream",
          "name": "stdout",
          "text": [
            "Get predict result done.\n",
            "Get ground truth result.\n"
          ]
        },
        {
          "output_type": "stream",
          "name": "stderr",
          "text": [
            "100%|██████████| 401/401 [00:02<00:00, 198.25it/s]\n"
          ]
        },
        {
          "output_type": "stream",
          "name": "stdout",
          "text": [
            "Get ground truth result done.\n",
            "Get map.\n",
            "91.39% = correlation AP \t||\tscore_threhold=0.5 : F1=0.90 ; Recall=89.94% ; Precision=89.66%\n",
            "94.28% = down arrow AP \t||\tscore_threhold=0.5 : F1=0.92 ; Recall=94.34% ; Precision=88.96%\n",
            "99.88% = latent variables AP \t||\tscore_threhold=0.5 : F1=1.00 ; Recall=99.89% ; Precision=99.56%\n",
            "85.71% = left arrow AP \t||\tscore_threhold=0.5 : F1=0.83 ; Recall=81.75% ; Precision=83.57%\n",
            "99.15% = measured variable AP \t||\tscore_threhold=0.5 : F1=0.98 ; Recall=99.59% ; Precision=95.56%\n",
            "92.34% = right arrow AP \t||\tscore_threhold=0.5 : F1=0.89 ; Recall=90.62% ; Precision=87.00%\n",
            "94.08% = up arrow AP \t||\tscore_threhold=0.5 : F1=0.92 ; Recall=92.67% ; Precision=90.73%\n",
            "mAP = 93.83%\n"
          ]
        },
        {
          "output_type": "error",
          "ename": "AttributeError",
          "evalue": "ignored",
          "traceback": [
            "\u001b[0;31m---------------------------------------------------------------------------\u001b[0m",
            "\u001b[0;31mAttributeError\u001b[0m                            Traceback (most recent call last)",
            "\u001b[0;32m<ipython-input-6-a35523150b29>\u001b[0m in \u001b[0;36m<cell line: 11>\u001b[0;34m()\u001b[0m\n\u001b[1;32m    130\u001b[0m     \u001b[0;32mif\u001b[0m \u001b[0mmap_mode\u001b[0m \u001b[0;34m==\u001b[0m \u001b[0;36m0\u001b[0m \u001b[0;32mor\u001b[0m \u001b[0mmap_mode\u001b[0m \u001b[0;34m==\u001b[0m \u001b[0;36m3\u001b[0m\u001b[0;34m:\u001b[0m\u001b[0;34m\u001b[0m\u001b[0;34m\u001b[0m\u001b[0m\n\u001b[1;32m    131\u001b[0m         \u001b[0mprint\u001b[0m\u001b[0;34m(\u001b[0m\u001b[0;34m\"Get map.\"\u001b[0m\u001b[0;34m)\u001b[0m\u001b[0;34m\u001b[0m\u001b[0;34m\u001b[0m\u001b[0m\n\u001b[0;32m--> 132\u001b[0;31m         \u001b[0mget_map\u001b[0m\u001b[0;34m(\u001b[0m\u001b[0mMINOVERLAP\u001b[0m\u001b[0;34m,\u001b[0m \u001b[0;32mTrue\u001b[0m\u001b[0;34m,\u001b[0m \u001b[0mscore_threhold\u001b[0m \u001b[0;34m=\u001b[0m \u001b[0mscore_threhold\u001b[0m\u001b[0;34m,\u001b[0m \u001b[0mpath\u001b[0m \u001b[0;34m=\u001b[0m \u001b[0mmap_out_path\u001b[0m\u001b[0;34m)\u001b[0m\u001b[0;34m\u001b[0m\u001b[0;34m\u001b[0m\u001b[0m\n\u001b[0m\u001b[1;32m    133\u001b[0m         \u001b[0mprint\u001b[0m\u001b[0;34m(\u001b[0m\u001b[0;34m\"Get map done.\"\u001b[0m\u001b[0;34m)\u001b[0m\u001b[0;34m\u001b[0m\u001b[0;34m\u001b[0m\u001b[0m\n\u001b[1;32m    134\u001b[0m \u001b[0;34m\u001b[0m\u001b[0m\n",
            "\u001b[0;32m/content/drive/MyDrive/fasterb/utils/utils_map.py\u001b[0m in \u001b[0;36mget_map\u001b[0;34m(MINOVERLAP, draw_plot, score_threhold, path)\u001b[0m\n\u001b[1;32m    713\u001b[0m         \u001b[0mto_show\u001b[0m \u001b[0;34m=\u001b[0m \u001b[0;32mFalse\u001b[0m\u001b[0;34m\u001b[0m\u001b[0;34m\u001b[0m\u001b[0m\n\u001b[1;32m    714\u001b[0m         \u001b[0mplot_color\u001b[0m \u001b[0;34m=\u001b[0m \u001b[0;34m'forestgreen'\u001b[0m\u001b[0;34m\u001b[0m\u001b[0;34m\u001b[0m\u001b[0m\n\u001b[0;32m--> 715\u001b[0;31m         draw_plot_func(\n\u001b[0m\u001b[1;32m    716\u001b[0m             \u001b[0mgt_counter_per_class\u001b[0m\u001b[0;34m,\u001b[0m\u001b[0;34m\u001b[0m\u001b[0;34m\u001b[0m\u001b[0m\n\u001b[1;32m    717\u001b[0m             \u001b[0mn_classes\u001b[0m\u001b[0;34m,\u001b[0m\u001b[0;34m\u001b[0m\u001b[0;34m\u001b[0m\u001b[0m\n",
            "\u001b[0;32m/content/drive/MyDrive/fasterb/utils/utils_map.py\u001b[0m in \u001b[0;36mdraw_plot_func\u001b[0;34m(dictionary, n_classes, window_title, plot_title, x_label, output_path, to_show, plot_color, true_p_bar)\u001b[0m\n\u001b[1;32m    239\u001b[0m                 \u001b[0madjust_axes\u001b[0m\u001b[0;34m(\u001b[0m\u001b[0mr\u001b[0m\u001b[0;34m,\u001b[0m \u001b[0mt\u001b[0m\u001b[0;34m,\u001b[0m \u001b[0mfig\u001b[0m\u001b[0;34m,\u001b[0m \u001b[0maxes\u001b[0m\u001b[0;34m)\u001b[0m\u001b[0;34m\u001b[0m\u001b[0;34m\u001b[0m\u001b[0m\n\u001b[1;32m    240\u001b[0m     \u001b[0;31m# set window title\u001b[0m\u001b[0;34m\u001b[0m\u001b[0;34m\u001b[0m\u001b[0m\n\u001b[0;32m--> 241\u001b[0;31m     \u001b[0;31m#fig.canvas.set_window_title(window_title)\u001b[0m\u001b[0;34m\u001b[0m\u001b[0;34m\u001b[0m\u001b[0m\n\u001b[0m\u001b[1;32m    242\u001b[0m     \u001b[0;31m# write classes in y axis\u001b[0m\u001b[0;34m\u001b[0m\u001b[0;34m\u001b[0m\u001b[0m\n\u001b[1;32m    243\u001b[0m     \u001b[0mtick_font_size\u001b[0m \u001b[0;34m=\u001b[0m \u001b[0;36m12\u001b[0m\u001b[0;34m\u001b[0m\u001b[0;34m\u001b[0m\u001b[0m\n",
            "\u001b[0;31mAttributeError\u001b[0m: 'FigureCanvasAgg' object has no attribute 'set_window_title'"
          ]
        }
      ]
    }
  ]
}